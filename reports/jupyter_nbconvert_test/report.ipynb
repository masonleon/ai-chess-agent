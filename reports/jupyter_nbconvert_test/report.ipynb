{
 "cells": [
  {
   "cell_type": "markdown",
   "metadata": {
    "pycharm": {
     "is_executing": false
    }
   },
   "source": [
    "$$\\begin{math}\n",
    "$$\\begin{aligned}\n",
    "$$\\nabla \\times \\vec{\\mathbf{B}} -\\, \\frac1c\\,\\frac{\\partial\\vec{\\mathbf{E}}}{\\partial t} & =\\frac{4\\pi}{c}\\vec{\\mathbf{j}}\n",
    "$$\\nabla \\cdot \\vec{\\mathbf{E}} & = 4 \\pi \\rho \\\\ \\nabla \\times \\vec{\\mathbf{E}}\\, +\\, \\frac1c\\, \\frac{\\partial\\vec{\\mathbf{B}}}{\\partial t} & = $$\\vec{\\mathbf{0}} \n",
    "$$\\nabla \\cdot \\vec{\\mathbf{B}} & = 0\n",
    "$$\\end{aligned}\n",
    "$$\\end{math}"
   ]
  },
  {
   "cell_type": "markdown",
   "metadata": {},
   "source": []
  }
 ],
 "metadata": {
  "kernelspec": {
   "display_name": "Python 3",
   "language": "python",
   "name": "python3"
  },
  "language_info": {
   "codemirror_mode": {
    "name": "ipython",
    "version": 3
   },
   "file_extension": ".py",
   "mimetype": "text/x-python",
   "name": "python",
   "nbconvert_exporter": "python",
   "pygments_lexer": "ipython3",
   "version": "3.7.4"
  },
  "pycharm": {
   "stem_cell": {
    "cell_type": "raw",
    "metadata": {
     "collapsed": false
    },
    "source": [
     "#%\n",
     "\n",
     "%%latex\n",
     "\\begin{math}\n",
     "\\begin{aligned}\n",
     "\\nabla \\times \\vec{\\mathbf{B}} -\\, \\frac1c\\, \\frac{\\partial\\vec{\\mathbf{E}}}{\\partial t} & = \\frac{4\\pi}{c}\\vec{\\mathbf{j}} \\\\\n",
     "\\nabla \\cdot \\vec{\\mathbf{E}} & = 4 \\pi \\rho \\\\\n",
     "\\nabla \\times \\vec{\\mathbf{E}}\\, +\\, \\frac1c\\, \\frac{\\partial\\vec{\\mathbf{B}}}{\\partial t} & = \\vec{\\mathbf{0}} \\\\\n",
     "\\nabla \\cdot \\vec{\\mathbf{B}} & = 0\n",
     "\\end{aligned}\n",
     "\\end{math}\n"
    ]
   }
  }
 },
 "nbformat": 4,
 "nbformat_minor": 4
}
