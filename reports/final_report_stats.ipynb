{
 "cells": [
  {
   "cell_type": "markdown",
   "metadata": {},
   "source": [
    "# ai-chess-agent statistics"
   ]
  },
  {
   "cell_type": "code",
   "execution_count": 1,
   "metadata": {
    "pycharm": {
     "is_executing": false
    }
   },
   "outputs": [],
   "source": [
    "import numpy as np\n",
    "import pandas as pd\n",
    "import csv\n",
    "import os\n",
    "import matplotlib.pyplot as plt"
   ]
  },
  {
   "cell_type": "code",
   "execution_count": 2,
   "metadata": {
    "pycharm": {
     "is_executing": false,
     "name": "#%%\n"
    }
   },
   "outputs": [],
   "source": [
    "def get_csv_paths(dir):\n",
    "    files = dict()\n",
    "    for (dirpath, dirnames, filenames) in os.walk(dir):\n",
    "        for file in filenames:\n",
    "            if file.endswith(\".csv\"):\n",
    "                files[file] = os.path.join(dirpath, file)\n",
    "    file_list = []\n",
    "    for item in sorted(files.keys()):\n",
    "        file_list.append([files[item], item.split(\".\")[0]])\n",
    "\n",
    "    return file_list"
   ]
  },
  {
   "cell_type": "code",
   "execution_count": 3,
   "metadata": {
    "pycharm": {
     "is_executing": false,
     "name": "#%%\n"
    }
   },
   "outputs": [],
   "source": [
    "f_list = get_csv_paths(\"./../src/driver_notebooks/results/\")\n",
    "COLUMNS = ['round_num','iterations', 'depth', 'white_agent','black_agent',\n",
    "           'white_victory','winner','moves_played','remaining_w_pieces',\n",
    "           'remaining_b_pieces', 'remaining_tot_pieces']"
   ]
  },
  {
   "cell_type": "code",
   "execution_count": 4,
   "metadata": {
    "pycharm": {
     "is_executing": false,
     "name": "#%%\n"
    }
   },
   "outputs": [],
   "source": [
    "df_from_each_file = (pd.read_csv(f[0], names=COLUMNS, header=0) for f in f_list)"
   ]
  },
  {
   "cell_type": "code",
   "execution_count": 5,
   "metadata": {
    "pycharm": {
     "is_executing": false
    }
   },
   "outputs": [],
   "source": [
    "df = pd.concat(df_from_each_file, ignore_index=True)"
   ]
  },
  {
   "cell_type": "markdown",
   "metadata": {},
   "source": [
    "### Total number of games played"
   ]
  },
  {
   "cell_type": "code",
   "execution_count": 6,
   "metadata": {
    "pycharm": {
     "is_executing": false
    }
   },
   "outputs": [
    {
     "data": {
      "text/plain": "340"
     },
     "metadata": {},
     "output_type": "execute_result",
     "execution_count": 6
    }
   ],
   "source": [
    "games = df['round_num'].count()\n",
    "games"
   ]
  },
  {
   "cell_type": "code",
   "execution_count": 7,
   "metadata": {
    "pycharm": {
     "is_executing": false
    }
   },
   "outputs": [],
   "source": [
    "white_checkmate_df = df.apply(lambda x: True if x['winner'] == 'checkmate: White wins!' else False , axis=1)\n",
    "white_checkmate_num = len(white_checkmate_df[white_checkmate_df == True].index)"
   ]
  },
  {
   "cell_type": "code",
   "execution_count": 8,
   "metadata": {
    "pycharm": {
     "is_executing": false
    }
   },
   "outputs": [],
   "source": [
    "black_checkmate_df = df.apply(lambda x: True if x['winner'] == 'checkmate: Black wins!' else False , axis=1)\n",
    "black_checkmate_num = len(black_checkmate_df[black_checkmate_df == True].index)"
   ]
  },
  {
   "cell_type": "code",
   "execution_count": 9,
   "metadata": {
    "pycharm": {
     "is_executing": false
    }
   },
   "outputs": [],
   "source": [
    "draw_stalemate_df = df.apply(lambda x: True if x['winner'] == \"draw: stalemate\" else False , axis=1)\n",
    "draw_stalemate_num = len(draw_stalemate_df[draw_stalemate_df == True].index)"
   ]
  },
  {
   "cell_type": "code",
   "execution_count": 10,
   "metadata": {
    "pycharm": {
     "is_executing": false
    }
   },
   "outputs": [],
   "source": [
    "draw_fivefold_df = df.apply(lambda x: True if x['winner'] == \"draw: 5-fold repetition\" else False , axis=1)\n",
    "draw_fivefold_num = len(draw_fivefold_df[draw_fivefold_df == True].index)"
   ]
  },
  {
   "cell_type": "code",
   "execution_count": 11,
   "metadata": {
    "pycharm": {
     "is_executing": false
    }
   },
   "outputs": [],
   "source": [
    "draw_insufficient_material_df = df.apply(lambda x: True if x['winner'] == \"draw: insufficient material\" else False , axis=1)\n",
    "draw_insufficient_material_num = len(draw_insufficient_material_df[draw_insufficient_material_df == True].index)"
   ]
  },
  {
   "cell_type": "code",
   "execution_count": 12,
   "metadata": {
    "pycharm": {
     "is_executing": false
    }
   },
   "outputs": [],
   "source": [
    "draw_claim_df = df.apply(lambda x: True if x['winner'] == \"draw: claim\" else False , axis=1)\n",
    "draw_claim_num = len(draw_claim_df[draw_claim_df == True].index)"
   ]
  },
  {
   "cell_type": "markdown",
   "metadata": {},
   "source": [
    "### Overall results"
   ]
  },
  {
   "cell_type": "code",
   "execution_count": 13,
   "metadata": {
    "pycharm": {
     "is_executing": false
    }
   },
   "outputs": [
    {
     "data": {
      "text/plain": "<pandas.io.formats.style.Styler at 0x7fa39890d2e8>",
      "text/html": "<style  type=\"text/css\" >\n</style><table id=\"T_9cc951b8_1e21_11ea_b312_f218983aa406\" ><thead>    <tr>        <th class=\"col_heading level0 col0\" >checkmate: White</th>        <th class=\"col_heading level0 col1\" >checkmate: Black</th>        <th class=\"col_heading level0 col2\" >draw: stalemate</th>        <th class=\"col_heading level0 col3\" >draw: 5-fold repetition</th>        <th class=\"col_heading level0 col4\" >draw: insufficient material</th>        <th class=\"col_heading level0 col5\" >draw: claim</th>    </tr></thead><tbody>\n                <tr>\n                                <td id=\"T_9cc951b8_1e21_11ea_b312_f218983aa406row0_col0\" class=\"data row0 col0\" >106</td>\n                        <td id=\"T_9cc951b8_1e21_11ea_b312_f218983aa406row0_col1\" class=\"data row0 col1\" >172</td>\n                        <td id=\"T_9cc951b8_1e21_11ea_b312_f218983aa406row0_col2\" class=\"data row0 col2\" >22</td>\n                        <td id=\"T_9cc951b8_1e21_11ea_b312_f218983aa406row0_col3\" class=\"data row0 col3\" >0</td>\n                        <td id=\"T_9cc951b8_1e21_11ea_b312_f218983aa406row0_col4\" class=\"data row0 col4\" >2</td>\n                        <td id=\"T_9cc951b8_1e21_11ea_b312_f218983aa406row0_col5\" class=\"data row0 col5\" >38</td>\n            </tr>\n    </tbody></table>"
     },
     "metadata": {},
     "output_type": "execute_result",
     "execution_count": 13
    }
   ],
   "source": [
    "winner_df = pd.DataFrame([(white_checkmate_num, black_checkmate_num, draw_stalemate_num, draw_fivefold_num, draw_insufficient_material_num, draw_claim_num)], \n",
    "columns = ['checkmate: White', 'checkmate: Black', 'draw: stalemate', 'draw: 5-fold repetition', 'draw: insufficient material', 'draw: claim'])\n",
    "winner_df.style.hide_index()"
   ]
  },
  {
   "cell_type": "markdown",
   "metadata": {},
   "source": [
    "### Overall Percentages"
   ]
  },
  {
   "cell_type": "code",
   "execution_count": 14,
   "metadata": {
    "pycharm": {
     "is_executing": false
    }
   },
   "outputs": [
    {
     "data": {
      "text/plain": "                             counts   percent percent 100\ncheckmate: Black wins!          172  0.505882       50.6%\ncheckmate: White wins!          106  0.311765       31.2%\ndraw: claim                      38  0.111765       11.2%\ndraw: stalemate                  22  0.064706        6.5%\ndraw: insufficient material       2  0.005882        0.6%",
      "text/html": "<div>\n<style scoped>\n    .dataframe tbody tr th:only-of-type {\n        vertical-align: middle;\n    }\n\n    .dataframe tbody tr th {\n        vertical-align: top;\n    }\n\n    .dataframe thead th {\n        text-align: right;\n    }\n</style>\n<table border=\"1\" class=\"dataframe\">\n  <thead>\n    <tr style=\"text-align: right;\">\n      <th></th>\n      <th>counts</th>\n      <th>percent</th>\n      <th>percent 100</th>\n    </tr>\n  </thead>\n  <tbody>\n    <tr>\n      <th>checkmate: Black wins!</th>\n      <td>172</td>\n      <td>0.505882</td>\n      <td>50.6%</td>\n    </tr>\n    <tr>\n      <th>checkmate: White wins!</th>\n      <td>106</td>\n      <td>0.311765</td>\n      <td>31.2%</td>\n    </tr>\n    <tr>\n      <th>draw: claim</th>\n      <td>38</td>\n      <td>0.111765</td>\n      <td>11.2%</td>\n    </tr>\n    <tr>\n      <th>draw: stalemate</th>\n      <td>22</td>\n      <td>0.064706</td>\n      <td>6.5%</td>\n    </tr>\n    <tr>\n      <th>draw: insufficient material</th>\n      <td>2</td>\n      <td>0.005882</td>\n      <td>0.6%</td>\n    </tr>\n  </tbody>\n</table>\n</div>"
     },
     "metadata": {},
     "output_type": "execute_result",
     "execution_count": 14
    }
   ],
   "source": [
    "winnings = df['winner']\n",
    "counts = winnings.value_counts()\n",
    "percent = winnings.value_counts(normalize=True)\n",
    "percent100 = winnings.value_counts(normalize=True).mul(100).round(1).astype(str) + '%'\n",
    "win_df = pd.DataFrame({'counts': counts, 'percent': percent, 'percent 100': percent100 })\n",
    "win_df"
   ]
  },
  {
   "cell_type": "markdown",
   "metadata": {},
   "source": [
    "### Top 10 games, ordered by moves played ascending"
   ]
  },
  {
   "cell_type": "code",
   "execution_count": 15,
   "metadata": {
    "pycharm": {
     "is_executing": false,
     "name": "#%%\n"
    }
   },
   "outputs": [
    {
     "data": {
      "text/plain": "     round_num  iterations  depth             white_agent   black_agent  \\\n323          4          10    NaN            random_agent     stockfish   \n146          7          10    1.0  improved_minimax_agent  random_agent   \n334          5          10    NaN   improved_random_agent     stockfish   \n12           3          10    2.0  advanced_minimax_agent  random_agent   \n144          5          10    1.0  improved_minimax_agent  random_agent   \n198          9          10    2.0  improved_minimax_agent  random_agent   \n158          9          10    2.0  improved_minimax_agent  random_agent   \n191          2          10    2.0  improved_minimax_agent  random_agent   \n320          1          10    NaN            random_agent     stockfish   \n14           5          10    2.0  advanced_minimax_agent  random_agent   \n\n     white_victory                  winner  moves_played  remaining_w_pieces  \\\n323          False  checkmate: Black wins!             6                  16   \n146           True  checkmate: White wins!             7                  16   \n334          False  checkmate: Black wins!             8                  15   \n12            True  checkmate: White wins!            11                  16   \n144           True  checkmate: White wins!            11                  16   \n198           True  checkmate: White wins!            13                  16   \n158           True  checkmate: White wins!            13                  16   \n191           True  checkmate: White wins!            13                  16   \n320          False  checkmate: Black wins!            14                  14   \n14            True  checkmate: White wins!            15                  16   \n\n     remaining_b_pieces  remaining_tot_pieces  \n323                  16                    32  \n146                  16                    32  \n334                  14                    29  \n12                   16                    32  \n144                  13                    29  \n198                  15                    31  \n158                  15                    31  \n191                  15                    31  \n320                  16                    30  \n14                   12                    28  ",
      "text/html": "<div>\n<style scoped>\n    .dataframe tbody tr th:only-of-type {\n        vertical-align: middle;\n    }\n\n    .dataframe tbody tr th {\n        vertical-align: top;\n    }\n\n    .dataframe thead th {\n        text-align: right;\n    }\n</style>\n<table border=\"1\" class=\"dataframe\">\n  <thead>\n    <tr style=\"text-align: right;\">\n      <th></th>\n      <th>round_num</th>\n      <th>iterations</th>\n      <th>depth</th>\n      <th>white_agent</th>\n      <th>black_agent</th>\n      <th>white_victory</th>\n      <th>winner</th>\n      <th>moves_played</th>\n      <th>remaining_w_pieces</th>\n      <th>remaining_b_pieces</th>\n      <th>remaining_tot_pieces</th>\n    </tr>\n  </thead>\n  <tbody>\n    <tr>\n      <th>323</th>\n      <td>4</td>\n      <td>10</td>\n      <td>NaN</td>\n      <td>random_agent</td>\n      <td>stockfish</td>\n      <td>False</td>\n      <td>checkmate: Black wins!</td>\n      <td>6</td>\n      <td>16</td>\n      <td>16</td>\n      <td>32</td>\n    </tr>\n    <tr>\n      <th>146</th>\n      <td>7</td>\n      <td>10</td>\n      <td>1.0</td>\n      <td>improved_minimax_agent</td>\n      <td>random_agent</td>\n      <td>True</td>\n      <td>checkmate: White wins!</td>\n      <td>7</td>\n      <td>16</td>\n      <td>16</td>\n      <td>32</td>\n    </tr>\n    <tr>\n      <th>334</th>\n      <td>5</td>\n      <td>10</td>\n      <td>NaN</td>\n      <td>improved_random_agent</td>\n      <td>stockfish</td>\n      <td>False</td>\n      <td>checkmate: Black wins!</td>\n      <td>8</td>\n      <td>15</td>\n      <td>14</td>\n      <td>29</td>\n    </tr>\n    <tr>\n      <th>12</th>\n      <td>3</td>\n      <td>10</td>\n      <td>2.0</td>\n      <td>advanced_minimax_agent</td>\n      <td>random_agent</td>\n      <td>True</td>\n      <td>checkmate: White wins!</td>\n      <td>11</td>\n      <td>16</td>\n      <td>16</td>\n      <td>32</td>\n    </tr>\n    <tr>\n      <th>144</th>\n      <td>5</td>\n      <td>10</td>\n      <td>1.0</td>\n      <td>improved_minimax_agent</td>\n      <td>random_agent</td>\n      <td>True</td>\n      <td>checkmate: White wins!</td>\n      <td>11</td>\n      <td>16</td>\n      <td>13</td>\n      <td>29</td>\n    </tr>\n    <tr>\n      <th>198</th>\n      <td>9</td>\n      <td>10</td>\n      <td>2.0</td>\n      <td>improved_minimax_agent</td>\n      <td>random_agent</td>\n      <td>True</td>\n      <td>checkmate: White wins!</td>\n      <td>13</td>\n      <td>16</td>\n      <td>15</td>\n      <td>31</td>\n    </tr>\n    <tr>\n      <th>158</th>\n      <td>9</td>\n      <td>10</td>\n      <td>2.0</td>\n      <td>improved_minimax_agent</td>\n      <td>random_agent</td>\n      <td>True</td>\n      <td>checkmate: White wins!</td>\n      <td>13</td>\n      <td>16</td>\n      <td>15</td>\n      <td>31</td>\n    </tr>\n    <tr>\n      <th>191</th>\n      <td>2</td>\n      <td>10</td>\n      <td>2.0</td>\n      <td>improved_minimax_agent</td>\n      <td>random_agent</td>\n      <td>True</td>\n      <td>checkmate: White wins!</td>\n      <td>13</td>\n      <td>16</td>\n      <td>15</td>\n      <td>31</td>\n    </tr>\n    <tr>\n      <th>320</th>\n      <td>1</td>\n      <td>10</td>\n      <td>NaN</td>\n      <td>random_agent</td>\n      <td>stockfish</td>\n      <td>False</td>\n      <td>checkmate: Black wins!</td>\n      <td>14</td>\n      <td>14</td>\n      <td>16</td>\n      <td>30</td>\n    </tr>\n    <tr>\n      <th>14</th>\n      <td>5</td>\n      <td>10</td>\n      <td>2.0</td>\n      <td>advanced_minimax_agent</td>\n      <td>random_agent</td>\n      <td>True</td>\n      <td>checkmate: White wins!</td>\n      <td>15</td>\n      <td>16</td>\n      <td>12</td>\n      <td>28</td>\n    </tr>\n  </tbody>\n</table>\n</div>"
     },
     "metadata": {},
     "output_type": "execute_result",
     "execution_count": 15
    }
   ],
   "source": [
    "df.sort_values(by=['moves_played'], inplace=False, ascending=True).head(10)"
   ]
  },
  {
   "cell_type": "markdown",
   "metadata": {},
   "source": [
    "### Top 10 games where the white agent wins, ordered by moves played ascending"
   ]
  },
  {
   "cell_type": "code",
   "execution_count": 16,
   "metadata": {
    "pycharm": {
     "is_executing": false
    }
   },
   "outputs": [
    {
     "data": {
      "text/plain": "     round_num  iterations  depth             white_agent   black_agent  \\\n146          7          10    1.0  improved_minimax_agent  random_agent   \n144          5          10    1.0  improved_minimax_agent  random_agent   \n12           3          10    2.0  advanced_minimax_agent  random_agent   \n158          9          10    2.0  improved_minimax_agent  random_agent   \n191          2          10    2.0  improved_minimax_agent  random_agent   \n198          9          10    2.0  improved_minimax_agent  random_agent   \n14           5          10    2.0  advanced_minimax_agent  random_agent   \n107          8          10    NaN          advanced_agent  random_agent   \n1            2          10    1.0  advanced_minimax_agent  random_agent   \n3            4          10    1.0  advanced_minimax_agent  random_agent   \n\n     white_victory                  winner  moves_played  remaining_w_pieces  \\\n146           True  checkmate: White wins!             7                  16   \n144           True  checkmate: White wins!            11                  16   \n12            True  checkmate: White wins!            11                  16   \n158           True  checkmate: White wins!            13                  16   \n191           True  checkmate: White wins!            13                  16   \n198           True  checkmate: White wins!            13                  16   \n14            True  checkmate: White wins!            15                  16   \n107           True  checkmate: White wins!            17                  15   \n1             True  checkmate: White wins!            19                  16   \n3             True  checkmate: White wins!            19                  16   \n\n     remaining_b_pieces  remaining_tot_pieces  \n146                  16                    32  \n144                  13                    29  \n12                   16                    32  \n158                  15                    31  \n191                  15                    31  \n198                  15                    31  \n14                   12                    28  \n107                  12                    27  \n1                    15                    31  \n3                    12                    28  ",
      "text/html": "<div>\n<style scoped>\n    .dataframe tbody tr th:only-of-type {\n        vertical-align: middle;\n    }\n\n    .dataframe tbody tr th {\n        vertical-align: top;\n    }\n\n    .dataframe thead th {\n        text-align: right;\n    }\n</style>\n<table border=\"1\" class=\"dataframe\">\n  <thead>\n    <tr style=\"text-align: right;\">\n      <th></th>\n      <th>round_num</th>\n      <th>iterations</th>\n      <th>depth</th>\n      <th>white_agent</th>\n      <th>black_agent</th>\n      <th>white_victory</th>\n      <th>winner</th>\n      <th>moves_played</th>\n      <th>remaining_w_pieces</th>\n      <th>remaining_b_pieces</th>\n      <th>remaining_tot_pieces</th>\n    </tr>\n  </thead>\n  <tbody>\n    <tr>\n      <th>146</th>\n      <td>7</td>\n      <td>10</td>\n      <td>1.0</td>\n      <td>improved_minimax_agent</td>\n      <td>random_agent</td>\n      <td>True</td>\n      <td>checkmate: White wins!</td>\n      <td>7</td>\n      <td>16</td>\n      <td>16</td>\n      <td>32</td>\n    </tr>\n    <tr>\n      <th>144</th>\n      <td>5</td>\n      <td>10</td>\n      <td>1.0</td>\n      <td>improved_minimax_agent</td>\n      <td>random_agent</td>\n      <td>True</td>\n      <td>checkmate: White wins!</td>\n      <td>11</td>\n      <td>16</td>\n      <td>13</td>\n      <td>29</td>\n    </tr>\n    <tr>\n      <th>12</th>\n      <td>3</td>\n      <td>10</td>\n      <td>2.0</td>\n      <td>advanced_minimax_agent</td>\n      <td>random_agent</td>\n      <td>True</td>\n      <td>checkmate: White wins!</td>\n      <td>11</td>\n      <td>16</td>\n      <td>16</td>\n      <td>32</td>\n    </tr>\n    <tr>\n      <th>158</th>\n      <td>9</td>\n      <td>10</td>\n      <td>2.0</td>\n      <td>improved_minimax_agent</td>\n      <td>random_agent</td>\n      <td>True</td>\n      <td>checkmate: White wins!</td>\n      <td>13</td>\n      <td>16</td>\n      <td>15</td>\n      <td>31</td>\n    </tr>\n    <tr>\n      <th>191</th>\n      <td>2</td>\n      <td>10</td>\n      <td>2.0</td>\n      <td>improved_minimax_agent</td>\n      <td>random_agent</td>\n      <td>True</td>\n      <td>checkmate: White wins!</td>\n      <td>13</td>\n      <td>16</td>\n      <td>15</td>\n      <td>31</td>\n    </tr>\n    <tr>\n      <th>198</th>\n      <td>9</td>\n      <td>10</td>\n      <td>2.0</td>\n      <td>improved_minimax_agent</td>\n      <td>random_agent</td>\n      <td>True</td>\n      <td>checkmate: White wins!</td>\n      <td>13</td>\n      <td>16</td>\n      <td>15</td>\n      <td>31</td>\n    </tr>\n    <tr>\n      <th>14</th>\n      <td>5</td>\n      <td>10</td>\n      <td>2.0</td>\n      <td>advanced_minimax_agent</td>\n      <td>random_agent</td>\n      <td>True</td>\n      <td>checkmate: White wins!</td>\n      <td>15</td>\n      <td>16</td>\n      <td>12</td>\n      <td>28</td>\n    </tr>\n    <tr>\n      <th>107</th>\n      <td>8</td>\n      <td>10</td>\n      <td>NaN</td>\n      <td>advanced_agent</td>\n      <td>random_agent</td>\n      <td>True</td>\n      <td>checkmate: White wins!</td>\n      <td>17</td>\n      <td>15</td>\n      <td>12</td>\n      <td>27</td>\n    </tr>\n    <tr>\n      <th>1</th>\n      <td>2</td>\n      <td>10</td>\n      <td>1.0</td>\n      <td>advanced_minimax_agent</td>\n      <td>random_agent</td>\n      <td>True</td>\n      <td>checkmate: White wins!</td>\n      <td>19</td>\n      <td>16</td>\n      <td>15</td>\n      <td>31</td>\n    </tr>\n    <tr>\n      <th>3</th>\n      <td>4</td>\n      <td>10</td>\n      <td>1.0</td>\n      <td>advanced_minimax_agent</td>\n      <td>random_agent</td>\n      <td>True</td>\n      <td>checkmate: White wins!</td>\n      <td>19</td>\n      <td>16</td>\n      <td>12</td>\n      <td>28</td>\n    </tr>\n  </tbody>\n</table>\n</div>"
     },
     "metadata": {},
     "output_type": "execute_result",
     "execution_count": 16
    }
   ],
   "source": [
    "df.loc[df['winner'] == 'checkmate: White wins!'].sort_values(by=['moves_played'], inplace=False, ascending=True).head(10)"
   ]
  },
  {
   "cell_type": "markdown",
   "metadata": {},
   "source": [
    "### Games where the white agent wins and Oppnent Agent is Stockfish Engine, ordered by moves played ascending"
   ]
  },
  {
   "cell_type": "code",
   "execution_count": 17,
   "metadata": {
    "pycharm": {
     "is_executing": false
    }
   },
   "outputs": [
    {
     "data": {
      "text/plain": "Empty DataFrame\nColumns: [round_num, iterations, depth, white_agent, black_agent, white_victory, winner, moves_played, remaining_w_pieces, remaining_b_pieces, remaining_tot_pieces]\nIndex: []",
      "text/html": "<div>\n<style scoped>\n    .dataframe tbody tr th:only-of-type {\n        vertical-align: middle;\n    }\n\n    .dataframe tbody tr th {\n        vertical-align: top;\n    }\n\n    .dataframe thead th {\n        text-align: right;\n    }\n</style>\n<table border=\"1\" class=\"dataframe\">\n  <thead>\n    <tr style=\"text-align: right;\">\n      <th></th>\n      <th>round_num</th>\n      <th>iterations</th>\n      <th>depth</th>\n      <th>white_agent</th>\n      <th>black_agent</th>\n      <th>white_victory</th>\n      <th>winner</th>\n      <th>moves_played</th>\n      <th>remaining_w_pieces</th>\n      <th>remaining_b_pieces</th>\n      <th>remaining_tot_pieces</th>\n    </tr>\n  </thead>\n  <tbody>\n  </tbody>\n</table>\n</div>"
     },
     "metadata": {},
     "output_type": "execute_result",
     "execution_count": 17
    }
   ],
   "source": [
    "df[(df['winner'] == 'checkmate: White wins!') & (df['black_agent'] == 'stockfish')]"
   ]
  },
  {
   "cell_type": "markdown",
   "metadata": {},
   "source": [
    "### Top 10 games with the fewest remaining black pieces, ordered by pieces remaining ascending"
   ]
  },
  {
   "cell_type": "code",
   "execution_count": 18,
   "metadata": {
    "pycharm": {
     "is_executing": false
    }
   },
   "outputs": [
    {
     "data": {
      "text/plain": "     round_num  iterations  depth                        white_agent  \\\n109         10          10    NaN                     advanced_agent   \n315          6          10    NaN              improved_random_agent   \n312          3          10    NaN              improved_random_agent   \n86           7          10    NaN                        naive_agent   \n87           8          10    NaN                        naive_agent   \n268          9          10    1.0     naive_alpha-beta_minimax_agent   \n56           7          10    2.0  advanced_alpha-beta_minimax_agent   \n89          10          10    NaN                        naive_agent   \n54           5          10    2.0  advanced_alpha-beta_minimax_agent   \n47           8          10    1.0  advanced_alpha-beta_minimax_agent   \n\n      black_agent  white_victory                  winner  moves_played  \\\n109  random_agent           True  checkmate: White wins!            69   \n315  random_agent          False         draw: stalemate           101   \n312  random_agent          False         draw: stalemate           149   \n86   random_agent          False             draw: claim           121   \n87   random_agent          False             draw: claim            57   \n268  random_agent          False         draw: stalemate           129   \n56   random_agent           True  checkmate: White wins!            77   \n89   random_agent          False             draw: claim           115   \n54   random_agent           True  checkmate: White wins!            61   \n47   random_agent          False         draw: stalemate            59   \n\n     remaining_w_pieces  remaining_b_pieces  remaining_tot_pieces  \n109                  13                   1                    14  \n315                  13                   1                    14  \n312                  11                   1                    12  \n86                   12                   1                    13  \n87                   13                   1                    14  \n268                  15                   1                    16  \n56                   11                   1                    12  \n89                   11                   1                    12  \n54                   13                   1                    14  \n47                   15                   1                    16  ",
      "text/html": "<div>\n<style scoped>\n    .dataframe tbody tr th:only-of-type {\n        vertical-align: middle;\n    }\n\n    .dataframe tbody tr th {\n        vertical-align: top;\n    }\n\n    .dataframe thead th {\n        text-align: right;\n    }\n</style>\n<table border=\"1\" class=\"dataframe\">\n  <thead>\n    <tr style=\"text-align: right;\">\n      <th></th>\n      <th>round_num</th>\n      <th>iterations</th>\n      <th>depth</th>\n      <th>white_agent</th>\n      <th>black_agent</th>\n      <th>white_victory</th>\n      <th>winner</th>\n      <th>moves_played</th>\n      <th>remaining_w_pieces</th>\n      <th>remaining_b_pieces</th>\n      <th>remaining_tot_pieces</th>\n    </tr>\n  </thead>\n  <tbody>\n    <tr>\n      <th>109</th>\n      <td>10</td>\n      <td>10</td>\n      <td>NaN</td>\n      <td>advanced_agent</td>\n      <td>random_agent</td>\n      <td>True</td>\n      <td>checkmate: White wins!</td>\n      <td>69</td>\n      <td>13</td>\n      <td>1</td>\n      <td>14</td>\n    </tr>\n    <tr>\n      <th>315</th>\n      <td>6</td>\n      <td>10</td>\n      <td>NaN</td>\n      <td>improved_random_agent</td>\n      <td>random_agent</td>\n      <td>False</td>\n      <td>draw: stalemate</td>\n      <td>101</td>\n      <td>13</td>\n      <td>1</td>\n      <td>14</td>\n    </tr>\n    <tr>\n      <th>312</th>\n      <td>3</td>\n      <td>10</td>\n      <td>NaN</td>\n      <td>improved_random_agent</td>\n      <td>random_agent</td>\n      <td>False</td>\n      <td>draw: stalemate</td>\n      <td>149</td>\n      <td>11</td>\n      <td>1</td>\n      <td>12</td>\n    </tr>\n    <tr>\n      <th>86</th>\n      <td>7</td>\n      <td>10</td>\n      <td>NaN</td>\n      <td>naive_agent</td>\n      <td>random_agent</td>\n      <td>False</td>\n      <td>draw: claim</td>\n      <td>121</td>\n      <td>12</td>\n      <td>1</td>\n      <td>13</td>\n    </tr>\n    <tr>\n      <th>87</th>\n      <td>8</td>\n      <td>10</td>\n      <td>NaN</td>\n      <td>naive_agent</td>\n      <td>random_agent</td>\n      <td>False</td>\n      <td>draw: claim</td>\n      <td>57</td>\n      <td>13</td>\n      <td>1</td>\n      <td>14</td>\n    </tr>\n    <tr>\n      <th>268</th>\n      <td>9</td>\n      <td>10</td>\n      <td>1.0</td>\n      <td>naive_alpha-beta_minimax_agent</td>\n      <td>random_agent</td>\n      <td>False</td>\n      <td>draw: stalemate</td>\n      <td>129</td>\n      <td>15</td>\n      <td>1</td>\n      <td>16</td>\n    </tr>\n    <tr>\n      <th>56</th>\n      <td>7</td>\n      <td>10</td>\n      <td>2.0</td>\n      <td>advanced_alpha-beta_minimax_agent</td>\n      <td>random_agent</td>\n      <td>True</td>\n      <td>checkmate: White wins!</td>\n      <td>77</td>\n      <td>11</td>\n      <td>1</td>\n      <td>12</td>\n    </tr>\n    <tr>\n      <th>89</th>\n      <td>10</td>\n      <td>10</td>\n      <td>NaN</td>\n      <td>naive_agent</td>\n      <td>random_agent</td>\n      <td>False</td>\n      <td>draw: claim</td>\n      <td>115</td>\n      <td>11</td>\n      <td>1</td>\n      <td>12</td>\n    </tr>\n    <tr>\n      <th>54</th>\n      <td>5</td>\n      <td>10</td>\n      <td>2.0</td>\n      <td>advanced_alpha-beta_minimax_agent</td>\n      <td>random_agent</td>\n      <td>True</td>\n      <td>checkmate: White wins!</td>\n      <td>61</td>\n      <td>13</td>\n      <td>1</td>\n      <td>14</td>\n    </tr>\n    <tr>\n      <th>47</th>\n      <td>8</td>\n      <td>10</td>\n      <td>1.0</td>\n      <td>advanced_alpha-beta_minimax_agent</td>\n      <td>random_agent</td>\n      <td>False</td>\n      <td>draw: stalemate</td>\n      <td>59</td>\n      <td>15</td>\n      <td>1</td>\n      <td>16</td>\n    </tr>\n  </tbody>\n</table>\n</div>"
     },
     "metadata": {},
     "output_type": "execute_result",
     "execution_count": 18
    }
   ],
   "source": [
    "df.sort_values(by=['remaining_b_pieces'], inplace=False, ascending=True).head(10)"
   ]
  },
  {
   "cell_type": "markdown",
   "metadata": {},
   "source": [
    "### Top 10 games with fewest remaining black pieces where white wins, ordered by  black pieces remaining ascending"
   ]
  },
  {
   "cell_type": "code",
   "execution_count": 19,
   "metadata": {
    "pycharm": {
     "is_executing": false
    }
   },
   "outputs": [
    {
     "data": {
      "text/plain": "     round_num  iterations  depth                        white_agent  \\\n310          1          10    NaN              improved_random_agent   \n105          6          10    NaN                     advanced_agent   \n104          5          10    NaN                     advanced_agent   \n103          4          10    NaN                     advanced_agent   \n102          3          10    NaN                     advanced_agent   \n98           9          10    NaN                     improved_agent   \n56           7          10    2.0  advanced_alpha-beta_minimax_agent   \n54           5          10    2.0  advanced_alpha-beta_minimax_agent   \n109         10          10    NaN                     advanced_agent   \n148          9          10    1.0             improved_minimax_agent   \n\n      black_agent  white_victory                  winner  moves_played  \\\n310  random_agent           True  checkmate: White wins!           291   \n105  random_agent           True  checkmate: White wins!            61   \n104  random_agent           True  checkmate: White wins!            63   \n103  random_agent           True  checkmate: White wins!            67   \n102  random_agent           True  checkmate: White wins!            61   \n98   random_agent           True  checkmate: White wins!            67   \n56   random_agent           True  checkmate: White wins!            77   \n54   random_agent           True  checkmate: White wins!            61   \n109  random_agent           True  checkmate: White wins!            69   \n148  random_agent           True  checkmate: White wins!           125   \n\n     remaining_w_pieces  remaining_b_pieces  remaining_tot_pieces  \n310                   9                   1                    10  \n105                  14                   1                    15  \n104                  12                   1                    13  \n103                  15                   1                    16  \n102                  15                   1                    16  \n98                   12                   1                    13  \n56                   11                   1                    12  \n54                   13                   1                    14  \n109                  13                   1                    14  \n148                  12                   1                    13  ",
      "text/html": "<div>\n<style scoped>\n    .dataframe tbody tr th:only-of-type {\n        vertical-align: middle;\n    }\n\n    .dataframe tbody tr th {\n        vertical-align: top;\n    }\n\n    .dataframe thead th {\n        text-align: right;\n    }\n</style>\n<table border=\"1\" class=\"dataframe\">\n  <thead>\n    <tr style=\"text-align: right;\">\n      <th></th>\n      <th>round_num</th>\n      <th>iterations</th>\n      <th>depth</th>\n      <th>white_agent</th>\n      <th>black_agent</th>\n      <th>white_victory</th>\n      <th>winner</th>\n      <th>moves_played</th>\n      <th>remaining_w_pieces</th>\n      <th>remaining_b_pieces</th>\n      <th>remaining_tot_pieces</th>\n    </tr>\n  </thead>\n  <tbody>\n    <tr>\n      <th>310</th>\n      <td>1</td>\n      <td>10</td>\n      <td>NaN</td>\n      <td>improved_random_agent</td>\n      <td>random_agent</td>\n      <td>True</td>\n      <td>checkmate: White wins!</td>\n      <td>291</td>\n      <td>9</td>\n      <td>1</td>\n      <td>10</td>\n    </tr>\n    <tr>\n      <th>105</th>\n      <td>6</td>\n      <td>10</td>\n      <td>NaN</td>\n      <td>advanced_agent</td>\n      <td>random_agent</td>\n      <td>True</td>\n      <td>checkmate: White wins!</td>\n      <td>61</td>\n      <td>14</td>\n      <td>1</td>\n      <td>15</td>\n    </tr>\n    <tr>\n      <th>104</th>\n      <td>5</td>\n      <td>10</td>\n      <td>NaN</td>\n      <td>advanced_agent</td>\n      <td>random_agent</td>\n      <td>True</td>\n      <td>checkmate: White wins!</td>\n      <td>63</td>\n      <td>12</td>\n      <td>1</td>\n      <td>13</td>\n    </tr>\n    <tr>\n      <th>103</th>\n      <td>4</td>\n      <td>10</td>\n      <td>NaN</td>\n      <td>advanced_agent</td>\n      <td>random_agent</td>\n      <td>True</td>\n      <td>checkmate: White wins!</td>\n      <td>67</td>\n      <td>15</td>\n      <td>1</td>\n      <td>16</td>\n    </tr>\n    <tr>\n      <th>102</th>\n      <td>3</td>\n      <td>10</td>\n      <td>NaN</td>\n      <td>advanced_agent</td>\n      <td>random_agent</td>\n      <td>True</td>\n      <td>checkmate: White wins!</td>\n      <td>61</td>\n      <td>15</td>\n      <td>1</td>\n      <td>16</td>\n    </tr>\n    <tr>\n      <th>98</th>\n      <td>9</td>\n      <td>10</td>\n      <td>NaN</td>\n      <td>improved_agent</td>\n      <td>random_agent</td>\n      <td>True</td>\n      <td>checkmate: White wins!</td>\n      <td>67</td>\n      <td>12</td>\n      <td>1</td>\n      <td>13</td>\n    </tr>\n    <tr>\n      <th>56</th>\n      <td>7</td>\n      <td>10</td>\n      <td>2.0</td>\n      <td>advanced_alpha-beta_minimax_agent</td>\n      <td>random_agent</td>\n      <td>True</td>\n      <td>checkmate: White wins!</td>\n      <td>77</td>\n      <td>11</td>\n      <td>1</td>\n      <td>12</td>\n    </tr>\n    <tr>\n      <th>54</th>\n      <td>5</td>\n      <td>10</td>\n      <td>2.0</td>\n      <td>advanced_alpha-beta_minimax_agent</td>\n      <td>random_agent</td>\n      <td>True</td>\n      <td>checkmate: White wins!</td>\n      <td>61</td>\n      <td>13</td>\n      <td>1</td>\n      <td>14</td>\n    </tr>\n    <tr>\n      <th>109</th>\n      <td>10</td>\n      <td>10</td>\n      <td>NaN</td>\n      <td>advanced_agent</td>\n      <td>random_agent</td>\n      <td>True</td>\n      <td>checkmate: White wins!</td>\n      <td>69</td>\n      <td>13</td>\n      <td>1</td>\n      <td>14</td>\n    </tr>\n    <tr>\n      <th>148</th>\n      <td>9</td>\n      <td>10</td>\n      <td>1.0</td>\n      <td>improved_minimax_agent</td>\n      <td>random_agent</td>\n      <td>True</td>\n      <td>checkmate: White wins!</td>\n      <td>125</td>\n      <td>12</td>\n      <td>1</td>\n      <td>13</td>\n    </tr>\n  </tbody>\n</table>\n</div>"
     },
     "metadata": {},
     "output_type": "execute_result",
     "execution_count": 19
    }
   ],
   "source": [
    "df[(df['winner'] == 'checkmate: White wins!')].sort_values(by=['remaining_b_pieces'], inplace=False, ascending=True).head(10)"
   ]
  },
  {
   "cell_type": "markdown",
   "metadata": {},
   "source": [
    "### Top 10 games with the fewest remaining white pieces, ordered by pieces remaining ascending"
   ]
  },
  {
   "cell_type": "code",
   "execution_count": 20,
   "metadata": {
    "pycharm": {
     "is_executing": false
    }
   },
   "outputs": [
    {
     "data": {
      "text/plain": "     round_num  iterations  depth                        white_agent  \\\n301          2          10    NaN                       random_agent   \n306          7          10    NaN                       random_agent   \n309         10          10    NaN                       random_agent   \n303          4          10    NaN                       random_agent   \n76           7          10    2.0  advanced_alpha-beta_minimax_agent   \n135          6          10    NaN                     advanced_agent   \n305          6          10    NaN                       random_agent   \n302          3          10    NaN                       random_agent   \n308          9          10    NaN                       random_agent   \n307          8          10    NaN                       random_agent   \n\n      black_agent  white_victory                       winner  moves_played  \\\n301  random_agent          False              draw: stalemate           164   \n306  random_agent          False  draw: insufficient material           416   \n309  random_agent          False  draw: insufficient material           519   \n303  random_agent          False              draw: stalemate           266   \n76      stockfish          False       checkmate: Black wins!            56   \n135     stockfish          False       checkmate: Black wins!            54   \n305  random_agent          False                  draw: claim           394   \n302  random_agent          False                  draw: claim           497   \n308  random_agent          False                  draw: claim           297   \n307  random_agent          False                  draw: claim           410   \n\n     remaining_w_pieces  remaining_b_pieces  remaining_tot_pieces  \n301                   1                   7                     8  \n306                   1                   2                     3  \n309                   1                   2                     3  \n303                   1                   6                     7  \n76                    2                  13                    15  \n135                   2                  11                    13  \n305                   2                   2                     4  \n302                   2                   1                     3  \n308                   2                   3                     5  \n307                   2                   3                     5  ",
      "text/html": "<div>\n<style scoped>\n    .dataframe tbody tr th:only-of-type {\n        vertical-align: middle;\n    }\n\n    .dataframe tbody tr th {\n        vertical-align: top;\n    }\n\n    .dataframe thead th {\n        text-align: right;\n    }\n</style>\n<table border=\"1\" class=\"dataframe\">\n  <thead>\n    <tr style=\"text-align: right;\">\n      <th></th>\n      <th>round_num</th>\n      <th>iterations</th>\n      <th>depth</th>\n      <th>white_agent</th>\n      <th>black_agent</th>\n      <th>white_victory</th>\n      <th>winner</th>\n      <th>moves_played</th>\n      <th>remaining_w_pieces</th>\n      <th>remaining_b_pieces</th>\n      <th>remaining_tot_pieces</th>\n    </tr>\n  </thead>\n  <tbody>\n    <tr>\n      <th>301</th>\n      <td>2</td>\n      <td>10</td>\n      <td>NaN</td>\n      <td>random_agent</td>\n      <td>random_agent</td>\n      <td>False</td>\n      <td>draw: stalemate</td>\n      <td>164</td>\n      <td>1</td>\n      <td>7</td>\n      <td>8</td>\n    </tr>\n    <tr>\n      <th>306</th>\n      <td>7</td>\n      <td>10</td>\n      <td>NaN</td>\n      <td>random_agent</td>\n      <td>random_agent</td>\n      <td>False</td>\n      <td>draw: insufficient material</td>\n      <td>416</td>\n      <td>1</td>\n      <td>2</td>\n      <td>3</td>\n    </tr>\n    <tr>\n      <th>309</th>\n      <td>10</td>\n      <td>10</td>\n      <td>NaN</td>\n      <td>random_agent</td>\n      <td>random_agent</td>\n      <td>False</td>\n      <td>draw: insufficient material</td>\n      <td>519</td>\n      <td>1</td>\n      <td>2</td>\n      <td>3</td>\n    </tr>\n    <tr>\n      <th>303</th>\n      <td>4</td>\n      <td>10</td>\n      <td>NaN</td>\n      <td>random_agent</td>\n      <td>random_agent</td>\n      <td>False</td>\n      <td>draw: stalemate</td>\n      <td>266</td>\n      <td>1</td>\n      <td>6</td>\n      <td>7</td>\n    </tr>\n    <tr>\n      <th>76</th>\n      <td>7</td>\n      <td>10</td>\n      <td>2.0</td>\n      <td>advanced_alpha-beta_minimax_agent</td>\n      <td>stockfish</td>\n      <td>False</td>\n      <td>checkmate: Black wins!</td>\n      <td>56</td>\n      <td>2</td>\n      <td>13</td>\n      <td>15</td>\n    </tr>\n    <tr>\n      <th>135</th>\n      <td>6</td>\n      <td>10</td>\n      <td>NaN</td>\n      <td>advanced_agent</td>\n      <td>stockfish</td>\n      <td>False</td>\n      <td>checkmate: Black wins!</td>\n      <td>54</td>\n      <td>2</td>\n      <td>11</td>\n      <td>13</td>\n    </tr>\n    <tr>\n      <th>305</th>\n      <td>6</td>\n      <td>10</td>\n      <td>NaN</td>\n      <td>random_agent</td>\n      <td>random_agent</td>\n      <td>False</td>\n      <td>draw: claim</td>\n      <td>394</td>\n      <td>2</td>\n      <td>2</td>\n      <td>4</td>\n    </tr>\n    <tr>\n      <th>302</th>\n      <td>3</td>\n      <td>10</td>\n      <td>NaN</td>\n      <td>random_agent</td>\n      <td>random_agent</td>\n      <td>False</td>\n      <td>draw: claim</td>\n      <td>497</td>\n      <td>2</td>\n      <td>1</td>\n      <td>3</td>\n    </tr>\n    <tr>\n      <th>308</th>\n      <td>9</td>\n      <td>10</td>\n      <td>NaN</td>\n      <td>random_agent</td>\n      <td>random_agent</td>\n      <td>False</td>\n      <td>draw: claim</td>\n      <td>297</td>\n      <td>2</td>\n      <td>3</td>\n      <td>5</td>\n    </tr>\n    <tr>\n      <th>307</th>\n      <td>8</td>\n      <td>10</td>\n      <td>NaN</td>\n      <td>random_agent</td>\n      <td>random_agent</td>\n      <td>False</td>\n      <td>draw: claim</td>\n      <td>410</td>\n      <td>2</td>\n      <td>3</td>\n      <td>5</td>\n    </tr>\n  </tbody>\n</table>\n</div>"
     },
     "metadata": {},
     "output_type": "execute_result",
     "execution_count": 20
    }
   ],
   "source": [
    "df.sort_values(by=['remaining_w_pieces'], inplace=False, ascending=True).head(10)"
   ]
  },
  {
   "cell_type": "markdown",
   "metadata": {},
   "source": [
    "### Top 10 games with fewest remaining white pieces where black wins, ordered by white pieces remaining ascending"
   ]
  },
  {
   "cell_type": "code",
   "execution_count": 21,
   "metadata": {
    "pycharm": {
     "is_executing": false
    }
   },
   "outputs": [
    {
     "data": {
      "text/plain": "     round_num  iterations  depth                        white_agent  \\\n135          6          10    NaN                     advanced_agent   \n71           2          10    2.0  advanced_alpha-beta_minimax_agent   \n76           7          10    2.0  advanced_alpha-beta_minimax_agent   \n64           5          10    1.0  advanced_alpha-beta_minimax_agent   \n176          7          10    2.0             improved_minimax_agent   \n25           6          10    1.0             advanced_minimax_agent   \n200          1          10    1.0             improved_minimax_agent   \n206          7          10    1.0             improved_minimax_agent   \n132          3          10    NaN                     advanced_agent   \n179         10          10    2.0             improved_minimax_agent   \n\n    black_agent  white_victory                  winner  moves_played  \\\n135   stockfish          False  checkmate: Black wins!            54   \n71    stockfish          False  checkmate: Black wins!            54   \n76    stockfish          False  checkmate: Black wins!            56   \n64    stockfish          False  checkmate: Black wins!            68   \n176   stockfish          False  checkmate: Black wins!            72   \n25    stockfish          False  checkmate: Black wins!            56   \n200   stockfish          False  checkmate: Black wins!            50   \n206   stockfish          False  checkmate: Black wins!            52   \n132   stockfish          False  checkmate: Black wins!            50   \n179   stockfish          False  checkmate: Black wins!            52   \n\n     remaining_w_pieces  remaining_b_pieces  remaining_tot_pieces  \n135                   2                  11                    13  \n71                    2                  13                    15  \n76                    2                  13                    15  \n64                    3                  11                    14  \n176                   3                   8                    11  \n25                    3                  10                    13  \n200                   3                  10                    13  \n206                   3                  10                    13  \n132                   3                   9                    12  \n179                   4                  11                    15  ",
      "text/html": "<div>\n<style scoped>\n    .dataframe tbody tr th:only-of-type {\n        vertical-align: middle;\n    }\n\n    .dataframe tbody tr th {\n        vertical-align: top;\n    }\n\n    .dataframe thead th {\n        text-align: right;\n    }\n</style>\n<table border=\"1\" class=\"dataframe\">\n  <thead>\n    <tr style=\"text-align: right;\">\n      <th></th>\n      <th>round_num</th>\n      <th>iterations</th>\n      <th>depth</th>\n      <th>white_agent</th>\n      <th>black_agent</th>\n      <th>white_victory</th>\n      <th>winner</th>\n      <th>moves_played</th>\n      <th>remaining_w_pieces</th>\n      <th>remaining_b_pieces</th>\n      <th>remaining_tot_pieces</th>\n    </tr>\n  </thead>\n  <tbody>\n    <tr>\n      <th>135</th>\n      <td>6</td>\n      <td>10</td>\n      <td>NaN</td>\n      <td>advanced_agent</td>\n      <td>stockfish</td>\n      <td>False</td>\n      <td>checkmate: Black wins!</td>\n      <td>54</td>\n      <td>2</td>\n      <td>11</td>\n      <td>13</td>\n    </tr>\n    <tr>\n      <th>71</th>\n      <td>2</td>\n      <td>10</td>\n      <td>2.0</td>\n      <td>advanced_alpha-beta_minimax_agent</td>\n      <td>stockfish</td>\n      <td>False</td>\n      <td>checkmate: Black wins!</td>\n      <td>54</td>\n      <td>2</td>\n      <td>13</td>\n      <td>15</td>\n    </tr>\n    <tr>\n      <th>76</th>\n      <td>7</td>\n      <td>10</td>\n      <td>2.0</td>\n      <td>advanced_alpha-beta_minimax_agent</td>\n      <td>stockfish</td>\n      <td>False</td>\n      <td>checkmate: Black wins!</td>\n      <td>56</td>\n      <td>2</td>\n      <td>13</td>\n      <td>15</td>\n    </tr>\n    <tr>\n      <th>64</th>\n      <td>5</td>\n      <td>10</td>\n      <td>1.0</td>\n      <td>advanced_alpha-beta_minimax_agent</td>\n      <td>stockfish</td>\n      <td>False</td>\n      <td>checkmate: Black wins!</td>\n      <td>68</td>\n      <td>3</td>\n      <td>11</td>\n      <td>14</td>\n    </tr>\n    <tr>\n      <th>176</th>\n      <td>7</td>\n      <td>10</td>\n      <td>2.0</td>\n      <td>improved_minimax_agent</td>\n      <td>stockfish</td>\n      <td>False</td>\n      <td>checkmate: Black wins!</td>\n      <td>72</td>\n      <td>3</td>\n      <td>8</td>\n      <td>11</td>\n    </tr>\n    <tr>\n      <th>25</th>\n      <td>6</td>\n      <td>10</td>\n      <td>1.0</td>\n      <td>advanced_minimax_agent</td>\n      <td>stockfish</td>\n      <td>False</td>\n      <td>checkmate: Black wins!</td>\n      <td>56</td>\n      <td>3</td>\n      <td>10</td>\n      <td>13</td>\n    </tr>\n    <tr>\n      <th>200</th>\n      <td>1</td>\n      <td>10</td>\n      <td>1.0</td>\n      <td>improved_minimax_agent</td>\n      <td>stockfish</td>\n      <td>False</td>\n      <td>checkmate: Black wins!</td>\n      <td>50</td>\n      <td>3</td>\n      <td>10</td>\n      <td>13</td>\n    </tr>\n    <tr>\n      <th>206</th>\n      <td>7</td>\n      <td>10</td>\n      <td>1.0</td>\n      <td>improved_minimax_agent</td>\n      <td>stockfish</td>\n      <td>False</td>\n      <td>checkmate: Black wins!</td>\n      <td>52</td>\n      <td>3</td>\n      <td>10</td>\n      <td>13</td>\n    </tr>\n    <tr>\n      <th>132</th>\n      <td>3</td>\n      <td>10</td>\n      <td>NaN</td>\n      <td>advanced_agent</td>\n      <td>stockfish</td>\n      <td>False</td>\n      <td>checkmate: Black wins!</td>\n      <td>50</td>\n      <td>3</td>\n      <td>9</td>\n      <td>12</td>\n    </tr>\n    <tr>\n      <th>179</th>\n      <td>10</td>\n      <td>10</td>\n      <td>2.0</td>\n      <td>improved_minimax_agent</td>\n      <td>stockfish</td>\n      <td>False</td>\n      <td>checkmate: Black wins!</td>\n      <td>52</td>\n      <td>4</td>\n      <td>11</td>\n      <td>15</td>\n    </tr>\n  </tbody>\n</table>\n</div>"
     },
     "metadata": {},
     "output_type": "execute_result",
     "execution_count": 21
    }
   ],
   "source": [
    "df[(df['winner'] == 'checkmate: Black wins!')].sort_values(by=['remaining_w_pieces'], inplace=False, ascending=True).head(10)"
   ]
  }
 ],
 "metadata": {
  "kernelspec": {
   "display_name": "Python 3",
   "language": "python",
   "name": "python3"
  },
  "language_info": {
   "codemirror_mode": {
    "name": "ipython",
    "version": 3
   },
   "file_extension": ".py",
   "mimetype": "text/x-python",
   "name": "python",
   "nbconvert_exporter": "python",
   "pygments_lexer": "ipython3",
   "version": "3.6.9"
  },
  "pycharm": {
   "stem_cell": {
    "cell_type": "raw",
    "metadata": {
     "collapsed": false
    },
    "source": []
   }
  }
 },
 "nbformat": 4,
 "nbformat_minor": 1
}