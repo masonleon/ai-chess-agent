{
 "cells": [
  {
   "cell_type": "code",
   "execution_count": null,
   "metadata": {
    "pycharm": {
     "is_executing": false
    }
   },
   "outputs": [],
   "source": [
    "# import chess\n",
    "# import chess.engine\n",
    "# import time\n",
    "# import asyncio\n",
    "# from IPython.display import display, HTML, clear_output"
   ]
  },
  {
   "cell_type": "code",
   "execution_count": null,
   "metadata": {
    "pycharm": {
     "is_executing": false
    }
   },
   "outputs": [],
   "source": [
    "# def display_board(board, use_svg):\n",
    "#     \"\"\"\n",
    "#     Displays the chess board.\n",
    "#     :param board: a python-chess board.\n",
    "#     :param use_svg: boolean if visual html animation of board active.\n",
    "#     :return: str representation of html formatted board for display.\n",
    "#     \"\"\"\n",
    "\n",
    "#     if use_svg:\n",
    "#         return board._repr_svg_()\n",
    "#     else:\n",
    "#         return \"<pre>\" + str(board) + \"</pre>\""
   ]
  },
  {
   "cell_type": "code",
   "execution_count": null,
   "metadata": {
    "pycharm": {
     "is_executing": false,
     "name": "#%%\n"
    }
   },
   "outputs": [],
   "source": [
    "# def who(agent):\n",
    "#     \"\"\"\n",
    "#     Checks if player agent is white or black.\n",
    "#     :param agent: a python-chess player.\n",
    "#     :return: str representation of agent's color.\n",
    "#     \"\"\"\n",
    "\n",
    "#     return \"White\" if agent == chess.WHITE else \"Black\""
   ]
  },
  {
   "cell_type": "code",
   "execution_count": null,
   "metadata": {
    "pycharm": {
     "is_executing": false,
     "name": "#%%\n"
    }
   },
   "outputs": [],
   "source": [
    "# def get_move(prompt):\n",
    "#     \"\"\"\n",
    "#     Obtains available moves.\n",
    "#     :param prompt: keyboard interrupt prompt to halt active game.\n",
    "#     :return: str representation of Universal Chess Interface (UCI) move.\n",
    "#     \"\"\"\n",
    "\n",
    "#     uci = input(prompt)\n",
    "#     if uci and uci[0] == \"q\":\n",
    "#         raise KeyboardInterrupt()\n",
    "#     try:\n",
    "#         chess.Move.from_uci(uci)\n",
    "#     except:\n",
    "#         uci = None\n",
    "#     return uci"
   ]
  },
  {
   "cell_type": "code",
   "execution_count": null,
   "metadata": {
    "pycharm": {
     "is_executing": false,
     "name": "#%%\n"
    }
   },
   "outputs": [],
   "source": [
    "# def count_pieces(board):\n",
    "#     \"\"\"\n",
    "#     Tallies the white and black players pieces.\n",
    "#     :param board: a python-chess board.\n",
    "#     :return: arr[int, int] representation of number of pieces on board where\n",
    "#             arr[0] is white and arr[1] is black.\n",
    "#     \"\"\"\n",
    "#     num_pieces = [0, 0]\n",
    "\n",
    "#     num_pieces[0] += len(board.pieces(chess.PAWN, chess.WHITE))\n",
    "#     num_pieces[0] += len(board.pieces(chess.BISHOP, chess.WHITE))\n",
    "#     num_pieces[0] += len(board.pieces(chess.KING, chess.WHITE))\n",
    "#     num_pieces[0] += len(board.pieces(chess.QUEEN, chess.WHITE))\n",
    "#     num_pieces[0] += len(board.pieces(chess.KNIGHT, chess.WHITE))\n",
    "#     num_pieces[0] += len(board.pieces(chess.ROOK, chess.WHITE))\n",
    "\n",
    "#     num_pieces[1] += len(board.pieces(chess.PAWN, chess.BLACK))\n",
    "#     num_pieces[1] += len(board.pieces(chess.BISHOP, chess.BLACK))\n",
    "#     num_pieces[1] += len(board.pieces(chess.KING, chess.BLACK))\n",
    "#     num_pieces[1] += len(board.pieces(chess.QUEEN, chess.BLACK))\n",
    "#     num_pieces[1] += len(board.pieces(chess.KNIGHT, chess.BLACK))\n",
    "#     num_pieces[1] += len(board.pieces(chess.ROOK, chess.BLACK))\n",
    "\n",
    "#     return num_pieces\n",
    " "
   ]
  },
  {
   "cell_type": "code",
   "execution_count": null,
   "metadata": {
    "pycharm": {
     "is_executing": false,
     "name": "#%%\n"
    }
   },
   "outputs": [],
   "source": [
    "# # Modified play_game function takes in a stockfish engine and lets stockfish play against itself, 100 milliseconds \n",
    "# # per move with svg visualization\n",
    "\n",
    "# def play_game(\n",
    "#               engine,\n",
    "#               uci_start_state=None,\n",
    "#               visual=\"svg\",\n",
    "#               pause=0.001):\n",
    "\n",
    "#     use_svg = (visual == \"svg\")\n",
    "\n",
    "#     if uci_start_state is None:\n",
    "#         board = chess.Board()\n",
    "#     else:\n",
    "#         board = chess.Board(uci_start_state)\n",
    "#     try:\n",
    "#         while not board.is_game_over():\n",
    "            \n",
    "#             result = engine.play(board, chess.engine.Limit(time=0.1))\n",
    "#             name = who(board.turn)\n",
    "#             board.push(result.move)\n",
    "#             board_stop = display_board(board, use_svg)\n",
    "            \n",
    "#             html = \"<b>Move %s, Play '%s':</b><br/>%s\" % (len(board.move_stack), name, board_stop)\n",
    "#             if visual is not None:\n",
    "#                 if visual == \"svg\":\n",
    "#                     clear_output(wait=True)\n",
    "#                 display(HTML(html))\n",
    "#                 if visual == \"svg\":\n",
    "#                     time.sleep(pause)\n",
    "#         engine.quit()\n",
    "#     except KeyboardInterrupt:\n",
    "#         msg = \"Game interrupted!\"\n",
    "#         return (False, msg, board)\n",
    "#     game_has_winner = False\n",
    "#     if board.is_checkmate():\n",
    "#         msg = \"checkmate: \" + who(not board.turn) + \" wins!\"\n",
    "#         game_has_winner = not board.turn\n",
    "#     elif board.is_stalemate():\n",
    "#         msg = \"draw: stalemate\"\n",
    "#     elif board.is_fivefold_repetition():\n",
    "#         msg = \"draw: 5-fold repetition\"\n",
    "#     elif board.is_insufficient_material():\n",
    "#         msg = \"draw: insufficient material\"\n",
    "#     elif board.can_claim_draw():\n",
    "#         msg = \"draw: claim\"\n",
    "#     if visual is not None:\n",
    "#         print(msg)\n",
    "\n",
    "#     return (game_has_winner, msg, board)"
   ]
  },
  {
   "cell_type": "code",
   "execution_count": null,
   "metadata": {},
   "outputs": [],
   "source": [
    "import stockfish_engine as ai"
   ]
  },
  {
   "cell_type": "code",
   "execution_count": null,
   "metadata": {},
   "outputs": [],
   "source": [
    "import chess\n",
    "import chess.engine\n",
    "import time\n",
    "import asyncio"
   ]
  },
  {
   "cell_type": "code",
   "execution_count": null,
   "metadata": {},
   "outputs": [],
   "source": [
    "game = ai.StockfishGame()"
   ]
  },
  {
   "cell_type": "code",
   "execution_count": null,
   "metadata": {},
   "outputs": [],
   "source": [
    "# Test UCI/XBoard engine communication using the stockfish executable compiled on Ubuntu 18.04.3 LTS with gcc/g++\n",
    "\n",
    "engine = chess.engine.SimpleEngine.popen_uci(\"./stockfish\")"
   ]
  },
  {
   "cell_type": "code",
   "execution_count": null,
   "metadata": {},
   "outputs": [],
   "source": [
    "white = ai.RandomAgent().agent"
   ]
  },
  {
   "cell_type": "code",
   "execution_count": null,
   "metadata": {
    "pycharm": {
     "is_executing": false
    }
   },
   "outputs": [],
   "source": [
    "\n",
    "res1 = game.test_engine_play(white, engine, uci_start_state=None, visual=\"svg\", pause=0.001)"
   ]
  },
  {
   "cell_type": "code",
   "execution_count": null,
   "metadata": {},
   "outputs": [],
   "source": []
  },
  {
   "cell_type": "code",
   "execution_count": null,
   "metadata": {
    "pycharm": {
     "is_executing": false
    }
   },
   "outputs": [],
   "source": [
    "# Test UCI/XBoard engine communication using the stockfish executable compiled on Ubuntu 18.04.3 LTS with gcc/g++,\n",
    "# giving the engine a FEN start state \n",
    "\n",
    "engine2 = chess.engine.SimpleEngine.popen_uci(\"./stockfish\")\n",
    "\n",
    "res2 = game.test_engine_play(engine2, uci_start_state=\"QN4n1/6r1/3k4/8/b2K4/8/8/8 b - - 0 1\", visual=\"svg\", pause=0.001)"
   ]
  },
  {
   "cell_type": "code",
   "execution_count": null,
   "metadata": {
    "pycharm": {
     "is_executing": false
    }
   },
   "outputs": [],
   "source": [
    "# Modified play_game function takes in a stockfish engine and lets stockfish play against itself, 100 milliseconds \n",
    "# per move with svg visualization\n",
    "\n",
    "async def play_game(\n",
    "              transport,\n",
    "              engine,\n",
    "              uci_start_state=None,\n",
    "              visual=\"svg\",\n",
    "              pause=0.001):\n",
    "\n",
    "    use_svg = (visual == \"svg\")\n",
    "\n",
    "    if uci_start_state is None:\n",
    "        board = chess.Board()\n",
    "    else:\n",
    "        board = chess.Board(uci_start_state)\n",
    "    try:\n",
    "        while not board.is_game_over():\n",
    "            \n",
    "            result = await engine.play(board, chess.engine.Limit(time=0.1))\n",
    "            name = who(board.turn)\n",
    "            board.push(result.move)\n",
    "            board_stop = display_board(board, use_svg)\n",
    "            \n",
    "            html = \"<b>Move %s, Play '%s':</b><br/>%s\" % (len(board.move_stack), name, board_stop)\n",
    "            if visual is not None:\n",
    "                if visual == \"svg\":\n",
    "                    clear_output(wait=True)\n",
    "                display(HTML(html))\n",
    "                if visual == \"svg\":\n",
    "                    time.sleep(pause)\n",
    "        await engine.quit()\n",
    "    except KeyboardInterrupt:\n",
    "        msg = \"Game interrupted!\"\n",
    "        return (False, msg, board)\n",
    "    game_has_winner = False\n",
    "    if board.is_checkmate():\n",
    "        msg = \"checkmate: \" + who(not board.turn) + \" wins!\"\n",
    "        game_has_winner = not board.turn\n",
    "    elif board.is_stalemate():\n",
    "        msg = \"draw: stalemate\"\n",
    "    elif board.is_fivefold_repetition():\n",
    "        msg = \"draw: 5-fold repetition\"\n",
    "    elif board.is_insufficient_material():\n",
    "        msg = \"draw: insufficient material\"\n",
    "    elif board.can_claim_draw():\n",
    "        msg = \"draw: claim\"\n",
    "    if visual is not None:\n",
    "        print(msg)\n",
    "\n",
    "    return (game_has_winner, msg, board)\n",
    "\n",
    "\n",
    "\n"
   ]
  },
  {
   "cell_type": "code",
   "execution_count": null,
   "metadata": {
    "pycharm": {
     "is_executing": false
    }
   },
   "outputs": [],
   "source": []
  },
  {
   "cell_type": "code",
   "execution_count": null,
   "metadata": {
    "pycharm": {
     "is_executing": false
    }
   },
   "outputs": [],
   "source": []
  },
  {
   "cell_type": "code",
   "execution_count": null,
   "metadata": {
    "pycharm": {
     "is_executing": false,
     "name": "#%%\n"
    }
   },
   "outputs": [],
   "source": [
    "# Test UCI/XBoard engine communication using the stockfish executable compiled on Ubuntu 18.04.3 LTS with gcc/g++\n",
    "\n",
    "# transport, engine3 = await chess.engine.popen_uci(\"./stockfish\")\n",
    "# asyncio.set_event_loop_policy(chess.engine.EventLoopPolicy())\n",
    "# # asyncio.run(play_game(transport, engine3, uci_start_state=None, visual=\"svg\", pause=0.001))\n",
    "# res1 = play_game(engine3, uci_start_state=None, visual=\"svg\", pause=0.001)\n"
   ]
  },
  {
   "cell_type": "code",
   "execution_count": null,
   "metadata": {
    "pycharm": {
     "is_executing": false
    }
   },
   "outputs": [],
   "source": []
  }
 ],
 "metadata": {
  "kernelspec": {
   "display_name": "Python 3",
   "language": "python",
   "name": "python3"
  },
  "language_info": {
   "codemirror_mode": {
    "name": "ipython",
    "version": 3
   },
   "file_extension": ".py",
   "mimetype": "text/x-python",
   "name": "python",
   "nbconvert_exporter": "python",
   "pygments_lexer": "ipython3",
   "version": "3.7.5"
  },
  "pycharm": {
   "stem_cell": {
    "cell_type": "raw",
    "metadata": {
     "collapsed": false
    },
    "source": []
   }
  }
 },
 "nbformat": 4,
 "nbformat_minor": 1
}
