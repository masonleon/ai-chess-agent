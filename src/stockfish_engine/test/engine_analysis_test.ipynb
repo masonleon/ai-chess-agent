{
 "cells": [
  {
   "cell_type": "code",
   "execution_count": 1,
   "metadata": {
    "pycharm": {
     "is_executing": false
    }
   },
   "outputs": [],
   "source": [
    "import time\n",
    "import chess\n",
    "from IPython.display import display, HTML, clear_output\n",
    "import numpy as np\n",
    "import pandas as pd\n",
    "import timeit\n",
    "import random"
   ]
  },
  {
   "cell_type": "markdown",
   "metadata": {},
   "source": [
    "# AI Chess Agent Project"
   ]
  },
  {
   "cell_type": "code",
   "execution_count": 2,
   "metadata": {
    "collapsed": false,
    "jupyter": {
     "outputs_hidden": false
    },
    "pycharm": {
     "is_executing": false,
     "name": "#%%\n"
    }
   },
   "outputs": [
    {
     "ename": "NameError",
     "evalue": "name 'enum' is not defined",
     "traceback": [
      "\u001b[0;31m---------------------------------------------------------------------------\u001b[0m",
      "\u001b[0;31mNameError\u001b[0m                                 Traceback (most recent call last)",
      "\u001b[0;32m<ipython-input-2-c0df44cc8012>\u001b[0m in \u001b[0;36m<module>\u001b[0;34m\u001b[0m\n\u001b[0;32m----> 1\u001b[0;31m \u001b[0;32mimport\u001b[0m \u001b[0mai_chess\u001b[0m \u001b[0;32mas\u001b[0m \u001b[0mai\u001b[0m\u001b[0;34m\u001b[0m\u001b[0;34m\u001b[0m\u001b[0m\n\u001b[0m\u001b[1;32m      2\u001b[0m \u001b[0;34m\u001b[0m\u001b[0m\n",
      "\u001b[0;32m~/Courses/NEU/CS_5100/ai-chess-agent/src/ai_chess/__init__.py\u001b[0m in \u001b[0;36m<module>\u001b[0;34m\u001b[0m\n\u001b[1;32m    198\u001b[0m         \u001b[0;32mreturn\u001b[0m \u001b[0mscores_list\u001b[0m\u001b[0;34m\u001b[0m\u001b[0;34m\u001b[0m\u001b[0m\n\u001b[1;32m    199\u001b[0m \u001b[0;34m\u001b[0m\u001b[0m\n\u001b[0;32m--> 200\u001b[0;31m \u001b[0;32mclass\u001b[0m \u001b[0mPieceSquareTables\u001b[0m\u001b[0;34m(\u001b[0m\u001b[0menum\u001b[0m\u001b[0;34m.\u001b[0m\u001b[0mEnum\u001b[0m\u001b[0;34m)\u001b[0m\u001b[0;34m:\u001b[0m\u001b[0;34m\u001b[0m\u001b[0;34m\u001b[0m\u001b[0m\n\u001b[0m\u001b[1;32m    201\u001b[0m     pawntable = [\n\u001b[1;32m    202\u001b[0m         \u001b[0;36m0\u001b[0m\u001b[0;34m,\u001b[0m  \u001b[0;36m0\u001b[0m\u001b[0;34m,\u001b[0m  \u001b[0;36m0\u001b[0m\u001b[0;34m,\u001b[0m  \u001b[0;36m0\u001b[0m\u001b[0;34m,\u001b[0m  \u001b[0;36m0\u001b[0m\u001b[0;34m,\u001b[0m  \u001b[0;36m0\u001b[0m\u001b[0;34m,\u001b[0m  \u001b[0;36m0\u001b[0m\u001b[0;34m,\u001b[0m  \u001b[0;36m0\u001b[0m\u001b[0;34m,\u001b[0m\u001b[0;34m\u001b[0m\u001b[0;34m\u001b[0m\u001b[0m\n",
      "\u001b[0;31mNameError\u001b[0m: name 'enum' is not defined"
     ],
     "output_type": "error"
    }
   ],
   "source": [
    "import ai_chess as ai"
   ]
  },
  {
   "cell_type": "code",
   "execution_count": null,
   "metadata": {
    "pycharm": {
     "is_executing": false
    }
   },
   "outputs": [],
   "source": [
    "NUM_ITERATIONS = 1\n",
    "COLUMNS = ['round_num','iterations','white agent','black agent','white_victory','winner','moves_played','remain_w_pieces','remaining_b_pieces']"
   ]
  },
  {
   "cell_type": "code",
   "execution_count": null,
   "metadata": {
    "pycharm": {
     "is_executing": false
    }
   },
   "outputs": [],
   "source": []
  },
  {
   "cell_type": "code",
   "execution_count": null,
   "metadata": {
    "pycharm": {
     "is_executing": false
    }
   },
   "outputs": [],
   "source": []
  },
  {
   "cell_type": "markdown",
   "metadata": {},
   "source": [
    "### Results Scoreboard"
   ]
  },
  {
   "cell_type": "code",
   "execution_count": null,
   "metadata": {
    "pycharm": {
     "is_executing": false
    }
   },
   "outputs": [],
   "source": [
    "scoreboard = pd.DataFrame(columns=COLUMNS)"
   ]
  },
  {
   "cell_type": "markdown",
   "metadata": {},
   "source": [
    "## Random vs Random"
   ]
  },
  {
   "cell_type": "code",
   "execution_count": null,
   "metadata": {
    "pycharm": {
     "is_executing": false
    }
   },
   "outputs": [],
   "source": [
    "game = ai.Game()\n",
    "white = ai.RandomAgent()\n",
    "black = ai.RandomAgent()\n",
    "\n",
    "results = game.run(white, black, NUM_ITERATIONS)\n",
    "\n",
    "df = pd.DataFrame(data=results,columns=COLUMNS)\n",
    "\n",
    "# this series by moves played ascending\n",
    "df.sort_values(by=['moves_played'], inplace=False, ascending=True)"
   ]
  },
  {
   "cell_type": "code",
   "execution_count": null,
   "metadata": {
    "pycharm": {
     "is_executing": false
    }
   },
   "outputs": [],
   "source": [
    "#update the scoreboard\n",
    "scoreboard.append(df, ignore_index=True)"
   ]
  },
  {
   "cell_type": "markdown",
   "metadata": {},
   "source": [
    "## Improved Random vs Random"
   ]
  },
  {
   "cell_type": "code",
   "execution_count": null,
   "metadata": {
    "pycharm": {
     "is_executing": false
    }
   },
   "outputs": [],
   "source": [
    "game = ai.Game()\n",
    "white = ai.RandomAgent(\"improved\")\n",
    "black = ai.RandomAgent()\n",
    "\n",
    "results = game.run(white, black, NUM_ITERATIONS)\n",
    "\n",
    "df = pd.DataFrame(data=results,columns=COLUMNS)\n",
    "\n",
    "# this series by moves played ascending\n",
    "df.sort_values(by=['moves_played'], inplace=False, ascending=True)"
   ]
  },
  {
   "cell_type": "code",
   "execution_count": null,
   "metadata": {
    "pycharm": {
     "is_executing": false
    }
   },
   "outputs": [],
   "source": [
    "#update the scoreboard\n",
    "scoreboard.append(df, ignore_index=True)"
   ]
  },
  {
   "cell_type": "markdown",
   "metadata": {},
   "source": [
    "### Overall Scoreboard by moves played ascending"
   ]
  },
  {
   "cell_type": "code",
   "execution_count": null,
   "metadata": {
    "pycharm": {
     "is_executing": false
    }
   },
   "outputs": [],
   "source": [
    "scoreboard.sort_values(by=['moves_played'], inplace=False, ascending=True)"
   ]
  },
  {
   "cell_type": "markdown",
   "metadata": {},
   "source": [
    "## Naive vs Random"
   ]
  },
  {
   "cell_type": "code",
   "execution_count": null,
   "metadata": {
    "pycharm": {
     "is_executing": false
    }
   },
   "outputs": [],
   "source": [
    "game = ai.Game()\n",
    "white = ai.NaiveAgent()\n",
    "black = ai.RandomAgent()\n",
    "\n",
    "results = game.run(white, black, NUM_ITERATIONS)\n",
    "\n",
    "df = pd.DataFrame(data=results,columns=COLUMNS)\n",
    "\n",
    "# this series by moves played ascending\n",
    "df.sort_values(by=['moves_played'], inplace=False, ascending=True)"
   ]
  },
  {
   "cell_type": "code",
   "execution_count": null,
   "metadata": {
    "pycharm": {
     "is_executing": false
    }
   },
   "outputs": [],
   "source": [
    "#update the scoreboard\n",
    "scoreboard.append(df, ignore_index=True)"
   ]
  },
  {
   "cell_type": "markdown",
   "metadata": {},
   "source": [
    "### Overall Scoreboard by moves played ascending"
   ]
  },
  {
   "cell_type": "code",
   "execution_count": null,
   "metadata": {
    "pycharm": {
     "is_executing": false
    }
   },
   "outputs": [],
   "source": [
    "scoreboard.sort_values(by=['moves_played'], inplace=False, ascending=True)"
   ]
  },
  {
   "cell_type": "markdown",
   "metadata": {},
   "source": [
    "## Improved Naive vs Random"
   ]
  },
  {
   "cell_type": "code",
   "execution_count": null,
   "metadata": {
    "pycharm": {
     "is_executing": false
    }
   },
   "outputs": [],
   "source": [
    "game = ai.Game()\n",
    "white = ai.NaiveAgent(\"improved\")\n",
    "black = ai.RandomAgent()\n",
    "\n",
    "results = game.run(white, black, NUM_ITERATIONS)\n",
    "\n",
    "df = pd.DataFrame(data=results,columns=COLUMNS)\n",
    "\n",
    "# this series by moves played ascending\n",
    "df.sort_values(by=['moves_played'], inplace=False, ascending=True)"
   ]
  },
  {
   "cell_type": "code",
   "execution_count": null,
   "metadata": {
    "pycharm": {
     "is_executing": false
    }
   },
   "outputs": [],
   "source": [
    "#update the scoreboard\n",
    "scoreboard.append(df, ignore_index=True)"
   ]
  },
  {
   "cell_type": "markdown",
   "metadata": {},
   "source": [
    "### Overall Scoreboard by moves played ascending"
   ]
  },
  {
   "cell_type": "code",
   "execution_count": null,
   "metadata": {
    "pycharm": {
     "is_executing": false
    }
   },
   "outputs": [],
   "source": [
    "scoreboard.sort_values(by=['moves_played'], inplace=False, ascending=True)"
   ]
  },
  {
   "cell_type": "markdown",
   "metadata": {},
   "source": [
    "## Naive Mini-Max (Depth 1) vs Random"
   ]
  },
  {
   "cell_type": "code",
   "execution_count": null,
   "metadata": {
    "pycharm": {
     "is_executing": false
    }
   },
   "outputs": [],
   "source": [
    "game = ai.Game()\n",
    "white = ai.MiniMaxAgent(max_depth=1)\n",
    "black = ai.RandomAgent()\n",
    "\n",
    "results = game.run(white, black, NUM_ITERATIONS)\n",
    "\n",
    "df = pd.DataFrame(data=results,columns=COLUMNS)\n",
    "\n",
    "# this series by moves played ascending\n",
    "df.sort_values(by=['moves_played'], inplace=False, ascending=True)"
   ]
  },
  {
   "cell_type": "code",
   "execution_count": null,
   "metadata": {
    "pycharm": {
     "is_executing": false
    }
   },
   "outputs": [],
   "source": [
    "#update the scoreboard\n",
    "scoreboard.append(df, ignore_index=True)"
   ]
  },
  {
   "cell_type": "markdown",
   "metadata": {},
   "source": [
    "### Overall Scoreboard by moves played ascending"
   ]
  },
  {
   "cell_type": "code",
   "execution_count": null,
   "metadata": {
    "pycharm": {
     "is_executing": false
    }
   },
   "outputs": [],
   "source": [
    "scoreboard.sort_values(by=['moves_played'], inplace=False, ascending=True)"
   ]
  },
  {
   "cell_type": "markdown",
   "metadata": {},
   "source": [
    "## Naive Mini-Max (Depth 2) vs Random"
   ]
  },
  {
   "cell_type": "code",
   "execution_count": null,
   "metadata": {
    "pycharm": {
     "is_executing": false
    }
   },
   "outputs": [],
   "source": [
    "game = ai.Game()\n",
    "white = ai.MiniMaxAgent(max_depth=1)\n",
    "black = ai.RandomAgent()\n",
    "\n",
    "results = game.run(white, black, NUM_ITERATIONS)\n",
    "\n",
    "df = pd.DataFrame(data=results,columns=COLUMNS)\n",
    "\n",
    "# this series by moves played ascending\n",
    "df.sort_values(by=['moves_played'], inplace=False, ascending=True)"
   ]
  },
  {
   "cell_type": "code",
   "execution_count": null,
   "metadata": {
    "pycharm": {
     "is_executing": false
    }
   },
   "outputs": [],
   "source": [
    "#update the scoreboard\n",
    "scoreboard.append(df, ignore_index=True)"
   ]
  },
  {
   "cell_type": "markdown",
   "metadata": {},
   "source": [
    "### Overall Scoreboard by moves played ascending"
   ]
  },
  {
   "cell_type": "code",
   "execution_count": null,
   "metadata": {
    "pycharm": {
     "is_executing": false
    }
   },
   "outputs": [],
   "source": [
    "scoreboard.sort_values(by=['moves_played'], inplace=False, ascending=True)"
   ]
  },
  {
   "cell_type": "markdown",
   "metadata": {},
   "source": [
    "## Naive Mini-Max (Depth 3) vs Random"
   ]
  },
  {
   "cell_type": "code",
   "execution_count": null,
   "metadata": {
    "pycharm": {
     "is_executing": false
    }
   },
   "outputs": [],
   "source": [
    "game = ai.Game()\n",
    "white = ai.MiniMaxAgent(max_depth=3)\n",
    "black = ai.RandomAgent()\n",
    "\n",
    "results = game.run(white, black, NUM_ITERATIONS)\n",
    "\n",
    "df = pd.DataFrame(data=results,columns=COLUMNS)\n",
    "\n",
    "# this series by moves played ascending\n",
    "df.sort_values(by=['moves_played'], inplace=False, ascending=True)"
   ]
  },
  {
   "cell_type": "code",
   "execution_count": null,
   "metadata": {
    "pycharm": {
     "is_executing": false
    }
   },
   "outputs": [],
   "source": [
    "#update the scoreboard\n",
    "scoreboard.append(df, ignore_index=True)"
   ]
  },
  {
   "cell_type": "markdown",
   "metadata": {},
   "source": [
    "### Overall Scoreboard by moves played ascending"
   ]
  },
  {
   "cell_type": "code",
   "execution_count": null,
   "metadata": {
    "pycharm": {
     "is_executing": false
    }
   },
   "outputs": [],
   "source": [
    "scoreboard.sort_values(by=['moves_played'], inplace=False, ascending=True)"
   ]
  },
  {
   "cell_type": "markdown",
   "metadata": {},
   "source": [
    "## Improved Mini-Max (Depth 1) vs Random"
   ]
  },
  {
   "cell_type": "code",
   "execution_count": null,
   "metadata": {
    "pycharm": {
     "is_executing": false
    }
   },
   "outputs": [],
   "source": [
    "game = ai.Game()\n",
    "white = ai.MiniMaxAgent(max_depth=1, heuristic=\"improved\")\n",
    "black = ai.RandomAgent()\n",
    "\n",
    "results = game.run(white, black, NUM_ITERATIONS)\n",
    "\n",
    "df = pd.DataFrame(data=results,columns=COLUMNS)\n",
    "\n",
    "# this series by moves played ascending\n",
    "df.sort_values(by=['moves_played'], inplace=False, ascending=True)"
   ]
  },
  {
   "cell_type": "code",
   "execution_count": null,
   "metadata": {
    "pycharm": {
     "is_executing": false
    }
   },
   "outputs": [],
   "source": [
    "#update the scoreboard\n",
    "scoreboard.append(df, ignore_index=True)"
   ]
  },
  {
   "cell_type": "markdown",
   "metadata": {},
   "source": [
    "### Overall Scoreboard by moves played ascending"
   ]
  },
  {
   "cell_type": "code",
   "execution_count": null,
   "metadata": {
    "pycharm": {
     "is_executing": false
    }
   },
   "outputs": [],
   "source": [
    "scoreboard.sort_values(by=['moves_played'], inplace=False, ascending=True)"
   ]
  },
  {
   "cell_type": "markdown",
   "metadata": {},
   "source": [
    "## Improved Mini-Max (Depth 2) vs Random"
   ]
  },
  {
   "cell_type": "code",
   "execution_count": null,
   "metadata": {
    "pycharm": {
     "is_executing": false
    }
   },
   "outputs": [],
   "source": [
    "game = ai.Game()\n",
    "white = ai.MiniMaxAgent(max_depth=2, heuristic=\"improved\")\n",
    "black = ai.RandomAgent()\n",
    "\n",
    "results = game.run(white, black, NUM_ITERATIONS)\n",
    "\n",
    "df = pd.DataFrame(data=results,columns=COLUMNS)\n",
    "\n",
    "# this series by moves played ascending\n",
    "df.sort_values(by=['moves_played'], inplace=False, ascending=True)"
   ]
  },
  {
   "cell_type": "code",
   "execution_count": null,
   "metadata": {
    "pycharm": {
     "is_executing": false
    }
   },
   "outputs": [],
   "source": [
    "#update the scoreboard\n",
    "scoreboard.append(df, ignore_index=True)"
   ]
  },
  {
   "cell_type": "markdown",
   "metadata": {},
   "source": [
    "### Overall Scoreboard by moves played ascending"
   ]
  },
  {
   "cell_type": "code",
   "execution_count": null,
   "metadata": {
    "pycharm": {
     "is_executing": false
    }
   },
   "outputs": [],
   "source": [
    "scoreboard.sort_values(by=['moves_played'], inplace=False, ascending=True)"
   ]
  },
  {
   "cell_type": "markdown",
   "metadata": {},
   "source": [
    "## Improved Mini-Max (Depth 3) vs Random"
   ]
  },
  {
   "cell_type": "code",
   "execution_count": null,
   "metadata": {
    "pycharm": {
     "is_executing": false
    }
   },
   "outputs": [],
   "source": [
    "game = ai.Game()\n",
    "white = ai.MiniMaxAgent(max_depth=3, heuristic=\"improved\")\n",
    "black = ai.RandomAgent()\n",
    "\n",
    "results = game.run(white, black, NUM_ITERATIONS)\n",
    "\n",
    "df = pd.DataFrame(data=results,columns=COLUMNS)\n",
    "\n",
    "# this series by moves played ascending\n",
    "df.sort_values(by=['moves_played'], inplace=False, ascending=True)"
   ]
  },
  {
   "cell_type": "code",
   "execution_count": null,
   "metadata": {
    "pycharm": {
     "is_executing": false
    }
   },
   "outputs": [],
   "source": [
    "#update the scoreboard\n",
    "scoreboard.append(df, ignore_index=True)"
   ]
  },
  {
   "cell_type": "markdown",
   "metadata": {},
   "source": [
    "### Overall Scoreboard by moves played ascending"
   ]
  },
  {
   "cell_type": "code",
   "execution_count": null,
   "metadata": {
    "pycharm": {
     "is_executing": false
    }
   },
   "outputs": [],
   "source": [
    "scoreboard.sort_values(by=['moves_played'], inplace=False, ascending=True)"
   ]
  },
  {
   "cell_type": "markdown",
   "metadata": {},
   "source": [
    "## Naive Mini-Max with Piece-Square Tables (Depth 1) vs Random"
   ]
  },
  {
   "cell_type": "markdown",
   "metadata": {},
   "source": [
    "## Naive Mini-Max with Piece-Square Tables (Depth 2) vs Random"
   ]
  },
  {
   "cell_type": "markdown",
   "metadata": {},
   "source": [
    "## Naive Mini-Max with Piece-Square Tables (Depth 3) vs Random"
   ]
  },
  {
   "cell_type": "markdown",
   "metadata": {},
   "source": [
    "## Improved Mini-Max with Piece-Square Tables (Depth 1) vs Random"
   ]
  },
  {
   "cell_type": "markdown",
   "metadata": {},
   "source": [
    "## Improved Mini-Max with Piece-Square Tables (Depth 2) vs Random"
   ]
  },
  {
   "cell_type": "markdown",
   "metadata": {},
   "source": [
    "## Improved Mini-Max with Piece-Square Tables (Depth 3) vs Random"
   ]
  },
  {
   "cell_type": "markdown",
   "metadata": {},
   "source": [
    "## Naive Mini-Max with Alpha-Beta-Pruning (Depth 1) vs Random"
   ]
  },
  {
   "cell_type": "markdown",
   "metadata": {},
   "source": [
    "## Naive Mini-Max with Alpha-Beta-Pruning (Depth 2) vs Random"
   ]
  },
  {
   "cell_type": "markdown",
   "metadata": {},
   "source": [
    "## Naive Mini-Max with Alpha-Beta-Pruning (Depth 3) vs Random"
   ]
  },
  {
   "cell_type": "markdown",
   "metadata": {},
   "source": [
    "## Improved Mini-Max with Alpha-Beta-Pruning (Depth 1) vs Random"
   ]
  },
  {
   "cell_type": "markdown",
   "metadata": {},
   "source": [
    "## Improved Mini-Max with Alpha-Beta-Pruning (Depth 2) vs Random"
   ]
  },
  {
   "cell_type": "markdown",
   "metadata": {},
   "source": [
    "## Improved Mini-Max with Alpha-Beta-Pruning (Depth 3) vs Random"
   ]
  },
  {
   "cell_type": "markdown",
   "metadata": {},
   "source": [
    "## Naive Mini-Max with Alpha-Beta-Pruning and Piece-Square Tables (Depth 1) vs Random"
   ]
  },
  {
   "cell_type": "markdown",
   "metadata": {},
   "source": [
    "## Naive Mini-Max with Alpha-Beta-Pruning and Piece-Square Tables (Depth 2) vs Random"
   ]
  },
  {
   "cell_type": "markdown",
   "metadata": {},
   "source": [
    "## Naive Mini-Max with Alpha-Beta-Pruning and Piece-Square Tables (Depth 3) vs Random"
   ]
  },
  {
   "cell_type": "markdown",
   "metadata": {},
   "source": [
    "## Improved Mini-Max with Alpha-Beta-Pruning and Piece-Square Tables (Depth 1) vs Random"
   ]
  },
  {
   "cell_type": "markdown",
   "metadata": {},
   "source": [
    "## Improved Mini-Max with Alpha-Beta-Pruning and Piece-Square Tables (Depth 2) vs Random"
   ]
  },
  {
   "cell_type": "markdown",
   "metadata": {},
   "source": [
    "## Improved Mini-Max with Alpha-Beta-Pruning and Piece-Square Tables (Depth 3) vs Random"
   ]
  },
  {
   "cell_type": "code",
   "execution_count": null,
   "metadata": {
    "pycharm": {
     "is_executing": false
    }
   },
   "outputs": [],
   "source": [
    "import chess.engine\n",
    "# import chess.pgn as pgn\n",
    "import matplotlib.pyplot as plt\n",
    "import io\n",
    "import seaborn as sns\n",
    "\n",
    "import os.path\n",
    "from pathlib import Path\n",
    "import asyncio"
   ]
  },
  {
   "cell_type": "code",
   "execution_count": null,
   "metadata": {
    "pycharm": {
     "is_executing": false
    }
   },
   "outputs": [],
   "source": [
    "# KEY VARIABLES\n",
    "\n",
    "# path = \"/\"\n",
    "pgnfile = \"./test.pgn\" # your pgn file\n",
    "enginepath = \"./Stockfish/src/\" # path to your engine\n",
    "enginefile = \"stockfish\" # engine file name\n",
    "\n",
    "totaltime = 1 # total desired engine analysis time in minutes per game\n",
    "\n",
    "# Thresholds in centipawns defining inaccuracy, mistake and blunder\n",
    "inaccuracy = 30 \n",
    "mistake = 90 \n",
    "blunder = 200\n",
    "\n",
    "# Piece Values in centipawns\n",
    "pawn = 100\n",
    "knight = 300\n",
    "bishop = 300\n",
    "rook = 500\n",
    "queen = 900\n",
    "king = 2500\n",
    "\n",
    "# Open the pgn file\n",
    "\n",
    "with io.open(pgnfile,encoding=\"utf-8-sig)\") as pgnin:\n",
    "    game = chess.pgn.read_game(pgnin)\n"
   ]
  },
  {
   "cell_type": "code",
   "execution_count": null,
   "metadata": {
    "pycharm": {
     "is_executing": false
    }
   },
   "outputs": [],
   "source": [
    "# start performing the analysis\n",
    "\n",
    "board = chess.Board()\n",
    "\n",
    "#establish a dataframe to store my evaluations\n",
    "gamedata = pd.DataFrame (\n",
    "    columns =['Ply', 'Side' ,'Move', 'CP','Mate', 'CP Delta','Suggested','Depth', 'Material', \\\n",
    "              'Development', 'Mobility', 'Control', 'Tension', 'Safety'])\n",
    "\n",
    "# loop through the game to count total plies (used to set analysis time)\n",
    "node = game\n",
    "plytotal = 1\n",
    "while not node.is_end():\n",
    "    next_node = node.variations[0]\n",
    "    plytotal += 1 \n",
    "    node = next_node\n",
    "\n",
    "time = totaltime*60000/plytotal # sets associated analysis time per ply in milliseconds\n",
    "\n",
    "# start chess engine\n",
    "# engine = uci.popen_engine(enginepath+enginefile)\n",
    "engine = chess.engine.SimpleEngine.popen_uci(\"/Users/masonleon/Courses/NEU/CS_5100/ai-chess-agent/Stockfish/src/stockfish\")\n",
    "# engine.uci()\n",
    "\n",
    "info_handler = chess.engine.InfoHandler()\n",
    "\n",
    "# engine.info_handlers.append(info_handler)\n",
    "\n",
    "\n",
    "# loop through the game ply by ply and populate the dataframe with evaluation data\n",
    "node = game\n",
    "cap = 30 # initial advantage for white is generally accepted as 30 centipawns\n",
    "ply = 0\n",
    "matedist = \"N/A\"\n",
    "\n",
    "while not node.is_end():\n",
    "    next_node = node.variations[0]\n",
    "    move = node.board().san(next_node.move)\n",
    "    if board.turn:\n",
    "        side = \"W\"\n",
    "    else:\n",
    "        side = \"B\"\n",
    "    \n",
    "            \n",
    "    capprior = cap\n",
    "    \n",
    "    # Do an engine evaluation of the position\n",
    "    # can either set depth or movetime - I am setting movetime for predictable analysis times      \n",
    "    engine.position(board) \n",
    "    bestmove, pondermove = engine.go(movetime = time) \n",
    "    cap=info_handler.info[\"score\"][1].cp\n",
    "    mate = info_handler.info[\"score\"][1].mate\n",
    "    if mate is not None:\n",
    "        matedist = mate\n",
    "        cap = mate/abs(mate)*king # set a very high cap if mate is on the board\n",
    "    else:\n",
    "        matedist = \"N/A\"\n",
    "    depth=info_handler.info[\"depth\"]\n",
    "    suggested = board.san(bestmove)\n",
    "    if side == \"B\":\n",
    "        cap = - cap\n",
    "    \n",
    "    cpdelta = cap-capprior\n",
    "    \n",
    "    board.push(next_node.move) # calculate values based on the new position on the board\n",
    "    \n",
    "    # Material\n",
    "    whitepawns = len(board.pieces(1,1))\n",
    "    whiteknights = len(board.pieces(2,1))\n",
    "    whitebishops = len(board.pieces(3,1))\n",
    "    whiterooks = len(board.pieces(4,1))\n",
    "    whitequeens = len(board.pieces(5,1))\n",
    "    whiteking = len(board.pieces(6,1))\n",
    "    whitematerial = pawn*whitepawns + knight*whiteknights + bishop*whitebishops + \\\n",
    "                    rook*whiterooks + queen*whitequeens +king*whiteking\n",
    "    blackpawns = len(board.pieces(1,0))\n",
    "    blackknights = len(board.pieces(2,0))\n",
    "    blackbishops = len(board.pieces(3,0))\n",
    "    blackrooks = len(board.pieces(4,0))\n",
    "    blackqueens = len(board.pieces(5,0))\n",
    "    blackking = len(board.pieces(6,0))\n",
    "    blackmaterial = pawn*blackpawns + knight*blackknights + bishop*blackbishops + \\\n",
    "                    rook*blackrooks + queen*blackqueens +king*blackking\n",
    "    material = whitematerial - blackmaterial\n",
    "    \n",
    "    # Development\n",
    "    # Assess number of pieces no longer on starting squares for both sides\n",
    "    whitedevelopment = 8\n",
    "    blackdevelopment = 8\n",
    "    if board.piece_at(chess.square(0,0)):\n",
    "        if board.piece_at(chess.square(0,0)).symbol() == \"R\":\n",
    "            whitedevelopment -= 1\n",
    "    if board.piece_at(chess.square(1,0)):\n",
    "        if board.piece_at(chess.square(1,0)).symbol() == \"N\":\n",
    "            whitedevelopment -= 1\n",
    "    if board.piece_at(chess.square(2,0)):\n",
    "        if board.piece_at(chess.square(2,0)).symbol() == \"B\":\n",
    "            whitedevelopment -= 1\n",
    "    if board.piece_at(chess.square(3,0)):\n",
    "        if board.piece_at(chess.square(3,0)).symbol() == \"Q\":\n",
    "            whitedevelopment -= 1\n",
    "    if board.piece_at(chess.square(4,0)):\n",
    "        if board.piece_at(chess.square(4,0)).symbol() == \"K\":\n",
    "            whitedevelopment -= 1\n",
    "    if board.piece_at(chess.square(5,0)):\n",
    "        if board.piece_at(chess.square(5,0)).symbol() == \"B\":\n",
    "            whitedevelopment -= 1\n",
    "    if board.piece_at(chess.square(6,0)):\n",
    "        if board.piece_at(chess.square(6,0)).symbol() == \"N\":\n",
    "            whitedevelopment -= 1\n",
    "    if board.piece_at(chess.square(7,0)):\n",
    "        if board.piece_at(chess.square(7,0)).symbol() == \"R\":\n",
    "            whitedevelopment -= 1\n",
    "    if board.piece_at(chess.square(0,7)):\n",
    "        if board.piece_at(chess.square(0,7)).symbol() == \"r\":\n",
    "            blackdevelopment -= 1\n",
    "    if board.piece_at(chess.square(1,7)):\n",
    "        if board.piece_at(chess.square(1,7)).symbol() == \"n\":\n",
    "            blackdevelopment -= 1\n",
    "    if board.piece_at(chess.square(2,7)):\n",
    "        if board.piece_at(chess.square(2,7)).symbol() == \"b\":\n",
    "            blackdevelopment -= 1\n",
    "    if board.piece_at(chess.square(3,7)):\n",
    "        if board.piece_at(chess.square(3,7)).symbol() == \"q\":\n",
    "            blackdevelopment -= 1\n",
    "    if board.piece_at(chess.square(4,7)):\n",
    "        if board.piece_at(chess.square(4,7)).symbol() == \"k\":\n",
    "            blackdevelopment -= 1\n",
    "    if board.piece_at(chess.square(5,7)):\n",
    "        if board.piece_at(chess.square(5,7)).symbol() == \"b\":\n",
    "            blackdevelopment -= 1\n",
    "    if board.piece_at(chess.square(6,7)):\n",
    "        if board.piece_at(chess.square(6,7)).symbol() == \"n\":\n",
    "            blackdevelopment -= 1\n",
    "    if board.piece_at(chess.square(7,7)):\n",
    "        if board.piece_at(chess.square(7,7)).symbol() == \"r\":\n",
    "            blackdevelopment -= 1\n",
    "    development = whitedevelopment - blackdevelopment \n",
    "    \n",
    "    # Mobility\n",
    "    # Calculate all legal moves for white and black\n",
    "    mobility1 = len(board.legal_moves)\n",
    "    # Change side to move by pushing a null move and calculate all moves for opponent\n",
    "    board.push(chess.Move.null())\n",
    "    mobility2 = len(board.legal_moves)\n",
    "    # Take back the null move to reset the board back to the position\n",
    "    board.pop()\n",
    "    if side == \"W\":\n",
    "        mobility = mobility2 - mobility1\n",
    "    else:\n",
    "        mobility = mobility1 - mobility2\n",
    "        \n",
    "    # Control\n",
    "    # Control is closely associated with \"Space\"\n",
    "    # We will calculate for every square the delta of white attackers to black attackers and sum the deltas\n",
    "    whitecontrol = 0\n",
    "    blackcontrol= 0\n",
    "    for spacesquare in range (64):\n",
    "        whitecontrol += len(board.attackers(chess.WHITE, spacesquare))\n",
    "        blackcontrol += len(board.attackers(chess.BLACK, spacesquare))\n",
    "    control = whitecontrol - blackcontrol\n",
    "        \n",
    "    # Tension (or Pressure)\n",
    "    # very simplistic right now - just a delta of # of attacked pieces for black vs. white\n",
    "    # when a piece is attacked by the opposing color\n",
    "        \n",
    "    spacesquare = 0\n",
    "    tensionwhite = 0\n",
    "    tensionblack = 0\n",
    "    tension = 0\n",
    "    for spacesquare in range(64):\n",
    "        if board.piece_at(spacesquare):\n",
    "            if board.piece_at(spacesquare).symbol() == \"K\":\n",
    "                whitekingsquare = spacesquare # used later for king safety\n",
    "            if board.piece_at(spacesquare).symbol() == \"k\":\n",
    "                blackkingsquare = spacesquare # used later for king safety\n",
    "            if board.piece_at(spacesquare).color == chess.BLACK:\n",
    "                if board.is_attacked_by(chess.WHITE, spacesquare):\n",
    "                    tensionwhite += 1\n",
    "            if board.piece_at(spacesquare).color == chess.WHITE:\n",
    "                if board.is_attacked_by(chess.BLACK, spacesquare):\n",
    "                    tensionblack +=1\n",
    "    tension = tensionwhite - tensionblack\n",
    "    \n",
    "    # King Safety\n",
    "    # This could get very complicated.  I will keep it simple for now.\n",
    "    # As a simple check, I will calculate safety based on a weighted tropism/distance.\n",
    "    \n",
    "    if whitekingsquare <= 7:    # start figuring out the rank and file for the white king\n",
    "        whiterank = 0\n",
    "    elif  whitekingsquare > 7 and whitekingsquare <= 15:\n",
    "        whiterank = 1\n",
    "    elif whitekingsquare >15 and whitekingsquare <= 23:\n",
    "        whiterank = 2\n",
    "    elif whitekingsquare >23 and whitekingsquare <= 31:\n",
    "        whiterank = 3\n",
    "    elif whitekingsquare >31 and whitekingsquare <= 39:\n",
    "        whiterank = 4\n",
    "    elif whitekingsquare >39 and whitekingsquare <= 47:\n",
    "        whiterank = 5\n",
    "    elif whitekingsquare >47 and whitekingsquare <= 55:\n",
    "        whiterank = 6\n",
    "    elif whitekingsquare >55 and whitekingsquare <= 63:\n",
    "        whiterank = 7\n",
    "    whitefile = whitekingsquare - whiterank*7 - whiterank\n",
    "\n",
    "        \n",
    "    if blackkingsquare <= 7:    # start figuring out the rank and file of the black king\n",
    "        blackrank = 0\n",
    "    elif  blackkingsquare > 7 and blackkingsquare <= 15:\n",
    "        blackrank = 1\n",
    "    elif blackkingsquare >15 and blackkingsquare <= 23:\n",
    "        blackrank = 2\n",
    "    elif blackkingsquare >23 and blackkingsquare <= 31:\n",
    "        blackrank = 3\n",
    "    elif blackkingsquare >31 and blackkingsquare <= 39:\n",
    "        blackrank = 4\n",
    "    elif blackkingsquare >39 and blackkingsquare <= 47:\n",
    "        blackrank = 5\n",
    "    elif blackkingsquare >47 and blackkingsquare <= 55:\n",
    "        blackrank = 6\n",
    "    elif blackkingsquare >55 and blackkingsquare <= 63:\n",
    "        blackrank = 7\n",
    "    blackfile = blackkingsquare - blackrank*7 - blackrank\n",
    "    \n",
    "    \n",
    "    # now we will loop through all the squares and calculate the sum of the distances x piece values\n",
    "    # I am using the simple Chebyshev distance as the max of the distance of the ranks or the files\n",
    "    distancesquare = 0\n",
    "    whitesafety = 0\n",
    "    blacksafety = 0\n",
    "    blackattacked = 0\n",
    "    whiteattacked = 0\n",
    "    wmat = 0\n",
    "    bmat = 0\n",
    "    whiteratio = 0\n",
    "    blackratio = 0\n",
    "    for distancesquare in range (64):\n",
    "        if board.piece_at(distancesquare):\n",
    "            P = board.piece_at(distancesquare).symbol()\n",
    "        else:\n",
    "            P = \"\"\n",
    "        if distancesquare <= 7:    # figuring out the rank and file\n",
    "            distancerank = 0\n",
    "        elif  distancesquare > 7 and distancesquare <= 15:\n",
    "            distancerank = 1\n",
    "        elif distancesquare >15 and distancesquare <= 23:\n",
    "            distancerank = 2\n",
    "        elif distancesquare >23 and distancesquare <= 31:\n",
    "            distancerank = 3\n",
    "        elif distancesquare >31 and distancesquare <= 39:\n",
    "            distancerank = 4\n",
    "        elif distancesquare >39 and distancesquare <= 47:\n",
    "            distancerank = 5\n",
    "        elif distancesquare >47 and distancesquare <= 55:\n",
    "            distancerank = 6\n",
    "        elif distancesquare >55 and distancesquare <= 63:\n",
    "            distancerank = 7\n",
    "        distancefile = distancesquare - distancerank*7 - distancerank\n",
    "        whitedistance = max(abs(whiterank-distancerank), abs(whitefile-distancefile))\n",
    "        blackdistance = max(abs(blackrank-distancerank), abs(blackfile-distancefile))\n",
    "        if P == \"R\":\n",
    "            blackattacked += rook*blackdistance\n",
    "            whitesafety += rook*whitedistance\n",
    "            wmat += rook\n",
    "        elif P == \"B\":\n",
    "            blackattacked += bishop*blackdistance\n",
    "            whitesafety += bishop*whitedistance\n",
    "            wmat += bishop\n",
    "        elif P==\"N\":\n",
    "            blackattacked += knight*blackdistance\n",
    "            whitesafety += knight*whitedistance\n",
    "            wmat += knight\n",
    "        elif P==\"Q\":\n",
    "            blackattacked += queen*blackdistance\n",
    "            whitesafety += queen*whitedistance\n",
    "            wmat += queen\n",
    "        elif P ==\"P\":\n",
    "            blackattacked += pawn*blackdistance\n",
    "            whitesafety += pawn*whitedistance\n",
    "            wmat += pawn\n",
    "        elif P == \"r\":\n",
    "            blacksafety += rook*blackdistance\n",
    "            whiteattacked += rook*whitedistance\n",
    "            bmat +=rook\n",
    "        elif P == \"n\":\n",
    "            blacksafety += knight*blackdistance\n",
    "            whiteattacked += knight*whitedistance\n",
    "            bmat +=knight\n",
    "        elif P == \"b\":\n",
    "            blacksafety += bishop*blackdistance\n",
    "            whiteattacked += bishop*whitedistance\n",
    "            bmat +=bishop\n",
    "        elif P==\"q\":\n",
    "            blacksafety += queen*blackdistance\n",
    "            whiteattacked += queen*whitedistance\n",
    "            bmat += queen\n",
    "        elif P ==\"p\":\n",
    "            blacksafety += pawn*blackdistance\n",
    "            whiteattacked += pawn*whitedistance\n",
    "            bmat += pawn\n",
    "    \n",
    "    # see if king in check and make adjustment to the attacked values adding king value less queen value\n",
    "    # for each legal king move - this is somewhat arbitrary but intended to penalize a king in check but \n",
    "    # reduce the penalty of the king is mobile\n",
    "    legal = str(board.legal_moves).count(\"K\") + str(board.legal_moves).count(\"k\")\n",
    "    if board.is_check():\n",
    "        if side == \"W\":\n",
    "            whiteattacked += king - queen*legal\n",
    "        else:\n",
    "            blackattacked += king - queen*legal\n",
    "    \n",
    "    whiteratio = (whitesafety - whiteattacked)/bmat\n",
    "    blackratio = (blacksafety - blackattacked)/wmat\n",
    "    safety = blackratio - whiteratio\n",
    "           \n",
    "    movedata = pd.DataFrame([(ply, side, move, cap, matedist, cpdelta, suggested, depth, material, \\\n",
    "                              development, mobility, control, tension, safety)], \\\n",
    "                              columns =['Ply', 'Side', 'Move', 'CP','Mate', 'CP Delta',\\\n",
    "                              'Suggested','Depth','Material', 'Development', 'Mobility', 'Control', \\\n",
    "                              'Tension', 'Safety'])\n",
    "    \n",
    "    gamedata = gamedata.append(movedata, ignore_index=True)\n",
    "     \n",
    "    ply += 1 \n",
    "    node = next_node\n",
    "# engine.stop()\n",
    "engine.quit()\n",
    "\n",
    "\n",
    "# Now we need to shift the engine evaluation columns by one in gamedata to align to the played and suggested moves\n",
    "gamedata['CP'] = gamedata['CP'].shift(-1)\n",
    "gamedata['CP Delta'] = gamedata['CP Delta'].shift(-1)"
   ]
  },
  {
   "cell_type": "code",
   "execution_count": null,
   "metadata": {
    "pycharm": {
     "is_executing": false
    }
   },
   "outputs": [],
   "source": [
    "# Generate evaluation profile bar plots by ply\n",
    "y = gamedata['CP']\n",
    "z = gamedata['Depth']\n",
    "x = gamedata['Ply']\n",
    "print(x)\n",
    "\n",
    "frequency = int(round(max(x)/50,0)) # If the game has so many moves that the labels would overlap, change frequency\n",
    "\n",
    "plt.figure(figsize=(20,4))\n",
    "plt.ylabel ('Centipawns', color = 'green')\n",
    "plt.bar (x,y,color = 'green')\n",
    "plt.xticks (x[::frequency])\n",
    "plt.xlabel ('Ply')\n",
    "plt.axhline(0, color='black')\n",
    "plt.grid()\n",
    "plt.twinx()\n",
    "plt.plot (x,z, color = 'blue')\n",
    "plt.ylabel('Depth', color = 'blue')\n",
    "plt.title('Engine Evaluation')\n",
    "plt.show()\n",
    "\n",
    "y = gamedata['CP Delta']\n",
    "z = gamedata['Depth']\n",
    "plt.figure(figsize=(20,4))\n",
    "plt.bar (x,y,color = 'green')\n",
    "plt.ylabel ('Centipawns', color = 'green')\n",
    "plt.xlabel ('Ply')\n",
    "plt.xticks (x[::frequency])\n",
    "plt.title('Engine Evaluation CP Deltas')\n",
    "plt.grid()\n",
    "plt.axhline(0, color='black')\n",
    "plt.twinx()\n",
    "plt.plot (x,z, color = 'blue')\n",
    "plt.ylabel('Depth', color = 'blue')\n",
    "plt.show()\n",
    "\n",
    "y = gamedata['Material']\n",
    "z = gamedata['CP']\n",
    "plt.figure(figsize=(20,4))\n",
    "plt.bar (x,y,color = 'green')\n",
    "plt.ylabel ('Centipawns', color = 'green')\n",
    "plt.xlabel ('Ply')\n",
    "plt.xticks (x[::frequency])\n",
    "plt.title('Material Imbalance')\n",
    "plt.grid()\n",
    "plt.axhline(0, color='black')\n",
    "plt.twinx()\n",
    "plt.plot (x,z, color = 'blue')\n",
    "plt.ylabel('Engine Evaluation', color = 'blue')\n",
    "plt.show()\n",
    "\n",
    "y = gamedata['Development']\n",
    "z = gamedata['CP']\n",
    "plt.figure(figsize=(20,4))\n",
    "plt.bar (x,y,color = 'green')\n",
    "plt.ylabel ('Pieces', color = 'green')\n",
    "plt.xlabel ('Ply')\n",
    "plt.xticks (x[::frequency])\n",
    "plt.title('Development Imbalance')\n",
    "plt.grid()\n",
    "plt.axhline(0, color='black')\n",
    "plt.twinx()\n",
    "plt.plot (x,z, color = 'blue')\n",
    "plt.ylabel('Engine Evaluation', color = 'blue')\n",
    "plt.show()\n",
    "\n",
    "y = gamedata['Mobility']\n",
    "z = gamedata['CP']\n",
    "plt.figure(figsize=(20,4))\n",
    "plt.bar (x,y,color = 'green')\n",
    "plt.ylabel ('Squares', color = 'green')\n",
    "plt.xlabel ('Ply')\n",
    "plt.xticks (x[::frequency])\n",
    "plt.title('Mobility Imbalance')\n",
    "plt.grid()\n",
    "plt.axhline(0, color='black')\n",
    "plt.twinx()\n",
    "plt.plot (x,z, color = 'blue')\n",
    "plt.ylabel('Engine Evaluation', color = 'blue')\n",
    "plt.show()\n",
    "\n",
    "y = gamedata['Control']\n",
    "z = gamedata['CP']\n",
    "plt.figure(figsize=(20,4))\n",
    "plt.bar (x,y,color = 'green')\n",
    "plt.ylabel ('Squares', color = 'green')\n",
    "plt.xlabel ('Ply')\n",
    "plt.xticks (x[::frequency])\n",
    "plt.title('Control(Space) Imbalance')\n",
    "plt.grid()\n",
    "plt.axhline(0, color='black')\n",
    "plt.twinx()\n",
    "plt.plot (x,z, color = 'blue')\n",
    "plt.ylabel('Engine Evaluation', color = 'blue')\n",
    "plt.show()\n",
    "\n",
    "y = gamedata['Tension']\n",
    "z = gamedata['CP']\n",
    "plt.figure(figsize=(20,4))\n",
    "plt.bar (x,y,color = 'green')\n",
    "plt.ylabel ('Attacking Pieces', color = 'green')\n",
    "plt.xlabel ('Ply')\n",
    "plt.xticks (x[::frequency])\n",
    "plt.title('Tension Imbalance')\n",
    "plt.grid()\n",
    "plt.axhline(0, color='black')\n",
    "plt.twinx()\n",
    "plt.plot (x,z, color = 'blue')\n",
    "plt.ylabel('Engine Evaluation', color = 'blue')\n",
    "plt.show()\n",
    "\n",
    "y = gamedata['Safety']\n",
    "z = gamedata['CP']\n",
    "plt.figure(figsize=(20,4))\n",
    "plt.bar (x,y,color = 'green')\n",
    "plt.ylabel ('Weighted Tropism', color = 'green')\n",
    "plt.xlabel ('Ply')\n",
    "plt.xticks (x[::frequency])\n",
    "plt.title('Safety Imbalance')\n",
    "plt.grid()\n",
    "plt.axhline(0, color='black')\n",
    "plt.twinx()\n",
    "plt.plot (x,z, color = 'blue')\n",
    "plt.ylabel('Engine Evaluation', color = 'blue')\n",
    "plt.show()"
   ]
  },
  {
   "cell_type": "code",
   "execution_count": null,
   "metadata": {
    "pycharm": {
     "is_executing": false
    }
   },
   "outputs": [],
   "source": [
    "# Now generate boxplots to show dominance over entire game\n",
    "\n",
    "fig,((matbox,devbox),(mobbox,conbox),(tenbox,safbox)) = plt.subplots(nrows=3, ncols=2, figsize =(15,15))\n",
    "matbox.boxplot(gamedata['Material'], patch_artist=True)\n",
    "matbox.set_title('Material')\n",
    "matbox.axhline(0, color='black')\n",
    "devbox.boxplot(gamedata['Development'], patch_artist=True)\n",
    "devbox.set_title('Development')\n",
    "devbox.axhline(0, color='black')\n",
    "mobbox.boxplot(gamedata['Mobility'], patch_artist=True)\n",
    "mobbox.set_title('Mobility')\n",
    "mobbox.axhline(0, color='black')\n",
    "conbox.boxplot(gamedata['Control'], patch_artist=True)\n",
    "conbox.set_title('Control')\n",
    "conbox.axhline(0, color='black')\n",
    "tenbox.boxplot(gamedata['Tension'], patch_artist=True)\n",
    "tenbox.set_title('Tension')\n",
    "tenbox.axhline(0, color='black')\n",
    "safbox.boxplot(gamedata['Safety'], patch_artist=True)\n",
    "safbox.set_title('Safety')\n",
    "safbox.axhline(0, color='black')\n",
    "plt.tight_layout()\n",
    "plt.show()"
   ]
  },
  {
   "cell_type": "code",
   "execution_count": null,
   "metadata": {
    "pycharm": {
     "is_executing": false
    }
   },
   "outputs": [],
   "source": [
    "# Identify innacuracies, mistakes, and blunders and store in a new dataframe\n",
    "\n",
    "errors = pd.DataFrame (columns =['Ply', 'Side' ,'Move', 'CP', 'CP Delta', 'Type', 'Suggested', 'Depth'])\n",
    "\n",
    "for index,row in gamedata.iterrows():\n",
    "    if row['Side'] == \"B\":\n",
    "        if row['CP Delta'] > blunder:\n",
    "            type = 'Blunder'\n",
    "        elif row['CP Delta'] > mistake:\n",
    "            type = 'Mistake'\n",
    "        elif row['CP Delta'] > inaccuracy:\n",
    "            type = 'Inaccuracy'\n",
    "        if row['CP Delta'] > inaccuracy:\n",
    "            movedata = pd.DataFrame([(row['Ply'], row['Side'], row['Move'], row['CP'], row['CP Delta'],\\\n",
    "                                      type, row['Suggested'], row['Depth'])], columns =['Ply', 'Side', \\\n",
    "                                      'Move', 'CP','CP Delta', 'Type','Suggested','Depth'])\n",
    "\n",
    "            errors = errors.append(movedata, ignore_index=True)\n",
    "            \n",
    "    if row['Side'] == \"W\":\n",
    "        if row['CP Delta'] < -blunder:\n",
    "            type = 'Blunder'\n",
    "        elif row['CP Delta'] < -mistake:\n",
    "            type = 'Mistake'\n",
    "        elif row['CP Delta'] < -inaccuracy:\n",
    "            type = 'Inaccuracy'\n",
    "        if row['CP Delta'] < -inaccuracy:\n",
    "            movedata = pd.DataFrame([(row['Ply'], row['Side'], row['Move'], row['CP'], row['CP Delta'],\\\n",
    "                                      type, row['Suggested'], row['Depth'])], columns =['Ply', 'Side', \\\n",
    "                                      'Move', 'CP','CP Delta', 'Type','Suggested', 'Depth'])\n",
    "\n",
    "            errors = errors.append(movedata, ignore_index=True)                     \n",
    "\n",
    "            \n",
    "#summary of inaccuracies, mistakes and blunders in errors dataframe\n",
    "pd.options.display.max_rows=1000\n",
    "errors"
   ]
  }
 ],
 "metadata": {
  "kernelspec": {
   "display_name": "Python 3",
   "language": "python",
   "name": "python3"
  },
  "language_info": {
   "codemirror_mode": {
    "name": "ipython",
    "version": 3
   },
   "file_extension": ".py",
   "mimetype": "text/x-python",
   "name": "python",
   "nbconvert_exporter": "python",
   "pygments_lexer": "ipython3",
   "version": "3.7.4"
  },
  "pycharm": {
   "stem_cell": {
    "cell_type": "raw",
    "metadata": {
     "collapsed": false
    },
    "source": []
   }
  }
 },
 "nbformat": 4,
 "nbformat_minor": 4
}
