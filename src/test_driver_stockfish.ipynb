{
 "cells": [
  {
   "cell_type": "markdown",
   "metadata": {},
   "source": [
    "# AI Chess Agent Project"
   ]
  },
  {
   "cell_type": "code",
   "execution_count": 1,
   "metadata": {
    "pycharm": {
     "is_executing": false,
     "name": "#%%\n"
    }
   },
   "outputs": [],
   "source": [
    "import time\n",
    "import chess\n",
    "from IPython.display import display, HTML, clear_output\n",
    "import numpy as np\n",
    "import pandas as pd\n",
    "import timeit\n",
    "import random\n",
    "import chess.engine"
   ]
  },
  {
   "cell_type": "code",
   "execution_count": 2,
   "metadata": {
    "pycharm": {
     "is_executing": false,
     "name": "#%%\n"
    }
   },
   "outputs": [],
   "source": [
    "# import our game utilities, agents, and evaluation functions\n",
    "import ai_chess as ai"
   ]
  },
  {
   "cell_type": "code",
   "execution_count": 3,
   "metadata": {
    "pycharm": {
     "is_executing": false,
     "name": "#%%\n"
    }
   },
   "outputs": [],
   "source": [
    "# game rounds per match-up\n",
    "NUM_ITERATIONS = 1\n",
    "# result stats per game for pandas dataframee\n",
    "COLUMNS = ['round_num','iterations', 'depth', 'white agent','black agent','white_victory','winner','moves_played','remain_w_pieces','remaining_b_pieces', 'remaining_tot_pieces']\n",
    "# turn off svg animation to improve performance\n",
    "GRAPHICS = None\n",
    "# stockfish engine executable path\n",
    "STOCKFISH_PATH = \"./stockfish_engine/test/stockfish\""
   ]
  },
  {
   "cell_type": "markdown",
   "metadata": {},
   "source": [
    "### Results Scoreboard"
   ]
  },
  {
   "cell_type": "code",
   "execution_count": 4,
   "metadata": {
    "pycharm": {
     "is_executing": false,
     "name": "#%%\n"
    }
   },
   "outputs": [],
   "source": [
    "scoreboard = pd.DataFrame(columns=COLUMNS)"
   ]
  },
  {
   "cell_type": "markdown",
   "metadata": {},
   "source": [
    "## Random Agent vs Stockfish"
   ]
  },
  {
   "cell_type": "code",
   "execution_count": 5,
   "metadata": {
    "pycharm": {
     "is_executing": false,
     "name": "#%%\n"
    }
   },
   "outputs": [
    {
     "name": "stdout",
     "output_type": "stream",
     "text": [
      "started round: 0\n",
      "created stockfish: <SimpleEngine (pid=5531)>\n",
      "inside play_game_engine\n",
      "hi\n"
     ]
    }
   ],
   "source": [
    "game = ai.Game()\n",
    "white = ai.RandomAgent()\n",
    "black = STOCKFISH_PATH\n",
    "\n",
    "results = game.run_engine(white, black, NUM_ITERATIONS, visual=None)"
   ]
  },
  {
   "cell_type": "code",
   "execution_count": 6,
   "metadata": {
    "pycharm": {
     "is_executing": false,
     "name": "#%%\n"
    }
   },
   "outputs": [],
   "source": [
    "df = pd.DataFrame(data=results,columns=COLUMNS)"
   ]
  },
  {
   "cell_type": "code",
   "execution_count": 7,
   "metadata": {
    "pycharm": {
     "is_executing": false,
     "name": "#%%\n"
    }
   },
   "outputs": [],
   "source": [
    "#update the scoreboard\n",
    "scoreboard = scoreboard.append(df, ignore_index=True)"
   ]
  },
  {
   "cell_type": "markdown",
   "metadata": {},
   "source": [
    "### Overall Scoreboard by moves played ascending"
   ]
  },
  {
   "cell_type": "code",
   "execution_count": 8,
   "metadata": {
    "pycharm": {
     "is_executing": false,
     "name": "#%%\n"
    }
   },
   "outputs": [
    {
     "data": {
      "text/html": [
       "<div>\n",
       "<style scoped>\n",
       "    .dataframe tbody tr th:only-of-type {\n",
       "        vertical-align: middle;\n",
       "    }\n",
       "\n",
       "    .dataframe tbody tr th {\n",
       "        vertical-align: top;\n",
       "    }\n",
       "\n",
       "    .dataframe thead th {\n",
       "        text-align: right;\n",
       "    }\n",
       "</style>\n",
       "<table border=\"1\" class=\"dataframe\">\n",
       "  <thead>\n",
       "    <tr style=\"text-align: right;\">\n",
       "      <th></th>\n",
       "      <th>round_num</th>\n",
       "      <th>iterations</th>\n",
       "      <th>depth</th>\n",
       "      <th>white agent</th>\n",
       "      <th>black agent</th>\n",
       "      <th>white_victory</th>\n",
       "      <th>winner</th>\n",
       "      <th>moves_played</th>\n",
       "      <th>remain_w_pieces</th>\n",
       "      <th>remaining_b_pieces</th>\n",
       "      <th>remaining_tot_pieces</th>\n",
       "    </tr>\n",
       "  </thead>\n",
       "  <tbody>\n",
       "    <tr>\n",
       "      <th>0</th>\n",
       "      <td>1</td>\n",
       "      <td>1</td>\n",
       "      <td>None</td>\n",
       "      <td>random_agent</td>\n",
       "      <td>stockfish</td>\n",
       "      <td>False</td>\n",
       "      <td>checkmate: Black wins!</td>\n",
       "      <td>18</td>\n",
       "      <td>14</td>\n",
       "      <td>16</td>\n",
       "      <td>30</td>\n",
       "    </tr>\n",
       "  </tbody>\n",
       "</table>\n",
       "</div>"
      ],
      "text/plain": [
       "  round_num iterations depth   white agent black agent white_victory  \\\n",
       "0         1          1  None  random_agent   stockfish         False   \n",
       "\n",
       "                   winner moves_played remain_w_pieces remaining_b_pieces  \\\n",
       "0  checkmate: Black wins!           18              14                 16   \n",
       "\n",
       "  remaining_tot_pieces  \n",
       "0                   30  "
      ]
     },
     "execution_count": 8,
     "metadata": {},
     "output_type": "execute_result"
    }
   ],
   "source": [
    "scoreboard.sort_values(by=['moves_played'], inplace=False, ascending=True)"
   ]
  },
  {
   "cell_type": "markdown",
   "metadata": {},
   "source": [
    "## Improved Random Agent vs Stockfish"
   ]
  },
  {
   "cell_type": "code",
   "execution_count": 9,
   "metadata": {
    "pycharm": {
     "is_executing": false,
     "name": "#%%\n"
    }
   },
   "outputs": [
    {
     "name": "stdout",
     "output_type": "stream",
     "text": [
      "started round: 0\n",
      "created stockfish: <SimpleEngine (pid=5537)>\n",
      "inside play_game_engine\n",
      "hi\n"
     ]
    }
   ],
   "source": [
    "game = ai.Game()\n",
    "white = ai.RandomAgent(\"improved\")\n",
    "black = STOCKFISH_PATH\n",
    "\n",
    "results = game.run_engine(white, black, NUM_ITERATIONS, visual=None)"
   ]
  },
  {
   "cell_type": "code",
   "execution_count": 10,
   "metadata": {
    "pycharm": {
     "is_executing": false,
     "name": "#%%\n"
    }
   },
   "outputs": [],
   "source": [
    "df = pd.DataFrame(data=results,columns=COLUMNS)"
   ]
  },
  {
   "cell_type": "code",
   "execution_count": 11,
   "metadata": {
    "pycharm": {
     "is_executing": false,
     "name": "#%%\n"
    }
   },
   "outputs": [],
   "source": [
    "#update the scoreboard\n",
    "scoreboard = scoreboard.append(df, ignore_index=True)"
   ]
  },
  {
   "cell_type": "markdown",
   "metadata": {},
   "source": [
    "### Overall Scoreboard by moves played ascending"
   ]
  },
  {
   "cell_type": "code",
   "execution_count": 12,
   "metadata": {
    "pycharm": {
     "is_executing": false,
     "name": "#%%\n"
    }
   },
   "outputs": [
    {
     "data": {
      "text/html": [
       "<div>\n",
       "<style scoped>\n",
       "    .dataframe tbody tr th:only-of-type {\n",
       "        vertical-align: middle;\n",
       "    }\n",
       "\n",
       "    .dataframe tbody tr th {\n",
       "        vertical-align: top;\n",
       "    }\n",
       "\n",
       "    .dataframe thead th {\n",
       "        text-align: right;\n",
       "    }\n",
       "</style>\n",
       "<table border=\"1\" class=\"dataframe\">\n",
       "  <thead>\n",
       "    <tr style=\"text-align: right;\">\n",
       "      <th></th>\n",
       "      <th>round_num</th>\n",
       "      <th>iterations</th>\n",
       "      <th>depth</th>\n",
       "      <th>white agent</th>\n",
       "      <th>black agent</th>\n",
       "      <th>white_victory</th>\n",
       "      <th>winner</th>\n",
       "      <th>moves_played</th>\n",
       "      <th>remain_w_pieces</th>\n",
       "      <th>remaining_b_pieces</th>\n",
       "      <th>remaining_tot_pieces</th>\n",
       "    </tr>\n",
       "  </thead>\n",
       "  <tbody>\n",
       "    <tr>\n",
       "      <th>0</th>\n",
       "      <td>1</td>\n",
       "      <td>1</td>\n",
       "      <td>None</td>\n",
       "      <td>random_agent</td>\n",
       "      <td>stockfish</td>\n",
       "      <td>False</td>\n",
       "      <td>checkmate: Black wins!</td>\n",
       "      <td>18</td>\n",
       "      <td>14</td>\n",
       "      <td>16</td>\n",
       "      <td>30</td>\n",
       "    </tr>\n",
       "    <tr>\n",
       "      <th>1</th>\n",
       "      <td>1</td>\n",
       "      <td>1</td>\n",
       "      <td>None</td>\n",
       "      <td>improved_random_agent</td>\n",
       "      <td>stockfish</td>\n",
       "      <td>False</td>\n",
       "      <td>checkmate: Black wins!</td>\n",
       "      <td>22</td>\n",
       "      <td>13</td>\n",
       "      <td>13</td>\n",
       "      <td>26</td>\n",
       "    </tr>\n",
       "  </tbody>\n",
       "</table>\n",
       "</div>"
      ],
      "text/plain": [
       "  round_num iterations depth            white agent black agent white_victory  \\\n",
       "0         1          1  None           random_agent   stockfish         False   \n",
       "1         1          1  None  improved_random_agent   stockfish         False   \n",
       "\n",
       "                   winner moves_played remain_w_pieces remaining_b_pieces  \\\n",
       "0  checkmate: Black wins!           18              14                 16   \n",
       "1  checkmate: Black wins!           22              13                 13   \n",
       "\n",
       "  remaining_tot_pieces  \n",
       "0                   30  \n",
       "1                   26  "
      ]
     },
     "execution_count": 12,
     "metadata": {},
     "output_type": "execute_result"
    }
   ],
   "source": [
    "scoreboard.sort_values(by=['moves_played'], inplace=False, ascending=True)"
   ]
  },
  {
   "cell_type": "markdown",
   "metadata": {},
   "source": [
    "## Naive Agent vs Stockfish"
   ]
  },
  {
   "cell_type": "code",
   "execution_count": 13,
   "metadata": {
    "pycharm": {
     "is_executing": false,
     "name": "#%%\n"
    }
   },
   "outputs": [
    {
     "name": "stdout",
     "output_type": "stream",
     "text": [
      "started round: 0\n",
      "created stockfish: <SimpleEngine (pid=5543)>\n",
      "inside play_game_engine\n",
      "hi\n"
     ]
    }
   ],
   "source": [
    "game = ai.Game()\n",
    "white = ai.BaseAgent(heuristic=\"naive\")\n",
    "black = STOCKFISH_PATH\n",
    "\n",
    "results = game.run_engine(white, black, NUM_ITERATIONS, visual=None)"
   ]
  },
  {
   "cell_type": "code",
   "execution_count": 14,
   "metadata": {
    "pycharm": {
     "is_executing": false,
     "name": "#%%\n"
    }
   },
   "outputs": [],
   "source": [
    "df = pd.DataFrame(data=results,columns=COLUMNS)"
   ]
  },
  {
   "cell_type": "code",
   "execution_count": 15,
   "metadata": {
    "pycharm": {
     "is_executing": false,
     "name": "#%%\n"
    }
   },
   "outputs": [],
   "source": [
    "#update the scoreboard\n",
    "scoreboard = scoreboard.append(df, ignore_index=True)"
   ]
  },
  {
   "cell_type": "markdown",
   "metadata": {},
   "source": [
    "### Overall Scoreboard by moves played ascending"
   ]
  },
  {
   "cell_type": "code",
   "execution_count": 16,
   "metadata": {
    "pycharm": {
     "is_executing": false,
     "name": "#%%\n"
    }
   },
   "outputs": [
    {
     "data": {
      "text/html": [
       "<div>\n",
       "<style scoped>\n",
       "    .dataframe tbody tr th:only-of-type {\n",
       "        vertical-align: middle;\n",
       "    }\n",
       "\n",
       "    .dataframe tbody tr th {\n",
       "        vertical-align: top;\n",
       "    }\n",
       "\n",
       "    .dataframe thead th {\n",
       "        text-align: right;\n",
       "    }\n",
       "</style>\n",
       "<table border=\"1\" class=\"dataframe\">\n",
       "  <thead>\n",
       "    <tr style=\"text-align: right;\">\n",
       "      <th></th>\n",
       "      <th>round_num</th>\n",
       "      <th>iterations</th>\n",
       "      <th>depth</th>\n",
       "      <th>white agent</th>\n",
       "      <th>black agent</th>\n",
       "      <th>white_victory</th>\n",
       "      <th>winner</th>\n",
       "      <th>moves_played</th>\n",
       "      <th>remain_w_pieces</th>\n",
       "      <th>remaining_b_pieces</th>\n",
       "      <th>remaining_tot_pieces</th>\n",
       "    </tr>\n",
       "  </thead>\n",
       "  <tbody>\n",
       "    <tr>\n",
       "      <th>0</th>\n",
       "      <td>1</td>\n",
       "      <td>1</td>\n",
       "      <td>None</td>\n",
       "      <td>random_agent</td>\n",
       "      <td>stockfish</td>\n",
       "      <td>False</td>\n",
       "      <td>checkmate: Black wins!</td>\n",
       "      <td>18</td>\n",
       "      <td>14</td>\n",
       "      <td>16</td>\n",
       "      <td>30</td>\n",
       "    </tr>\n",
       "    <tr>\n",
       "      <th>1</th>\n",
       "      <td>1</td>\n",
       "      <td>1</td>\n",
       "      <td>None</td>\n",
       "      <td>improved_random_agent</td>\n",
       "      <td>stockfish</td>\n",
       "      <td>False</td>\n",
       "      <td>checkmate: Black wins!</td>\n",
       "      <td>22</td>\n",
       "      <td>13</td>\n",
       "      <td>13</td>\n",
       "      <td>26</td>\n",
       "    </tr>\n",
       "    <tr>\n",
       "      <th>2</th>\n",
       "      <td>1</td>\n",
       "      <td>1</td>\n",
       "      <td>None</td>\n",
       "      <td>naive_agent</td>\n",
       "      <td>stockfish</td>\n",
       "      <td>False</td>\n",
       "      <td>checkmate: Black wins!</td>\n",
       "      <td>22</td>\n",
       "      <td>12</td>\n",
       "      <td>15</td>\n",
       "      <td>27</td>\n",
       "    </tr>\n",
       "  </tbody>\n",
       "</table>\n",
       "</div>"
      ],
      "text/plain": [
       "  round_num iterations depth            white agent black agent white_victory  \\\n",
       "0         1          1  None           random_agent   stockfish         False   \n",
       "1         1          1  None  improved_random_agent   stockfish         False   \n",
       "2         1          1  None            naive_agent   stockfish         False   \n",
       "\n",
       "                   winner moves_played remain_w_pieces remaining_b_pieces  \\\n",
       "0  checkmate: Black wins!           18              14                 16   \n",
       "1  checkmate: Black wins!           22              13                 13   \n",
       "2  checkmate: Black wins!           22              12                 15   \n",
       "\n",
       "  remaining_tot_pieces  \n",
       "0                   30  \n",
       "1                   26  \n",
       "2                   27  "
      ]
     },
     "execution_count": 16,
     "metadata": {},
     "output_type": "execute_result"
    }
   ],
   "source": [
    "scoreboard.sort_values(by=['moves_played'], inplace=False, ascending=True)"
   ]
  },
  {
   "cell_type": "markdown",
   "metadata": {},
   "source": [
    "## Improved Naive Agent vs Stockfish"
   ]
  },
  {
   "cell_type": "code",
   "execution_count": 17,
   "metadata": {
    "pycharm": {
     "is_executing": false,
     "name": "#%%\n"
    }
   },
   "outputs": [
    {
     "name": "stdout",
     "output_type": "stream",
     "text": [
      "started round: 0\n",
      "created stockfish: <SimpleEngine (pid=5549)>\n",
      "inside play_game_engine\n",
      "hi\n"
     ]
    }
   ],
   "source": [
    "game = ai.Game()\n",
    "white = ai.BaseAgent(heuristic=\"improved\")\n",
    "black = STOCKFISH_PATH\n",
    "\n",
    "results = game.run_engine(white, black, NUM_ITERATIONS, visual=None)"
   ]
  },
  {
   "cell_type": "code",
   "execution_count": 18,
   "metadata": {
    "pycharm": {
     "is_executing": false,
     "name": "#%%\n"
    }
   },
   "outputs": [],
   "source": [
    "df = pd.DataFrame(data=results,columns=COLUMNS)"
   ]
  },
  {
   "cell_type": "code",
   "execution_count": 19,
   "metadata": {
    "pycharm": {
     "is_executing": false,
     "name": "#%%\n"
    }
   },
   "outputs": [],
   "source": [
    "#update the scoreboard\n",
    "scoreboard = scoreboard.append(df, ignore_index=True)"
   ]
  },
  {
   "cell_type": "markdown",
   "metadata": {},
   "source": [
    "### Overall Scoreboard by moves played ascending"
   ]
  },
  {
   "cell_type": "code",
   "execution_count": 20,
   "metadata": {
    "pycharm": {
     "is_executing": false,
     "name": "#%%\n"
    }
   },
   "outputs": [
    {
     "data": {
      "text/html": [
       "<div>\n",
       "<style scoped>\n",
       "    .dataframe tbody tr th:only-of-type {\n",
       "        vertical-align: middle;\n",
       "    }\n",
       "\n",
       "    .dataframe tbody tr th {\n",
       "        vertical-align: top;\n",
       "    }\n",
       "\n",
       "    .dataframe thead th {\n",
       "        text-align: right;\n",
       "    }\n",
       "</style>\n",
       "<table border=\"1\" class=\"dataframe\">\n",
       "  <thead>\n",
       "    <tr style=\"text-align: right;\">\n",
       "      <th></th>\n",
       "      <th>round_num</th>\n",
       "      <th>iterations</th>\n",
       "      <th>depth</th>\n",
       "      <th>white agent</th>\n",
       "      <th>black agent</th>\n",
       "      <th>white_victory</th>\n",
       "      <th>winner</th>\n",
       "      <th>moves_played</th>\n",
       "      <th>remain_w_pieces</th>\n",
       "      <th>remaining_b_pieces</th>\n",
       "      <th>remaining_tot_pieces</th>\n",
       "    </tr>\n",
       "  </thead>\n",
       "  <tbody>\n",
       "    <tr>\n",
       "      <th>0</th>\n",
       "      <td>1</td>\n",
       "      <td>1</td>\n",
       "      <td>None</td>\n",
       "      <td>random_agent</td>\n",
       "      <td>stockfish</td>\n",
       "      <td>False</td>\n",
       "      <td>checkmate: Black wins!</td>\n",
       "      <td>18</td>\n",
       "      <td>14</td>\n",
       "      <td>16</td>\n",
       "      <td>30</td>\n",
       "    </tr>\n",
       "    <tr>\n",
       "      <th>1</th>\n",
       "      <td>1</td>\n",
       "      <td>1</td>\n",
       "      <td>None</td>\n",
       "      <td>improved_random_agent</td>\n",
       "      <td>stockfish</td>\n",
       "      <td>False</td>\n",
       "      <td>checkmate: Black wins!</td>\n",
       "      <td>22</td>\n",
       "      <td>13</td>\n",
       "      <td>13</td>\n",
       "      <td>26</td>\n",
       "    </tr>\n",
       "    <tr>\n",
       "      <th>2</th>\n",
       "      <td>1</td>\n",
       "      <td>1</td>\n",
       "      <td>None</td>\n",
       "      <td>naive_agent</td>\n",
       "      <td>stockfish</td>\n",
       "      <td>False</td>\n",
       "      <td>checkmate: Black wins!</td>\n",
       "      <td>22</td>\n",
       "      <td>12</td>\n",
       "      <td>15</td>\n",
       "      <td>27</td>\n",
       "    </tr>\n",
       "    <tr>\n",
       "      <th>3</th>\n",
       "      <td>1</td>\n",
       "      <td>1</td>\n",
       "      <td>None</td>\n",
       "      <td>improved_agent</td>\n",
       "      <td>stockfish</td>\n",
       "      <td>False</td>\n",
       "      <td>checkmate: Black wins!</td>\n",
       "      <td>24</td>\n",
       "      <td>10</td>\n",
       "      <td>14</td>\n",
       "      <td>24</td>\n",
       "    </tr>\n",
       "  </tbody>\n",
       "</table>\n",
       "</div>"
      ],
      "text/plain": [
       "  round_num iterations depth            white agent black agent white_victory  \\\n",
       "0         1          1  None           random_agent   stockfish         False   \n",
       "1         1          1  None  improved_random_agent   stockfish         False   \n",
       "2         1          1  None            naive_agent   stockfish         False   \n",
       "3         1          1  None         improved_agent   stockfish         False   \n",
       "\n",
       "                   winner moves_played remain_w_pieces remaining_b_pieces  \\\n",
       "0  checkmate: Black wins!           18              14                 16   \n",
       "1  checkmate: Black wins!           22              13                 13   \n",
       "2  checkmate: Black wins!           22              12                 15   \n",
       "3  checkmate: Black wins!           24              10                 14   \n",
       "\n",
       "  remaining_tot_pieces  \n",
       "0                   30  \n",
       "1                   26  \n",
       "2                   27  \n",
       "3                   24  "
      ]
     },
     "execution_count": 20,
     "metadata": {},
     "output_type": "execute_result"
    }
   ],
   "source": [
    "scoreboard.sort_values(by=['moves_played'], inplace=False, ascending=True)\n"
   ]
  },
  {
   "cell_type": "markdown",
   "metadata": {},
   "source": [
    "## Advanced Naive Agent vs Stockfish"
   ]
  },
  {
   "cell_type": "code",
   "execution_count": 21,
   "metadata": {
    "pycharm": {
     "is_executing": false,
     "name": "#%%\n"
    }
   },
   "outputs": [
    {
     "name": "stdout",
     "output_type": "stream",
     "text": [
      "started round: 0\n",
      "created stockfish: <SimpleEngine (pid=5555)>\n",
      "inside play_game_engine\n",
      "hi\n"
     ]
    }
   ],
   "source": [
    "game = ai.Game()\n",
    "white = ai.BaseAgent(heuristic=\"advanced\")\n",
    "black = STOCKFISH_PATH\n",
    "\n",
    "results = game.run_engine(white, black, NUM_ITERATIONS, visual=None)"
   ]
  },
  {
   "cell_type": "code",
   "execution_count": 22,
   "metadata": {
    "pycharm": {
     "is_executing": false,
     "name": "#%%\n"
    }
   },
   "outputs": [],
   "source": [
    "df = pd.DataFrame(data=results,columns=COLUMNS)"
   ]
  },
  {
   "cell_type": "code",
   "execution_count": 23,
   "metadata": {
    "pycharm": {
     "is_executing": false,
     "name": "#%%\n"
    }
   },
   "outputs": [],
   "source": [
    "#update the scoreboard\n",
    "scoreboard = scoreboard.append(df, ignore_index=True)"
   ]
  },
  {
   "cell_type": "markdown",
   "metadata": {},
   "source": [
    "### Overall Scoreboard by moves played ascending"
   ]
  },
  {
   "cell_type": "code",
   "execution_count": 24,
   "metadata": {
    "pycharm": {
     "is_executing": false,
     "name": "#%%\n"
    }
   },
   "outputs": [
    {
     "data": {
      "text/html": [
       "<div>\n",
       "<style scoped>\n",
       "    .dataframe tbody tr th:only-of-type {\n",
       "        vertical-align: middle;\n",
       "    }\n",
       "\n",
       "    .dataframe tbody tr th {\n",
       "        vertical-align: top;\n",
       "    }\n",
       "\n",
       "    .dataframe thead th {\n",
       "        text-align: right;\n",
       "    }\n",
       "</style>\n",
       "<table border=\"1\" class=\"dataframe\">\n",
       "  <thead>\n",
       "    <tr style=\"text-align: right;\">\n",
       "      <th></th>\n",
       "      <th>round_num</th>\n",
       "      <th>iterations</th>\n",
       "      <th>depth</th>\n",
       "      <th>white agent</th>\n",
       "      <th>black agent</th>\n",
       "      <th>white_victory</th>\n",
       "      <th>winner</th>\n",
       "      <th>moves_played</th>\n",
       "      <th>remain_w_pieces</th>\n",
       "      <th>remaining_b_pieces</th>\n",
       "      <th>remaining_tot_pieces</th>\n",
       "    </tr>\n",
       "  </thead>\n",
       "  <tbody>\n",
       "    <tr>\n",
       "      <th>0</th>\n",
       "      <td>1</td>\n",
       "      <td>1</td>\n",
       "      <td>None</td>\n",
       "      <td>random_agent</td>\n",
       "      <td>stockfish</td>\n",
       "      <td>False</td>\n",
       "      <td>checkmate: Black wins!</td>\n",
       "      <td>18</td>\n",
       "      <td>14</td>\n",
       "      <td>16</td>\n",
       "      <td>30</td>\n",
       "    </tr>\n",
       "    <tr>\n",
       "      <th>1</th>\n",
       "      <td>1</td>\n",
       "      <td>1</td>\n",
       "      <td>None</td>\n",
       "      <td>improved_random_agent</td>\n",
       "      <td>stockfish</td>\n",
       "      <td>False</td>\n",
       "      <td>checkmate: Black wins!</td>\n",
       "      <td>22</td>\n",
       "      <td>13</td>\n",
       "      <td>13</td>\n",
       "      <td>26</td>\n",
       "    </tr>\n",
       "    <tr>\n",
       "      <th>2</th>\n",
       "      <td>1</td>\n",
       "      <td>1</td>\n",
       "      <td>None</td>\n",
       "      <td>naive_agent</td>\n",
       "      <td>stockfish</td>\n",
       "      <td>False</td>\n",
       "      <td>checkmate: Black wins!</td>\n",
       "      <td>22</td>\n",
       "      <td>12</td>\n",
       "      <td>15</td>\n",
       "      <td>27</td>\n",
       "    </tr>\n",
       "    <tr>\n",
       "      <th>3</th>\n",
       "      <td>1</td>\n",
       "      <td>1</td>\n",
       "      <td>None</td>\n",
       "      <td>improved_agent</td>\n",
       "      <td>stockfish</td>\n",
       "      <td>False</td>\n",
       "      <td>checkmate: Black wins!</td>\n",
       "      <td>24</td>\n",
       "      <td>10</td>\n",
       "      <td>14</td>\n",
       "      <td>24</td>\n",
       "    </tr>\n",
       "    <tr>\n",
       "      <th>4</th>\n",
       "      <td>1</td>\n",
       "      <td>1</td>\n",
       "      <td>None</td>\n",
       "      <td>advanced_agent</td>\n",
       "      <td>stockfish</td>\n",
       "      <td>False</td>\n",
       "      <td>checkmate: Black wins!</td>\n",
       "      <td>24</td>\n",
       "      <td>10</td>\n",
       "      <td>13</td>\n",
       "      <td>23</td>\n",
       "    </tr>\n",
       "  </tbody>\n",
       "</table>\n",
       "</div>"
      ],
      "text/plain": [
       "  round_num iterations depth            white agent black agent white_victory  \\\n",
       "0         1          1  None           random_agent   stockfish         False   \n",
       "1         1          1  None  improved_random_agent   stockfish         False   \n",
       "2         1          1  None            naive_agent   stockfish         False   \n",
       "3         1          1  None         improved_agent   stockfish         False   \n",
       "4         1          1  None         advanced_agent   stockfish         False   \n",
       "\n",
       "                   winner moves_played remain_w_pieces remaining_b_pieces  \\\n",
       "0  checkmate: Black wins!           18              14                 16   \n",
       "1  checkmate: Black wins!           22              13                 13   \n",
       "2  checkmate: Black wins!           22              12                 15   \n",
       "3  checkmate: Black wins!           24              10                 14   \n",
       "4  checkmate: Black wins!           24              10                 13   \n",
       "\n",
       "  remaining_tot_pieces  \n",
       "0                   30  \n",
       "1                   26  \n",
       "2                   27  \n",
       "3                   24  \n",
       "4                   23  "
      ]
     },
     "execution_count": 24,
     "metadata": {},
     "output_type": "execute_result"
    }
   ],
   "source": [
    "scoreboard.sort_values(by=['moves_played'], inplace=False, ascending=True)"
   ]
  },
  {
   "cell_type": "markdown",
   "metadata": {},
   "source": [
    "## Naive Mini-Max Agent (Depth 1) vs Stockfish"
   ]
  },
  {
   "cell_type": "code",
   "execution_count": 25,
   "metadata": {
    "pycharm": {
     "is_executing": false,
     "name": "#%%\n"
    }
   },
   "outputs": [
    {
     "name": "stdout",
     "output_type": "stream",
     "text": [
      "started round: 0\n",
      "created stockfish: <SimpleEngine (pid=5561)>\n",
      "inside play_game_engine\n",
      "hi\n"
     ]
    }
   ],
   "source": [
    "game = ai.Game()\n",
    "white = ai.MiniMaxAgent(max_depth=1, heuristic=\"naive\", type=\"minimax\")\n",
    "black = STOCKFISH_PATH\n",
    "\n",
    "results = game.run_engine(white, black, NUM_ITERATIONS, visual=None)"
   ]
  },
  {
   "cell_type": "code",
   "execution_count": 26,
   "metadata": {
    "pycharm": {
     "is_executing": false,
     "name": "#%%\n"
    }
   },
   "outputs": [],
   "source": [
    "df = pd.DataFrame(data=results,columns=COLUMNS)"
   ]
  },
  {
   "cell_type": "code",
   "execution_count": 27,
   "metadata": {
    "pycharm": {
     "is_executing": false,
     "name": "#%%\n"
    }
   },
   "outputs": [],
   "source": [
    "#update the scoreboard\n",
    "scoreboard = scoreboard.append(df, ignore_index=True)"
   ]
  },
  {
   "cell_type": "markdown",
   "metadata": {},
   "source": [
    "### Overall Scoreboard by moves played ascending"
   ]
  },
  {
   "cell_type": "code",
   "execution_count": 28,
   "metadata": {
    "pycharm": {
     "is_executing": false,
     "name": "#%%\n"
    }
   },
   "outputs": [
    {
     "data": {
      "text/html": [
       "<div>\n",
       "<style scoped>\n",
       "    .dataframe tbody tr th:only-of-type {\n",
       "        vertical-align: middle;\n",
       "    }\n",
       "\n",
       "    .dataframe tbody tr th {\n",
       "        vertical-align: top;\n",
       "    }\n",
       "\n",
       "    .dataframe thead th {\n",
       "        text-align: right;\n",
       "    }\n",
       "</style>\n",
       "<table border=\"1\" class=\"dataframe\">\n",
       "  <thead>\n",
       "    <tr style=\"text-align: right;\">\n",
       "      <th></th>\n",
       "      <th>round_num</th>\n",
       "      <th>iterations</th>\n",
       "      <th>depth</th>\n",
       "      <th>white agent</th>\n",
       "      <th>black agent</th>\n",
       "      <th>white_victory</th>\n",
       "      <th>winner</th>\n",
       "      <th>moves_played</th>\n",
       "      <th>remain_w_pieces</th>\n",
       "      <th>remaining_b_pieces</th>\n",
       "      <th>remaining_tot_pieces</th>\n",
       "    </tr>\n",
       "  </thead>\n",
       "  <tbody>\n",
       "    <tr>\n",
       "      <th>0</th>\n",
       "      <td>1</td>\n",
       "      <td>1</td>\n",
       "      <td>None</td>\n",
       "      <td>random_agent</td>\n",
       "      <td>stockfish</td>\n",
       "      <td>False</td>\n",
       "      <td>checkmate: Black wins!</td>\n",
       "      <td>18</td>\n",
       "      <td>14</td>\n",
       "      <td>16</td>\n",
       "      <td>30</td>\n",
       "    </tr>\n",
       "    <tr>\n",
       "      <th>1</th>\n",
       "      <td>1</td>\n",
       "      <td>1</td>\n",
       "      <td>None</td>\n",
       "      <td>improved_random_agent</td>\n",
       "      <td>stockfish</td>\n",
       "      <td>False</td>\n",
       "      <td>checkmate: Black wins!</td>\n",
       "      <td>22</td>\n",
       "      <td>13</td>\n",
       "      <td>13</td>\n",
       "      <td>26</td>\n",
       "    </tr>\n",
       "    <tr>\n",
       "      <th>2</th>\n",
       "      <td>1</td>\n",
       "      <td>1</td>\n",
       "      <td>None</td>\n",
       "      <td>naive_agent</td>\n",
       "      <td>stockfish</td>\n",
       "      <td>False</td>\n",
       "      <td>checkmate: Black wins!</td>\n",
       "      <td>22</td>\n",
       "      <td>12</td>\n",
       "      <td>15</td>\n",
       "      <td>27</td>\n",
       "    </tr>\n",
       "    <tr>\n",
       "      <th>3</th>\n",
       "      <td>1</td>\n",
       "      <td>1</td>\n",
       "      <td>None</td>\n",
       "      <td>improved_agent</td>\n",
       "      <td>stockfish</td>\n",
       "      <td>False</td>\n",
       "      <td>checkmate: Black wins!</td>\n",
       "      <td>24</td>\n",
       "      <td>10</td>\n",
       "      <td>14</td>\n",
       "      <td>24</td>\n",
       "    </tr>\n",
       "    <tr>\n",
       "      <th>4</th>\n",
       "      <td>1</td>\n",
       "      <td>1</td>\n",
       "      <td>None</td>\n",
       "      <td>advanced_agent</td>\n",
       "      <td>stockfish</td>\n",
       "      <td>False</td>\n",
       "      <td>checkmate: Black wins!</td>\n",
       "      <td>24</td>\n",
       "      <td>10</td>\n",
       "      <td>13</td>\n",
       "      <td>23</td>\n",
       "    </tr>\n",
       "    <tr>\n",
       "      <th>5</th>\n",
       "      <td>1</td>\n",
       "      <td>1</td>\n",
       "      <td>1</td>\n",
       "      <td>naive_minimax_agent</td>\n",
       "      <td>stockfish</td>\n",
       "      <td>False</td>\n",
       "      <td>checkmate: Black wins!</td>\n",
       "      <td>34</td>\n",
       "      <td>15</td>\n",
       "      <td>15</td>\n",
       "      <td>30</td>\n",
       "    </tr>\n",
       "  </tbody>\n",
       "</table>\n",
       "</div>"
      ],
      "text/plain": [
       "  round_num iterations depth            white agent black agent white_victory  \\\n",
       "0         1          1  None           random_agent   stockfish         False   \n",
       "1         1          1  None  improved_random_agent   stockfish         False   \n",
       "2         1          1  None            naive_agent   stockfish         False   \n",
       "3         1          1  None         improved_agent   stockfish         False   \n",
       "4         1          1  None         advanced_agent   stockfish         False   \n",
       "5         1          1     1    naive_minimax_agent   stockfish         False   \n",
       "\n",
       "                   winner moves_played remain_w_pieces remaining_b_pieces  \\\n",
       "0  checkmate: Black wins!           18              14                 16   \n",
       "1  checkmate: Black wins!           22              13                 13   \n",
       "2  checkmate: Black wins!           22              12                 15   \n",
       "3  checkmate: Black wins!           24              10                 14   \n",
       "4  checkmate: Black wins!           24              10                 13   \n",
       "5  checkmate: Black wins!           34              15                 15   \n",
       "\n",
       "  remaining_tot_pieces  \n",
       "0                   30  \n",
       "1                   26  \n",
       "2                   27  \n",
       "3                   24  \n",
       "4                   23  \n",
       "5                   30  "
      ]
     },
     "execution_count": 28,
     "metadata": {},
     "output_type": "execute_result"
    }
   ],
   "source": [
    "scoreboard.sort_values(by=['moves_played'], inplace=False, ascending=True)"
   ]
  },
  {
   "cell_type": "markdown",
   "metadata": {},
   "source": [
    "## Naive Mini-Max Agent (Depth 2) vs Stockfish"
   ]
  },
  {
   "cell_type": "code",
   "execution_count": 29,
   "metadata": {
    "pycharm": {
     "is_executing": false,
     "name": "#%%\n"
    }
   },
   "outputs": [
    {
     "name": "stdout",
     "output_type": "stream",
     "text": [
      "started round: 0\n",
      "created stockfish: <SimpleEngine (pid=5567)>\n",
      "inside play_game_engine\n",
      "hi\n"
     ]
    }
   ],
   "source": [
    "game = ai.Game()\n",
    "white = ai.MiniMaxAgent(max_depth=2, heuristic=\"naive\", type=\"minimax\")\n",
    "black = STOCKFISH_PATH\n",
    "\n",
    "results = game.run_engine(white, black, NUM_ITERATIONS, visual=None)"
   ]
  },
  {
   "cell_type": "code",
   "execution_count": 30,
   "metadata": {
    "pycharm": {
     "is_executing": false,
     "name": "#%%\n"
    }
   },
   "outputs": [],
   "source": [
    "df = pd.DataFrame(data=results,columns=COLUMNS)"
   ]
  },
  {
   "cell_type": "code",
   "execution_count": 31,
   "metadata": {
    "pycharm": {
     "is_executing": false,
     "name": "#%%\n"
    }
   },
   "outputs": [],
   "source": [
    "#update the scoreboard\n",
    "scoreboard = scoreboard.append(df, ignore_index=True)"
   ]
  },
  {
   "cell_type": "markdown",
   "metadata": {},
   "source": [
    "### Overall Scoreboard by moves played ascending"
   ]
  },
  {
   "cell_type": "code",
   "execution_count": 32,
   "metadata": {
    "pycharm": {
     "is_executing": false,
     "name": "#%%\n"
    }
   },
   "outputs": [
    {
     "data": {
      "text/html": [
       "<div>\n",
       "<style scoped>\n",
       "    .dataframe tbody tr th:only-of-type {\n",
       "        vertical-align: middle;\n",
       "    }\n",
       "\n",
       "    .dataframe tbody tr th {\n",
       "        vertical-align: top;\n",
       "    }\n",
       "\n",
       "    .dataframe thead th {\n",
       "        text-align: right;\n",
       "    }\n",
       "</style>\n",
       "<table border=\"1\" class=\"dataframe\">\n",
       "  <thead>\n",
       "    <tr style=\"text-align: right;\">\n",
       "      <th></th>\n",
       "      <th>round_num</th>\n",
       "      <th>iterations</th>\n",
       "      <th>depth</th>\n",
       "      <th>white agent</th>\n",
       "      <th>black agent</th>\n",
       "      <th>white_victory</th>\n",
       "      <th>winner</th>\n",
       "      <th>moves_played</th>\n",
       "      <th>remain_w_pieces</th>\n",
       "      <th>remaining_b_pieces</th>\n",
       "      <th>remaining_tot_pieces</th>\n",
       "    </tr>\n",
       "  </thead>\n",
       "  <tbody>\n",
       "    <tr>\n",
       "      <th>0</th>\n",
       "      <td>1</td>\n",
       "      <td>1</td>\n",
       "      <td>None</td>\n",
       "      <td>random_agent</td>\n",
       "      <td>stockfish</td>\n",
       "      <td>False</td>\n",
       "      <td>checkmate: Black wins!</td>\n",
       "      <td>18</td>\n",
       "      <td>14</td>\n",
       "      <td>16</td>\n",
       "      <td>30</td>\n",
       "    </tr>\n",
       "    <tr>\n",
       "      <th>1</th>\n",
       "      <td>1</td>\n",
       "      <td>1</td>\n",
       "      <td>None</td>\n",
       "      <td>improved_random_agent</td>\n",
       "      <td>stockfish</td>\n",
       "      <td>False</td>\n",
       "      <td>checkmate: Black wins!</td>\n",
       "      <td>22</td>\n",
       "      <td>13</td>\n",
       "      <td>13</td>\n",
       "      <td>26</td>\n",
       "    </tr>\n",
       "    <tr>\n",
       "      <th>2</th>\n",
       "      <td>1</td>\n",
       "      <td>1</td>\n",
       "      <td>None</td>\n",
       "      <td>naive_agent</td>\n",
       "      <td>stockfish</td>\n",
       "      <td>False</td>\n",
       "      <td>checkmate: Black wins!</td>\n",
       "      <td>22</td>\n",
       "      <td>12</td>\n",
       "      <td>15</td>\n",
       "      <td>27</td>\n",
       "    </tr>\n",
       "    <tr>\n",
       "      <th>3</th>\n",
       "      <td>1</td>\n",
       "      <td>1</td>\n",
       "      <td>None</td>\n",
       "      <td>improved_agent</td>\n",
       "      <td>stockfish</td>\n",
       "      <td>False</td>\n",
       "      <td>checkmate: Black wins!</td>\n",
       "      <td>24</td>\n",
       "      <td>10</td>\n",
       "      <td>14</td>\n",
       "      <td>24</td>\n",
       "    </tr>\n",
       "    <tr>\n",
       "      <th>4</th>\n",
       "      <td>1</td>\n",
       "      <td>1</td>\n",
       "      <td>None</td>\n",
       "      <td>advanced_agent</td>\n",
       "      <td>stockfish</td>\n",
       "      <td>False</td>\n",
       "      <td>checkmate: Black wins!</td>\n",
       "      <td>24</td>\n",
       "      <td>10</td>\n",
       "      <td>13</td>\n",
       "      <td>23</td>\n",
       "    </tr>\n",
       "    <tr>\n",
       "      <th>5</th>\n",
       "      <td>1</td>\n",
       "      <td>1</td>\n",
       "      <td>1</td>\n",
       "      <td>naive_minimax_agent</td>\n",
       "      <td>stockfish</td>\n",
       "      <td>False</td>\n",
       "      <td>checkmate: Black wins!</td>\n",
       "      <td>34</td>\n",
       "      <td>15</td>\n",
       "      <td>15</td>\n",
       "      <td>30</td>\n",
       "    </tr>\n",
       "    <tr>\n",
       "      <th>6</th>\n",
       "      <td>1</td>\n",
       "      <td>1</td>\n",
       "      <td>2</td>\n",
       "      <td>naive_minimax_agent</td>\n",
       "      <td>stockfish</td>\n",
       "      <td>False</td>\n",
       "      <td>checkmate: Black wins!</td>\n",
       "      <td>36</td>\n",
       "      <td>12</td>\n",
       "      <td>14</td>\n",
       "      <td>26</td>\n",
       "    </tr>\n",
       "  </tbody>\n",
       "</table>\n",
       "</div>"
      ],
      "text/plain": [
       "  round_num iterations depth            white agent black agent white_victory  \\\n",
       "0         1          1  None           random_agent   stockfish         False   \n",
       "1         1          1  None  improved_random_agent   stockfish         False   \n",
       "2         1          1  None            naive_agent   stockfish         False   \n",
       "3         1          1  None         improved_agent   stockfish         False   \n",
       "4         1          1  None         advanced_agent   stockfish         False   \n",
       "5         1          1     1    naive_minimax_agent   stockfish         False   \n",
       "6         1          1     2    naive_minimax_agent   stockfish         False   \n",
       "\n",
       "                   winner moves_played remain_w_pieces remaining_b_pieces  \\\n",
       "0  checkmate: Black wins!           18              14                 16   \n",
       "1  checkmate: Black wins!           22              13                 13   \n",
       "2  checkmate: Black wins!           22              12                 15   \n",
       "3  checkmate: Black wins!           24              10                 14   \n",
       "4  checkmate: Black wins!           24              10                 13   \n",
       "5  checkmate: Black wins!           34              15                 15   \n",
       "6  checkmate: Black wins!           36              12                 14   \n",
       "\n",
       "  remaining_tot_pieces  \n",
       "0                   30  \n",
       "1                   26  \n",
       "2                   27  \n",
       "3                   24  \n",
       "4                   23  \n",
       "5                   30  \n",
       "6                   26  "
      ]
     },
     "execution_count": 32,
     "metadata": {},
     "output_type": "execute_result"
    }
   ],
   "source": [
    "scoreboard.sort_values(by=['moves_played'], inplace=False, ascending=True)"
   ]
  },
  {
   "cell_type": "markdown",
   "metadata": {},
   "source": [
    "## Naive Mini-Max Agent (Depth 3) vs Stockfish"
   ]
  },
  {
   "cell_type": "code",
   "execution_count": 33,
   "metadata": {
    "pycharm": {
     "is_executing": false,
     "name": "#%%\n"
    }
   },
   "outputs": [],
   "source": [
    "# game = ai.Game()\n",
    "# white = ai.MiniMaxAgent(max_depth=3,heuristic=\"naive\", type=\"minimax\")\n",
    "# black = STOCKFISH_PATH\n",
    "# \n",
    "# results = game.run_engine(white, black, NUM_ITERATIONS, visual=None)"
   ]
  },
  {
   "cell_type": "code",
   "execution_count": 34,
   "metadata": {
    "pycharm": {
     "is_executing": false,
     "name": "#%%\n"
    }
   },
   "outputs": [],
   "source": [
    "# df = pd.DataFrame(data=results,columns=COLUMNS)"
   ]
  },
  {
   "cell_type": "code",
   "execution_count": 35,
   "metadata": {
    "pycharm": {
     "is_executing": false,
     "name": "#%%\n"
    }
   },
   "outputs": [],
   "source": [
    "#update the scoreboard\n",
    "# scoreboard = scoreboard.append(df, ignore_index=True)"
   ]
  },
  {
   "cell_type": "markdown",
   "metadata": {},
   "source": [
    "### Overall Scoreboard by moves played ascending"
   ]
  },
  {
   "cell_type": "code",
   "execution_count": 36,
   "metadata": {
    "pycharm": {
     "is_executing": false,
     "name": "#%%\n"
    }
   },
   "outputs": [],
   "source": [
    "# scoreboard.sort_values(by=['moves_played'], inplace=False, ascending=True)"
   ]
  },
  {
   "cell_type": "markdown",
   "metadata": {},
   "source": [
    "## Improved Mini-Max Agent (Depth 1) vs Stockfish"
   ]
  },
  {
   "cell_type": "code",
   "execution_count": 37,
   "metadata": {
    "pycharm": {
     "is_executing": false,
     "name": "#%%\n"
    }
   },
   "outputs": [
    {
     "name": "stdout",
     "output_type": "stream",
     "text": [
      "started round: 0\n",
      "created stockfish: <SimpleEngine (pid=5587)>\n",
      "inside play_game_engine\n",
      "hi\n"
     ]
    }
   ],
   "source": [
    "game = ai.Game()\n",
    "white = ai.MiniMaxAgent(max_depth=1, heuristic=\"improved\", type=\"minimax\")\n",
    "black = STOCKFISH_PATH\n",
    "\n",
    "results = game.run_engine(white, black, NUM_ITERATIONS, visual=None)"
   ]
  },
  {
   "cell_type": "code",
   "execution_count": 38,
   "metadata": {
    "pycharm": {
     "is_executing": false,
     "name": "#%%\n"
    }
   },
   "outputs": [],
   "source": [
    "df = pd.DataFrame(data=results,columns=COLUMNS)"
   ]
  },
  {
   "cell_type": "code",
   "execution_count": 39,
   "metadata": {
    "pycharm": {
     "is_executing": false,
     "name": "#%%\n"
    }
   },
   "outputs": [],
   "source": [
    "#update the scoreboard\n",
    "scoreboard = scoreboard.append(df, ignore_index=True)"
   ]
  },
  {
   "cell_type": "markdown",
   "metadata": {},
   "source": [
    "### Overall Scoreboard by moves played ascending"
   ]
  },
  {
   "cell_type": "code",
   "execution_count": 40,
   "metadata": {
    "pycharm": {
     "is_executing": false,
     "name": "#%%\n"
    }
   },
   "outputs": [
    {
     "data": {
      "text/html": [
       "<div>\n",
       "<style scoped>\n",
       "    .dataframe tbody tr th:only-of-type {\n",
       "        vertical-align: middle;\n",
       "    }\n",
       "\n",
       "    .dataframe tbody tr th {\n",
       "        vertical-align: top;\n",
       "    }\n",
       "\n",
       "    .dataframe thead th {\n",
       "        text-align: right;\n",
       "    }\n",
       "</style>\n",
       "<table border=\"1\" class=\"dataframe\">\n",
       "  <thead>\n",
       "    <tr style=\"text-align: right;\">\n",
       "      <th></th>\n",
       "      <th>round_num</th>\n",
       "      <th>iterations</th>\n",
       "      <th>depth</th>\n",
       "      <th>white agent</th>\n",
       "      <th>black agent</th>\n",
       "      <th>white_victory</th>\n",
       "      <th>winner</th>\n",
       "      <th>moves_played</th>\n",
       "      <th>remain_w_pieces</th>\n",
       "      <th>remaining_b_pieces</th>\n",
       "      <th>remaining_tot_pieces</th>\n",
       "    </tr>\n",
       "  </thead>\n",
       "  <tbody>\n",
       "    <tr>\n",
       "      <th>0</th>\n",
       "      <td>1</td>\n",
       "      <td>1</td>\n",
       "      <td>None</td>\n",
       "      <td>random_agent</td>\n",
       "      <td>stockfish</td>\n",
       "      <td>False</td>\n",
       "      <td>checkmate: Black wins!</td>\n",
       "      <td>18</td>\n",
       "      <td>14</td>\n",
       "      <td>16</td>\n",
       "      <td>30</td>\n",
       "    </tr>\n",
       "    <tr>\n",
       "      <th>1</th>\n",
       "      <td>1</td>\n",
       "      <td>1</td>\n",
       "      <td>None</td>\n",
       "      <td>improved_random_agent</td>\n",
       "      <td>stockfish</td>\n",
       "      <td>False</td>\n",
       "      <td>checkmate: Black wins!</td>\n",
       "      <td>22</td>\n",
       "      <td>13</td>\n",
       "      <td>13</td>\n",
       "      <td>26</td>\n",
       "    </tr>\n",
       "    <tr>\n",
       "      <th>2</th>\n",
       "      <td>1</td>\n",
       "      <td>1</td>\n",
       "      <td>None</td>\n",
       "      <td>naive_agent</td>\n",
       "      <td>stockfish</td>\n",
       "      <td>False</td>\n",
       "      <td>checkmate: Black wins!</td>\n",
       "      <td>22</td>\n",
       "      <td>12</td>\n",
       "      <td>15</td>\n",
       "      <td>27</td>\n",
       "    </tr>\n",
       "    <tr>\n",
       "      <th>3</th>\n",
       "      <td>1</td>\n",
       "      <td>1</td>\n",
       "      <td>None</td>\n",
       "      <td>improved_agent</td>\n",
       "      <td>stockfish</td>\n",
       "      <td>False</td>\n",
       "      <td>checkmate: Black wins!</td>\n",
       "      <td>24</td>\n",
       "      <td>10</td>\n",
       "      <td>14</td>\n",
       "      <td>24</td>\n",
       "    </tr>\n",
       "    <tr>\n",
       "      <th>4</th>\n",
       "      <td>1</td>\n",
       "      <td>1</td>\n",
       "      <td>None</td>\n",
       "      <td>advanced_agent</td>\n",
       "      <td>stockfish</td>\n",
       "      <td>False</td>\n",
       "      <td>checkmate: Black wins!</td>\n",
       "      <td>24</td>\n",
       "      <td>10</td>\n",
       "      <td>13</td>\n",
       "      <td>23</td>\n",
       "    </tr>\n",
       "    <tr>\n",
       "      <th>5</th>\n",
       "      <td>1</td>\n",
       "      <td>1</td>\n",
       "      <td>1</td>\n",
       "      <td>naive_minimax_agent</td>\n",
       "      <td>stockfish</td>\n",
       "      <td>False</td>\n",
       "      <td>checkmate: Black wins!</td>\n",
       "      <td>34</td>\n",
       "      <td>15</td>\n",
       "      <td>15</td>\n",
       "      <td>30</td>\n",
       "    </tr>\n",
       "    <tr>\n",
       "      <th>6</th>\n",
       "      <td>1</td>\n",
       "      <td>1</td>\n",
       "      <td>2</td>\n",
       "      <td>naive_minimax_agent</td>\n",
       "      <td>stockfish</td>\n",
       "      <td>False</td>\n",
       "      <td>checkmate: Black wins!</td>\n",
       "      <td>36</td>\n",
       "      <td>12</td>\n",
       "      <td>14</td>\n",
       "      <td>26</td>\n",
       "    </tr>\n",
       "    <tr>\n",
       "      <th>7</th>\n",
       "      <td>1</td>\n",
       "      <td>1</td>\n",
       "      <td>1</td>\n",
       "      <td>improved_minimax_agent</td>\n",
       "      <td>stockfish</td>\n",
       "      <td>False</td>\n",
       "      <td>checkmate: Black wins!</td>\n",
       "      <td>42</td>\n",
       "      <td>12</td>\n",
       "      <td>13</td>\n",
       "      <td>25</td>\n",
       "    </tr>\n",
       "  </tbody>\n",
       "</table>\n",
       "</div>"
      ],
      "text/plain": [
       "  round_num iterations depth             white agent black agent  \\\n",
       "0         1          1  None            random_agent   stockfish   \n",
       "1         1          1  None   improved_random_agent   stockfish   \n",
       "2         1          1  None             naive_agent   stockfish   \n",
       "3         1          1  None          improved_agent   stockfish   \n",
       "4         1          1  None          advanced_agent   stockfish   \n",
       "5         1          1     1     naive_minimax_agent   stockfish   \n",
       "6         1          1     2     naive_minimax_agent   stockfish   \n",
       "7         1          1     1  improved_minimax_agent   stockfish   \n",
       "\n",
       "  white_victory                  winner moves_played remain_w_pieces  \\\n",
       "0         False  checkmate: Black wins!           18              14   \n",
       "1         False  checkmate: Black wins!           22              13   \n",
       "2         False  checkmate: Black wins!           22              12   \n",
       "3         False  checkmate: Black wins!           24              10   \n",
       "4         False  checkmate: Black wins!           24              10   \n",
       "5         False  checkmate: Black wins!           34              15   \n",
       "6         False  checkmate: Black wins!           36              12   \n",
       "7         False  checkmate: Black wins!           42              12   \n",
       "\n",
       "  remaining_b_pieces remaining_tot_pieces  \n",
       "0                 16                   30  \n",
       "1                 13                   26  \n",
       "2                 15                   27  \n",
       "3                 14                   24  \n",
       "4                 13                   23  \n",
       "5                 15                   30  \n",
       "6                 14                   26  \n",
       "7                 13                   25  "
      ]
     },
     "execution_count": 40,
     "metadata": {},
     "output_type": "execute_result"
    }
   ],
   "source": [
    "scoreboard.sort_values(by=['moves_played'], inplace=False, ascending=True)"
   ]
  },
  {
   "cell_type": "markdown",
   "metadata": {},
   "source": [
    "## Improved Mini-Max Agent (Depth 2) vs Stockfish"
   ]
  },
  {
   "cell_type": "code",
   "execution_count": 41,
   "metadata": {
    "pycharm": {
     "is_executing": false,
     "name": "#%%\n"
    }
   },
   "outputs": [
    {
     "name": "stdout",
     "output_type": "stream",
     "text": [
      "started round: 0\n",
      "created stockfish: <SimpleEngine (pid=5593)>\n",
      "inside play_game_engine\n",
      "hi\n"
     ]
    }
   ],
   "source": [
    "game = ai.Game()\n",
    "white = ai.MiniMaxAgent(max_depth=2, heuristic=\"improved\", type=\"minimax\")\n",
    "black = STOCKFISH_PATH\n",
    "\n",
    "results = game.run_engine(white, black, NUM_ITERATIONS, visual=None)"
   ]
  },
  {
   "cell_type": "code",
   "execution_count": 42,
   "metadata": {
    "pycharm": {
     "is_executing": false,
     "name": "#%%\n"
    }
   },
   "outputs": [],
   "source": [
    "df = pd.DataFrame(data=results,columns=COLUMNS)"
   ]
  },
  {
   "cell_type": "code",
   "execution_count": 43,
   "metadata": {
    "pycharm": {
     "is_executing": false,
     "name": "#%%\n"
    }
   },
   "outputs": [],
   "source": [
    "#update the scoreboard\n",
    "scoreboard = scoreboard.append(df, ignore_index=True)"
   ]
  },
  {
   "cell_type": "markdown",
   "metadata": {},
   "source": [
    "### Overall Scoreboard by moves played ascending"
   ]
  },
  {
   "cell_type": "code",
   "execution_count": 44,
   "metadata": {
    "pycharm": {
     "is_executing": false,
     "name": "#%%\n"
    }
   },
   "outputs": [
    {
     "data": {
      "text/html": [
       "<div>\n",
       "<style scoped>\n",
       "    .dataframe tbody tr th:only-of-type {\n",
       "        vertical-align: middle;\n",
       "    }\n",
       "\n",
       "    .dataframe tbody tr th {\n",
       "        vertical-align: top;\n",
       "    }\n",
       "\n",
       "    .dataframe thead th {\n",
       "        text-align: right;\n",
       "    }\n",
       "</style>\n",
       "<table border=\"1\" class=\"dataframe\">\n",
       "  <thead>\n",
       "    <tr style=\"text-align: right;\">\n",
       "      <th></th>\n",
       "      <th>round_num</th>\n",
       "      <th>iterations</th>\n",
       "      <th>depth</th>\n",
       "      <th>white agent</th>\n",
       "      <th>black agent</th>\n",
       "      <th>white_victory</th>\n",
       "      <th>winner</th>\n",
       "      <th>moves_played</th>\n",
       "      <th>remain_w_pieces</th>\n",
       "      <th>remaining_b_pieces</th>\n",
       "      <th>remaining_tot_pieces</th>\n",
       "    </tr>\n",
       "  </thead>\n",
       "  <tbody>\n",
       "    <tr>\n",
       "      <th>0</th>\n",
       "      <td>1</td>\n",
       "      <td>1</td>\n",
       "      <td>None</td>\n",
       "      <td>random_agent</td>\n",
       "      <td>stockfish</td>\n",
       "      <td>False</td>\n",
       "      <td>checkmate: Black wins!</td>\n",
       "      <td>18</td>\n",
       "      <td>14</td>\n",
       "      <td>16</td>\n",
       "      <td>30</td>\n",
       "    </tr>\n",
       "    <tr>\n",
       "      <th>1</th>\n",
       "      <td>1</td>\n",
       "      <td>1</td>\n",
       "      <td>None</td>\n",
       "      <td>improved_random_agent</td>\n",
       "      <td>stockfish</td>\n",
       "      <td>False</td>\n",
       "      <td>checkmate: Black wins!</td>\n",
       "      <td>22</td>\n",
       "      <td>13</td>\n",
       "      <td>13</td>\n",
       "      <td>26</td>\n",
       "    </tr>\n",
       "    <tr>\n",
       "      <th>2</th>\n",
       "      <td>1</td>\n",
       "      <td>1</td>\n",
       "      <td>None</td>\n",
       "      <td>naive_agent</td>\n",
       "      <td>stockfish</td>\n",
       "      <td>False</td>\n",
       "      <td>checkmate: Black wins!</td>\n",
       "      <td>22</td>\n",
       "      <td>12</td>\n",
       "      <td>15</td>\n",
       "      <td>27</td>\n",
       "    </tr>\n",
       "    <tr>\n",
       "      <th>3</th>\n",
       "      <td>1</td>\n",
       "      <td>1</td>\n",
       "      <td>None</td>\n",
       "      <td>improved_agent</td>\n",
       "      <td>stockfish</td>\n",
       "      <td>False</td>\n",
       "      <td>checkmate: Black wins!</td>\n",
       "      <td>24</td>\n",
       "      <td>10</td>\n",
       "      <td>14</td>\n",
       "      <td>24</td>\n",
       "    </tr>\n",
       "    <tr>\n",
       "      <th>4</th>\n",
       "      <td>1</td>\n",
       "      <td>1</td>\n",
       "      <td>None</td>\n",
       "      <td>advanced_agent</td>\n",
       "      <td>stockfish</td>\n",
       "      <td>False</td>\n",
       "      <td>checkmate: Black wins!</td>\n",
       "      <td>24</td>\n",
       "      <td>10</td>\n",
       "      <td>13</td>\n",
       "      <td>23</td>\n",
       "    </tr>\n",
       "    <tr>\n",
       "      <th>8</th>\n",
       "      <td>1</td>\n",
       "      <td>1</td>\n",
       "      <td>2</td>\n",
       "      <td>improved_minimax_agent</td>\n",
       "      <td>stockfish</td>\n",
       "      <td>False</td>\n",
       "      <td>checkmate: Black wins!</td>\n",
       "      <td>26</td>\n",
       "      <td>11</td>\n",
       "      <td>14</td>\n",
       "      <td>25</td>\n",
       "    </tr>\n",
       "    <tr>\n",
       "      <th>5</th>\n",
       "      <td>1</td>\n",
       "      <td>1</td>\n",
       "      <td>1</td>\n",
       "      <td>naive_minimax_agent</td>\n",
       "      <td>stockfish</td>\n",
       "      <td>False</td>\n",
       "      <td>checkmate: Black wins!</td>\n",
       "      <td>34</td>\n",
       "      <td>15</td>\n",
       "      <td>15</td>\n",
       "      <td>30</td>\n",
       "    </tr>\n",
       "    <tr>\n",
       "      <th>6</th>\n",
       "      <td>1</td>\n",
       "      <td>1</td>\n",
       "      <td>2</td>\n",
       "      <td>naive_minimax_agent</td>\n",
       "      <td>stockfish</td>\n",
       "      <td>False</td>\n",
       "      <td>checkmate: Black wins!</td>\n",
       "      <td>36</td>\n",
       "      <td>12</td>\n",
       "      <td>14</td>\n",
       "      <td>26</td>\n",
       "    </tr>\n",
       "    <tr>\n",
       "      <th>7</th>\n",
       "      <td>1</td>\n",
       "      <td>1</td>\n",
       "      <td>1</td>\n",
       "      <td>improved_minimax_agent</td>\n",
       "      <td>stockfish</td>\n",
       "      <td>False</td>\n",
       "      <td>checkmate: Black wins!</td>\n",
       "      <td>42</td>\n",
       "      <td>12</td>\n",
       "      <td>13</td>\n",
       "      <td>25</td>\n",
       "    </tr>\n",
       "  </tbody>\n",
       "</table>\n",
       "</div>"
      ],
      "text/plain": [
       "  round_num iterations depth             white agent black agent  \\\n",
       "0         1          1  None            random_agent   stockfish   \n",
       "1         1          1  None   improved_random_agent   stockfish   \n",
       "2         1          1  None             naive_agent   stockfish   \n",
       "3         1          1  None          improved_agent   stockfish   \n",
       "4         1          1  None          advanced_agent   stockfish   \n",
       "8         1          1     2  improved_minimax_agent   stockfish   \n",
       "5         1          1     1     naive_minimax_agent   stockfish   \n",
       "6         1          1     2     naive_minimax_agent   stockfish   \n",
       "7         1          1     1  improved_minimax_agent   stockfish   \n",
       "\n",
       "  white_victory                  winner moves_played remain_w_pieces  \\\n",
       "0         False  checkmate: Black wins!           18              14   \n",
       "1         False  checkmate: Black wins!           22              13   \n",
       "2         False  checkmate: Black wins!           22              12   \n",
       "3         False  checkmate: Black wins!           24              10   \n",
       "4         False  checkmate: Black wins!           24              10   \n",
       "8         False  checkmate: Black wins!           26              11   \n",
       "5         False  checkmate: Black wins!           34              15   \n",
       "6         False  checkmate: Black wins!           36              12   \n",
       "7         False  checkmate: Black wins!           42              12   \n",
       "\n",
       "  remaining_b_pieces remaining_tot_pieces  \n",
       "0                 16                   30  \n",
       "1                 13                   26  \n",
       "2                 15                   27  \n",
       "3                 14                   24  \n",
       "4                 13                   23  \n",
       "8                 14                   25  \n",
       "5                 15                   30  \n",
       "6                 14                   26  \n",
       "7                 13                   25  "
      ]
     },
     "execution_count": 44,
     "metadata": {},
     "output_type": "execute_result"
    }
   ],
   "source": [
    "scoreboard.sort_values(by=['moves_played'], inplace=False, ascending=True)"
   ]
  },
  {
   "cell_type": "markdown",
   "metadata": {},
   "source": [
    "## Improved Mini-Max Agent (Depth 3) vs Stockfish"
   ]
  },
  {
   "cell_type": "code",
   "execution_count": 45,
   "metadata": {
    "pycharm": {
     "is_executing": false,
     "name": "#%%\n"
    }
   },
   "outputs": [],
   "source": [
    "# game = ai.Game()\n",
    "# white = ai.MiniMaxAgent(max_depth=3, heuristic=\"improved\", type =\"minimax\")\n",
    "# black = STOCKFISH_PATH\n",
    "\n",
    "# results = game.run_engine(white, black, NUM_ITERATIONS, visual=None)"
   ]
  },
  {
   "cell_type": "code",
   "execution_count": 46,
   "metadata": {
    "pycharm": {
     "is_executing": false,
     "name": "#%%\n"
    }
   },
   "outputs": [],
   "source": [
    "# df = pd.DataFrame(data=results,columns=COLUMNS)"
   ]
  },
  {
   "cell_type": "code",
   "execution_count": 47,
   "metadata": {
    "pycharm": {
     "is_executing": false,
     "name": "#%%\n"
    }
   },
   "outputs": [],
   "source": [
    "#update the scoreboard\n",
    "# scoreboard = scoreboard.append(df, ignore_index=True)"
   ]
  },
  {
   "cell_type": "markdown",
   "metadata": {},
   "source": [
    "### Overall Scoreboard by moves played ascending"
   ]
  },
  {
   "cell_type": "code",
   "execution_count": 48,
   "metadata": {
    "pycharm": {
     "is_executing": false,
     "name": "#%%\n"
    }
   },
   "outputs": [],
   "source": [
    "# scoreboard.sort_values(by=['moves_played'], inplace=False, ascending=True)"
   ]
  },
  {
   "cell_type": "markdown",
   "metadata": {},
   "source": [
    "## Advanced Mini-Max (Depth 1) Agent vs Stockfish"
   ]
  },
  {
   "cell_type": "code",
   "execution_count": 49,
   "metadata": {
    "pycharm": {
     "is_executing": false,
     "name": "#%%\n"
    }
   },
   "outputs": [
    {
     "name": "stdout",
     "output_type": "stream",
     "text": [
      "started round: 0\n",
      "created stockfish: <SimpleEngine (pid=5604)>\n",
      "inside play_game_engine\n",
      "hi\n"
     ]
    }
   ],
   "source": [
    "game = ai.Game()\n",
    "white = ai.MiniMaxAgent(max_depth=1, heuristic=\"advanced\", type=\"minimax\")\n",
    "black = STOCKFISH_PATH\n",
    "\n",
    "results = game.run_engine(white, black, NUM_ITERATIONS, visual=None)"
   ]
  },
  {
   "cell_type": "code",
   "execution_count": 50,
   "metadata": {
    "pycharm": {
     "is_executing": false,
     "name": "#%%\n"
    }
   },
   "outputs": [],
   "source": [
    "df = pd.DataFrame(data=results,columns=COLUMNS)"
   ]
  },
  {
   "cell_type": "code",
   "execution_count": 51,
   "metadata": {
    "pycharm": {
     "is_executing": false,
     "name": "#%%\n"
    }
   },
   "outputs": [],
   "source": [
    "#update the scoreboard\n",
    "scoreboard = scoreboard.append(df, ignore_index=True)"
   ]
  },
  {
   "cell_type": "markdown",
   "metadata": {},
   "source": [
    "### Overall Scoreboard by moves played ascending"
   ]
  },
  {
   "cell_type": "code",
   "execution_count": 52,
   "metadata": {
    "pycharm": {
     "is_executing": false,
     "name": "#%%\n"
    }
   },
   "outputs": [
    {
     "data": {
      "text/html": [
       "<div>\n",
       "<style scoped>\n",
       "    .dataframe tbody tr th:only-of-type {\n",
       "        vertical-align: middle;\n",
       "    }\n",
       "\n",
       "    .dataframe tbody tr th {\n",
       "        vertical-align: top;\n",
       "    }\n",
       "\n",
       "    .dataframe thead th {\n",
       "        text-align: right;\n",
       "    }\n",
       "</style>\n",
       "<table border=\"1\" class=\"dataframe\">\n",
       "  <thead>\n",
       "    <tr style=\"text-align: right;\">\n",
       "      <th></th>\n",
       "      <th>round_num</th>\n",
       "      <th>iterations</th>\n",
       "      <th>depth</th>\n",
       "      <th>white agent</th>\n",
       "      <th>black agent</th>\n",
       "      <th>white_victory</th>\n",
       "      <th>winner</th>\n",
       "      <th>moves_played</th>\n",
       "      <th>remain_w_pieces</th>\n",
       "      <th>remaining_b_pieces</th>\n",
       "      <th>remaining_tot_pieces</th>\n",
       "    </tr>\n",
       "  </thead>\n",
       "  <tbody>\n",
       "    <tr>\n",
       "      <th>0</th>\n",
       "      <td>1</td>\n",
       "      <td>1</td>\n",
       "      <td>None</td>\n",
       "      <td>random_agent</td>\n",
       "      <td>stockfish</td>\n",
       "      <td>False</td>\n",
       "      <td>checkmate: Black wins!</td>\n",
       "      <td>18</td>\n",
       "      <td>14</td>\n",
       "      <td>16</td>\n",
       "      <td>30</td>\n",
       "    </tr>\n",
       "    <tr>\n",
       "      <th>1</th>\n",
       "      <td>1</td>\n",
       "      <td>1</td>\n",
       "      <td>None</td>\n",
       "      <td>improved_random_agent</td>\n",
       "      <td>stockfish</td>\n",
       "      <td>False</td>\n",
       "      <td>checkmate: Black wins!</td>\n",
       "      <td>22</td>\n",
       "      <td>13</td>\n",
       "      <td>13</td>\n",
       "      <td>26</td>\n",
       "    </tr>\n",
       "    <tr>\n",
       "      <th>2</th>\n",
       "      <td>1</td>\n",
       "      <td>1</td>\n",
       "      <td>None</td>\n",
       "      <td>naive_agent</td>\n",
       "      <td>stockfish</td>\n",
       "      <td>False</td>\n",
       "      <td>checkmate: Black wins!</td>\n",
       "      <td>22</td>\n",
       "      <td>12</td>\n",
       "      <td>15</td>\n",
       "      <td>27</td>\n",
       "    </tr>\n",
       "    <tr>\n",
       "      <th>3</th>\n",
       "      <td>1</td>\n",
       "      <td>1</td>\n",
       "      <td>None</td>\n",
       "      <td>improved_agent</td>\n",
       "      <td>stockfish</td>\n",
       "      <td>False</td>\n",
       "      <td>checkmate: Black wins!</td>\n",
       "      <td>24</td>\n",
       "      <td>10</td>\n",
       "      <td>14</td>\n",
       "      <td>24</td>\n",
       "    </tr>\n",
       "    <tr>\n",
       "      <th>4</th>\n",
       "      <td>1</td>\n",
       "      <td>1</td>\n",
       "      <td>None</td>\n",
       "      <td>advanced_agent</td>\n",
       "      <td>stockfish</td>\n",
       "      <td>False</td>\n",
       "      <td>checkmate: Black wins!</td>\n",
       "      <td>24</td>\n",
       "      <td>10</td>\n",
       "      <td>13</td>\n",
       "      <td>23</td>\n",
       "    </tr>\n",
       "    <tr>\n",
       "      <th>8</th>\n",
       "      <td>1</td>\n",
       "      <td>1</td>\n",
       "      <td>2</td>\n",
       "      <td>improved_minimax_agent</td>\n",
       "      <td>stockfish</td>\n",
       "      <td>False</td>\n",
       "      <td>checkmate: Black wins!</td>\n",
       "      <td>26</td>\n",
       "      <td>11</td>\n",
       "      <td>14</td>\n",
       "      <td>25</td>\n",
       "    </tr>\n",
       "    <tr>\n",
       "      <th>5</th>\n",
       "      <td>1</td>\n",
       "      <td>1</td>\n",
       "      <td>1</td>\n",
       "      <td>naive_minimax_agent</td>\n",
       "      <td>stockfish</td>\n",
       "      <td>False</td>\n",
       "      <td>checkmate: Black wins!</td>\n",
       "      <td>34</td>\n",
       "      <td>15</td>\n",
       "      <td>15</td>\n",
       "      <td>30</td>\n",
       "    </tr>\n",
       "    <tr>\n",
       "      <th>6</th>\n",
       "      <td>1</td>\n",
       "      <td>1</td>\n",
       "      <td>2</td>\n",
       "      <td>naive_minimax_agent</td>\n",
       "      <td>stockfish</td>\n",
       "      <td>False</td>\n",
       "      <td>checkmate: Black wins!</td>\n",
       "      <td>36</td>\n",
       "      <td>12</td>\n",
       "      <td>14</td>\n",
       "      <td>26</td>\n",
       "    </tr>\n",
       "    <tr>\n",
       "      <th>7</th>\n",
       "      <td>1</td>\n",
       "      <td>1</td>\n",
       "      <td>1</td>\n",
       "      <td>improved_minimax_agent</td>\n",
       "      <td>stockfish</td>\n",
       "      <td>False</td>\n",
       "      <td>checkmate: Black wins!</td>\n",
       "      <td>42</td>\n",
       "      <td>12</td>\n",
       "      <td>13</td>\n",
       "      <td>25</td>\n",
       "    </tr>\n",
       "    <tr>\n",
       "      <th>9</th>\n",
       "      <td>1</td>\n",
       "      <td>1</td>\n",
       "      <td>1</td>\n",
       "      <td>advanced_minimax_agent</td>\n",
       "      <td>stockfish</td>\n",
       "      <td>False</td>\n",
       "      <td>checkmate: Black wins!</td>\n",
       "      <td>48</td>\n",
       "      <td>6</td>\n",
       "      <td>12</td>\n",
       "      <td>18</td>\n",
       "    </tr>\n",
       "  </tbody>\n",
       "</table>\n",
       "</div>"
      ],
      "text/plain": [
       "  round_num iterations depth             white agent black agent  \\\n",
       "0         1          1  None            random_agent   stockfish   \n",
       "1         1          1  None   improved_random_agent   stockfish   \n",
       "2         1          1  None             naive_agent   stockfish   \n",
       "3         1          1  None          improved_agent   stockfish   \n",
       "4         1          1  None          advanced_agent   stockfish   \n",
       "8         1          1     2  improved_minimax_agent   stockfish   \n",
       "5         1          1     1     naive_minimax_agent   stockfish   \n",
       "6         1          1     2     naive_minimax_agent   stockfish   \n",
       "7         1          1     1  improved_minimax_agent   stockfish   \n",
       "9         1          1     1  advanced_minimax_agent   stockfish   \n",
       "\n",
       "  white_victory                  winner moves_played remain_w_pieces  \\\n",
       "0         False  checkmate: Black wins!           18              14   \n",
       "1         False  checkmate: Black wins!           22              13   \n",
       "2         False  checkmate: Black wins!           22              12   \n",
       "3         False  checkmate: Black wins!           24              10   \n",
       "4         False  checkmate: Black wins!           24              10   \n",
       "8         False  checkmate: Black wins!           26              11   \n",
       "5         False  checkmate: Black wins!           34              15   \n",
       "6         False  checkmate: Black wins!           36              12   \n",
       "7         False  checkmate: Black wins!           42              12   \n",
       "9         False  checkmate: Black wins!           48               6   \n",
       "\n",
       "  remaining_b_pieces remaining_tot_pieces  \n",
       "0                 16                   30  \n",
       "1                 13                   26  \n",
       "2                 15                   27  \n",
       "3                 14                   24  \n",
       "4                 13                   23  \n",
       "8                 14                   25  \n",
       "5                 15                   30  \n",
       "6                 14                   26  \n",
       "7                 13                   25  \n",
       "9                 12                   18  "
      ]
     },
     "execution_count": 52,
     "metadata": {},
     "output_type": "execute_result"
    }
   ],
   "source": [
    "scoreboard.sort_values(by=['moves_played'], inplace=False, ascending=True)"
   ]
  },
  {
   "cell_type": "markdown",
   "metadata": {},
   "source": [
    "## Advanced Mini-Max Agent (Depth 2) vs Stockfish"
   ]
  },
  {
   "cell_type": "code",
   "execution_count": 53,
   "metadata": {
    "pycharm": {
     "is_executing": true,
     "name": "#%%\n"
    }
   },
   "outputs": [
    {
     "name": "stdout",
     "output_type": "stream",
     "text": [
      "started round: 0\n",
      "created stockfish: <SimpleEngine (pid=5610)>\n",
      "inside play_game_engine\n",
      "hi\n"
     ]
    }
   ],
   "source": [
    "game = ai.Game()\n",
    "white = ai.MiniMaxAgent(max_depth=2, heuristic=\"advanced\", type=\"minimax\")\n",
    "black = STOCKFISH_PATH\n",
    "\n",
    "results = game.run_engine(white, black, NUM_ITERATIONS, visual=None)"
   ]
  },
  {
   "cell_type": "code",
   "execution_count": 54,
   "metadata": {
    "pycharm": {
     "is_executing": true,
     "name": "#%%\n"
    }
   },
   "outputs": [],
   "source": [
    "df = pd.DataFrame(data=results,columns=COLUMNS)\\"
   ]
  },
  {
   "cell_type": "code",
   "execution_count": 55,
   "metadata": {
    "pycharm": {
     "is_executing": true,
     "name": "#%%\n"
    }
   },
   "outputs": [],
   "source": [
    "#update the scoreboard\n",
    "scoreboard = scoreboard.append(df, ignore_index=True)"
   ]
  },
  {
   "cell_type": "markdown",
   "metadata": {},
   "source": [
    "### Overall Scoreboard by moves played ascending"
   ]
  },
  {
   "cell_type": "code",
   "execution_count": 56,
   "metadata": {
    "pycharm": {
     "is_executing": true,
     "name": "#%%\n"
    }
   },
   "outputs": [
    {
     "data": {
      "text/html": [
       "<div>\n",
       "<style scoped>\n",
       "    .dataframe tbody tr th:only-of-type {\n",
       "        vertical-align: middle;\n",
       "    }\n",
       "\n",
       "    .dataframe tbody tr th {\n",
       "        vertical-align: top;\n",
       "    }\n",
       "\n",
       "    .dataframe thead th {\n",
       "        text-align: right;\n",
       "    }\n",
       "</style>\n",
       "<table border=\"1\" class=\"dataframe\">\n",
       "  <thead>\n",
       "    <tr style=\"text-align: right;\">\n",
       "      <th></th>\n",
       "      <th>round_num</th>\n",
       "      <th>iterations</th>\n",
       "      <th>depth</th>\n",
       "      <th>white agent</th>\n",
       "      <th>black agent</th>\n",
       "      <th>white_victory</th>\n",
       "      <th>winner</th>\n",
       "      <th>moves_played</th>\n",
       "      <th>remain_w_pieces</th>\n",
       "      <th>remaining_b_pieces</th>\n",
       "      <th>remaining_tot_pieces</th>\n",
       "    </tr>\n",
       "  </thead>\n",
       "  <tbody>\n",
       "    <tr>\n",
       "      <th>0</th>\n",
       "      <td>1</td>\n",
       "      <td>1</td>\n",
       "      <td>None</td>\n",
       "      <td>random_agent</td>\n",
       "      <td>stockfish</td>\n",
       "      <td>False</td>\n",
       "      <td>checkmate: Black wins!</td>\n",
       "      <td>18</td>\n",
       "      <td>14</td>\n",
       "      <td>16</td>\n",
       "      <td>30</td>\n",
       "    </tr>\n",
       "    <tr>\n",
       "      <th>1</th>\n",
       "      <td>1</td>\n",
       "      <td>1</td>\n",
       "      <td>None</td>\n",
       "      <td>improved_random_agent</td>\n",
       "      <td>stockfish</td>\n",
       "      <td>False</td>\n",
       "      <td>checkmate: Black wins!</td>\n",
       "      <td>22</td>\n",
       "      <td>13</td>\n",
       "      <td>13</td>\n",
       "      <td>26</td>\n",
       "    </tr>\n",
       "    <tr>\n",
       "      <th>2</th>\n",
       "      <td>1</td>\n",
       "      <td>1</td>\n",
       "      <td>None</td>\n",
       "      <td>naive_agent</td>\n",
       "      <td>stockfish</td>\n",
       "      <td>False</td>\n",
       "      <td>checkmate: Black wins!</td>\n",
       "      <td>22</td>\n",
       "      <td>12</td>\n",
       "      <td>15</td>\n",
       "      <td>27</td>\n",
       "    </tr>\n",
       "    <tr>\n",
       "      <th>3</th>\n",
       "      <td>1</td>\n",
       "      <td>1</td>\n",
       "      <td>None</td>\n",
       "      <td>improved_agent</td>\n",
       "      <td>stockfish</td>\n",
       "      <td>False</td>\n",
       "      <td>checkmate: Black wins!</td>\n",
       "      <td>24</td>\n",
       "      <td>10</td>\n",
       "      <td>14</td>\n",
       "      <td>24</td>\n",
       "    </tr>\n",
       "    <tr>\n",
       "      <th>4</th>\n",
       "      <td>1</td>\n",
       "      <td>1</td>\n",
       "      <td>None</td>\n",
       "      <td>advanced_agent</td>\n",
       "      <td>stockfish</td>\n",
       "      <td>False</td>\n",
       "      <td>checkmate: Black wins!</td>\n",
       "      <td>24</td>\n",
       "      <td>10</td>\n",
       "      <td>13</td>\n",
       "      <td>23</td>\n",
       "    </tr>\n",
       "    <tr>\n",
       "      <th>8</th>\n",
       "      <td>1</td>\n",
       "      <td>1</td>\n",
       "      <td>2</td>\n",
       "      <td>improved_minimax_agent</td>\n",
       "      <td>stockfish</td>\n",
       "      <td>False</td>\n",
       "      <td>checkmate: Black wins!</td>\n",
       "      <td>26</td>\n",
       "      <td>11</td>\n",
       "      <td>14</td>\n",
       "      <td>25</td>\n",
       "    </tr>\n",
       "    <tr>\n",
       "      <th>5</th>\n",
       "      <td>1</td>\n",
       "      <td>1</td>\n",
       "      <td>1</td>\n",
       "      <td>naive_minimax_agent</td>\n",
       "      <td>stockfish</td>\n",
       "      <td>False</td>\n",
       "      <td>checkmate: Black wins!</td>\n",
       "      <td>34</td>\n",
       "      <td>15</td>\n",
       "      <td>15</td>\n",
       "      <td>30</td>\n",
       "    </tr>\n",
       "    <tr>\n",
       "      <th>6</th>\n",
       "      <td>1</td>\n",
       "      <td>1</td>\n",
       "      <td>2</td>\n",
       "      <td>naive_minimax_agent</td>\n",
       "      <td>stockfish</td>\n",
       "      <td>False</td>\n",
       "      <td>checkmate: Black wins!</td>\n",
       "      <td>36</td>\n",
       "      <td>12</td>\n",
       "      <td>14</td>\n",
       "      <td>26</td>\n",
       "    </tr>\n",
       "    <tr>\n",
       "      <th>10</th>\n",
       "      <td>1</td>\n",
       "      <td>1</td>\n",
       "      <td>2</td>\n",
       "      <td>advanced_minimax_agent</td>\n",
       "      <td>stockfish</td>\n",
       "      <td>False</td>\n",
       "      <td>checkmate: Black wins!</td>\n",
       "      <td>38</td>\n",
       "      <td>11</td>\n",
       "      <td>12</td>\n",
       "      <td>23</td>\n",
       "    </tr>\n",
       "    <tr>\n",
       "      <th>7</th>\n",
       "      <td>1</td>\n",
       "      <td>1</td>\n",
       "      <td>1</td>\n",
       "      <td>improved_minimax_agent</td>\n",
       "      <td>stockfish</td>\n",
       "      <td>False</td>\n",
       "      <td>checkmate: Black wins!</td>\n",
       "      <td>42</td>\n",
       "      <td>12</td>\n",
       "      <td>13</td>\n",
       "      <td>25</td>\n",
       "    </tr>\n",
       "    <tr>\n",
       "      <th>9</th>\n",
       "      <td>1</td>\n",
       "      <td>1</td>\n",
       "      <td>1</td>\n",
       "      <td>advanced_minimax_agent</td>\n",
       "      <td>stockfish</td>\n",
       "      <td>False</td>\n",
       "      <td>checkmate: Black wins!</td>\n",
       "      <td>48</td>\n",
       "      <td>6</td>\n",
       "      <td>12</td>\n",
       "      <td>18</td>\n",
       "    </tr>\n",
       "  </tbody>\n",
       "</table>\n",
       "</div>"
      ],
      "text/plain": [
       "   round_num iterations depth             white agent black agent  \\\n",
       "0          1          1  None            random_agent   stockfish   \n",
       "1          1          1  None   improved_random_agent   stockfish   \n",
       "2          1          1  None             naive_agent   stockfish   \n",
       "3          1          1  None          improved_agent   stockfish   \n",
       "4          1          1  None          advanced_agent   stockfish   \n",
       "8          1          1     2  improved_minimax_agent   stockfish   \n",
       "5          1          1     1     naive_minimax_agent   stockfish   \n",
       "6          1          1     2     naive_minimax_agent   stockfish   \n",
       "10         1          1     2  advanced_minimax_agent   stockfish   \n",
       "7          1          1     1  improved_minimax_agent   stockfish   \n",
       "9          1          1     1  advanced_minimax_agent   stockfish   \n",
       "\n",
       "   white_victory                  winner moves_played remain_w_pieces  \\\n",
       "0          False  checkmate: Black wins!           18              14   \n",
       "1          False  checkmate: Black wins!           22              13   \n",
       "2          False  checkmate: Black wins!           22              12   \n",
       "3          False  checkmate: Black wins!           24              10   \n",
       "4          False  checkmate: Black wins!           24              10   \n",
       "8          False  checkmate: Black wins!           26              11   \n",
       "5          False  checkmate: Black wins!           34              15   \n",
       "6          False  checkmate: Black wins!           36              12   \n",
       "10         False  checkmate: Black wins!           38              11   \n",
       "7          False  checkmate: Black wins!           42              12   \n",
       "9          False  checkmate: Black wins!           48               6   \n",
       "\n",
       "   remaining_b_pieces remaining_tot_pieces  \n",
       "0                  16                   30  \n",
       "1                  13                   26  \n",
       "2                  15                   27  \n",
       "3                  14                   24  \n",
       "4                  13                   23  \n",
       "8                  14                   25  \n",
       "5                  15                   30  \n",
       "6                  14                   26  \n",
       "10                 12                   23  \n",
       "7                  13                   25  \n",
       "9                  12                   18  "
      ]
     },
     "execution_count": 56,
     "metadata": {},
     "output_type": "execute_result"
    }
   ],
   "source": [
    "scoreboard.sort_values(by=['moves_played'], inplace=False, ascending=True)"
   ]
  },
  {
   "cell_type": "markdown",
   "metadata": {},
   "source": [
    "## Advanced Mini-Max Agent (Depth 3) vs Stockfish"
   ]
  },
  {
   "cell_type": "code",
   "execution_count": 57,
   "metadata": {
    "pycharm": {
     "is_executing": true,
     "name": "#%%\n"
    }
   },
   "outputs": [],
   "source": [
    "# game = ai.Game()\n",
    "# white = ai.MiniMaxAgent(max_depth=3, heuristic=\"advanced\", type=\"minimax\")\n",
    "# black = STOCKFISH_PATH\n",
    "# \n",
    "# results = game.run_engine(white, black, NUM_ITERATIONS, visual=None)"
   ]
  },
  {
   "cell_type": "code",
   "execution_count": 58,
   "metadata": {
    "pycharm": {
     "is_executing": true,
     "name": "#%%\n"
    }
   },
   "outputs": [],
   "source": [
    "# df = pd.DataFrame(data=results,columns=COLUMNS)"
   ]
  },
  {
   "cell_type": "code",
   "execution_count": 59,
   "metadata": {
    "pycharm": {
     "is_executing": true,
     "name": "#%%\n"
    }
   },
   "outputs": [],
   "source": [
    "#update the scoreboard\n",
    "# scoreboard = scoreboard.append(df, ignore_index=True)"
   ]
  },
  {
   "cell_type": "markdown",
   "metadata": {},
   "source": [
    "### Overall Scoreboard by moves played ascending"
   ]
  },
  {
   "cell_type": "code",
   "execution_count": 60,
   "metadata": {
    "pycharm": {
     "is_executing": true,
     "name": "#%%\n"
    }
   },
   "outputs": [],
   "source": [
    "# scoreboard.sort_values(by=['moves_played'], inplace=False, ascending=True)"
   ]
  },
  {
   "cell_type": "markdown",
   "metadata": {},
   "source": [
    "## Naive Mini-Max with Alpha-Beta-Pruning Agent (Depth 1) vs Stockfish"
   ]
  },
  {
   "cell_type": "code",
   "execution_count": 61,
   "metadata": {
    "pycharm": {
     "is_executing": true,
     "name": "#%%\n"
    }
   },
   "outputs": [
    {
     "name": "stdout",
     "output_type": "stream",
     "text": [
      "started round: 0\n",
      "created stockfish: <SimpleEngine (pid=5631)>\n",
      "inside play_game_engine\n",
      "hi\n"
     ]
    }
   ],
   "source": [
    "game = ai.Game()\n",
    "white = ai.MiniMaxAgent(max_depth=1, heuristic=\"naive\", type=\"alpha-beta\")\n",
    "black = STOCKFISH_PATH\n",
    "\n",
    "results = game.run_engine(white, black, NUM_ITERATIONS, visual=None)"
   ]
  },
  {
   "cell_type": "code",
   "execution_count": 62,
   "metadata": {
    "pycharm": {
     "is_executing": true,
     "name": "#%%\n"
    }
   },
   "outputs": [],
   "source": [
    "df = pd.DataFrame(data=results,columns=COLUMNS)"
   ]
  },
  {
   "cell_type": "code",
   "execution_count": 63,
   "metadata": {
    "pycharm": {
     "is_executing": true,
     "name": "#%%\n"
    }
   },
   "outputs": [],
   "source": [
    "#update the scoreboard\n",
    "scoreboard = scoreboard.append(df, ignore_index=True)"
   ]
  },
  {
   "cell_type": "markdown",
   "metadata": {},
   "source": [
    "### Overall Scoreboard by moves played ascending"
   ]
  },
  {
   "cell_type": "code",
   "execution_count": 64,
   "metadata": {
    "pycharm": {
     "is_executing": true,
     "name": "#%%\n"
    }
   },
   "outputs": [
    {
     "data": {
      "text/html": [
       "<div>\n",
       "<style scoped>\n",
       "    .dataframe tbody tr th:only-of-type {\n",
       "        vertical-align: middle;\n",
       "    }\n",
       "\n",
       "    .dataframe tbody tr th {\n",
       "        vertical-align: top;\n",
       "    }\n",
       "\n",
       "    .dataframe thead th {\n",
       "        text-align: right;\n",
       "    }\n",
       "</style>\n",
       "<table border=\"1\" class=\"dataframe\">\n",
       "  <thead>\n",
       "    <tr style=\"text-align: right;\">\n",
       "      <th></th>\n",
       "      <th>round_num</th>\n",
       "      <th>iterations</th>\n",
       "      <th>depth</th>\n",
       "      <th>white agent</th>\n",
       "      <th>black agent</th>\n",
       "      <th>white_victory</th>\n",
       "      <th>winner</th>\n",
       "      <th>moves_played</th>\n",
       "      <th>remain_w_pieces</th>\n",
       "      <th>remaining_b_pieces</th>\n",
       "      <th>remaining_tot_pieces</th>\n",
       "    </tr>\n",
       "  </thead>\n",
       "  <tbody>\n",
       "    <tr>\n",
       "      <th>0</th>\n",
       "      <td>1</td>\n",
       "      <td>1</td>\n",
       "      <td>None</td>\n",
       "      <td>random_agent</td>\n",
       "      <td>stockfish</td>\n",
       "      <td>False</td>\n",
       "      <td>checkmate: Black wins!</td>\n",
       "      <td>18</td>\n",
       "      <td>14</td>\n",
       "      <td>16</td>\n",
       "      <td>30</td>\n",
       "    </tr>\n",
       "    <tr>\n",
       "      <th>1</th>\n",
       "      <td>1</td>\n",
       "      <td>1</td>\n",
       "      <td>None</td>\n",
       "      <td>improved_random_agent</td>\n",
       "      <td>stockfish</td>\n",
       "      <td>False</td>\n",
       "      <td>checkmate: Black wins!</td>\n",
       "      <td>22</td>\n",
       "      <td>13</td>\n",
       "      <td>13</td>\n",
       "      <td>26</td>\n",
       "    </tr>\n",
       "    <tr>\n",
       "      <th>2</th>\n",
       "      <td>1</td>\n",
       "      <td>1</td>\n",
       "      <td>None</td>\n",
       "      <td>naive_agent</td>\n",
       "      <td>stockfish</td>\n",
       "      <td>False</td>\n",
       "      <td>checkmate: Black wins!</td>\n",
       "      <td>22</td>\n",
       "      <td>12</td>\n",
       "      <td>15</td>\n",
       "      <td>27</td>\n",
       "    </tr>\n",
       "    <tr>\n",
       "      <th>3</th>\n",
       "      <td>1</td>\n",
       "      <td>1</td>\n",
       "      <td>None</td>\n",
       "      <td>improved_agent</td>\n",
       "      <td>stockfish</td>\n",
       "      <td>False</td>\n",
       "      <td>checkmate: Black wins!</td>\n",
       "      <td>24</td>\n",
       "      <td>10</td>\n",
       "      <td>14</td>\n",
       "      <td>24</td>\n",
       "    </tr>\n",
       "    <tr>\n",
       "      <th>4</th>\n",
       "      <td>1</td>\n",
       "      <td>1</td>\n",
       "      <td>None</td>\n",
       "      <td>advanced_agent</td>\n",
       "      <td>stockfish</td>\n",
       "      <td>False</td>\n",
       "      <td>checkmate: Black wins!</td>\n",
       "      <td>24</td>\n",
       "      <td>10</td>\n",
       "      <td>13</td>\n",
       "      <td>23</td>\n",
       "    </tr>\n",
       "    <tr>\n",
       "      <th>8</th>\n",
       "      <td>1</td>\n",
       "      <td>1</td>\n",
       "      <td>2</td>\n",
       "      <td>improved_minimax_agent</td>\n",
       "      <td>stockfish</td>\n",
       "      <td>False</td>\n",
       "      <td>checkmate: Black wins!</td>\n",
       "      <td>26</td>\n",
       "      <td>11</td>\n",
       "      <td>14</td>\n",
       "      <td>25</td>\n",
       "    </tr>\n",
       "    <tr>\n",
       "      <th>11</th>\n",
       "      <td>1</td>\n",
       "      <td>1</td>\n",
       "      <td>1</td>\n",
       "      <td>naive_alpha-beta_minimax_agent</td>\n",
       "      <td>stockfish</td>\n",
       "      <td>False</td>\n",
       "      <td>checkmate: Black wins!</td>\n",
       "      <td>30</td>\n",
       "      <td>15</td>\n",
       "      <td>15</td>\n",
       "      <td>30</td>\n",
       "    </tr>\n",
       "    <tr>\n",
       "      <th>5</th>\n",
       "      <td>1</td>\n",
       "      <td>1</td>\n",
       "      <td>1</td>\n",
       "      <td>naive_minimax_agent</td>\n",
       "      <td>stockfish</td>\n",
       "      <td>False</td>\n",
       "      <td>checkmate: Black wins!</td>\n",
       "      <td>34</td>\n",
       "      <td>15</td>\n",
       "      <td>15</td>\n",
       "      <td>30</td>\n",
       "    </tr>\n",
       "    <tr>\n",
       "      <th>6</th>\n",
       "      <td>1</td>\n",
       "      <td>1</td>\n",
       "      <td>2</td>\n",
       "      <td>naive_minimax_agent</td>\n",
       "      <td>stockfish</td>\n",
       "      <td>False</td>\n",
       "      <td>checkmate: Black wins!</td>\n",
       "      <td>36</td>\n",
       "      <td>12</td>\n",
       "      <td>14</td>\n",
       "      <td>26</td>\n",
       "    </tr>\n",
       "    <tr>\n",
       "      <th>10</th>\n",
       "      <td>1</td>\n",
       "      <td>1</td>\n",
       "      <td>2</td>\n",
       "      <td>advanced_minimax_agent</td>\n",
       "      <td>stockfish</td>\n",
       "      <td>False</td>\n",
       "      <td>checkmate: Black wins!</td>\n",
       "      <td>38</td>\n",
       "      <td>11</td>\n",
       "      <td>12</td>\n",
       "      <td>23</td>\n",
       "    </tr>\n",
       "    <tr>\n",
       "      <th>7</th>\n",
       "      <td>1</td>\n",
       "      <td>1</td>\n",
       "      <td>1</td>\n",
       "      <td>improved_minimax_agent</td>\n",
       "      <td>stockfish</td>\n",
       "      <td>False</td>\n",
       "      <td>checkmate: Black wins!</td>\n",
       "      <td>42</td>\n",
       "      <td>12</td>\n",
       "      <td>13</td>\n",
       "      <td>25</td>\n",
       "    </tr>\n",
       "    <tr>\n",
       "      <th>9</th>\n",
       "      <td>1</td>\n",
       "      <td>1</td>\n",
       "      <td>1</td>\n",
       "      <td>advanced_minimax_agent</td>\n",
       "      <td>stockfish</td>\n",
       "      <td>False</td>\n",
       "      <td>checkmate: Black wins!</td>\n",
       "      <td>48</td>\n",
       "      <td>6</td>\n",
       "      <td>12</td>\n",
       "      <td>18</td>\n",
       "    </tr>\n",
       "  </tbody>\n",
       "</table>\n",
       "</div>"
      ],
      "text/plain": [
       "   round_num iterations depth                     white agent black agent  \\\n",
       "0          1          1  None                    random_agent   stockfish   \n",
       "1          1          1  None           improved_random_agent   stockfish   \n",
       "2          1          1  None                     naive_agent   stockfish   \n",
       "3          1          1  None                  improved_agent   stockfish   \n",
       "4          1          1  None                  advanced_agent   stockfish   \n",
       "8          1          1     2          improved_minimax_agent   stockfish   \n",
       "11         1          1     1  naive_alpha-beta_minimax_agent   stockfish   \n",
       "5          1          1     1             naive_minimax_agent   stockfish   \n",
       "6          1          1     2             naive_minimax_agent   stockfish   \n",
       "10         1          1     2          advanced_minimax_agent   stockfish   \n",
       "7          1          1     1          improved_minimax_agent   stockfish   \n",
       "9          1          1     1          advanced_minimax_agent   stockfish   \n",
       "\n",
       "   white_victory                  winner moves_played remain_w_pieces  \\\n",
       "0          False  checkmate: Black wins!           18              14   \n",
       "1          False  checkmate: Black wins!           22              13   \n",
       "2          False  checkmate: Black wins!           22              12   \n",
       "3          False  checkmate: Black wins!           24              10   \n",
       "4          False  checkmate: Black wins!           24              10   \n",
       "8          False  checkmate: Black wins!           26              11   \n",
       "11         False  checkmate: Black wins!           30              15   \n",
       "5          False  checkmate: Black wins!           34              15   \n",
       "6          False  checkmate: Black wins!           36              12   \n",
       "10         False  checkmate: Black wins!           38              11   \n",
       "7          False  checkmate: Black wins!           42              12   \n",
       "9          False  checkmate: Black wins!           48               6   \n",
       "\n",
       "   remaining_b_pieces remaining_tot_pieces  \n",
       "0                  16                   30  \n",
       "1                  13                   26  \n",
       "2                  15                   27  \n",
       "3                  14                   24  \n",
       "4                  13                   23  \n",
       "8                  14                   25  \n",
       "11                 15                   30  \n",
       "5                  15                   30  \n",
       "6                  14                   26  \n",
       "10                 12                   23  \n",
       "7                  13                   25  \n",
       "9                  12                   18  "
      ]
     },
     "execution_count": 64,
     "metadata": {},
     "output_type": "execute_result"
    }
   ],
   "source": [
    "scoreboard.sort_values(by=['moves_played'], inplace=False, ascending=True)"
   ]
  },
  {
   "cell_type": "markdown",
   "metadata": {},
   "source": [
    "## Naive Mini-Max with Alpha-Beta-Pruning Agent (Depth 2) vs Stockfish"
   ]
  },
  {
   "cell_type": "code",
   "execution_count": 65,
   "metadata": {
    "pycharm": {
     "is_executing": true,
     "name": "#%%\n"
    }
   },
   "outputs": [
    {
     "name": "stdout",
     "output_type": "stream",
     "text": [
      "started round: 0\n",
      "created stockfish: <SimpleEngine (pid=5637)>\n",
      "inside play_game_engine\n",
      "hi\n"
     ]
    }
   ],
   "source": [
    "game = ai.Game()\n",
    "white = ai.MiniMaxAgent(max_depth=2, heuristic=\"naive\", type=\"alpha-beta\")\n",
    "black = STOCKFISH_PATH\n",
    "\n",
    "results = game.run_engine(white, black, NUM_ITERATIONS, visual=None)"
   ]
  },
  {
   "cell_type": "code",
   "execution_count": 66,
   "metadata": {
    "pycharm": {
     "is_executing": true,
     "name": "#%%\n"
    }
   },
   "outputs": [],
   "source": [
    "df = pd.DataFrame(data=results,columns=COLUMNS)"
   ]
  },
  {
   "cell_type": "code",
   "execution_count": 67,
   "metadata": {
    "pycharm": {
     "is_executing": true,
     "name": "#%%\n"
    }
   },
   "outputs": [],
   "source": [
    "#update the scoreboard\n",
    "scoreboard = scoreboard.append(df, ignore_index=True)"
   ]
  },
  {
   "cell_type": "markdown",
   "metadata": {},
   "source": [
    "### Overall Scoreboard by moves played ascending"
   ]
  },
  {
   "cell_type": "code",
   "execution_count": 68,
   "metadata": {
    "pycharm": {
     "is_executing": true,
     "name": "#%%\n"
    }
   },
   "outputs": [
    {
     "data": {
      "text/html": [
       "<div>\n",
       "<style scoped>\n",
       "    .dataframe tbody tr th:only-of-type {\n",
       "        vertical-align: middle;\n",
       "    }\n",
       "\n",
       "    .dataframe tbody tr th {\n",
       "        vertical-align: top;\n",
       "    }\n",
       "\n",
       "    .dataframe thead th {\n",
       "        text-align: right;\n",
       "    }\n",
       "</style>\n",
       "<table border=\"1\" class=\"dataframe\">\n",
       "  <thead>\n",
       "    <tr style=\"text-align: right;\">\n",
       "      <th></th>\n",
       "      <th>round_num</th>\n",
       "      <th>iterations</th>\n",
       "      <th>depth</th>\n",
       "      <th>white agent</th>\n",
       "      <th>black agent</th>\n",
       "      <th>white_victory</th>\n",
       "      <th>winner</th>\n",
       "      <th>moves_played</th>\n",
       "      <th>remain_w_pieces</th>\n",
       "      <th>remaining_b_pieces</th>\n",
       "      <th>remaining_tot_pieces</th>\n",
       "    </tr>\n",
       "  </thead>\n",
       "  <tbody>\n",
       "    <tr>\n",
       "      <th>0</th>\n",
       "      <td>1</td>\n",
       "      <td>1</td>\n",
       "      <td>None</td>\n",
       "      <td>random_agent</td>\n",
       "      <td>stockfish</td>\n",
       "      <td>False</td>\n",
       "      <td>checkmate: Black wins!</td>\n",
       "      <td>18</td>\n",
       "      <td>14</td>\n",
       "      <td>16</td>\n",
       "      <td>30</td>\n",
       "    </tr>\n",
       "    <tr>\n",
       "      <th>1</th>\n",
       "      <td>1</td>\n",
       "      <td>1</td>\n",
       "      <td>None</td>\n",
       "      <td>improved_random_agent</td>\n",
       "      <td>stockfish</td>\n",
       "      <td>False</td>\n",
       "      <td>checkmate: Black wins!</td>\n",
       "      <td>22</td>\n",
       "      <td>13</td>\n",
       "      <td>13</td>\n",
       "      <td>26</td>\n",
       "    </tr>\n",
       "    <tr>\n",
       "      <th>2</th>\n",
       "      <td>1</td>\n",
       "      <td>1</td>\n",
       "      <td>None</td>\n",
       "      <td>naive_agent</td>\n",
       "      <td>stockfish</td>\n",
       "      <td>False</td>\n",
       "      <td>checkmate: Black wins!</td>\n",
       "      <td>22</td>\n",
       "      <td>12</td>\n",
       "      <td>15</td>\n",
       "      <td>27</td>\n",
       "    </tr>\n",
       "    <tr>\n",
       "      <th>3</th>\n",
       "      <td>1</td>\n",
       "      <td>1</td>\n",
       "      <td>None</td>\n",
       "      <td>improved_agent</td>\n",
       "      <td>stockfish</td>\n",
       "      <td>False</td>\n",
       "      <td>checkmate: Black wins!</td>\n",
       "      <td>24</td>\n",
       "      <td>10</td>\n",
       "      <td>14</td>\n",
       "      <td>24</td>\n",
       "    </tr>\n",
       "    <tr>\n",
       "      <th>4</th>\n",
       "      <td>1</td>\n",
       "      <td>1</td>\n",
       "      <td>None</td>\n",
       "      <td>advanced_agent</td>\n",
       "      <td>stockfish</td>\n",
       "      <td>False</td>\n",
       "      <td>checkmate: Black wins!</td>\n",
       "      <td>24</td>\n",
       "      <td>10</td>\n",
       "      <td>13</td>\n",
       "      <td>23</td>\n",
       "    </tr>\n",
       "    <tr>\n",
       "      <th>8</th>\n",
       "      <td>1</td>\n",
       "      <td>1</td>\n",
       "      <td>2</td>\n",
       "      <td>improved_minimax_agent</td>\n",
       "      <td>stockfish</td>\n",
       "      <td>False</td>\n",
       "      <td>checkmate: Black wins!</td>\n",
       "      <td>26</td>\n",
       "      <td>11</td>\n",
       "      <td>14</td>\n",
       "      <td>25</td>\n",
       "    </tr>\n",
       "    <tr>\n",
       "      <th>11</th>\n",
       "      <td>1</td>\n",
       "      <td>1</td>\n",
       "      <td>1</td>\n",
       "      <td>naive_alpha-beta_minimax_agent</td>\n",
       "      <td>stockfish</td>\n",
       "      <td>False</td>\n",
       "      <td>checkmate: Black wins!</td>\n",
       "      <td>30</td>\n",
       "      <td>15</td>\n",
       "      <td>15</td>\n",
       "      <td>30</td>\n",
       "    </tr>\n",
       "    <tr>\n",
       "      <th>5</th>\n",
       "      <td>1</td>\n",
       "      <td>1</td>\n",
       "      <td>1</td>\n",
       "      <td>naive_minimax_agent</td>\n",
       "      <td>stockfish</td>\n",
       "      <td>False</td>\n",
       "      <td>checkmate: Black wins!</td>\n",
       "      <td>34</td>\n",
       "      <td>15</td>\n",
       "      <td>15</td>\n",
       "      <td>30</td>\n",
       "    </tr>\n",
       "    <tr>\n",
       "      <th>6</th>\n",
       "      <td>1</td>\n",
       "      <td>1</td>\n",
       "      <td>2</td>\n",
       "      <td>naive_minimax_agent</td>\n",
       "      <td>stockfish</td>\n",
       "      <td>False</td>\n",
       "      <td>checkmate: Black wins!</td>\n",
       "      <td>36</td>\n",
       "      <td>12</td>\n",
       "      <td>14</td>\n",
       "      <td>26</td>\n",
       "    </tr>\n",
       "    <tr>\n",
       "      <th>10</th>\n",
       "      <td>1</td>\n",
       "      <td>1</td>\n",
       "      <td>2</td>\n",
       "      <td>advanced_minimax_agent</td>\n",
       "      <td>stockfish</td>\n",
       "      <td>False</td>\n",
       "      <td>checkmate: Black wins!</td>\n",
       "      <td>38</td>\n",
       "      <td>11</td>\n",
       "      <td>12</td>\n",
       "      <td>23</td>\n",
       "    </tr>\n",
       "    <tr>\n",
       "      <th>7</th>\n",
       "      <td>1</td>\n",
       "      <td>1</td>\n",
       "      <td>1</td>\n",
       "      <td>improved_minimax_agent</td>\n",
       "      <td>stockfish</td>\n",
       "      <td>False</td>\n",
       "      <td>checkmate: Black wins!</td>\n",
       "      <td>42</td>\n",
       "      <td>12</td>\n",
       "      <td>13</td>\n",
       "      <td>25</td>\n",
       "    </tr>\n",
       "    <tr>\n",
       "      <th>9</th>\n",
       "      <td>1</td>\n",
       "      <td>1</td>\n",
       "      <td>1</td>\n",
       "      <td>advanced_minimax_agent</td>\n",
       "      <td>stockfish</td>\n",
       "      <td>False</td>\n",
       "      <td>checkmate: Black wins!</td>\n",
       "      <td>48</td>\n",
       "      <td>6</td>\n",
       "      <td>12</td>\n",
       "      <td>18</td>\n",
       "    </tr>\n",
       "    <tr>\n",
       "      <th>12</th>\n",
       "      <td>1</td>\n",
       "      <td>1</td>\n",
       "      <td>2</td>\n",
       "      <td>naive_alpha-beta_minimax_agent</td>\n",
       "      <td>stockfish</td>\n",
       "      <td>False</td>\n",
       "      <td>checkmate: Black wins!</td>\n",
       "      <td>50</td>\n",
       "      <td>4</td>\n",
       "      <td>13</td>\n",
       "      <td>17</td>\n",
       "    </tr>\n",
       "  </tbody>\n",
       "</table>\n",
       "</div>"
      ],
      "text/plain": [
       "   round_num iterations depth                     white agent black agent  \\\n",
       "0          1          1  None                    random_agent   stockfish   \n",
       "1          1          1  None           improved_random_agent   stockfish   \n",
       "2          1          1  None                     naive_agent   stockfish   \n",
       "3          1          1  None                  improved_agent   stockfish   \n",
       "4          1          1  None                  advanced_agent   stockfish   \n",
       "8          1          1     2          improved_minimax_agent   stockfish   \n",
       "11         1          1     1  naive_alpha-beta_minimax_agent   stockfish   \n",
       "5          1          1     1             naive_minimax_agent   stockfish   \n",
       "6          1          1     2             naive_minimax_agent   stockfish   \n",
       "10         1          1     2          advanced_minimax_agent   stockfish   \n",
       "7          1          1     1          improved_minimax_agent   stockfish   \n",
       "9          1          1     1          advanced_minimax_agent   stockfish   \n",
       "12         1          1     2  naive_alpha-beta_minimax_agent   stockfish   \n",
       "\n",
       "   white_victory                  winner moves_played remain_w_pieces  \\\n",
       "0          False  checkmate: Black wins!           18              14   \n",
       "1          False  checkmate: Black wins!           22              13   \n",
       "2          False  checkmate: Black wins!           22              12   \n",
       "3          False  checkmate: Black wins!           24              10   \n",
       "4          False  checkmate: Black wins!           24              10   \n",
       "8          False  checkmate: Black wins!           26              11   \n",
       "11         False  checkmate: Black wins!           30              15   \n",
       "5          False  checkmate: Black wins!           34              15   \n",
       "6          False  checkmate: Black wins!           36              12   \n",
       "10         False  checkmate: Black wins!           38              11   \n",
       "7          False  checkmate: Black wins!           42              12   \n",
       "9          False  checkmate: Black wins!           48               6   \n",
       "12         False  checkmate: Black wins!           50               4   \n",
       "\n",
       "   remaining_b_pieces remaining_tot_pieces  \n",
       "0                  16                   30  \n",
       "1                  13                   26  \n",
       "2                  15                   27  \n",
       "3                  14                   24  \n",
       "4                  13                   23  \n",
       "8                  14                   25  \n",
       "11                 15                   30  \n",
       "5                  15                   30  \n",
       "6                  14                   26  \n",
       "10                 12                   23  \n",
       "7                  13                   25  \n",
       "9                  12                   18  \n",
       "12                 13                   17  "
      ]
     },
     "execution_count": 68,
     "metadata": {},
     "output_type": "execute_result"
    }
   ],
   "source": [
    "scoreboard.sort_values(by=['moves_played'], inplace=False, ascending=True)"
   ]
  },
  {
   "cell_type": "markdown",
   "metadata": {},
   "source": [
    "## Naive Mini-Max with Alpha-Beta-Pruning Agent (Depth 3) vs Stockfish"
   ]
  },
  {
   "cell_type": "code",
   "execution_count": 69,
   "metadata": {
    "pycharm": {
     "is_executing": true,
     "name": "#%%\n"
    }
   },
   "outputs": [],
   "source": [
    "# game = ai.Game()\n",
    "# white = ai.MiniMaxAgent(max_depth=3, heuristic=\"naive\", type=\"alpha-beta\")\n",
    "# black = STOCKFISH_PATH\n",
    "# \n",
    "# results = game.run_engine(white, black, NUM_ITERATIONS, visual=None)"
   ]
  },
  {
   "cell_type": "code",
   "execution_count": 70,
   "metadata": {
    "pycharm": {
     "is_executing": true,
     "name": "#%%\n"
    }
   },
   "outputs": [],
   "source": [
    "# df = pd.DataFrame(data=results,columns=COLUMNS)"
   ]
  },
  {
   "cell_type": "code",
   "execution_count": 71,
   "metadata": {
    "pycharm": {
     "is_executing": true,
     "name": "#%%\n"
    }
   },
   "outputs": [],
   "source": [
    "#update the scoreboard\n",
    "# scoreboard = scoreboard.append(df, ignore_index=True)"
   ]
  },
  {
   "cell_type": "markdown",
   "metadata": {},
   "source": [
    "### Overall Scoreboard by moves played ascending"
   ]
  },
  {
   "cell_type": "code",
   "execution_count": 72,
   "metadata": {
    "pycharm": {
     "is_executing": true,
     "name": "#%%\n"
    }
   },
   "outputs": [],
   "source": [
    "# scoreboard.sort_values(by=['moves_played'], inplace=False, ascending=True)\n"
   ]
  },
  {
   "cell_type": "markdown",
   "metadata": {},
   "source": [
    "## Improved Mini-Max with Alpha-Beta-Pruning Agent (Depth 1) vs Stockfish"
   ]
  },
  {
   "cell_type": "code",
   "execution_count": 73,
   "metadata": {
    "pycharm": {
     "is_executing": true,
     "name": "#%%\n"
    }
   },
   "outputs": [
    {
     "name": "stdout",
     "output_type": "stream",
     "text": [
      "started round: 0\n",
      "created stockfish: <SimpleEngine (pid=5643)>\n",
      "inside play_game_engine\n",
      "hi\n"
     ]
    }
   ],
   "source": [
    "game = ai.Game()\n",
    "white = ai.MiniMaxAgent(max_depth=1, heuristic=\"improved\", type=\"alpha-beta\")\n",
    "black = STOCKFISH_PATH\n",
    "\n",
    "results = game.run_engine(white, black, NUM_ITERATIONS, visual=None)"
   ]
  },
  {
   "cell_type": "code",
   "execution_count": 74,
   "metadata": {
    "pycharm": {
     "is_executing": true,
     "name": "#%%\n"
    }
   },
   "outputs": [],
   "source": [
    "df = pd.DataFrame(data=results,columns=COLUMNS)"
   ]
  },
  {
   "cell_type": "code",
   "execution_count": 75,
   "metadata": {
    "pycharm": {
     "is_executing": true,
     "name": "#%%\n"
    }
   },
   "outputs": [],
   "source": [
    "#update the scoreboard\n",
    "scoreboard = scoreboard.append(df, ignore_index=True)"
   ]
  },
  {
   "cell_type": "markdown",
   "metadata": {},
   "source": [
    "### Overall Scoreboard by moves played ascending"
   ]
  },
  {
   "cell_type": "code",
   "execution_count": 76,
   "metadata": {
    "pycharm": {
     "is_executing": true,
     "name": "#%%\n"
    }
   },
   "outputs": [
    {
     "data": {
      "text/html": [
       "<div>\n",
       "<style scoped>\n",
       "    .dataframe tbody tr th:only-of-type {\n",
       "        vertical-align: middle;\n",
       "    }\n",
       "\n",
       "    .dataframe tbody tr th {\n",
       "        vertical-align: top;\n",
       "    }\n",
       "\n",
       "    .dataframe thead th {\n",
       "        text-align: right;\n",
       "    }\n",
       "</style>\n",
       "<table border=\"1\" class=\"dataframe\">\n",
       "  <thead>\n",
       "    <tr style=\"text-align: right;\">\n",
       "      <th></th>\n",
       "      <th>round_num</th>\n",
       "      <th>iterations</th>\n",
       "      <th>depth</th>\n",
       "      <th>white agent</th>\n",
       "      <th>black agent</th>\n",
       "      <th>white_victory</th>\n",
       "      <th>winner</th>\n",
       "      <th>moves_played</th>\n",
       "      <th>remain_w_pieces</th>\n",
       "      <th>remaining_b_pieces</th>\n",
       "      <th>remaining_tot_pieces</th>\n",
       "    </tr>\n",
       "  </thead>\n",
       "  <tbody>\n",
       "    <tr>\n",
       "      <th>0</th>\n",
       "      <td>1</td>\n",
       "      <td>1</td>\n",
       "      <td>None</td>\n",
       "      <td>random_agent</td>\n",
       "      <td>stockfish</td>\n",
       "      <td>False</td>\n",
       "      <td>checkmate: Black wins!</td>\n",
       "      <td>18</td>\n",
       "      <td>14</td>\n",
       "      <td>16</td>\n",
       "      <td>30</td>\n",
       "    </tr>\n",
       "    <tr>\n",
       "      <th>1</th>\n",
       "      <td>1</td>\n",
       "      <td>1</td>\n",
       "      <td>None</td>\n",
       "      <td>improved_random_agent</td>\n",
       "      <td>stockfish</td>\n",
       "      <td>False</td>\n",
       "      <td>checkmate: Black wins!</td>\n",
       "      <td>22</td>\n",
       "      <td>13</td>\n",
       "      <td>13</td>\n",
       "      <td>26</td>\n",
       "    </tr>\n",
       "    <tr>\n",
       "      <th>2</th>\n",
       "      <td>1</td>\n",
       "      <td>1</td>\n",
       "      <td>None</td>\n",
       "      <td>naive_agent</td>\n",
       "      <td>stockfish</td>\n",
       "      <td>False</td>\n",
       "      <td>checkmate: Black wins!</td>\n",
       "      <td>22</td>\n",
       "      <td>12</td>\n",
       "      <td>15</td>\n",
       "      <td>27</td>\n",
       "    </tr>\n",
       "    <tr>\n",
       "      <th>3</th>\n",
       "      <td>1</td>\n",
       "      <td>1</td>\n",
       "      <td>None</td>\n",
       "      <td>improved_agent</td>\n",
       "      <td>stockfish</td>\n",
       "      <td>False</td>\n",
       "      <td>checkmate: Black wins!</td>\n",
       "      <td>24</td>\n",
       "      <td>10</td>\n",
       "      <td>14</td>\n",
       "      <td>24</td>\n",
       "    </tr>\n",
       "    <tr>\n",
       "      <th>4</th>\n",
       "      <td>1</td>\n",
       "      <td>1</td>\n",
       "      <td>None</td>\n",
       "      <td>advanced_agent</td>\n",
       "      <td>stockfish</td>\n",
       "      <td>False</td>\n",
       "      <td>checkmate: Black wins!</td>\n",
       "      <td>24</td>\n",
       "      <td>10</td>\n",
       "      <td>13</td>\n",
       "      <td>23</td>\n",
       "    </tr>\n",
       "    <tr>\n",
       "      <th>8</th>\n",
       "      <td>1</td>\n",
       "      <td>1</td>\n",
       "      <td>2</td>\n",
       "      <td>improved_minimax_agent</td>\n",
       "      <td>stockfish</td>\n",
       "      <td>False</td>\n",
       "      <td>checkmate: Black wins!</td>\n",
       "      <td>26</td>\n",
       "      <td>11</td>\n",
       "      <td>14</td>\n",
       "      <td>25</td>\n",
       "    </tr>\n",
       "    <tr>\n",
       "      <th>11</th>\n",
       "      <td>1</td>\n",
       "      <td>1</td>\n",
       "      <td>1</td>\n",
       "      <td>naive_alpha-beta_minimax_agent</td>\n",
       "      <td>stockfish</td>\n",
       "      <td>False</td>\n",
       "      <td>checkmate: Black wins!</td>\n",
       "      <td>30</td>\n",
       "      <td>15</td>\n",
       "      <td>15</td>\n",
       "      <td>30</td>\n",
       "    </tr>\n",
       "    <tr>\n",
       "      <th>13</th>\n",
       "      <td>1</td>\n",
       "      <td>1</td>\n",
       "      <td>1</td>\n",
       "      <td>improved_alpha-beta_minimax_agent</td>\n",
       "      <td>stockfish</td>\n",
       "      <td>False</td>\n",
       "      <td>checkmate: Black wins!</td>\n",
       "      <td>32</td>\n",
       "      <td>10</td>\n",
       "      <td>15</td>\n",
       "      <td>25</td>\n",
       "    </tr>\n",
       "    <tr>\n",
       "      <th>5</th>\n",
       "      <td>1</td>\n",
       "      <td>1</td>\n",
       "      <td>1</td>\n",
       "      <td>naive_minimax_agent</td>\n",
       "      <td>stockfish</td>\n",
       "      <td>False</td>\n",
       "      <td>checkmate: Black wins!</td>\n",
       "      <td>34</td>\n",
       "      <td>15</td>\n",
       "      <td>15</td>\n",
       "      <td>30</td>\n",
       "    </tr>\n",
       "    <tr>\n",
       "      <th>6</th>\n",
       "      <td>1</td>\n",
       "      <td>1</td>\n",
       "      <td>2</td>\n",
       "      <td>naive_minimax_agent</td>\n",
       "      <td>stockfish</td>\n",
       "      <td>False</td>\n",
       "      <td>checkmate: Black wins!</td>\n",
       "      <td>36</td>\n",
       "      <td>12</td>\n",
       "      <td>14</td>\n",
       "      <td>26</td>\n",
       "    </tr>\n",
       "    <tr>\n",
       "      <th>10</th>\n",
       "      <td>1</td>\n",
       "      <td>1</td>\n",
       "      <td>2</td>\n",
       "      <td>advanced_minimax_agent</td>\n",
       "      <td>stockfish</td>\n",
       "      <td>False</td>\n",
       "      <td>checkmate: Black wins!</td>\n",
       "      <td>38</td>\n",
       "      <td>11</td>\n",
       "      <td>12</td>\n",
       "      <td>23</td>\n",
       "    </tr>\n",
       "    <tr>\n",
       "      <th>7</th>\n",
       "      <td>1</td>\n",
       "      <td>1</td>\n",
       "      <td>1</td>\n",
       "      <td>improved_minimax_agent</td>\n",
       "      <td>stockfish</td>\n",
       "      <td>False</td>\n",
       "      <td>checkmate: Black wins!</td>\n",
       "      <td>42</td>\n",
       "      <td>12</td>\n",
       "      <td>13</td>\n",
       "      <td>25</td>\n",
       "    </tr>\n",
       "    <tr>\n",
       "      <th>9</th>\n",
       "      <td>1</td>\n",
       "      <td>1</td>\n",
       "      <td>1</td>\n",
       "      <td>advanced_minimax_agent</td>\n",
       "      <td>stockfish</td>\n",
       "      <td>False</td>\n",
       "      <td>checkmate: Black wins!</td>\n",
       "      <td>48</td>\n",
       "      <td>6</td>\n",
       "      <td>12</td>\n",
       "      <td>18</td>\n",
       "    </tr>\n",
       "    <tr>\n",
       "      <th>12</th>\n",
       "      <td>1</td>\n",
       "      <td>1</td>\n",
       "      <td>2</td>\n",
       "      <td>naive_alpha-beta_minimax_agent</td>\n",
       "      <td>stockfish</td>\n",
       "      <td>False</td>\n",
       "      <td>checkmate: Black wins!</td>\n",
       "      <td>50</td>\n",
       "      <td>4</td>\n",
       "      <td>13</td>\n",
       "      <td>17</td>\n",
       "    </tr>\n",
       "  </tbody>\n",
       "</table>\n",
       "</div>"
      ],
      "text/plain": [
       "   round_num iterations depth                        white agent black agent  \\\n",
       "0          1          1  None                       random_agent   stockfish   \n",
       "1          1          1  None              improved_random_agent   stockfish   \n",
       "2          1          1  None                        naive_agent   stockfish   \n",
       "3          1          1  None                     improved_agent   stockfish   \n",
       "4          1          1  None                     advanced_agent   stockfish   \n",
       "8          1          1     2             improved_minimax_agent   stockfish   \n",
       "11         1          1     1     naive_alpha-beta_minimax_agent   stockfish   \n",
       "13         1          1     1  improved_alpha-beta_minimax_agent   stockfish   \n",
       "5          1          1     1                naive_minimax_agent   stockfish   \n",
       "6          1          1     2                naive_minimax_agent   stockfish   \n",
       "10         1          1     2             advanced_minimax_agent   stockfish   \n",
       "7          1          1     1             improved_minimax_agent   stockfish   \n",
       "9          1          1     1             advanced_minimax_agent   stockfish   \n",
       "12         1          1     2     naive_alpha-beta_minimax_agent   stockfish   \n",
       "\n",
       "   white_victory                  winner moves_played remain_w_pieces  \\\n",
       "0          False  checkmate: Black wins!           18              14   \n",
       "1          False  checkmate: Black wins!           22              13   \n",
       "2          False  checkmate: Black wins!           22              12   \n",
       "3          False  checkmate: Black wins!           24              10   \n",
       "4          False  checkmate: Black wins!           24              10   \n",
       "8          False  checkmate: Black wins!           26              11   \n",
       "11         False  checkmate: Black wins!           30              15   \n",
       "13         False  checkmate: Black wins!           32              10   \n",
       "5          False  checkmate: Black wins!           34              15   \n",
       "6          False  checkmate: Black wins!           36              12   \n",
       "10         False  checkmate: Black wins!           38              11   \n",
       "7          False  checkmate: Black wins!           42              12   \n",
       "9          False  checkmate: Black wins!           48               6   \n",
       "12         False  checkmate: Black wins!           50               4   \n",
       "\n",
       "   remaining_b_pieces remaining_tot_pieces  \n",
       "0                  16                   30  \n",
       "1                  13                   26  \n",
       "2                  15                   27  \n",
       "3                  14                   24  \n",
       "4                  13                   23  \n",
       "8                  14                   25  \n",
       "11                 15                   30  \n",
       "13                 15                   25  \n",
       "5                  15                   30  \n",
       "6                  14                   26  \n",
       "10                 12                   23  \n",
       "7                  13                   25  \n",
       "9                  12                   18  \n",
       "12                 13                   17  "
      ]
     },
     "execution_count": 76,
     "metadata": {},
     "output_type": "execute_result"
    }
   ],
   "source": [
    "scoreboard.sort_values(by=['moves_played'], inplace=False, ascending=True)\n"
   ]
  },
  {
   "cell_type": "markdown",
   "metadata": {},
   "source": [
    "## Improved Mini-Max with Alpha-Beta-Pruning Agent (Depth 2) vs Stockfish"
   ]
  },
  {
   "cell_type": "code",
   "execution_count": 77,
   "metadata": {
    "pycharm": {
     "is_executing": true,
     "name": "#%%\n"
    }
   },
   "outputs": [
    {
     "name": "stdout",
     "output_type": "stream",
     "text": [
      "started round: 0\n",
      "created stockfish: <SimpleEngine (pid=5649)>\n",
      "inside play_game_engine\n",
      "hi\n"
     ]
    }
   ],
   "source": [
    "game = ai.Game()\n",
    "white = ai.MiniMaxAgent(max_depth=2, heuristic=\"improved\", type=\"alpha-beta\")\n",
    "black = STOCKFISH_PATH\n",
    "\n",
    "results = game.run_engine(white, black, NUM_ITERATIONS, visual=None)"
   ]
  },
  {
   "cell_type": "code",
   "execution_count": 78,
   "metadata": {
    "pycharm": {
     "is_executing": true,
     "name": "#%%\n"
    }
   },
   "outputs": [],
   "source": [
    "df = pd.DataFrame(data=results,columns=COLUMNS)"
   ]
  },
  {
   "cell_type": "code",
   "execution_count": 79,
   "metadata": {
    "pycharm": {
     "is_executing": true,
     "name": "#%%\n"
    }
   },
   "outputs": [],
   "source": [
    "#update the scoreboard\n",
    "scoreboard = scoreboard.append(df, ignore_index=True)"
   ]
  },
  {
   "cell_type": "markdown",
   "metadata": {},
   "source": [
    "### Overall Scoreboard by moves played ascending"
   ]
  },
  {
   "cell_type": "code",
   "execution_count": 80,
   "metadata": {
    "pycharm": {
     "is_executing": true,
     "name": "#%%\n"
    }
   },
   "outputs": [
    {
     "data": {
      "text/html": [
       "<div>\n",
       "<style scoped>\n",
       "    .dataframe tbody tr th:only-of-type {\n",
       "        vertical-align: middle;\n",
       "    }\n",
       "\n",
       "    .dataframe tbody tr th {\n",
       "        vertical-align: top;\n",
       "    }\n",
       "\n",
       "    .dataframe thead th {\n",
       "        text-align: right;\n",
       "    }\n",
       "</style>\n",
       "<table border=\"1\" class=\"dataframe\">\n",
       "  <thead>\n",
       "    <tr style=\"text-align: right;\">\n",
       "      <th></th>\n",
       "      <th>round_num</th>\n",
       "      <th>iterations</th>\n",
       "      <th>depth</th>\n",
       "      <th>white agent</th>\n",
       "      <th>black agent</th>\n",
       "      <th>white_victory</th>\n",
       "      <th>winner</th>\n",
       "      <th>moves_played</th>\n",
       "      <th>remain_w_pieces</th>\n",
       "      <th>remaining_b_pieces</th>\n",
       "      <th>remaining_tot_pieces</th>\n",
       "    </tr>\n",
       "  </thead>\n",
       "  <tbody>\n",
       "    <tr>\n",
       "      <th>14</th>\n",
       "      <td>1</td>\n",
       "      <td>1</td>\n",
       "      <td>2</td>\n",
       "      <td>improved_alpha-beta_minimax_agent</td>\n",
       "      <td>stockfish</td>\n",
       "      <td>False</td>\n",
       "      <td>checkmate: Black wins!</td>\n",
       "      <td>16</td>\n",
       "      <td>11</td>\n",
       "      <td>14</td>\n",
       "      <td>25</td>\n",
       "    </tr>\n",
       "    <tr>\n",
       "      <th>0</th>\n",
       "      <td>1</td>\n",
       "      <td>1</td>\n",
       "      <td>None</td>\n",
       "      <td>random_agent</td>\n",
       "      <td>stockfish</td>\n",
       "      <td>False</td>\n",
       "      <td>checkmate: Black wins!</td>\n",
       "      <td>18</td>\n",
       "      <td>14</td>\n",
       "      <td>16</td>\n",
       "      <td>30</td>\n",
       "    </tr>\n",
       "    <tr>\n",
       "      <th>1</th>\n",
       "      <td>1</td>\n",
       "      <td>1</td>\n",
       "      <td>None</td>\n",
       "      <td>improved_random_agent</td>\n",
       "      <td>stockfish</td>\n",
       "      <td>False</td>\n",
       "      <td>checkmate: Black wins!</td>\n",
       "      <td>22</td>\n",
       "      <td>13</td>\n",
       "      <td>13</td>\n",
       "      <td>26</td>\n",
       "    </tr>\n",
       "    <tr>\n",
       "      <th>2</th>\n",
       "      <td>1</td>\n",
       "      <td>1</td>\n",
       "      <td>None</td>\n",
       "      <td>naive_agent</td>\n",
       "      <td>stockfish</td>\n",
       "      <td>False</td>\n",
       "      <td>checkmate: Black wins!</td>\n",
       "      <td>22</td>\n",
       "      <td>12</td>\n",
       "      <td>15</td>\n",
       "      <td>27</td>\n",
       "    </tr>\n",
       "    <tr>\n",
       "      <th>3</th>\n",
       "      <td>1</td>\n",
       "      <td>1</td>\n",
       "      <td>None</td>\n",
       "      <td>improved_agent</td>\n",
       "      <td>stockfish</td>\n",
       "      <td>False</td>\n",
       "      <td>checkmate: Black wins!</td>\n",
       "      <td>24</td>\n",
       "      <td>10</td>\n",
       "      <td>14</td>\n",
       "      <td>24</td>\n",
       "    </tr>\n",
       "    <tr>\n",
       "      <th>4</th>\n",
       "      <td>1</td>\n",
       "      <td>1</td>\n",
       "      <td>None</td>\n",
       "      <td>advanced_agent</td>\n",
       "      <td>stockfish</td>\n",
       "      <td>False</td>\n",
       "      <td>checkmate: Black wins!</td>\n",
       "      <td>24</td>\n",
       "      <td>10</td>\n",
       "      <td>13</td>\n",
       "      <td>23</td>\n",
       "    </tr>\n",
       "    <tr>\n",
       "      <th>8</th>\n",
       "      <td>1</td>\n",
       "      <td>1</td>\n",
       "      <td>2</td>\n",
       "      <td>improved_minimax_agent</td>\n",
       "      <td>stockfish</td>\n",
       "      <td>False</td>\n",
       "      <td>checkmate: Black wins!</td>\n",
       "      <td>26</td>\n",
       "      <td>11</td>\n",
       "      <td>14</td>\n",
       "      <td>25</td>\n",
       "    </tr>\n",
       "    <tr>\n",
       "      <th>11</th>\n",
       "      <td>1</td>\n",
       "      <td>1</td>\n",
       "      <td>1</td>\n",
       "      <td>naive_alpha-beta_minimax_agent</td>\n",
       "      <td>stockfish</td>\n",
       "      <td>False</td>\n",
       "      <td>checkmate: Black wins!</td>\n",
       "      <td>30</td>\n",
       "      <td>15</td>\n",
       "      <td>15</td>\n",
       "      <td>30</td>\n",
       "    </tr>\n",
       "    <tr>\n",
       "      <th>13</th>\n",
       "      <td>1</td>\n",
       "      <td>1</td>\n",
       "      <td>1</td>\n",
       "      <td>improved_alpha-beta_minimax_agent</td>\n",
       "      <td>stockfish</td>\n",
       "      <td>False</td>\n",
       "      <td>checkmate: Black wins!</td>\n",
       "      <td>32</td>\n",
       "      <td>10</td>\n",
       "      <td>15</td>\n",
       "      <td>25</td>\n",
       "    </tr>\n",
       "    <tr>\n",
       "      <th>5</th>\n",
       "      <td>1</td>\n",
       "      <td>1</td>\n",
       "      <td>1</td>\n",
       "      <td>naive_minimax_agent</td>\n",
       "      <td>stockfish</td>\n",
       "      <td>False</td>\n",
       "      <td>checkmate: Black wins!</td>\n",
       "      <td>34</td>\n",
       "      <td>15</td>\n",
       "      <td>15</td>\n",
       "      <td>30</td>\n",
       "    </tr>\n",
       "    <tr>\n",
       "      <th>6</th>\n",
       "      <td>1</td>\n",
       "      <td>1</td>\n",
       "      <td>2</td>\n",
       "      <td>naive_minimax_agent</td>\n",
       "      <td>stockfish</td>\n",
       "      <td>False</td>\n",
       "      <td>checkmate: Black wins!</td>\n",
       "      <td>36</td>\n",
       "      <td>12</td>\n",
       "      <td>14</td>\n",
       "      <td>26</td>\n",
       "    </tr>\n",
       "    <tr>\n",
       "      <th>10</th>\n",
       "      <td>1</td>\n",
       "      <td>1</td>\n",
       "      <td>2</td>\n",
       "      <td>advanced_minimax_agent</td>\n",
       "      <td>stockfish</td>\n",
       "      <td>False</td>\n",
       "      <td>checkmate: Black wins!</td>\n",
       "      <td>38</td>\n",
       "      <td>11</td>\n",
       "      <td>12</td>\n",
       "      <td>23</td>\n",
       "    </tr>\n",
       "    <tr>\n",
       "      <th>7</th>\n",
       "      <td>1</td>\n",
       "      <td>1</td>\n",
       "      <td>1</td>\n",
       "      <td>improved_minimax_agent</td>\n",
       "      <td>stockfish</td>\n",
       "      <td>False</td>\n",
       "      <td>checkmate: Black wins!</td>\n",
       "      <td>42</td>\n",
       "      <td>12</td>\n",
       "      <td>13</td>\n",
       "      <td>25</td>\n",
       "    </tr>\n",
       "    <tr>\n",
       "      <th>9</th>\n",
       "      <td>1</td>\n",
       "      <td>1</td>\n",
       "      <td>1</td>\n",
       "      <td>advanced_minimax_agent</td>\n",
       "      <td>stockfish</td>\n",
       "      <td>False</td>\n",
       "      <td>checkmate: Black wins!</td>\n",
       "      <td>48</td>\n",
       "      <td>6</td>\n",
       "      <td>12</td>\n",
       "      <td>18</td>\n",
       "    </tr>\n",
       "    <tr>\n",
       "      <th>12</th>\n",
       "      <td>1</td>\n",
       "      <td>1</td>\n",
       "      <td>2</td>\n",
       "      <td>naive_alpha-beta_minimax_agent</td>\n",
       "      <td>stockfish</td>\n",
       "      <td>False</td>\n",
       "      <td>checkmate: Black wins!</td>\n",
       "      <td>50</td>\n",
       "      <td>4</td>\n",
       "      <td>13</td>\n",
       "      <td>17</td>\n",
       "    </tr>\n",
       "  </tbody>\n",
       "</table>\n",
       "</div>"
      ],
      "text/plain": [
       "   round_num iterations depth                        white agent black agent  \\\n",
       "14         1          1     2  improved_alpha-beta_minimax_agent   stockfish   \n",
       "0          1          1  None                       random_agent   stockfish   \n",
       "1          1          1  None              improved_random_agent   stockfish   \n",
       "2          1          1  None                        naive_agent   stockfish   \n",
       "3          1          1  None                     improved_agent   stockfish   \n",
       "4          1          1  None                     advanced_agent   stockfish   \n",
       "8          1          1     2             improved_minimax_agent   stockfish   \n",
       "11         1          1     1     naive_alpha-beta_minimax_agent   stockfish   \n",
       "13         1          1     1  improved_alpha-beta_minimax_agent   stockfish   \n",
       "5          1          1     1                naive_minimax_agent   stockfish   \n",
       "6          1          1     2                naive_minimax_agent   stockfish   \n",
       "10         1          1     2             advanced_minimax_agent   stockfish   \n",
       "7          1          1     1             improved_minimax_agent   stockfish   \n",
       "9          1          1     1             advanced_minimax_agent   stockfish   \n",
       "12         1          1     2     naive_alpha-beta_minimax_agent   stockfish   \n",
       "\n",
       "   white_victory                  winner moves_played remain_w_pieces  \\\n",
       "14         False  checkmate: Black wins!           16              11   \n",
       "0          False  checkmate: Black wins!           18              14   \n",
       "1          False  checkmate: Black wins!           22              13   \n",
       "2          False  checkmate: Black wins!           22              12   \n",
       "3          False  checkmate: Black wins!           24              10   \n",
       "4          False  checkmate: Black wins!           24              10   \n",
       "8          False  checkmate: Black wins!           26              11   \n",
       "11         False  checkmate: Black wins!           30              15   \n",
       "13         False  checkmate: Black wins!           32              10   \n",
       "5          False  checkmate: Black wins!           34              15   \n",
       "6          False  checkmate: Black wins!           36              12   \n",
       "10         False  checkmate: Black wins!           38              11   \n",
       "7          False  checkmate: Black wins!           42              12   \n",
       "9          False  checkmate: Black wins!           48               6   \n",
       "12         False  checkmate: Black wins!           50               4   \n",
       "\n",
       "   remaining_b_pieces remaining_tot_pieces  \n",
       "14                 14                   25  \n",
       "0                  16                   30  \n",
       "1                  13                   26  \n",
       "2                  15                   27  \n",
       "3                  14                   24  \n",
       "4                  13                   23  \n",
       "8                  14                   25  \n",
       "11                 15                   30  \n",
       "13                 15                   25  \n",
       "5                  15                   30  \n",
       "6                  14                   26  \n",
       "10                 12                   23  \n",
       "7                  13                   25  \n",
       "9                  12                   18  \n",
       "12                 13                   17  "
      ]
     },
     "execution_count": 80,
     "metadata": {},
     "output_type": "execute_result"
    }
   ],
   "source": [
    "scoreboard.sort_values(by=['moves_played'], inplace=False, ascending=True)\n"
   ]
  },
  {
   "cell_type": "markdown",
   "metadata": {},
   "source": [
    "## Improved Mini-Max with Alpha-Beta-Pruning Agent (Depth 3) vs Stockfish"
   ]
  },
  {
   "cell_type": "code",
   "execution_count": 81,
   "metadata": {
    "pycharm": {
     "is_executing": true,
     "name": "#%%\n"
    }
   },
   "outputs": [],
   "source": [
    "# game = ai.Game()\n",
    "# white = ai.MiniMaxAgent(max_depth=3, heuristic=\"improved\", type=\"alpha-beta\")\n",
    "# black = STOCKFISH_PATH\n",
    "# \n",
    "# results = game.run_engine(white, black, NUM_ITERATIONS, visual=None)"
   ]
  },
  {
   "cell_type": "code",
   "execution_count": 82,
   "metadata": {
    "pycharm": {
     "is_executing": true,
     "name": "#%%\n"
    }
   },
   "outputs": [],
   "source": [
    "# df = pd.DataFrame(data=results,columns=COLUMNS)"
   ]
  },
  {
   "cell_type": "code",
   "execution_count": 83,
   "metadata": {
    "pycharm": {
     "is_executing": true,
     "name": "#%%\n"
    }
   },
   "outputs": [],
   "source": [
    "#update the scoreboard\n",
    "# scoreboard = scoreboard.append(df, ignore_index=True)"
   ]
  },
  {
   "cell_type": "markdown",
   "metadata": {},
   "source": [
    "### Overall Scoreboard by moves played ascending"
   ]
  },
  {
   "cell_type": "code",
   "execution_count": 84,
   "metadata": {
    "pycharm": {
     "is_executing": true,
     "name": "#%%\n"
    }
   },
   "outputs": [],
   "source": [
    "# scoreboard.sort_values(by=['moves_played'], inplace=False, ascending=True)\n"
   ]
  },
  {
   "cell_type": "markdown",
   "metadata": {},
   "source": [
    "## Advanced Mini-Max with Alpha-Beta-Pruning Agent (Depth 1) vs Stockfish\n"
   ]
  },
  {
   "cell_type": "code",
   "execution_count": 85,
   "metadata": {
    "pycharm": {
     "is_executing": true,
     "name": "#%%\n"
    }
   },
   "outputs": [
    {
     "name": "stdout",
     "output_type": "stream",
     "text": [
      "started round: 0\n",
      "created stockfish: <SimpleEngine (pid=5657)>\n",
      "inside play_game_engine\n",
      "hi\n"
     ]
    }
   ],
   "source": [
    "game = ai.Game()\n",
    "white = ai.MiniMaxAgent(max_depth=1, heuristic=\"advanced\", type=\"alpha-beta\")\n",
    "black = STOCKFISH_PATH\n",
    "\n",
    "results = game.run_engine(white, black, NUM_ITERATIONS, visual=None)"
   ]
  },
  {
   "cell_type": "code",
   "execution_count": 86,
   "metadata": {
    "pycharm": {
     "is_executing": true,
     "name": "#%%\n"
    }
   },
   "outputs": [],
   "source": [
    "df = pd.DataFrame(data=results,columns=COLUMNS)"
   ]
  },
  {
   "cell_type": "code",
   "execution_count": 87,
   "metadata": {
    "pycharm": {
     "is_executing": true,
     "name": "#%%\n"
    }
   },
   "outputs": [],
   "source": [
    "#update the scoreboard\n",
    "scoreboard = scoreboard.append(df, ignore_index=True)"
   ]
  },
  {
   "cell_type": "markdown",
   "metadata": {},
   "source": [
    "### Overall Scoreboard by moves played ascending"
   ]
  },
  {
   "cell_type": "code",
   "execution_count": 88,
   "metadata": {
    "pycharm": {
     "is_executing": true,
     "name": "#%%\n"
    }
   },
   "outputs": [
    {
     "data": {
      "text/html": [
       "<div>\n",
       "<style scoped>\n",
       "    .dataframe tbody tr th:only-of-type {\n",
       "        vertical-align: middle;\n",
       "    }\n",
       "\n",
       "    .dataframe tbody tr th {\n",
       "        vertical-align: top;\n",
       "    }\n",
       "\n",
       "    .dataframe thead th {\n",
       "        text-align: right;\n",
       "    }\n",
       "</style>\n",
       "<table border=\"1\" class=\"dataframe\">\n",
       "  <thead>\n",
       "    <tr style=\"text-align: right;\">\n",
       "      <th></th>\n",
       "      <th>round_num</th>\n",
       "      <th>iterations</th>\n",
       "      <th>depth</th>\n",
       "      <th>white agent</th>\n",
       "      <th>black agent</th>\n",
       "      <th>white_victory</th>\n",
       "      <th>winner</th>\n",
       "      <th>moves_played</th>\n",
       "      <th>remain_w_pieces</th>\n",
       "      <th>remaining_b_pieces</th>\n",
       "      <th>remaining_tot_pieces</th>\n",
       "    </tr>\n",
       "  </thead>\n",
       "  <tbody>\n",
       "    <tr>\n",
       "      <th>14</th>\n",
       "      <td>1</td>\n",
       "      <td>1</td>\n",
       "      <td>2</td>\n",
       "      <td>improved_alpha-beta_minimax_agent</td>\n",
       "      <td>stockfish</td>\n",
       "      <td>False</td>\n",
       "      <td>checkmate: Black wins!</td>\n",
       "      <td>16</td>\n",
       "      <td>11</td>\n",
       "      <td>14</td>\n",
       "      <td>25</td>\n",
       "    </tr>\n",
       "    <tr>\n",
       "      <th>0</th>\n",
       "      <td>1</td>\n",
       "      <td>1</td>\n",
       "      <td>None</td>\n",
       "      <td>random_agent</td>\n",
       "      <td>stockfish</td>\n",
       "      <td>False</td>\n",
       "      <td>checkmate: Black wins!</td>\n",
       "      <td>18</td>\n",
       "      <td>14</td>\n",
       "      <td>16</td>\n",
       "      <td>30</td>\n",
       "    </tr>\n",
       "    <tr>\n",
       "      <th>1</th>\n",
       "      <td>1</td>\n",
       "      <td>1</td>\n",
       "      <td>None</td>\n",
       "      <td>improved_random_agent</td>\n",
       "      <td>stockfish</td>\n",
       "      <td>False</td>\n",
       "      <td>checkmate: Black wins!</td>\n",
       "      <td>22</td>\n",
       "      <td>13</td>\n",
       "      <td>13</td>\n",
       "      <td>26</td>\n",
       "    </tr>\n",
       "    <tr>\n",
       "      <th>2</th>\n",
       "      <td>1</td>\n",
       "      <td>1</td>\n",
       "      <td>None</td>\n",
       "      <td>naive_agent</td>\n",
       "      <td>stockfish</td>\n",
       "      <td>False</td>\n",
       "      <td>checkmate: Black wins!</td>\n",
       "      <td>22</td>\n",
       "      <td>12</td>\n",
       "      <td>15</td>\n",
       "      <td>27</td>\n",
       "    </tr>\n",
       "    <tr>\n",
       "      <th>3</th>\n",
       "      <td>1</td>\n",
       "      <td>1</td>\n",
       "      <td>None</td>\n",
       "      <td>improved_agent</td>\n",
       "      <td>stockfish</td>\n",
       "      <td>False</td>\n",
       "      <td>checkmate: Black wins!</td>\n",
       "      <td>24</td>\n",
       "      <td>10</td>\n",
       "      <td>14</td>\n",
       "      <td>24</td>\n",
       "    </tr>\n",
       "    <tr>\n",
       "      <th>4</th>\n",
       "      <td>1</td>\n",
       "      <td>1</td>\n",
       "      <td>None</td>\n",
       "      <td>advanced_agent</td>\n",
       "      <td>stockfish</td>\n",
       "      <td>False</td>\n",
       "      <td>checkmate: Black wins!</td>\n",
       "      <td>24</td>\n",
       "      <td>10</td>\n",
       "      <td>13</td>\n",
       "      <td>23</td>\n",
       "    </tr>\n",
       "    <tr>\n",
       "      <th>8</th>\n",
       "      <td>1</td>\n",
       "      <td>1</td>\n",
       "      <td>2</td>\n",
       "      <td>improved_minimax_agent</td>\n",
       "      <td>stockfish</td>\n",
       "      <td>False</td>\n",
       "      <td>checkmate: Black wins!</td>\n",
       "      <td>26</td>\n",
       "      <td>11</td>\n",
       "      <td>14</td>\n",
       "      <td>25</td>\n",
       "    </tr>\n",
       "    <tr>\n",
       "      <th>11</th>\n",
       "      <td>1</td>\n",
       "      <td>1</td>\n",
       "      <td>1</td>\n",
       "      <td>naive_alpha-beta_minimax_agent</td>\n",
       "      <td>stockfish</td>\n",
       "      <td>False</td>\n",
       "      <td>checkmate: Black wins!</td>\n",
       "      <td>30</td>\n",
       "      <td>15</td>\n",
       "      <td>15</td>\n",
       "      <td>30</td>\n",
       "    </tr>\n",
       "    <tr>\n",
       "      <th>13</th>\n",
       "      <td>1</td>\n",
       "      <td>1</td>\n",
       "      <td>1</td>\n",
       "      <td>improved_alpha-beta_minimax_agent</td>\n",
       "      <td>stockfish</td>\n",
       "      <td>False</td>\n",
       "      <td>checkmate: Black wins!</td>\n",
       "      <td>32</td>\n",
       "      <td>10</td>\n",
       "      <td>15</td>\n",
       "      <td>25</td>\n",
       "    </tr>\n",
       "    <tr>\n",
       "      <th>5</th>\n",
       "      <td>1</td>\n",
       "      <td>1</td>\n",
       "      <td>1</td>\n",
       "      <td>naive_minimax_agent</td>\n",
       "      <td>stockfish</td>\n",
       "      <td>False</td>\n",
       "      <td>checkmate: Black wins!</td>\n",
       "      <td>34</td>\n",
       "      <td>15</td>\n",
       "      <td>15</td>\n",
       "      <td>30</td>\n",
       "    </tr>\n",
       "    <tr>\n",
       "      <th>6</th>\n",
       "      <td>1</td>\n",
       "      <td>1</td>\n",
       "      <td>2</td>\n",
       "      <td>naive_minimax_agent</td>\n",
       "      <td>stockfish</td>\n",
       "      <td>False</td>\n",
       "      <td>checkmate: Black wins!</td>\n",
       "      <td>36</td>\n",
       "      <td>12</td>\n",
       "      <td>14</td>\n",
       "      <td>26</td>\n",
       "    </tr>\n",
       "    <tr>\n",
       "      <th>10</th>\n",
       "      <td>1</td>\n",
       "      <td>1</td>\n",
       "      <td>2</td>\n",
       "      <td>advanced_minimax_agent</td>\n",
       "      <td>stockfish</td>\n",
       "      <td>False</td>\n",
       "      <td>checkmate: Black wins!</td>\n",
       "      <td>38</td>\n",
       "      <td>11</td>\n",
       "      <td>12</td>\n",
       "      <td>23</td>\n",
       "    </tr>\n",
       "    <tr>\n",
       "      <th>7</th>\n",
       "      <td>1</td>\n",
       "      <td>1</td>\n",
       "      <td>1</td>\n",
       "      <td>improved_minimax_agent</td>\n",
       "      <td>stockfish</td>\n",
       "      <td>False</td>\n",
       "      <td>checkmate: Black wins!</td>\n",
       "      <td>42</td>\n",
       "      <td>12</td>\n",
       "      <td>13</td>\n",
       "      <td>25</td>\n",
       "    </tr>\n",
       "    <tr>\n",
       "      <th>15</th>\n",
       "      <td>1</td>\n",
       "      <td>1</td>\n",
       "      <td>1</td>\n",
       "      <td>advanced_alpha-beta_minimax_agent</td>\n",
       "      <td>stockfish</td>\n",
       "      <td>False</td>\n",
       "      <td>checkmate: Black wins!</td>\n",
       "      <td>46</td>\n",
       "      <td>8</td>\n",
       "      <td>10</td>\n",
       "      <td>18</td>\n",
       "    </tr>\n",
       "    <tr>\n",
       "      <th>9</th>\n",
       "      <td>1</td>\n",
       "      <td>1</td>\n",
       "      <td>1</td>\n",
       "      <td>advanced_minimax_agent</td>\n",
       "      <td>stockfish</td>\n",
       "      <td>False</td>\n",
       "      <td>checkmate: Black wins!</td>\n",
       "      <td>48</td>\n",
       "      <td>6</td>\n",
       "      <td>12</td>\n",
       "      <td>18</td>\n",
       "    </tr>\n",
       "    <tr>\n",
       "      <th>12</th>\n",
       "      <td>1</td>\n",
       "      <td>1</td>\n",
       "      <td>2</td>\n",
       "      <td>naive_alpha-beta_minimax_agent</td>\n",
       "      <td>stockfish</td>\n",
       "      <td>False</td>\n",
       "      <td>checkmate: Black wins!</td>\n",
       "      <td>50</td>\n",
       "      <td>4</td>\n",
       "      <td>13</td>\n",
       "      <td>17</td>\n",
       "    </tr>\n",
       "  </tbody>\n",
       "</table>\n",
       "</div>"
      ],
      "text/plain": [
       "   round_num iterations depth                        white agent black agent  \\\n",
       "14         1          1     2  improved_alpha-beta_minimax_agent   stockfish   \n",
       "0          1          1  None                       random_agent   stockfish   \n",
       "1          1          1  None              improved_random_agent   stockfish   \n",
       "2          1          1  None                        naive_agent   stockfish   \n",
       "3          1          1  None                     improved_agent   stockfish   \n",
       "4          1          1  None                     advanced_agent   stockfish   \n",
       "8          1          1     2             improved_minimax_agent   stockfish   \n",
       "11         1          1     1     naive_alpha-beta_minimax_agent   stockfish   \n",
       "13         1          1     1  improved_alpha-beta_minimax_agent   stockfish   \n",
       "5          1          1     1                naive_minimax_agent   stockfish   \n",
       "6          1          1     2                naive_minimax_agent   stockfish   \n",
       "10         1          1     2             advanced_minimax_agent   stockfish   \n",
       "7          1          1     1             improved_minimax_agent   stockfish   \n",
       "15         1          1     1  advanced_alpha-beta_minimax_agent   stockfish   \n",
       "9          1          1     1             advanced_minimax_agent   stockfish   \n",
       "12         1          1     2     naive_alpha-beta_minimax_agent   stockfish   \n",
       "\n",
       "   white_victory                  winner moves_played remain_w_pieces  \\\n",
       "14         False  checkmate: Black wins!           16              11   \n",
       "0          False  checkmate: Black wins!           18              14   \n",
       "1          False  checkmate: Black wins!           22              13   \n",
       "2          False  checkmate: Black wins!           22              12   \n",
       "3          False  checkmate: Black wins!           24              10   \n",
       "4          False  checkmate: Black wins!           24              10   \n",
       "8          False  checkmate: Black wins!           26              11   \n",
       "11         False  checkmate: Black wins!           30              15   \n",
       "13         False  checkmate: Black wins!           32              10   \n",
       "5          False  checkmate: Black wins!           34              15   \n",
       "6          False  checkmate: Black wins!           36              12   \n",
       "10         False  checkmate: Black wins!           38              11   \n",
       "7          False  checkmate: Black wins!           42              12   \n",
       "15         False  checkmate: Black wins!           46               8   \n",
       "9          False  checkmate: Black wins!           48               6   \n",
       "12         False  checkmate: Black wins!           50               4   \n",
       "\n",
       "   remaining_b_pieces remaining_tot_pieces  \n",
       "14                 14                   25  \n",
       "0                  16                   30  \n",
       "1                  13                   26  \n",
       "2                  15                   27  \n",
       "3                  14                   24  \n",
       "4                  13                   23  \n",
       "8                  14                   25  \n",
       "11                 15                   30  \n",
       "13                 15                   25  \n",
       "5                  15                   30  \n",
       "6                  14                   26  \n",
       "10                 12                   23  \n",
       "7                  13                   25  \n",
       "15                 10                   18  \n",
       "9                  12                   18  \n",
       "12                 13                   17  "
      ]
     },
     "execution_count": 88,
     "metadata": {},
     "output_type": "execute_result"
    }
   ],
   "source": [
    "scoreboard.sort_values(by=['moves_played'], inplace=False, ascending=True)"
   ]
  },
  {
   "cell_type": "markdown",
   "metadata": {},
   "source": [
    "## Advanced Mini-Max with Alpha-Beta-Pruning Agent (Depth 2) vs Stockfish"
   ]
  },
  {
   "cell_type": "code",
   "execution_count": 89,
   "metadata": {
    "pycharm": {
     "is_executing": true,
     "name": "#%%\n"
    }
   },
   "outputs": [
    {
     "name": "stdout",
     "output_type": "stream",
     "text": [
      "started round: 0\n",
      "created stockfish: <SimpleEngine (pid=5663)>\n",
      "inside play_game_engine\n",
      "hi\n"
     ]
    }
   ],
   "source": [
    "game = ai.Game()\n",
    "white = ai.MiniMaxAgent(max_depth=2, heuristic=\"advanced\", type=\"alpha-beta\")\n",
    "black = STOCKFISH_PATH\n",
    "\n",
    "results = game.run_engine(white, black, NUM_ITERATIONS, visual=None)"
   ]
  },
  {
   "cell_type": "code",
   "execution_count": 90,
   "metadata": {
    "pycharm": {
     "is_executing": true,
     "name": "#%%\n"
    }
   },
   "outputs": [],
   "source": [
    "df = pd.DataFrame(data=results,columns=COLUMNS)"
   ]
  },
  {
   "cell_type": "code",
   "execution_count": 91,
   "metadata": {
    "pycharm": {
     "is_executing": true,
     "name": "#%%\n"
    }
   },
   "outputs": [],
   "source": [
    "#update the scoreboard\n",
    "scoreboard = scoreboard.append(df, ignore_index=True)"
   ]
  },
  {
   "cell_type": "markdown",
   "metadata": {},
   "source": [
    "### Overall Scoreboard by moves played ascending"
   ]
  },
  {
   "cell_type": "code",
   "execution_count": 92,
   "metadata": {
    "pycharm": {
     "is_executing": true,
     "name": "#%%\n"
    }
   },
   "outputs": [
    {
     "data": {
      "text/html": [
       "<div>\n",
       "<style scoped>\n",
       "    .dataframe tbody tr th:only-of-type {\n",
       "        vertical-align: middle;\n",
       "    }\n",
       "\n",
       "    .dataframe tbody tr th {\n",
       "        vertical-align: top;\n",
       "    }\n",
       "\n",
       "    .dataframe thead th {\n",
       "        text-align: right;\n",
       "    }\n",
       "</style>\n",
       "<table border=\"1\" class=\"dataframe\">\n",
       "  <thead>\n",
       "    <tr style=\"text-align: right;\">\n",
       "      <th></th>\n",
       "      <th>round_num</th>\n",
       "      <th>iterations</th>\n",
       "      <th>depth</th>\n",
       "      <th>white agent</th>\n",
       "      <th>black agent</th>\n",
       "      <th>white_victory</th>\n",
       "      <th>winner</th>\n",
       "      <th>moves_played</th>\n",
       "      <th>remain_w_pieces</th>\n",
       "      <th>remaining_b_pieces</th>\n",
       "      <th>remaining_tot_pieces</th>\n",
       "    </tr>\n",
       "  </thead>\n",
       "  <tbody>\n",
       "    <tr>\n",
       "      <th>14</th>\n",
       "      <td>1</td>\n",
       "      <td>1</td>\n",
       "      <td>2</td>\n",
       "      <td>improved_alpha-beta_minimax_agent</td>\n",
       "      <td>stockfish</td>\n",
       "      <td>False</td>\n",
       "      <td>checkmate: Black wins!</td>\n",
       "      <td>16</td>\n",
       "      <td>11</td>\n",
       "      <td>14</td>\n",
       "      <td>25</td>\n",
       "    </tr>\n",
       "    <tr>\n",
       "      <th>0</th>\n",
       "      <td>1</td>\n",
       "      <td>1</td>\n",
       "      <td>None</td>\n",
       "      <td>random_agent</td>\n",
       "      <td>stockfish</td>\n",
       "      <td>False</td>\n",
       "      <td>checkmate: Black wins!</td>\n",
       "      <td>18</td>\n",
       "      <td>14</td>\n",
       "      <td>16</td>\n",
       "      <td>30</td>\n",
       "    </tr>\n",
       "    <tr>\n",
       "      <th>1</th>\n",
       "      <td>1</td>\n",
       "      <td>1</td>\n",
       "      <td>None</td>\n",
       "      <td>improved_random_agent</td>\n",
       "      <td>stockfish</td>\n",
       "      <td>False</td>\n",
       "      <td>checkmate: Black wins!</td>\n",
       "      <td>22</td>\n",
       "      <td>13</td>\n",
       "      <td>13</td>\n",
       "      <td>26</td>\n",
       "    </tr>\n",
       "    <tr>\n",
       "      <th>2</th>\n",
       "      <td>1</td>\n",
       "      <td>1</td>\n",
       "      <td>None</td>\n",
       "      <td>naive_agent</td>\n",
       "      <td>stockfish</td>\n",
       "      <td>False</td>\n",
       "      <td>checkmate: Black wins!</td>\n",
       "      <td>22</td>\n",
       "      <td>12</td>\n",
       "      <td>15</td>\n",
       "      <td>27</td>\n",
       "    </tr>\n",
       "    <tr>\n",
       "      <th>3</th>\n",
       "      <td>1</td>\n",
       "      <td>1</td>\n",
       "      <td>None</td>\n",
       "      <td>improved_agent</td>\n",
       "      <td>stockfish</td>\n",
       "      <td>False</td>\n",
       "      <td>checkmate: Black wins!</td>\n",
       "      <td>24</td>\n",
       "      <td>10</td>\n",
       "      <td>14</td>\n",
       "      <td>24</td>\n",
       "    </tr>\n",
       "    <tr>\n",
       "      <th>4</th>\n",
       "      <td>1</td>\n",
       "      <td>1</td>\n",
       "      <td>None</td>\n",
       "      <td>advanced_agent</td>\n",
       "      <td>stockfish</td>\n",
       "      <td>False</td>\n",
       "      <td>checkmate: Black wins!</td>\n",
       "      <td>24</td>\n",
       "      <td>10</td>\n",
       "      <td>13</td>\n",
       "      <td>23</td>\n",
       "    </tr>\n",
       "    <tr>\n",
       "      <th>8</th>\n",
       "      <td>1</td>\n",
       "      <td>1</td>\n",
       "      <td>2</td>\n",
       "      <td>improved_minimax_agent</td>\n",
       "      <td>stockfish</td>\n",
       "      <td>False</td>\n",
       "      <td>checkmate: Black wins!</td>\n",
       "      <td>26</td>\n",
       "      <td>11</td>\n",
       "      <td>14</td>\n",
       "      <td>25</td>\n",
       "    </tr>\n",
       "    <tr>\n",
       "      <th>11</th>\n",
       "      <td>1</td>\n",
       "      <td>1</td>\n",
       "      <td>1</td>\n",
       "      <td>naive_alpha-beta_minimax_agent</td>\n",
       "      <td>stockfish</td>\n",
       "      <td>False</td>\n",
       "      <td>checkmate: Black wins!</td>\n",
       "      <td>30</td>\n",
       "      <td>15</td>\n",
       "      <td>15</td>\n",
       "      <td>30</td>\n",
       "    </tr>\n",
       "    <tr>\n",
       "      <th>13</th>\n",
       "      <td>1</td>\n",
       "      <td>1</td>\n",
       "      <td>1</td>\n",
       "      <td>improved_alpha-beta_minimax_agent</td>\n",
       "      <td>stockfish</td>\n",
       "      <td>False</td>\n",
       "      <td>checkmate: Black wins!</td>\n",
       "      <td>32</td>\n",
       "      <td>10</td>\n",
       "      <td>15</td>\n",
       "      <td>25</td>\n",
       "    </tr>\n",
       "    <tr>\n",
       "      <th>5</th>\n",
       "      <td>1</td>\n",
       "      <td>1</td>\n",
       "      <td>1</td>\n",
       "      <td>naive_minimax_agent</td>\n",
       "      <td>stockfish</td>\n",
       "      <td>False</td>\n",
       "      <td>checkmate: Black wins!</td>\n",
       "      <td>34</td>\n",
       "      <td>15</td>\n",
       "      <td>15</td>\n",
       "      <td>30</td>\n",
       "    </tr>\n",
       "    <tr>\n",
       "      <th>6</th>\n",
       "      <td>1</td>\n",
       "      <td>1</td>\n",
       "      <td>2</td>\n",
       "      <td>naive_minimax_agent</td>\n",
       "      <td>stockfish</td>\n",
       "      <td>False</td>\n",
       "      <td>checkmate: Black wins!</td>\n",
       "      <td>36</td>\n",
       "      <td>12</td>\n",
       "      <td>14</td>\n",
       "      <td>26</td>\n",
       "    </tr>\n",
       "    <tr>\n",
       "      <th>10</th>\n",
       "      <td>1</td>\n",
       "      <td>1</td>\n",
       "      <td>2</td>\n",
       "      <td>advanced_minimax_agent</td>\n",
       "      <td>stockfish</td>\n",
       "      <td>False</td>\n",
       "      <td>checkmate: Black wins!</td>\n",
       "      <td>38</td>\n",
       "      <td>11</td>\n",
       "      <td>12</td>\n",
       "      <td>23</td>\n",
       "    </tr>\n",
       "    <tr>\n",
       "      <th>16</th>\n",
       "      <td>1</td>\n",
       "      <td>1</td>\n",
       "      <td>2</td>\n",
       "      <td>advanced_alpha-beta_minimax_agent</td>\n",
       "      <td>stockfish</td>\n",
       "      <td>False</td>\n",
       "      <td>checkmate: Black wins!</td>\n",
       "      <td>40</td>\n",
       "      <td>5</td>\n",
       "      <td>12</td>\n",
       "      <td>17</td>\n",
       "    </tr>\n",
       "    <tr>\n",
       "      <th>7</th>\n",
       "      <td>1</td>\n",
       "      <td>1</td>\n",
       "      <td>1</td>\n",
       "      <td>improved_minimax_agent</td>\n",
       "      <td>stockfish</td>\n",
       "      <td>False</td>\n",
       "      <td>checkmate: Black wins!</td>\n",
       "      <td>42</td>\n",
       "      <td>12</td>\n",
       "      <td>13</td>\n",
       "      <td>25</td>\n",
       "    </tr>\n",
       "    <tr>\n",
       "      <th>15</th>\n",
       "      <td>1</td>\n",
       "      <td>1</td>\n",
       "      <td>1</td>\n",
       "      <td>advanced_alpha-beta_minimax_agent</td>\n",
       "      <td>stockfish</td>\n",
       "      <td>False</td>\n",
       "      <td>checkmate: Black wins!</td>\n",
       "      <td>46</td>\n",
       "      <td>8</td>\n",
       "      <td>10</td>\n",
       "      <td>18</td>\n",
       "    </tr>\n",
       "    <tr>\n",
       "      <th>9</th>\n",
       "      <td>1</td>\n",
       "      <td>1</td>\n",
       "      <td>1</td>\n",
       "      <td>advanced_minimax_agent</td>\n",
       "      <td>stockfish</td>\n",
       "      <td>False</td>\n",
       "      <td>checkmate: Black wins!</td>\n",
       "      <td>48</td>\n",
       "      <td>6</td>\n",
       "      <td>12</td>\n",
       "      <td>18</td>\n",
       "    </tr>\n",
       "    <tr>\n",
       "      <th>12</th>\n",
       "      <td>1</td>\n",
       "      <td>1</td>\n",
       "      <td>2</td>\n",
       "      <td>naive_alpha-beta_minimax_agent</td>\n",
       "      <td>stockfish</td>\n",
       "      <td>False</td>\n",
       "      <td>checkmate: Black wins!</td>\n",
       "      <td>50</td>\n",
       "      <td>4</td>\n",
       "      <td>13</td>\n",
       "      <td>17</td>\n",
       "    </tr>\n",
       "  </tbody>\n",
       "</table>\n",
       "</div>"
      ],
      "text/plain": [
       "   round_num iterations depth                        white agent black agent  \\\n",
       "14         1          1     2  improved_alpha-beta_minimax_agent   stockfish   \n",
       "0          1          1  None                       random_agent   stockfish   \n",
       "1          1          1  None              improved_random_agent   stockfish   \n",
       "2          1          1  None                        naive_agent   stockfish   \n",
       "3          1          1  None                     improved_agent   stockfish   \n",
       "4          1          1  None                     advanced_agent   stockfish   \n",
       "8          1          1     2             improved_minimax_agent   stockfish   \n",
       "11         1          1     1     naive_alpha-beta_minimax_agent   stockfish   \n",
       "13         1          1     1  improved_alpha-beta_minimax_agent   stockfish   \n",
       "5          1          1     1                naive_minimax_agent   stockfish   \n",
       "6          1          1     2                naive_minimax_agent   stockfish   \n",
       "10         1          1     2             advanced_minimax_agent   stockfish   \n",
       "16         1          1     2  advanced_alpha-beta_minimax_agent   stockfish   \n",
       "7          1          1     1             improved_minimax_agent   stockfish   \n",
       "15         1          1     1  advanced_alpha-beta_minimax_agent   stockfish   \n",
       "9          1          1     1             advanced_minimax_agent   stockfish   \n",
       "12         1          1     2     naive_alpha-beta_minimax_agent   stockfish   \n",
       "\n",
       "   white_victory                  winner moves_played remain_w_pieces  \\\n",
       "14         False  checkmate: Black wins!           16              11   \n",
       "0          False  checkmate: Black wins!           18              14   \n",
       "1          False  checkmate: Black wins!           22              13   \n",
       "2          False  checkmate: Black wins!           22              12   \n",
       "3          False  checkmate: Black wins!           24              10   \n",
       "4          False  checkmate: Black wins!           24              10   \n",
       "8          False  checkmate: Black wins!           26              11   \n",
       "11         False  checkmate: Black wins!           30              15   \n",
       "13         False  checkmate: Black wins!           32              10   \n",
       "5          False  checkmate: Black wins!           34              15   \n",
       "6          False  checkmate: Black wins!           36              12   \n",
       "10         False  checkmate: Black wins!           38              11   \n",
       "16         False  checkmate: Black wins!           40               5   \n",
       "7          False  checkmate: Black wins!           42              12   \n",
       "15         False  checkmate: Black wins!           46               8   \n",
       "9          False  checkmate: Black wins!           48               6   \n",
       "12         False  checkmate: Black wins!           50               4   \n",
       "\n",
       "   remaining_b_pieces remaining_tot_pieces  \n",
       "14                 14                   25  \n",
       "0                  16                   30  \n",
       "1                  13                   26  \n",
       "2                  15                   27  \n",
       "3                  14                   24  \n",
       "4                  13                   23  \n",
       "8                  14                   25  \n",
       "11                 15                   30  \n",
       "13                 15                   25  \n",
       "5                  15                   30  \n",
       "6                  14                   26  \n",
       "10                 12                   23  \n",
       "16                 12                   17  \n",
       "7                  13                   25  \n",
       "15                 10                   18  \n",
       "9                  12                   18  \n",
       "12                 13                   17  "
      ]
     },
     "execution_count": 92,
     "metadata": {},
     "output_type": "execute_result"
    }
   ],
   "source": [
    "scoreboard.sort_values(by=['moves_played'], inplace=False, ascending=True)"
   ]
  },
  {
   "cell_type": "markdown",
   "metadata": {},
   "source": [
    "## Advanced Mini-Max with Alpha-Beta-Pruning Agent (Depth 3) vs Stockfish"
   ]
  },
  {
   "cell_type": "code",
   "execution_count": 93,
   "metadata": {
    "pycharm": {
     "is_executing": true,
     "name": "#%%\n"
    }
   },
   "outputs": [],
   "source": [
    "# game = ai.Game()\n",
    "# white = ai.MiniMaxAgent(max_depth=3, heuristic=\"advanced\", type=\"alpha-beta\")\n",
    "# black = STOCKFISH_PATH\n",
    "# \n",
    "# results = game.run_engine(white, black, NUM_ITERATIONS, visual=None)"
   ]
  },
  {
   "cell_type": "code",
   "execution_count": 94,
   "metadata": {
    "pycharm": {
     "is_executing": true,
     "name": "#%%\n"
    }
   },
   "outputs": [],
   "source": [
    "# df = pd.DataFrame(data=results,columns=COLUMNS)"
   ]
  },
  {
   "cell_type": "code",
   "execution_count": 95,
   "metadata": {
    "pycharm": {
     "is_executing": true,
     "name": "#%%\n"
    }
   },
   "outputs": [],
   "source": [
    "#update the scoreboard\n",
    "# scoreboard = scoreboard.append(df, ignore_index=True)"
   ]
  },
  {
   "cell_type": "markdown",
   "metadata": {},
   "source": [
    "### Overall Scoreboard by moves played ascending"
   ]
  },
  {
   "cell_type": "code",
   "execution_count": 96,
   "metadata": {
    "pycharm": {
     "is_executing": true,
     "name": "#%%\n"
    }
   },
   "outputs": [],
   "source": [
    "# scoreboard.sort_values(by=['moves_played'], inplace=False, ascending=True)"
   ]
  },
  {
   "cell_type": "code",
   "execution_count": 97,
   "metadata": {
    "pycharm": {
     "name": "#%%\n"
    }
   },
   "outputs": [],
   "source": [
    "## TEST"
   ]
  },
  {
   "cell_type": "code",
   "execution_count": 101,
   "metadata": {
    "pycharm": {
     "name": "#%%\n"
    }
   },
   "outputs": [
    {
     "data": {
      "text/html": [
       "<b>Move 22 White, Play 'c7c6':</b><br/><svg height=\"400\" version=\"1.1\" viewBox=\"0 0 400 400\" width=\"400\" xmlns=\"http://www.w3.org/2000/svg\" xmlns:xlink=\"http://www.w3.org/1999/xlink\"><defs><g class=\"white pawn\" id=\"white-pawn\"><path d=\"M22 9c-2.21 0-4 1.79-4 4 0 .89.29 1.71.78 2.38-1.95 1.12-3.28 3.21-3.28 5.62 0 2.03.94 3.84 2.41 5.03-3 1.06-7.41 5.55-7.41 13.47h23c0-7.92-4.41-12.41-7.41-13.47 1.47-1.19 2.41-3 2.41-5.03 0-2.41-1.33-4.5-3.28-5.62.49-.67.78-1.49.78-2.38 0-2.21-1.79-4-4-4z\" fill=\"#fff\" stroke=\"#000\" stroke-linecap=\"round\" stroke-width=\"1.5\" /></g><g class=\"white bishop\" fill=\"none\" fill-rule=\"evenodd\" id=\"white-bishop\" stroke=\"#000\" stroke-linecap=\"round\" stroke-linejoin=\"round\" stroke-width=\"1.5\"><g fill=\"#fff\" stroke-linecap=\"butt\"><path d=\"M9 36c3.39-.97 10.11.43 13.5-2 3.39 2.43 10.11 1.03 13.5 2 0 0 1.65.54 3 2-.68.97-1.65.99-3 .5-3.39-.97-10.11.46-13.5-1-3.39 1.46-10.11.03-13.5 1-1.354.49-2.323.47-3-.5 1.354-1.94 3-2 3-2zM15 32c2.5 2.5 12.5 2.5 15 0 .5-1.5 0-2 0-2 0-2.5-2.5-4-2.5-4 5.5-1.5 6-11.5-5-15.5-11 4-10.5 14-5 15.5 0 0-2.5 1.5-2.5 4 0 0-.5.5 0 2zM25 8a2.5 2.5 0 1 1-5 0 2.5 2.5 0 1 1 5 0z\" /></g><path d=\"M17.5 26h10M15 30h15m-7.5-14.5v5M20 18h5\" stroke-linejoin=\"miter\" /></g><g class=\"white rook\" fill=\"#fff\" fill-rule=\"evenodd\" id=\"white-rook\" stroke=\"#000\" stroke-linecap=\"round\" stroke-linejoin=\"round\" stroke-width=\"1.5\"><path d=\"M9 39h27v-3H9v3zM12 36v-4h21v4H12zM11 14V9h4v2h5V9h5v2h5V9h4v5\" stroke-linecap=\"butt\" /><path d=\"M34 14l-3 3H14l-3-3\" /><path d=\"M31 17v12.5H14V17\" stroke-linecap=\"butt\" stroke-linejoin=\"miter\" /><path d=\"M31 29.5l1.5 2.5h-20l1.5-2.5\" /><path d=\"M11 14h23\" fill=\"none\" stroke-linejoin=\"miter\" /></g><g class=\"white king\" fill=\"none\" fill-rule=\"evenodd\" id=\"white-king\" stroke=\"#000\" stroke-linecap=\"round\" stroke-linejoin=\"round\" stroke-width=\"1.5\"><path d=\"M22.5 11.63V6M20 8h5\" stroke-linejoin=\"miter\" /><path d=\"M22.5 25s4.5-7.5 3-10.5c0 0-1-2.5-3-2.5s-3 2.5-3 2.5c-1.5 3 3 10.5 3 10.5\" fill=\"#fff\" stroke-linecap=\"butt\" stroke-linejoin=\"miter\" /><path d=\"M11.5 37c5.5 3.5 15.5 3.5 21 0v-7s9-4.5 6-10.5c-4-6.5-13.5-3.5-16 4V27v-3.5c-3.5-7.5-13-10.5-16-4-3 6 5 10 5 10V37z\" fill=\"#fff\" /><path d=\"M11.5 30c5.5-3 15.5-3 21 0m-21 3.5c5.5-3 15.5-3 21 0m-21 3.5c5.5-3 15.5-3 21 0\" /></g><g class=\"black pawn\" id=\"black-pawn\"><path d=\"M22 9c-2.21 0-4 1.79-4 4 0 .89.29 1.71.78 2.38-1.95 1.12-3.28 3.21-3.28 5.62 0 2.03.94 3.84 2.41 5.03-3 1.06-7.41 5.55-7.41 13.47h23c0-7.92-4.41-12.41-7.41-13.47 1.47-1.19 2.41-3 2.41-5.03 0-2.41-1.33-4.5-3.28-5.62.49-.67.78-1.49.78-2.38 0-2.21-1.79-4-4-4z\" stroke=\"#000\" stroke-linecap=\"round\" stroke-width=\"1.5\" /></g><g class=\"black knight\" fill=\"none\" fill-rule=\"evenodd\" id=\"black-knight\" stroke=\"#000\" stroke-linecap=\"round\" stroke-linejoin=\"round\" stroke-width=\"1.5\"><path d=\"M 22,10 C 32.5,11 38.5,18 38,39 L 15,39 C 15,30 25,32.5 23,18\" style=\"fill:#000000; stroke:#000000;\" /><path d=\"M 24,18 C 24.38,20.91 18.45,25.37 16,27 C 13,29 13.18,31.34 11,31 C 9.958,30.06 12.41,27.96 11,28 C 10,28 11.19,29.23 10,30 C 9,30 5.997,31 6,26 C 6,24 12,14 12,14 C 12,14 13.89,12.1 14,10.5 C 13.27,9.506 13.5,8.5 13.5,7.5 C 14.5,6.5 16.5,10 16.5,10 L 18.5,10 C 18.5,10 19.28,8.008 21,7 C 22,7 22,10 22,10\" style=\"fill:#000000; stroke:#000000;\" /><path d=\"M 9.5 25.5 A 0.5 0.5 0 1 1 8.5,25.5 A 0.5 0.5 0 1 1 9.5 25.5 z\" style=\"fill:#ececec; stroke:#ececec;\" /><path d=\"M 15 15.5 A 0.5 1.5 0 1 1 14,15.5 A 0.5 1.5 0 1 1 15 15.5 z\" style=\"fill:#ececec; stroke:#ececec;\" transform=\"matrix(0.866,0.5,-0.5,0.866,9.693,-5.173)\" /><path d=\"M 24.55,10.4 L 24.1,11.85 L 24.6,12 C 27.75,13 30.25,14.49 32.5,18.75 C 34.75,23.01 35.75,29.06 35.25,39 L 35.2,39.5 L 37.45,39.5 L 37.5,39 C 38,28.94 36.62,22.15 34.25,17.66 C 31.88,13.17 28.46,11.02 25.06,10.5 L 24.55,10.4 z \" style=\"fill:#ececec; stroke:none;\" /></g><g class=\"black bishop\" fill=\"none\" fill-rule=\"evenodd\" id=\"black-bishop\" stroke=\"#000\" stroke-linecap=\"round\" stroke-linejoin=\"round\" stroke-width=\"1.5\"><path d=\"M9 36c3.39-.97 10.11.43 13.5-2 3.39 2.43 10.11 1.03 13.5 2 0 0 1.65.54 3 2-.68.97-1.65.99-3 .5-3.39-.97-10.11.46-13.5-1-3.39 1.46-10.11.03-13.5 1-1.354.49-2.323.47-3-.5 1.354-1.94 3-2 3-2zm6-4c2.5 2.5 12.5 2.5 15 0 .5-1.5 0-2 0-2 0-2.5-2.5-4-2.5-4 5.5-1.5 6-11.5-5-15.5-11 4-10.5 14-5 15.5 0 0-2.5 1.5-2.5 4 0 0-.5.5 0 2zM25 8a2.5 2.5 0 1 1-5 0 2.5 2.5 0 1 1 5 0z\" fill=\"#000\" stroke-linecap=\"butt\" /><path d=\"M17.5 26h10M15 30h15m-7.5-14.5v5M20 18h5\" stroke=\"#fff\" stroke-linejoin=\"miter\" /></g><g class=\"black rook\" fill=\"#000\" fill-rule=\"evenodd\" id=\"black-rook\" stroke=\"#000\" stroke-linecap=\"round\" stroke-linejoin=\"round\" stroke-width=\"1.5\"><path d=\"M9 39h27v-3H9v3zM12.5 32l1.5-2.5h17l1.5 2.5h-20zM12 36v-4h21v4H12z\" stroke-linecap=\"butt\" /><path d=\"M14 29.5v-13h17v13H14z\" stroke-linecap=\"butt\" stroke-linejoin=\"miter\" /><path d=\"M14 16.5L11 14h23l-3 2.5H14zM11 14V9h4v2h5V9h5v2h5V9h4v5H11z\" stroke-linecap=\"butt\" /><path d=\"M12 35.5h21M13 31.5h19M14 29.5h17M14 16.5h17M11 14h23\" fill=\"none\" stroke=\"#fff\" stroke-linejoin=\"miter\" stroke-width=\"1\" /></g><g class=\"black queen\" fill=\"#000\" fill-rule=\"evenodd\" id=\"black-queen\" stroke=\"#000\" stroke-linecap=\"round\" stroke-linejoin=\"round\" stroke-width=\"1.5\"><g fill=\"#000\" stroke=\"none\"><circle cx=\"6\" cy=\"12\" r=\"2.75\" /><circle cx=\"14\" cy=\"9\" r=\"2.75\" /><circle cx=\"22.5\" cy=\"8\" r=\"2.75\" /><circle cx=\"31\" cy=\"9\" r=\"2.75\" /><circle cx=\"39\" cy=\"12\" r=\"2.75\" /></g><path d=\"M9 26c8.5-1.5 21-1.5 27 0l2.5-12.5L31 25l-.3-14.1-5.2 13.6-3-14.5-3 14.5-5.2-13.6L14 25 6.5 13.5 9 26zM9 26c0 2 1.5 2 2.5 4 1 1.5 1 1 .5 3.5-1.5 1-1.5 2.5-1.5 2.5-1.5 1.5.5 2.5.5 2.5 6.5 1 16.5 1 23 0 0 0 1.5-1 0-2.5 0 0 .5-1.5-1-2.5-.5-2.5-.5-2 .5-3.5 1-2 2.5-2 2.5-4-8.5-1.5-18.5-1.5-27 0z\" stroke-linecap=\"butt\" /><path d=\"M11 38.5a35 35 1 0 0 23 0\" fill=\"none\" stroke-linecap=\"butt\" /><path d=\"M11 29a35 35 1 0 1 23 0M12.5 31.5h20M11.5 34.5a35 35 1 0 0 22 0M10.5 37.5a35 35 1 0 0 24 0\" fill=\"none\" stroke=\"#fff\" /></g><g class=\"black king\" fill=\"none\" fill-rule=\"evenodd\" id=\"black-king\" stroke=\"#000\" stroke-linecap=\"round\" stroke-linejoin=\"round\" stroke-width=\"1.5\"><path d=\"M22.5 11.63V6\" stroke-linejoin=\"miter\" /><path d=\"M22.5 25s4.5-7.5 3-10.5c0 0-1-2.5-3-2.5s-3 2.5-3 2.5c-1.5 3 3 10.5 3 10.5\" fill=\"#000\" stroke-linecap=\"butt\" stroke-linejoin=\"miter\" /><path d=\"M11.5 37c5.5 3.5 15.5 3.5 21 0v-7s9-4.5 6-10.5c-4-6.5-13.5-3.5-16 4V27v-3.5c-3.5-7.5-13-10.5-16-4-3 6 5 10 5 10V37z\" fill=\"#000\" /><path d=\"M20 8h5\" stroke-linejoin=\"miter\" /><path d=\"M32 29.5s8.5-4 6.03-9.65C34.15 14 25 18 22.5 24.5l.01 2.1-.01-2.1C20 18 9.906 14 6.997 19.85c-2.497 5.65 4.853 9 4.853 9M11.5 30c5.5-3 15.5-3 21 0m-21 3.5c5.5-3 15.5-3 21 0m-21 3.5c5.5-3 15.5-3 21 0\" stroke=\"#fff\" /></g><radialGradient id=\"check_gradient\"><stop offset=\"0%\" stop-color=\"#ff0000\" stop-opacity=\"1.0\" /><stop offset=\"50%\" stop-color=\"#e70000\" stop-opacity=\"1.0\" /><stop offset=\"100%\" stop-color=\"#9e0000\" stop-opacity=\"0.0\" /></radialGradient></defs><rect class=\"square dark a1\" fill=\"#d18b47\" height=\"45\" stroke=\"none\" width=\"45\" x=\"20\" y=\"335\" /><use transform=\"translate(20, 335)\" xlink:href=\"#white-rook\" /><rect class=\"square light b1\" fill=\"#ffce9e\" height=\"45\" stroke=\"none\" width=\"45\" x=\"65\" y=\"335\" /><rect class=\"square dark c1\" fill=\"#d18b47\" height=\"45\" stroke=\"none\" width=\"45\" x=\"110\" y=\"335\" /><use transform=\"translate(110, 335)\" xlink:href=\"#white-bishop\" /><rect class=\"square light d1\" fill=\"#ffce9e\" height=\"45\" stroke=\"none\" width=\"45\" x=\"155\" y=\"335\" /><rect class=\"square dark e1\" fill=\"#d18b47\" height=\"45\" stroke=\"none\" width=\"45\" x=\"200\" y=\"335\" /><rect class=\"square light f1\" fill=\"#ffce9e\" height=\"45\" stroke=\"none\" width=\"45\" x=\"245\" y=\"335\" /><rect class=\"square dark g1\" fill=\"#d18b47\" height=\"45\" stroke=\"none\" width=\"45\" x=\"290\" y=\"335\" /><rect class=\"square light h1\" fill=\"#ffce9e\" height=\"45\" stroke=\"none\" width=\"45\" x=\"335\" y=\"335\" /><rect class=\"square light a2\" fill=\"#ffce9e\" height=\"45\" stroke=\"none\" width=\"45\" x=\"20\" y=\"290\" /><use transform=\"translate(20, 290)\" xlink:href=\"#white-pawn\" /><rect class=\"square dark b2\" fill=\"#d18b47\" height=\"45\" stroke=\"none\" width=\"45\" x=\"65\" y=\"290\" /><use transform=\"translate(65, 290)\" xlink:href=\"#white-pawn\" /><rect class=\"square light c2\" fill=\"#ffce9e\" height=\"45\" stroke=\"none\" width=\"45\" x=\"110\" y=\"290\" /><use transform=\"translate(110, 290)\" xlink:href=\"#white-pawn\" /><rect class=\"square dark d2\" fill=\"#d18b47\" height=\"45\" stroke=\"none\" width=\"45\" x=\"155\" y=\"290\" /><use transform=\"translate(155, 290)\" xlink:href=\"#white-pawn\" /><rect class=\"square light e2\" fill=\"#ffce9e\" height=\"45\" stroke=\"none\" width=\"45\" x=\"200\" y=\"290\" /><use transform=\"translate(200, 290)\" xlink:href=\"#black-queen\" /><rect class=\"square dark f2\" fill=\"#d18b47\" height=\"45\" stroke=\"none\" width=\"45\" x=\"245\" y=\"290\" /><use transform=\"translate(245, 290)\" xlink:href=\"#white-pawn\" /><rect class=\"square light g2\" fill=\"#ffce9e\" height=\"45\" stroke=\"none\" width=\"45\" x=\"290\" y=\"290\" /><rect class=\"square dark h2\" fill=\"#d18b47\" height=\"45\" stroke=\"none\" width=\"45\" x=\"335\" y=\"290\" /><use transform=\"translate(335, 290)\" xlink:href=\"#white-pawn\" /><rect class=\"square dark a3\" fill=\"#d18b47\" height=\"45\" stroke=\"none\" width=\"45\" x=\"20\" y=\"245\" /><rect class=\"square light b3\" fill=\"#ffce9e\" height=\"45\" stroke=\"none\" width=\"45\" x=\"65\" y=\"245\" /><rect class=\"square dark c3\" fill=\"#d18b47\" height=\"45\" stroke=\"none\" width=\"45\" x=\"110\" y=\"245\" /><rect class=\"square light d3\" fill=\"#ffce9e\" height=\"45\" stroke=\"none\" width=\"45\" x=\"155\" y=\"245\" /><rect class=\"square dark e3\" fill=\"#d18b47\" height=\"45\" stroke=\"none\" width=\"45\" x=\"200\" y=\"245\" /><rect class=\"square light f3\" fill=\"#ffce9e\" height=\"45\" stroke=\"none\" width=\"45\" x=\"245\" y=\"245\" /><rect class=\"square dark g3\" fill=\"#d18b47\" height=\"45\" stroke=\"none\" width=\"45\" x=\"290\" y=\"245\" /><rect class=\"square light h3\" fill=\"#ffce9e\" height=\"45\" stroke=\"none\" width=\"45\" x=\"335\" y=\"245\" /><rect class=\"square light a4\" fill=\"#ffce9e\" height=\"45\" stroke=\"none\" width=\"45\" x=\"20\" y=\"200\" /><rect class=\"square dark b4\" fill=\"#d18b47\" height=\"45\" stroke=\"none\" width=\"45\" x=\"65\" y=\"200\" /><rect class=\"square light c4\" fill=\"#ffce9e\" height=\"45\" stroke=\"none\" width=\"45\" x=\"110\" y=\"200\" /><rect class=\"square dark d4\" fill=\"#d18b47\" height=\"45\" stroke=\"none\" width=\"45\" x=\"155\" y=\"200\" /><rect class=\"square light e4\" fill=\"#ffce9e\" height=\"45\" stroke=\"none\" width=\"45\" x=\"200\" y=\"200\" /><rect class=\"square dark f4\" fill=\"#d18b47\" height=\"45\" stroke=\"none\" width=\"45\" x=\"245\" y=\"200\" /><rect class=\"square light g4\" fill=\"#ffce9e\" height=\"45\" stroke=\"none\" width=\"45\" x=\"290\" y=\"200\" /><use transform=\"translate(290, 200)\" xlink:href=\"#black-bishop\" /><rect class=\"square dark h4\" fill=\"#d18b47\" height=\"45\" stroke=\"none\" width=\"45\" x=\"335\" y=\"200\" /><rect class=\"square dark a5\" fill=\"#d18b47\" height=\"45\" stroke=\"none\" width=\"45\" x=\"20\" y=\"155\" /><rect class=\"square light b5\" fill=\"#ffce9e\" height=\"45\" stroke=\"none\" width=\"45\" x=\"65\" y=\"155\" /><rect class=\"square dark c5\" fill=\"#d18b47\" height=\"45\" stroke=\"none\" width=\"45\" x=\"110\" y=\"155\" /><rect class=\"square light d5\" fill=\"#ffce9e\" height=\"45\" stroke=\"none\" width=\"45\" x=\"155\" y=\"155\" /><rect class=\"check\" fill=\"url(#check_gradient)\" height=\"45\" width=\"45\" x=\"155\" y=\"155\" /><use transform=\"translate(155, 155)\" xlink:href=\"#white-king\" /><rect class=\"square dark e5\" fill=\"#d18b47\" height=\"45\" stroke=\"none\" width=\"45\" x=\"200\" y=\"155\" /><use transform=\"translate(200, 155)\" xlink:href=\"#black-pawn\" /><rect class=\"square light f5\" fill=\"#ffce9e\" height=\"45\" stroke=\"none\" width=\"45\" x=\"245\" y=\"155\" /><rect class=\"square dark g5\" fill=\"#d18b47\" height=\"45\" stroke=\"none\" width=\"45\" x=\"290\" y=\"155\" /><rect class=\"square light h5\" fill=\"#ffce9e\" height=\"45\" stroke=\"none\" width=\"45\" x=\"335\" y=\"155\" /><rect class=\"square light a6\" fill=\"#ffce9e\" height=\"45\" stroke=\"none\" width=\"45\" x=\"20\" y=\"110\" /><rect class=\"square dark b6\" fill=\"#d18b47\" height=\"45\" stroke=\"none\" width=\"45\" x=\"65\" y=\"110\" /><rect class=\"square light lastmove c6\" fill=\"#cdd16a\" height=\"45\" stroke=\"none\" width=\"45\" x=\"110\" y=\"110\" /><use transform=\"translate(110, 110)\" xlink:href=\"#black-pawn\" /><rect class=\"square dark d6\" fill=\"#d18b47\" height=\"45\" stroke=\"none\" width=\"45\" x=\"155\" y=\"110\" /><rect class=\"square light e6\" fill=\"#ffce9e\" height=\"45\" stroke=\"none\" width=\"45\" x=\"200\" y=\"110\" /><rect class=\"square dark f6\" fill=\"#d18b47\" height=\"45\" stroke=\"none\" width=\"45\" x=\"245\" y=\"110\" /><rect class=\"square light g6\" fill=\"#ffce9e\" height=\"45\" stroke=\"none\" width=\"45\" x=\"290\" y=\"110\" /><rect class=\"square dark h6\" fill=\"#d18b47\" height=\"45\" stroke=\"none\" width=\"45\" x=\"335\" y=\"110\" /><rect class=\"square dark a7\" fill=\"#d18b47\" height=\"45\" stroke=\"none\" width=\"45\" x=\"20\" y=\"65\" /><use transform=\"translate(20, 65)\" xlink:href=\"#black-pawn\" /><rect class=\"square light b7\" fill=\"#ffce9e\" height=\"45\" stroke=\"none\" width=\"45\" x=\"65\" y=\"65\" /><use transform=\"translate(65, 65)\" xlink:href=\"#black-pawn\" /><rect class=\"square dark lastmove c7\" fill=\"#aaa23b\" height=\"45\" stroke=\"none\" width=\"45\" x=\"110\" y=\"65\" /><rect class=\"square light d7\" fill=\"#ffce9e\" height=\"45\" stroke=\"none\" width=\"45\" x=\"155\" y=\"65\" /><rect class=\"square dark e7\" fill=\"#d18b47\" height=\"45\" stroke=\"none\" width=\"45\" x=\"200\" y=\"65\" /><rect class=\"square light f7\" fill=\"#ffce9e\" height=\"45\" stroke=\"none\" width=\"45\" x=\"245\" y=\"65\" /><use transform=\"translate(245, 65)\" xlink:href=\"#black-pawn\" /><rect class=\"square dark g7\" fill=\"#d18b47\" height=\"45\" stroke=\"none\" width=\"45\" x=\"290\" y=\"65\" /><use transform=\"translate(290, 65)\" xlink:href=\"#black-pawn\" /><rect class=\"square light h7\" fill=\"#ffce9e\" height=\"45\" stroke=\"none\" width=\"45\" x=\"335\" y=\"65\" /><use transform=\"translate(335, 65)\" xlink:href=\"#black-pawn\" /><rect class=\"square light a8\" fill=\"#ffce9e\" height=\"45\" stroke=\"none\" width=\"45\" x=\"20\" y=\"20\" /><use transform=\"translate(20, 20)\" xlink:href=\"#black-rook\" /><rect class=\"square dark b8\" fill=\"#d18b47\" height=\"45\" stroke=\"none\" width=\"45\" x=\"65\" y=\"20\" /><use transform=\"translate(65, 20)\" xlink:href=\"#black-knight\" /><rect class=\"square light c8\" fill=\"#ffce9e\" height=\"45\" stroke=\"none\" width=\"45\" x=\"110\" y=\"20\" /><rect class=\"square dark d8\" fill=\"#d18b47\" height=\"45\" stroke=\"none\" width=\"45\" x=\"155\" y=\"20\" /><rect class=\"square light e8\" fill=\"#ffce9e\" height=\"45\" stroke=\"none\" width=\"45\" x=\"200\" y=\"20\" /><use transform=\"translate(200, 20)\" xlink:href=\"#black-king\" /><rect class=\"square dark f8\" fill=\"#d18b47\" height=\"45\" stroke=\"none\" width=\"45\" x=\"245\" y=\"20\" /><use transform=\"translate(245, 20)\" xlink:href=\"#black-bishop\" /><rect class=\"square light g8\" fill=\"#ffce9e\" height=\"45\" stroke=\"none\" width=\"45\" x=\"290\" y=\"20\" /><use transform=\"translate(290, 20)\" xlink:href=\"#black-knight\" /><rect class=\"square dark h8\" fill=\"#d18b47\" height=\"45\" stroke=\"none\" width=\"45\" x=\"335\" y=\"20\" /><use transform=\"translate(335, 20)\" xlink:href=\"#black-rook\" /><text alignment-baseline=\"middle\" font-size=\"14\" text-anchor=\"middle\" x=\"42\" y=\"10\">a</text><text alignment-baseline=\"middle\" font-size=\"14\" text-anchor=\"middle\" x=\"42\" y=\"390\">a</text><text alignment-baseline=\"middle\" font-size=\"14\" text-anchor=\"middle\" x=\"87\" y=\"10\">b</text><text alignment-baseline=\"middle\" font-size=\"14\" text-anchor=\"middle\" x=\"87\" y=\"390\">b</text><text alignment-baseline=\"middle\" font-size=\"14\" text-anchor=\"middle\" x=\"132\" y=\"10\">c</text><text alignment-baseline=\"middle\" font-size=\"14\" text-anchor=\"middle\" x=\"132\" y=\"390\">c</text><text alignment-baseline=\"middle\" font-size=\"14\" text-anchor=\"middle\" x=\"177\" y=\"10\">d</text><text alignment-baseline=\"middle\" font-size=\"14\" text-anchor=\"middle\" x=\"177\" y=\"390\">d</text><text alignment-baseline=\"middle\" font-size=\"14\" text-anchor=\"middle\" x=\"222\" y=\"10\">e</text><text alignment-baseline=\"middle\" font-size=\"14\" text-anchor=\"middle\" x=\"222\" y=\"390\">e</text><text alignment-baseline=\"middle\" font-size=\"14\" text-anchor=\"middle\" x=\"267\" y=\"10\">f</text><text alignment-baseline=\"middle\" font-size=\"14\" text-anchor=\"middle\" x=\"267\" y=\"390\">f</text><text alignment-baseline=\"middle\" font-size=\"14\" text-anchor=\"middle\" x=\"312\" y=\"10\">g</text><text alignment-baseline=\"middle\" font-size=\"14\" text-anchor=\"middle\" x=\"312\" y=\"390\">g</text><text alignment-baseline=\"middle\" font-size=\"14\" text-anchor=\"middle\" x=\"357\" y=\"10\">h</text><text alignment-baseline=\"middle\" font-size=\"14\" text-anchor=\"middle\" x=\"357\" y=\"390\">h</text><text alignment-baseline=\"middle\" font-size=\"14\" text-anchor=\"middle\" x=\"10\" y=\"357\">1</text><text alignment-baseline=\"middle\" font-size=\"14\" text-anchor=\"middle\" x=\"390\" y=\"357\">1</text><text alignment-baseline=\"middle\" font-size=\"14\" text-anchor=\"middle\" x=\"10\" y=\"312\">2</text><text alignment-baseline=\"middle\" font-size=\"14\" text-anchor=\"middle\" x=\"390\" y=\"312\">2</text><text alignment-baseline=\"middle\" font-size=\"14\" text-anchor=\"middle\" x=\"10\" y=\"267\">3</text><text alignment-baseline=\"middle\" font-size=\"14\" text-anchor=\"middle\" x=\"390\" y=\"267\">3</text><text alignment-baseline=\"middle\" font-size=\"14\" text-anchor=\"middle\" x=\"10\" y=\"222\">4</text><text alignment-baseline=\"middle\" font-size=\"14\" text-anchor=\"middle\" x=\"390\" y=\"222\">4</text><text alignment-baseline=\"middle\" font-size=\"14\" text-anchor=\"middle\" x=\"10\" y=\"177\">5</text><text alignment-baseline=\"middle\" font-size=\"14\" text-anchor=\"middle\" x=\"390\" y=\"177\">5</text><text alignment-baseline=\"middle\" font-size=\"14\" text-anchor=\"middle\" x=\"10\" y=\"132\">6</text><text alignment-baseline=\"middle\" font-size=\"14\" text-anchor=\"middle\" x=\"390\" y=\"132\">6</text><text alignment-baseline=\"middle\" font-size=\"14\" text-anchor=\"middle\" x=\"10\" y=\"87\">7</text><text alignment-baseline=\"middle\" font-size=\"14\" text-anchor=\"middle\" x=\"390\" y=\"87\">7</text><text alignment-baseline=\"middle\" font-size=\"14\" text-anchor=\"middle\" x=\"10\" y=\"42\">8</text><text alignment-baseline=\"middle\" font-size=\"14\" text-anchor=\"middle\" x=\"390\" y=\"42\">8</text></svg>"
      ],
      "text/plain": [
       "<IPython.core.display.HTML object>"
      ]
     },
     "metadata": {},
     "output_type": "display_data"
    },
    {
     "name": "stdout",
     "output_type": "stream",
     "text": [
      "checkmate: Black wins!\n"
     ]
    }
   ],
   "source": [
    "game = ai.Game()\n",
    "\n",
    "white = ai.MiniMaxAgent(max_depth=3, heuristic=\"advanced\", type=\"alpha-beta\")\n",
    "black = STOCKFISH_PATH\n",
    "\n",
    "results = game.run_engine(white, black, NUM_ITERATIONS, visual=\"svg\", pause=0.001)\n",
    "# engine_agent = chess.engine.SimpleEngine.popen_uci(black)\n",
    "# results = game.play_game_engine(white.agent, engine_agent, uci_start_state=None, visual=\"svg\",pause=0.001, engine_time=0.000001, engine_depth=None)\n"
   ]
  },
  {
   "cell_type": "code",
   "execution_count": 102,
   "metadata": {
    "pycharm": {
     "name": "#%%\n"
    }
   },
   "outputs": [],
   "source": [
    "df = pd.DataFrame(data=results,columns=COLUMNS)"
   ]
  },
  {
   "cell_type": "code",
   "execution_count": null,
   "outputs": [],
   "source": [
    "#update the scoreboard\n",
    "scoreboard = scoreboard.append(df, ignore_index=True)"
   ],
   "metadata": {
    "collapsed": false,
    "pycharm": {
     "name": "#%%\n"
    }
   }
  },
  {
   "cell_type": "code",
   "execution_count": null,
   "outputs": [],
   "source": [
    "scoreboard.sort_values(by=['moves_played'], inplace=False, ascending=True)"
   ],
   "metadata": {
    "collapsed": false,
    "pycharm": {
     "name": "#%%\n"
    }
   }
  },
  {
   "cell_type": "markdown",
   "source": [],
   "metadata": {
    "collapsed": false
   }
  },
  {
   "cell_type": "code",
   "execution_count": null,
   "outputs": [],
   "source": [],
   "metadata": {
    "collapsed": false,
    "pycharm": {
     "name": "#%%\n"
    }
   }
  },
  {
   "cell_type": "code",
   "execution_count": null,
   "outputs": [],
   "source": [
    "game = ai.Game()\n",
    "\n",
    "white = ai.MiniMaxAgent(max_depth=2, heuristic=\"advanced\", type=\"alpha-beta\")\n",
    "black = STOCKFISH_PATH\n",
    "\n",
    "results = game.run_engine(white, black, NUM_ITERATIONS, uci_start_state=\"QN4n1/6r1/3k4/8/b2K4/8/8/8 w - - 0 1\")\n",
    "\n",
    "# engine_agent = chess.engine.SimpleEngine.popen_uci(black)\n",
    "# results = game.play_game_engine(white.agent, engine_agent, uci_start_state=None, visual=\"svg\",pause=0.001, engine_time=0.000001, engine_depth=None)\n"
   ],
   "metadata": {
    "collapsed": false,
    "pycharm": {
     "name": "#%%\n"
    }
   }
  },
  {
   "cell_type": "code",
   "execution_count": 103,
   "metadata": {
    "pycharm": {
     "name": "#%%\n"
    }
   },
   "outputs": [],
   "source": [
    "df = pd.DataFrame(data=results,columns=COLUMNS)"
   ]
  },
  {
   "cell_type": "code",
   "execution_count": 104,
   "metadata": {
    "pycharm": {
     "name": "#%%\n"
    }
   },
   "outputs": [
    {
     "data": {
      "text/html": [
       "<div>\n",
       "<style scoped>\n",
       "    .dataframe tbody tr th:only-of-type {\n",
       "        vertical-align: middle;\n",
       "    }\n",
       "\n",
       "    .dataframe tbody tr th {\n",
       "        vertical-align: top;\n",
       "    }\n",
       "\n",
       "    .dataframe thead th {\n",
       "        text-align: right;\n",
       "    }\n",
       "</style>\n",
       "<table border=\"1\" class=\"dataframe\">\n",
       "  <thead>\n",
       "    <tr style=\"text-align: right;\">\n",
       "      <th></th>\n",
       "      <th>round_num</th>\n",
       "      <th>iterations</th>\n",
       "      <th>depth</th>\n",
       "      <th>white agent</th>\n",
       "      <th>black agent</th>\n",
       "      <th>white_victory</th>\n",
       "      <th>winner</th>\n",
       "      <th>moves_played</th>\n",
       "      <th>remain_w_pieces</th>\n",
       "      <th>remaining_b_pieces</th>\n",
       "      <th>remaining_tot_pieces</th>\n",
       "    </tr>\n",
       "  </thead>\n",
       "  <tbody>\n",
       "    <tr>\n",
       "      <th>14</th>\n",
       "      <td>1</td>\n",
       "      <td>1</td>\n",
       "      <td>2</td>\n",
       "      <td>improved_alpha-beta_minimax_agent</td>\n",
       "      <td>stockfish</td>\n",
       "      <td>False</td>\n",
       "      <td>checkmate: Black wins!</td>\n",
       "      <td>16</td>\n",
       "      <td>11</td>\n",
       "      <td>14</td>\n",
       "      <td>25</td>\n",
       "    </tr>\n",
       "    <tr>\n",
       "      <th>0</th>\n",
       "      <td>1</td>\n",
       "      <td>1</td>\n",
       "      <td>None</td>\n",
       "      <td>random_agent</td>\n",
       "      <td>stockfish</td>\n",
       "      <td>False</td>\n",
       "      <td>checkmate: Black wins!</td>\n",
       "      <td>18</td>\n",
       "      <td>14</td>\n",
       "      <td>16</td>\n",
       "      <td>30</td>\n",
       "    </tr>\n",
       "    <tr>\n",
       "      <th>17</th>\n",
       "      <td>1</td>\n",
       "      <td>1</td>\n",
       "      <td>3</td>\n",
       "      <td>advanced_alpha-beta_minimax_agent</td>\n",
       "      <td>stockfish</td>\n",
       "      <td>False</td>\n",
       "      <td>checkmate: Black wins!</td>\n",
       "      <td>22</td>\n",
       "      <td>9</td>\n",
       "      <td>15</td>\n",
       "      <td>24</td>\n",
       "    </tr>\n",
       "    <tr>\n",
       "      <th>1</th>\n",
       "      <td>1</td>\n",
       "      <td>1</td>\n",
       "      <td>None</td>\n",
       "      <td>improved_random_agent</td>\n",
       "      <td>stockfish</td>\n",
       "      <td>False</td>\n",
       "      <td>checkmate: Black wins!</td>\n",
       "      <td>22</td>\n",
       "      <td>13</td>\n",
       "      <td>13</td>\n",
       "      <td>26</td>\n",
       "    </tr>\n",
       "    <tr>\n",
       "      <th>2</th>\n",
       "      <td>1</td>\n",
       "      <td>1</td>\n",
       "      <td>None</td>\n",
       "      <td>naive_agent</td>\n",
       "      <td>stockfish</td>\n",
       "      <td>False</td>\n",
       "      <td>checkmate: Black wins!</td>\n",
       "      <td>22</td>\n",
       "      <td>12</td>\n",
       "      <td>15</td>\n",
       "      <td>27</td>\n",
       "    </tr>\n",
       "    <tr>\n",
       "      <th>3</th>\n",
       "      <td>1</td>\n",
       "      <td>1</td>\n",
       "      <td>None</td>\n",
       "      <td>improved_agent</td>\n",
       "      <td>stockfish</td>\n",
       "      <td>False</td>\n",
       "      <td>checkmate: Black wins!</td>\n",
       "      <td>24</td>\n",
       "      <td>10</td>\n",
       "      <td>14</td>\n",
       "      <td>24</td>\n",
       "    </tr>\n",
       "    <tr>\n",
       "      <th>4</th>\n",
       "      <td>1</td>\n",
       "      <td>1</td>\n",
       "      <td>None</td>\n",
       "      <td>advanced_agent</td>\n",
       "      <td>stockfish</td>\n",
       "      <td>False</td>\n",
       "      <td>checkmate: Black wins!</td>\n",
       "      <td>24</td>\n",
       "      <td>10</td>\n",
       "      <td>13</td>\n",
       "      <td>23</td>\n",
       "    </tr>\n",
       "    <tr>\n",
       "      <th>8</th>\n",
       "      <td>1</td>\n",
       "      <td>1</td>\n",
       "      <td>2</td>\n",
       "      <td>improved_minimax_agent</td>\n",
       "      <td>stockfish</td>\n",
       "      <td>False</td>\n",
       "      <td>checkmate: Black wins!</td>\n",
       "      <td>26</td>\n",
       "      <td>11</td>\n",
       "      <td>14</td>\n",
       "      <td>25</td>\n",
       "    </tr>\n",
       "    <tr>\n",
       "      <th>11</th>\n",
       "      <td>1</td>\n",
       "      <td>1</td>\n",
       "      <td>1</td>\n",
       "      <td>naive_alpha-beta_minimax_agent</td>\n",
       "      <td>stockfish</td>\n",
       "      <td>False</td>\n",
       "      <td>checkmate: Black wins!</td>\n",
       "      <td>30</td>\n",
       "      <td>15</td>\n",
       "      <td>15</td>\n",
       "      <td>30</td>\n",
       "    </tr>\n",
       "    <tr>\n",
       "      <th>13</th>\n",
       "      <td>1</td>\n",
       "      <td>1</td>\n",
       "      <td>1</td>\n",
       "      <td>improved_alpha-beta_minimax_agent</td>\n",
       "      <td>stockfish</td>\n",
       "      <td>False</td>\n",
       "      <td>checkmate: Black wins!</td>\n",
       "      <td>32</td>\n",
       "      <td>10</td>\n",
       "      <td>15</td>\n",
       "      <td>25</td>\n",
       "    </tr>\n",
       "    <tr>\n",
       "      <th>5</th>\n",
       "      <td>1</td>\n",
       "      <td>1</td>\n",
       "      <td>1</td>\n",
       "      <td>naive_minimax_agent</td>\n",
       "      <td>stockfish</td>\n",
       "      <td>False</td>\n",
       "      <td>checkmate: Black wins!</td>\n",
       "      <td>34</td>\n",
       "      <td>15</td>\n",
       "      <td>15</td>\n",
       "      <td>30</td>\n",
       "    </tr>\n",
       "    <tr>\n",
       "      <th>6</th>\n",
       "      <td>1</td>\n",
       "      <td>1</td>\n",
       "      <td>2</td>\n",
       "      <td>naive_minimax_agent</td>\n",
       "      <td>stockfish</td>\n",
       "      <td>False</td>\n",
       "      <td>checkmate: Black wins!</td>\n",
       "      <td>36</td>\n",
       "      <td>12</td>\n",
       "      <td>14</td>\n",
       "      <td>26</td>\n",
       "    </tr>\n",
       "    <tr>\n",
       "      <th>10</th>\n",
       "      <td>1</td>\n",
       "      <td>1</td>\n",
       "      <td>2</td>\n",
       "      <td>advanced_minimax_agent</td>\n",
       "      <td>stockfish</td>\n",
       "      <td>False</td>\n",
       "      <td>checkmate: Black wins!</td>\n",
       "      <td>38</td>\n",
       "      <td>11</td>\n",
       "      <td>12</td>\n",
       "      <td>23</td>\n",
       "    </tr>\n",
       "    <tr>\n",
       "      <th>16</th>\n",
       "      <td>1</td>\n",
       "      <td>1</td>\n",
       "      <td>2</td>\n",
       "      <td>advanced_alpha-beta_minimax_agent</td>\n",
       "      <td>stockfish</td>\n",
       "      <td>False</td>\n",
       "      <td>checkmate: Black wins!</td>\n",
       "      <td>40</td>\n",
       "      <td>5</td>\n",
       "      <td>12</td>\n",
       "      <td>17</td>\n",
       "    </tr>\n",
       "    <tr>\n",
       "      <th>7</th>\n",
       "      <td>1</td>\n",
       "      <td>1</td>\n",
       "      <td>1</td>\n",
       "      <td>improved_minimax_agent</td>\n",
       "      <td>stockfish</td>\n",
       "      <td>False</td>\n",
       "      <td>checkmate: Black wins!</td>\n",
       "      <td>42</td>\n",
       "      <td>12</td>\n",
       "      <td>13</td>\n",
       "      <td>25</td>\n",
       "    </tr>\n",
       "    <tr>\n",
       "      <th>15</th>\n",
       "      <td>1</td>\n",
       "      <td>1</td>\n",
       "      <td>1</td>\n",
       "      <td>advanced_alpha-beta_minimax_agent</td>\n",
       "      <td>stockfish</td>\n",
       "      <td>False</td>\n",
       "      <td>checkmate: Black wins!</td>\n",
       "      <td>46</td>\n",
       "      <td>8</td>\n",
       "      <td>10</td>\n",
       "      <td>18</td>\n",
       "    </tr>\n",
       "    <tr>\n",
       "      <th>9</th>\n",
       "      <td>1</td>\n",
       "      <td>1</td>\n",
       "      <td>1</td>\n",
       "      <td>advanced_minimax_agent</td>\n",
       "      <td>stockfish</td>\n",
       "      <td>False</td>\n",
       "      <td>checkmate: Black wins!</td>\n",
       "      <td>48</td>\n",
       "      <td>6</td>\n",
       "      <td>12</td>\n",
       "      <td>18</td>\n",
       "    </tr>\n",
       "    <tr>\n",
       "      <th>12</th>\n",
       "      <td>1</td>\n",
       "      <td>1</td>\n",
       "      <td>2</td>\n",
       "      <td>naive_alpha-beta_minimax_agent</td>\n",
       "      <td>stockfish</td>\n",
       "      <td>False</td>\n",
       "      <td>checkmate: Black wins!</td>\n",
       "      <td>50</td>\n",
       "      <td>4</td>\n",
       "      <td>13</td>\n",
       "      <td>17</td>\n",
       "    </tr>\n",
       "  </tbody>\n",
       "</table>\n",
       "</div>"
      ],
      "text/plain": [
       "   round_num iterations depth                        white agent black agent  \\\n",
       "14         1          1     2  improved_alpha-beta_minimax_agent   stockfish   \n",
       "0          1          1  None                       random_agent   stockfish   \n",
       "17         1          1     3  advanced_alpha-beta_minimax_agent   stockfish   \n",
       "1          1          1  None              improved_random_agent   stockfish   \n",
       "2          1          1  None                        naive_agent   stockfish   \n",
       "3          1          1  None                     improved_agent   stockfish   \n",
       "4          1          1  None                     advanced_agent   stockfish   \n",
       "8          1          1     2             improved_minimax_agent   stockfish   \n",
       "11         1          1     1     naive_alpha-beta_minimax_agent   stockfish   \n",
       "13         1          1     1  improved_alpha-beta_minimax_agent   stockfish   \n",
       "5          1          1     1                naive_minimax_agent   stockfish   \n",
       "6          1          1     2                naive_minimax_agent   stockfish   \n",
       "10         1          1     2             advanced_minimax_agent   stockfish   \n",
       "16         1          1     2  advanced_alpha-beta_minimax_agent   stockfish   \n",
       "7          1          1     1             improved_minimax_agent   stockfish   \n",
       "15         1          1     1  advanced_alpha-beta_minimax_agent   stockfish   \n",
       "9          1          1     1             advanced_minimax_agent   stockfish   \n",
       "12         1          1     2     naive_alpha-beta_minimax_agent   stockfish   \n",
       "\n",
       "   white_victory                  winner moves_played remain_w_pieces  \\\n",
       "14         False  checkmate: Black wins!           16              11   \n",
       "0          False  checkmate: Black wins!           18              14   \n",
       "17         False  checkmate: Black wins!           22               9   \n",
       "1          False  checkmate: Black wins!           22              13   \n",
       "2          False  checkmate: Black wins!           22              12   \n",
       "3          False  checkmate: Black wins!           24              10   \n",
       "4          False  checkmate: Black wins!           24              10   \n",
       "8          False  checkmate: Black wins!           26              11   \n",
       "11         False  checkmate: Black wins!           30              15   \n",
       "13         False  checkmate: Black wins!           32              10   \n",
       "5          False  checkmate: Black wins!           34              15   \n",
       "6          False  checkmate: Black wins!           36              12   \n",
       "10         False  checkmate: Black wins!           38              11   \n",
       "16         False  checkmate: Black wins!           40               5   \n",
       "7          False  checkmate: Black wins!           42              12   \n",
       "15         False  checkmate: Black wins!           46               8   \n",
       "9          False  checkmate: Black wins!           48               6   \n",
       "12         False  checkmate: Black wins!           50               4   \n",
       "\n",
       "   remaining_b_pieces remaining_tot_pieces  \n",
       "14                 14                   25  \n",
       "0                  16                   30  \n",
       "17                 15                   24  \n",
       "1                  13                   26  \n",
       "2                  15                   27  \n",
       "3                  14                   24  \n",
       "4                  13                   23  \n",
       "8                  14                   25  \n",
       "11                 15                   30  \n",
       "13                 15                   25  \n",
       "5                  15                   30  \n",
       "6                  14                   26  \n",
       "10                 12                   23  \n",
       "16                 12                   17  \n",
       "7                  13                   25  \n",
       "15                 10                   18  \n",
       "9                  12                   18  \n",
       "12                 13                   17  "
      ]
     },
     "execution_count": 104,
     "metadata": {},
     "output_type": "execute_result"
    }
   ],
   "source": [
    "scoreboard.sort_values(by=['moves_played'], inplace=False, ascending=True)"
   ]
  },
  {
   "cell_type": "markdown",
   "metadata": {},
   "source": []
  },
  {
   "cell_type": "code",
   "execution_count": null,
   "metadata": {
    "pycharm": {
     "name": "#%%\n"
    }
   },
   "outputs": [],
   "source": []
  },
  {
   "cell_type": "code",
   "execution_count": 105,
   "metadata": {
    "pycharm": {
     "is_executing": false,
     "name": "#%%\n"
    }
   },
   "outputs": [
    {
     "name": "stdout",
     "output_type": "stream",
     "text": [
      "started round: 0\n",
      "created stockfish: <SimpleEngine (pid=5708)>\n",
      "inside play_game_engine\n",
      "hi\n"
     ]
    }
   ],
   "source": [
    "game = ai.Game()\n",
    "\n",
    "white = ai.MiniMaxAgent(max_depth=2, heuristic=\"advanced\", type=\"alpha-beta\")\n",
    "black = STOCKFISH_PATH\n",
    "\n",
    "results = game.run_engine(white, black, NUM_ITERATIONS, uci_start_state=\"QN4n1/6r1/3k4/8/b2K4/8/8/8 w - - 0 1\")\n",
    "\n",
    "# engine_agent = chess.engine.SimpleEngine.popen_uci(black)\n",
    "# results = game.play_game_engine(white.agent, engine_agent, uci_start_state=None, visual=\"svg\",pause=0.001, engine_time=0.000001, engine_depth=None)\n"
   ]
  },
  {
   "cell_type": "code",
   "execution_count": null,
   "metadata": {
    "pycharm": {
     "name": "#%%\n"
    }
   },
   "outputs": [],
   "source": [
    "df = pd.DataFrame(data=results,columns=COLUMNS)"
   ]
  },
  {
   "cell_type": "code",
   "execution_count": null,
   "metadata": {
    "pycharm": {
     "name": "#%%\n"
    }
   },
   "outputs": [],
   "source": [
    "#update the scoreboard\n",
    "scoreboard = scoreboard.append(df, ignore_index=True)"
   ]
  },
  {
   "cell_type": "code",
   "execution_count": null,
   "metadata": {},
   "outputs": [],
   "source": [
    "scoreboard.sort_values(by=['moves_played'], inplace=False, ascending=True)"
   ]
  },
  {
   "cell_type": "markdown",
   "metadata": {},
   "source": []
  }
 ],
 "metadata": {
  "kernelspec": {
   "display_name": "Python 3",
   "language": "python",
   "name": "python3"
  },
  "language_info": {
   "codemirror_mode": {
    "name": "ipython",
    "version": 3
   },
   "file_extension": ".py",
   "mimetype": "text/x-python",
   "name": "python",
   "nbconvert_exporter": "python",
   "pygments_lexer": "ipython3",
   "version": "3.7.5"
  },
  "pycharm": {
   "stem_cell": {
    "cell_type": "raw",
    "source": [],
    "metadata": {
     "collapsed": false
    }
   }
  }
 },
 "nbformat": 4,
 "nbformat_minor": 1
}