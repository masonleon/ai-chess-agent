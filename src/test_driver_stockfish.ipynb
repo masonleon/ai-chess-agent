{
 "cells": [
  {
   "cell_type": "code",
   "execution_count": 1,
   "metadata": {
    "pycharm": {
     "is_executing": false,
     "name": "#%%\n"
    }
   },
   "outputs": [],
   "source": [
    "import time\n",
    "import chess\n",
    "from IPython.display import display, HTML, clear_output\n",
    "import numpy as np\n",
    "import pandas as pd\n",
    "import timeit\n",
    "import random\n",
    "import chess.engine"
   ]
  },
  {
   "cell_type": "code",
   "execution_count": 2,
   "metadata": {
    "pycharm": {
     "is_executing": false,
     "name": "#%%\n"
    }
   },
   "outputs": [],
   "source": [
    "import ai_chess as ai"
   ]
  },
  {
   "cell_type": "code",
   "execution_count": 3,
   "metadata": {
    "pycharm": {
     "is_executing": false,
     "name": "#%%\n"
    }
   },
   "outputs": [],
   "source": [
    "NUM_ITERATIONS = 15\n",
    "COLUMNS = ['round_num','iterations', 'depth', 'white agent','black agent','white_victory','winner','moves_played','remain_w_pieces','remaining_b_pieces']\n",
    "GRAPHICS = None"
   ]
  },
  {
   "cell_type": "markdown",
   "metadata": {},
   "source": [
    "### Results Scoreboard"
   ]
  },
  {
   "cell_type": "code",
   "execution_count": 4,
   "metadata": {
    "pycharm": {
     "is_executing": false,
     "name": "#%%\n"
    }
   },
   "outputs": [],
   "source": [
    "scoreboard = pd.DataFrame(columns=COLUMNS)"
   ]
  },
  {
   "cell_type": "markdown",
   "metadata": {},
   "source": [
    "## Random vs SimpleEngine(Stockfish)"
   ]
  },
  {
   "cell_type": "code",
   "execution_count": 5,
   "metadata": {
    "pycharm": {
     "is_executing": false,
     "name": "#%%\n"
    }
   },
   "outputs": [],
   "source": [
    "game = ai.Game()\n",
    "white = ai.RandomAgent()\n",
    "black = \"./stockfish_engine/test/stockfish\"\n",
    "\n",
    "results = game.run_engine(white, black, NUM_ITERATIONS, visual=None)"
   ]
  },
  {
   "cell_type": "code",
   "execution_count": 6,
   "metadata": {
    "pycharm": {
     "is_executing": false,
     "name": "#%%\n"
    }
   },
   "outputs": [],
   "source": [
    "df = pd.DataFrame(data=results,columns=COLUMNS)\n",
    "# this series by moves played ascending\n",
    "# df.sort_values(by=['moves_played'], inplace=False, ascending=True)"
   ]
  },
  {
   "cell_type": "code",
   "execution_count": 7,
   "metadata": {
    "pycharm": {
     "is_executing": false,
     "name": "#%%\n"
    }
   },
   "outputs": [],
   "source": [
    "#update the scoreboard\n",
    "scoreboard = scoreboard.append(df, ignore_index=True)"
   ]
  },
  {
   "cell_type": "markdown",
   "metadata": {},
   "source": [
    "### Overall Scoreboard by moves played ascending"
   ]
  },
  {
   "cell_type": "code",
   "execution_count": 8,
   "metadata": {},
   "outputs": [
    {
     "data": {
      "text/html": [
       "<div>\n",
       "<style scoped>\n",
       "    .dataframe tbody tr th:only-of-type {\n",
       "        vertical-align: middle;\n",
       "    }\n",
       "\n",
       "    .dataframe tbody tr th {\n",
       "        vertical-align: top;\n",
       "    }\n",
       "\n",
       "    .dataframe thead th {\n",
       "        text-align: right;\n",
       "    }\n",
       "</style>\n",
       "<table border=\"1\" class=\"dataframe\">\n",
       "  <thead>\n",
       "    <tr style=\"text-align: right;\">\n",
       "      <th></th>\n",
       "      <th>round_num</th>\n",
       "      <th>iterations</th>\n",
       "      <th>depth</th>\n",
       "      <th>white agent</th>\n",
       "      <th>black agent</th>\n",
       "      <th>white_victory</th>\n",
       "      <th>winner</th>\n",
       "      <th>moves_played</th>\n",
       "      <th>remain_w_pieces</th>\n",
       "      <th>remaining_b_pieces</th>\n",
       "    </tr>\n",
       "  </thead>\n",
       "  <tbody>\n",
       "    <tr>\n",
       "      <th>1</th>\n",
       "      <td>2</td>\n",
       "      <td>15</td>\n",
       "      <td>None</td>\n",
       "      <td>random_agent</td>\n",
       "      <td>chess.engine.SimpleEngine.popen_uci(\"./stockfi...</td>\n",
       "      <td>False</td>\n",
       "      <td>checkmate: Black wins!</td>\n",
       "      <td>16</td>\n",
       "      <td>11</td>\n",
       "      <td>16</td>\n",
       "    </tr>\n",
       "    <tr>\n",
       "      <th>6</th>\n",
       "      <td>7</td>\n",
       "      <td>15</td>\n",
       "      <td>None</td>\n",
       "      <td>random_agent</td>\n",
       "      <td>chess.engine.SimpleEngine.popen_uci(\"./stockfi...</td>\n",
       "      <td>False</td>\n",
       "      <td>checkmate: Black wins!</td>\n",
       "      <td>18</td>\n",
       "      <td>14</td>\n",
       "      <td>16</td>\n",
       "    </tr>\n",
       "    <tr>\n",
       "      <th>11</th>\n",
       "      <td>12</td>\n",
       "      <td>15</td>\n",
       "      <td>None</td>\n",
       "      <td>random_agent</td>\n",
       "      <td>chess.engine.SimpleEngine.popen_uci(\"./stockfi...</td>\n",
       "      <td>False</td>\n",
       "      <td>checkmate: Black wins!</td>\n",
       "      <td>26</td>\n",
       "      <td>10</td>\n",
       "      <td>15</td>\n",
       "    </tr>\n",
       "    <tr>\n",
       "      <th>14</th>\n",
       "      <td>15</td>\n",
       "      <td>15</td>\n",
       "      <td>None</td>\n",
       "      <td>random_agent</td>\n",
       "      <td>chess.engine.SimpleEngine.popen_uci(\"./stockfi...</td>\n",
       "      <td>False</td>\n",
       "      <td>checkmate: Black wins!</td>\n",
       "      <td>26</td>\n",
       "      <td>14</td>\n",
       "      <td>15</td>\n",
       "    </tr>\n",
       "    <tr>\n",
       "      <th>10</th>\n",
       "      <td>11</td>\n",
       "      <td>15</td>\n",
       "      <td>None</td>\n",
       "      <td>random_agent</td>\n",
       "      <td>chess.engine.SimpleEngine.popen_uci(\"./stockfi...</td>\n",
       "      <td>False</td>\n",
       "      <td>checkmate: Black wins!</td>\n",
       "      <td>28</td>\n",
       "      <td>12</td>\n",
       "      <td>15</td>\n",
       "    </tr>\n",
       "    <tr>\n",
       "      <th>13</th>\n",
       "      <td>14</td>\n",
       "      <td>15</td>\n",
       "      <td>None</td>\n",
       "      <td>random_agent</td>\n",
       "      <td>chess.engine.SimpleEngine.popen_uci(\"./stockfi...</td>\n",
       "      <td>False</td>\n",
       "      <td>checkmate: Black wins!</td>\n",
       "      <td>28</td>\n",
       "      <td>11</td>\n",
       "      <td>16</td>\n",
       "    </tr>\n",
       "    <tr>\n",
       "      <th>2</th>\n",
       "      <td>3</td>\n",
       "      <td>15</td>\n",
       "      <td>None</td>\n",
       "      <td>random_agent</td>\n",
       "      <td>chess.engine.SimpleEngine.popen_uci(\"./stockfi...</td>\n",
       "      <td>False</td>\n",
       "      <td>checkmate: Black wins!</td>\n",
       "      <td>30</td>\n",
       "      <td>8</td>\n",
       "      <td>16</td>\n",
       "    </tr>\n",
       "    <tr>\n",
       "      <th>7</th>\n",
       "      <td>8</td>\n",
       "      <td>15</td>\n",
       "      <td>None</td>\n",
       "      <td>random_agent</td>\n",
       "      <td>chess.engine.SimpleEngine.popen_uci(\"./stockfi...</td>\n",
       "      <td>False</td>\n",
       "      <td>checkmate: Black wins!</td>\n",
       "      <td>30</td>\n",
       "      <td>9</td>\n",
       "      <td>16</td>\n",
       "    </tr>\n",
       "    <tr>\n",
       "      <th>8</th>\n",
       "      <td>9</td>\n",
       "      <td>15</td>\n",
       "      <td>None</td>\n",
       "      <td>random_agent</td>\n",
       "      <td>chess.engine.SimpleEngine.popen_uci(\"./stockfi...</td>\n",
       "      <td>False</td>\n",
       "      <td>checkmate: Black wins!</td>\n",
       "      <td>30</td>\n",
       "      <td>9</td>\n",
       "      <td>16</td>\n",
       "    </tr>\n",
       "    <tr>\n",
       "      <th>12</th>\n",
       "      <td>13</td>\n",
       "      <td>15</td>\n",
       "      <td>None</td>\n",
       "      <td>random_agent</td>\n",
       "      <td>chess.engine.SimpleEngine.popen_uci(\"./stockfi...</td>\n",
       "      <td>False</td>\n",
       "      <td>checkmate: Black wins!</td>\n",
       "      <td>30</td>\n",
       "      <td>11</td>\n",
       "      <td>15</td>\n",
       "    </tr>\n",
       "    <tr>\n",
       "      <th>3</th>\n",
       "      <td>4</td>\n",
       "      <td>15</td>\n",
       "      <td>None</td>\n",
       "      <td>random_agent</td>\n",
       "      <td>chess.engine.SimpleEngine.popen_uci(\"./stockfi...</td>\n",
       "      <td>False</td>\n",
       "      <td>checkmate: Black wins!</td>\n",
       "      <td>32</td>\n",
       "      <td>8</td>\n",
       "      <td>15</td>\n",
       "    </tr>\n",
       "    <tr>\n",
       "      <th>5</th>\n",
       "      <td>6</td>\n",
       "      <td>15</td>\n",
       "      <td>None</td>\n",
       "      <td>random_agent</td>\n",
       "      <td>chess.engine.SimpleEngine.popen_uci(\"./stockfi...</td>\n",
       "      <td>False</td>\n",
       "      <td>checkmate: Black wins!</td>\n",
       "      <td>32</td>\n",
       "      <td>9</td>\n",
       "      <td>14</td>\n",
       "    </tr>\n",
       "    <tr>\n",
       "      <th>4</th>\n",
       "      <td>5</td>\n",
       "      <td>15</td>\n",
       "      <td>None</td>\n",
       "      <td>random_agent</td>\n",
       "      <td>chess.engine.SimpleEngine.popen_uci(\"./stockfi...</td>\n",
       "      <td>False</td>\n",
       "      <td>checkmate: Black wins!</td>\n",
       "      <td>34</td>\n",
       "      <td>7</td>\n",
       "      <td>15</td>\n",
       "    </tr>\n",
       "    <tr>\n",
       "      <th>9</th>\n",
       "      <td>10</td>\n",
       "      <td>15</td>\n",
       "      <td>None</td>\n",
       "      <td>random_agent</td>\n",
       "      <td>chess.engine.SimpleEngine.popen_uci(\"./stockfi...</td>\n",
       "      <td>False</td>\n",
       "      <td>checkmate: Black wins!</td>\n",
       "      <td>34</td>\n",
       "      <td>10</td>\n",
       "      <td>16</td>\n",
       "    </tr>\n",
       "    <tr>\n",
       "      <th>0</th>\n",
       "      <td>1</td>\n",
       "      <td>15</td>\n",
       "      <td>None</td>\n",
       "      <td>random_agent</td>\n",
       "      <td>chess.engine.SimpleEngine.popen_uci(\"./stockfi...</td>\n",
       "      <td>False</td>\n",
       "      <td>checkmate: Black wins!</td>\n",
       "      <td>36</td>\n",
       "      <td>8</td>\n",
       "      <td>13</td>\n",
       "    </tr>\n",
       "  </tbody>\n",
       "</table>\n",
       "</div>"
      ],
      "text/plain": [
       "   round_num iterations depth   white agent  \\\n",
       "1          2         15  None  random_agent   \n",
       "6          7         15  None  random_agent   \n",
       "11        12         15  None  random_agent   \n",
       "14        15         15  None  random_agent   \n",
       "10        11         15  None  random_agent   \n",
       "13        14         15  None  random_agent   \n",
       "2          3         15  None  random_agent   \n",
       "7          8         15  None  random_agent   \n",
       "8          9         15  None  random_agent   \n",
       "12        13         15  None  random_agent   \n",
       "3          4         15  None  random_agent   \n",
       "5          6         15  None  random_agent   \n",
       "4          5         15  None  random_agent   \n",
       "9         10         15  None  random_agent   \n",
       "0          1         15  None  random_agent   \n",
       "\n",
       "                                          black agent white_victory  \\\n",
       "1   chess.engine.SimpleEngine.popen_uci(\"./stockfi...         False   \n",
       "6   chess.engine.SimpleEngine.popen_uci(\"./stockfi...         False   \n",
       "11  chess.engine.SimpleEngine.popen_uci(\"./stockfi...         False   \n",
       "14  chess.engine.SimpleEngine.popen_uci(\"./stockfi...         False   \n",
       "10  chess.engine.SimpleEngine.popen_uci(\"./stockfi...         False   \n",
       "13  chess.engine.SimpleEngine.popen_uci(\"./stockfi...         False   \n",
       "2   chess.engine.SimpleEngine.popen_uci(\"./stockfi...         False   \n",
       "7   chess.engine.SimpleEngine.popen_uci(\"./stockfi...         False   \n",
       "8   chess.engine.SimpleEngine.popen_uci(\"./stockfi...         False   \n",
       "12  chess.engine.SimpleEngine.popen_uci(\"./stockfi...         False   \n",
       "3   chess.engine.SimpleEngine.popen_uci(\"./stockfi...         False   \n",
       "5   chess.engine.SimpleEngine.popen_uci(\"./stockfi...         False   \n",
       "4   chess.engine.SimpleEngine.popen_uci(\"./stockfi...         False   \n",
       "9   chess.engine.SimpleEngine.popen_uci(\"./stockfi...         False   \n",
       "0   chess.engine.SimpleEngine.popen_uci(\"./stockfi...         False   \n",
       "\n",
       "                    winner moves_played remain_w_pieces remaining_b_pieces  \n",
       "1   checkmate: Black wins!           16              11                 16  \n",
       "6   checkmate: Black wins!           18              14                 16  \n",
       "11  checkmate: Black wins!           26              10                 15  \n",
       "14  checkmate: Black wins!           26              14                 15  \n",
       "10  checkmate: Black wins!           28              12                 15  \n",
       "13  checkmate: Black wins!           28              11                 16  \n",
       "2   checkmate: Black wins!           30               8                 16  \n",
       "7   checkmate: Black wins!           30               9                 16  \n",
       "8   checkmate: Black wins!           30               9                 16  \n",
       "12  checkmate: Black wins!           30              11                 15  \n",
       "3   checkmate: Black wins!           32               8                 15  \n",
       "5   checkmate: Black wins!           32               9                 14  \n",
       "4   checkmate: Black wins!           34               7                 15  \n",
       "9   checkmate: Black wins!           34              10                 16  \n",
       "0   checkmate: Black wins!           36               8                 13  "
      ]
     },
     "execution_count": 8,
     "metadata": {},
     "output_type": "execute_result"
    }
   ],
   "source": [
    "scoreboard.sort_values(by=['moves_played'], inplace=False, ascending=True)"
   ]
  },
  {
   "cell_type": "markdown",
   "metadata": {},
   "source": []
  }
 ],
 "metadata": {
  "kernelspec": {
   "display_name": "Python 3",
   "language": "python",
   "name": "python3"
  },
  "language_info": {
   "codemirror_mode": {
    "name": "ipython",
    "version": 3
   },
   "file_extension": ".py",
   "mimetype": "text/x-python",
   "name": "python",
   "nbconvert_exporter": "python",
   "pygments_lexer": "ipython3",
   "version": "3.7.5"
  },
  "pycharm": {
   "stem_cell": {
    "cell_type": "raw",
    "metadata": {
     "collapsed": false
    },
    "source": []
   }
  }
 },
 "nbformat": 4,
 "nbformat_minor": 1
}
