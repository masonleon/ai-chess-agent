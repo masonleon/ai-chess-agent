{
 "cells": [
  {
   "cell_type": "markdown",
   "metadata": {},
   "source": [
    "# AI Chess Agent Project"
   ]
  },
  {
   "cell_type": "code",
   "execution_count": 1,
   "metadata": {
    "pycharm": {
     "is_executing": false,
     "name": "#%%\n"
    }
   },
   "outputs": [],
   "source": [
    "import time\n",
    "import chess\n",
    "from IPython.display import display, HTML, clear_output\n",
    "import numpy as np\n",
    "import pandas as pd\n",
    "import timeit\n",
    "import random\n",
    "import chess.engine"
   ]
  },
  {
   "cell_type": "code",
   "execution_count": 2,
   "metadata": {
    "pycharm": {
     "is_executing": false,
     "name": "#%%\n"
    }
   },
   "outputs": [],
   "source": [
    "# import our game utilities, agents, and evaluation functions\n",
    "import ai_chess as ai"
   ]
  },
  {
   "cell_type": "code",
   "execution_count": 3,
   "metadata": {
    "pycharm": {
     "is_executing": false,
     "name": "#%%\n"
    }
   },
   "outputs": [],
   "source": [
    "# game rounds per match-up\n",
    "NUM_ITERATIONS = 1\n",
    "# result stats per game for pandas dataframee\n",
    "COLUMNS = ['round_num','iterations', 'depth', 'white agent','black agent','white_victory','winner','moves_played','remain_w_pieces','remaining_b_pieces']\n",
    "# turn off svg animation to improve performance\n",
    "GRAPHICS = None\n",
    "# stockfish engine executable path\n",
    "STOCKFISH_PATH = \"./stockfish_engine/test/stockfish\""
   ]
  },
  {
   "cell_type": "markdown",
   "metadata": {},
   "source": [
    "### Results Scoreboard"
   ]
  },
  {
   "cell_type": "code",
   "execution_count": 4,
   "metadata": {
    "pycharm": {
     "is_executing": false,
     "name": "#%%\n"
    }
   },
   "outputs": [],
   "source": [
    "scoreboard = pd.DataFrame(columns=COLUMNS)"
   ]
  },
  {
   "cell_type": "markdown",
   "metadata": {},
   "source": [
    "## Random Agent vs Stockfish"
   ]
  },
  {
   "cell_type": "code",
   "execution_count": 5,
   "metadata": {
    "pycharm": {
     "is_executing": false,
     "name": "#%%\n"
    }
   },
   "outputs": [],
   "source": [
    "game = ai.Game()\n",
    "white = ai.RandomAgent()\n",
    "black = STOCKFISH_PATH\n",
    "\n",
    "results = game.run_engine(white, black, NUM_ITERATIONS, visual=None)"
   ]
  },
  {
   "cell_type": "code",
   "execution_count": 6,
   "metadata": {
    "pycharm": {
     "is_executing": false,
     "name": "#%%\n"
    }
   },
   "outputs": [],
   "source": [
    "df = pd.DataFrame(data=results,columns=COLUMNS)"
   ]
  },
  {
   "cell_type": "code",
   "execution_count": 7,
   "metadata": {
    "pycharm": {
     "is_executing": false,
     "name": "#%%\n"
    }
   },
   "outputs": [],
   "source": [
    "#update the scoreboard\n",
    "scoreboard = scoreboard.append(df, ignore_index=True)"
   ]
  },
  {
   "cell_type": "markdown",
   "metadata": {},
   "source": [
    "### Overall Scoreboard by moves played ascending"
   ]
  },
  {
   "cell_type": "code",
   "execution_count": 8,
   "metadata": {
    "pycharm": {
     "is_executing": false,
     "name": "#%%\n"
    }
   },
   "outputs": [
    {
     "data": {
      "text/html": [
       "<div>\n",
       "<style scoped>\n",
       "    .dataframe tbody tr th:only-of-type {\n",
       "        vertical-align: middle;\n",
       "    }\n",
       "\n",
       "    .dataframe tbody tr th {\n",
       "        vertical-align: top;\n",
       "    }\n",
       "\n",
       "    .dataframe thead th {\n",
       "        text-align: right;\n",
       "    }\n",
       "</style>\n",
       "<table border=\"1\" class=\"dataframe\">\n",
       "  <thead>\n",
       "    <tr style=\"text-align: right;\">\n",
       "      <th></th>\n",
       "      <th>round_num</th>\n",
       "      <th>iterations</th>\n",
       "      <th>depth</th>\n",
       "      <th>white agent</th>\n",
       "      <th>black agent</th>\n",
       "      <th>white_victory</th>\n",
       "      <th>winner</th>\n",
       "      <th>moves_played</th>\n",
       "      <th>remain_w_pieces</th>\n",
       "      <th>remaining_b_pieces</th>\n",
       "    </tr>\n",
       "  </thead>\n",
       "  <tbody>\n",
       "    <tr>\n",
       "      <th>0</th>\n",
       "      <td>1</td>\n",
       "      <td>1</td>\n",
       "      <td>None</td>\n",
       "      <td>random_agent</td>\n",
       "      <td>chess.engine.SimpleEngine.popen_uci(\"./stockfi...</td>\n",
       "      <td>False</td>\n",
       "      <td>checkmate: Black wins!</td>\n",
       "      <td>26</td>\n",
       "      <td>11</td>\n",
       "      <td>16</td>\n",
       "    </tr>\n",
       "  </tbody>\n",
       "</table>\n",
       "</div>"
      ],
      "text/plain": [
       "  round_num iterations depth   white agent  \\\n",
       "0         1          1  None  random_agent   \n",
       "\n",
       "                                         black agent white_victory  \\\n",
       "0  chess.engine.SimpleEngine.popen_uci(\"./stockfi...         False   \n",
       "\n",
       "                   winner moves_played remain_w_pieces remaining_b_pieces  \n",
       "0  checkmate: Black wins!           26              11                 16  "
      ]
     },
     "execution_count": 8,
     "metadata": {},
     "output_type": "execute_result"
    }
   ],
   "source": [
    "scoreboard.sort_values(by=['moves_played'], inplace=False, ascending=True)"
   ]
  },
  {
   "cell_type": "markdown",
   "metadata": {},
   "source": [
    "## Improved Random Agent vs Stockfish"
   ]
  },
  {
   "cell_type": "code",
   "execution_count": 9,
   "metadata": {
    "pycharm": {
     "is_executing": false,
     "name": "#%%\n"
    }
   },
   "outputs": [],
   "source": [
    "game = ai.Game()\n",
    "white = ai.RandomAgent(\"improved\")\n",
    "black = STOCKFISH_PATH\n",
    "\n",
    "results = game.run_engine(white, black, NUM_ITERATIONS, visual=None)"
   ]
  },
  {
   "cell_type": "code",
   "execution_count": 10,
   "metadata": {
    "pycharm": {
     "is_executing": false,
     "name": "#%%\n"
    }
   },
   "outputs": [],
   "source": [
    "df = pd.DataFrame(data=results,columns=COLUMNS)"
   ]
  },
  {
   "cell_type": "code",
   "execution_count": 11,
   "metadata": {
    "pycharm": {
     "is_executing": false,
     "name": "#%%\n"
    }
   },
   "outputs": [],
   "source": [
    "#update the scoreboard\n",
    "scoreboard = scoreboard.append(df, ignore_index=True)"
   ]
  },
  {
   "cell_type": "markdown",
   "metadata": {},
   "source": [
    "### Overall Scoreboard by moves played ascending"
   ]
  },
  {
   "cell_type": "code",
   "execution_count": 12,
   "metadata": {
    "pycharm": {
     "is_executing": false,
     "name": "#%%\n"
    }
   },
   "outputs": [
    {
     "data": {
      "text/html": [
       "<div>\n",
       "<style scoped>\n",
       "    .dataframe tbody tr th:only-of-type {\n",
       "        vertical-align: middle;\n",
       "    }\n",
       "\n",
       "    .dataframe tbody tr th {\n",
       "        vertical-align: top;\n",
       "    }\n",
       "\n",
       "    .dataframe thead th {\n",
       "        text-align: right;\n",
       "    }\n",
       "</style>\n",
       "<table border=\"1\" class=\"dataframe\">\n",
       "  <thead>\n",
       "    <tr style=\"text-align: right;\">\n",
       "      <th></th>\n",
       "      <th>round_num</th>\n",
       "      <th>iterations</th>\n",
       "      <th>depth</th>\n",
       "      <th>white agent</th>\n",
       "      <th>black agent</th>\n",
       "      <th>white_victory</th>\n",
       "      <th>winner</th>\n",
       "      <th>moves_played</th>\n",
       "      <th>remain_w_pieces</th>\n",
       "      <th>remaining_b_pieces</th>\n",
       "    </tr>\n",
       "  </thead>\n",
       "  <tbody>\n",
       "    <tr>\n",
       "      <th>1</th>\n",
       "      <td>1</td>\n",
       "      <td>1</td>\n",
       "      <td>None</td>\n",
       "      <td>improved_random_agent</td>\n",
       "      <td>chess.engine.SimpleEngine.popen_uci(\"./stockfi...</td>\n",
       "      <td>False</td>\n",
       "      <td>checkmate: Black wins!</td>\n",
       "      <td>24</td>\n",
       "      <td>14</td>\n",
       "      <td>13</td>\n",
       "    </tr>\n",
       "    <tr>\n",
       "      <th>0</th>\n",
       "      <td>1</td>\n",
       "      <td>1</td>\n",
       "      <td>None</td>\n",
       "      <td>random_agent</td>\n",
       "      <td>chess.engine.SimpleEngine.popen_uci(\"./stockfi...</td>\n",
       "      <td>False</td>\n",
       "      <td>checkmate: Black wins!</td>\n",
       "      <td>26</td>\n",
       "      <td>11</td>\n",
       "      <td>16</td>\n",
       "    </tr>\n",
       "  </tbody>\n",
       "</table>\n",
       "</div>"
      ],
      "text/plain": [
       "  round_num iterations depth            white agent  \\\n",
       "1         1          1  None  improved_random_agent   \n",
       "0         1          1  None           random_agent   \n",
       "\n",
       "                                         black agent white_victory  \\\n",
       "1  chess.engine.SimpleEngine.popen_uci(\"./stockfi...         False   \n",
       "0  chess.engine.SimpleEngine.popen_uci(\"./stockfi...         False   \n",
       "\n",
       "                   winner moves_played remain_w_pieces remaining_b_pieces  \n",
       "1  checkmate: Black wins!           24              14                 13  \n",
       "0  checkmate: Black wins!           26              11                 16  "
      ]
     },
     "execution_count": 12,
     "metadata": {},
     "output_type": "execute_result"
    }
   ],
   "source": [
    "scoreboard.sort_values(by=['moves_played'], inplace=False, ascending=True)"
   ]
  },
  {
   "cell_type": "markdown",
   "metadata": {},
   "source": [
    "## Naive Agent vs Stockfish"
   ]
  },
  {
   "cell_type": "code",
   "execution_count": 13,
   "metadata": {
    "pycharm": {
     "is_executing": false,
     "name": "#%%\n"
    }
   },
   "outputs": [],
   "source": [
    "game = ai.Game()\n",
    "white = ai.BaseAgent(heuristic=\"naive\")\n",
    "black = STOCKFISH_PATH\n",
    "\n",
    "results = game.run_engine(white, black, NUM_ITERATIONS, visual=None)"
   ]
  },
  {
   "cell_type": "code",
   "execution_count": 14,
   "metadata": {
    "pycharm": {
     "is_executing": false,
     "name": "#%%\n"
    }
   },
   "outputs": [],
   "source": [
    "df = pd.DataFrame(data=results,columns=COLUMNS)"
   ]
  },
  {
   "cell_type": "code",
   "execution_count": 15,
   "metadata": {
    "pycharm": {
     "is_executing": false,
     "name": "#%%\n"
    }
   },
   "outputs": [],
   "source": [
    "#update the scoreboard\n",
    "scoreboard = scoreboard.append(df, ignore_index=True)"
   ]
  },
  {
   "cell_type": "markdown",
   "metadata": {},
   "source": [
    "### Overall Scoreboard by moves played ascending"
   ]
  },
  {
   "cell_type": "code",
   "execution_count": 16,
   "metadata": {
    "pycharm": {
     "is_executing": false,
     "name": "#%%\n"
    }
   },
   "outputs": [
    {
     "data": {
      "text/html": [
       "<div>\n",
       "<style scoped>\n",
       "    .dataframe tbody tr th:only-of-type {\n",
       "        vertical-align: middle;\n",
       "    }\n",
       "\n",
       "    .dataframe tbody tr th {\n",
       "        vertical-align: top;\n",
       "    }\n",
       "\n",
       "    .dataframe thead th {\n",
       "        text-align: right;\n",
       "    }\n",
       "</style>\n",
       "<table border=\"1\" class=\"dataframe\">\n",
       "  <thead>\n",
       "    <tr style=\"text-align: right;\">\n",
       "      <th></th>\n",
       "      <th>round_num</th>\n",
       "      <th>iterations</th>\n",
       "      <th>depth</th>\n",
       "      <th>white agent</th>\n",
       "      <th>black agent</th>\n",
       "      <th>white_victory</th>\n",
       "      <th>winner</th>\n",
       "      <th>moves_played</th>\n",
       "      <th>remain_w_pieces</th>\n",
       "      <th>remaining_b_pieces</th>\n",
       "    </tr>\n",
       "  </thead>\n",
       "  <tbody>\n",
       "    <tr>\n",
       "      <th>2</th>\n",
       "      <td>1</td>\n",
       "      <td>1</td>\n",
       "      <td>None</td>\n",
       "      <td>naive_agent</td>\n",
       "      <td>chess.engine.SimpleEngine.popen_uci(\"./stockfi...</td>\n",
       "      <td>False</td>\n",
       "      <td>checkmate: Black wins!</td>\n",
       "      <td>20</td>\n",
       "      <td>11</td>\n",
       "      <td>15</td>\n",
       "    </tr>\n",
       "    <tr>\n",
       "      <th>1</th>\n",
       "      <td>1</td>\n",
       "      <td>1</td>\n",
       "      <td>None</td>\n",
       "      <td>improved_random_agent</td>\n",
       "      <td>chess.engine.SimpleEngine.popen_uci(\"./stockfi...</td>\n",
       "      <td>False</td>\n",
       "      <td>checkmate: Black wins!</td>\n",
       "      <td>24</td>\n",
       "      <td>14</td>\n",
       "      <td>13</td>\n",
       "    </tr>\n",
       "    <tr>\n",
       "      <th>0</th>\n",
       "      <td>1</td>\n",
       "      <td>1</td>\n",
       "      <td>None</td>\n",
       "      <td>random_agent</td>\n",
       "      <td>chess.engine.SimpleEngine.popen_uci(\"./stockfi...</td>\n",
       "      <td>False</td>\n",
       "      <td>checkmate: Black wins!</td>\n",
       "      <td>26</td>\n",
       "      <td>11</td>\n",
       "      <td>16</td>\n",
       "    </tr>\n",
       "  </tbody>\n",
       "</table>\n",
       "</div>"
      ],
      "text/plain": [
       "  round_num iterations depth            white agent  \\\n",
       "2         1          1  None            naive_agent   \n",
       "1         1          1  None  improved_random_agent   \n",
       "0         1          1  None           random_agent   \n",
       "\n",
       "                                         black agent white_victory  \\\n",
       "2  chess.engine.SimpleEngine.popen_uci(\"./stockfi...         False   \n",
       "1  chess.engine.SimpleEngine.popen_uci(\"./stockfi...         False   \n",
       "0  chess.engine.SimpleEngine.popen_uci(\"./stockfi...         False   \n",
       "\n",
       "                   winner moves_played remain_w_pieces remaining_b_pieces  \n",
       "2  checkmate: Black wins!           20              11                 15  \n",
       "1  checkmate: Black wins!           24              14                 13  \n",
       "0  checkmate: Black wins!           26              11                 16  "
      ]
     },
     "execution_count": 16,
     "metadata": {},
     "output_type": "execute_result"
    }
   ],
   "source": [
    "scoreboard.sort_values(by=['moves_played'], inplace=False, ascending=True)"
   ]
  },
  {
   "cell_type": "markdown",
   "metadata": {},
   "source": [
    "## Improved Naive Agent vs Stockfish"
   ]
  },
  {
   "cell_type": "code",
   "execution_count": 17,
   "metadata": {
    "pycharm": {
     "is_executing": false,
     "name": "#%%\n"
    }
   },
   "outputs": [],
   "source": [
    "game = ai.Game()\n",
    "white = ai.BaseAgent(heuristic=\"improved\")\n",
    "black = STOCKFISH_PATH\n",
    "\n",
    "results = game.run_engine(white, black, NUM_ITERATIONS, visual=None)"
   ]
  },
  {
   "cell_type": "code",
   "execution_count": 18,
   "metadata": {
    "pycharm": {
     "is_executing": false,
     "name": "#%%\n"
    }
   },
   "outputs": [],
   "source": [
    "df = pd.DataFrame(data=results,columns=COLUMNS)"
   ]
  },
  {
   "cell_type": "code",
   "execution_count": 19,
   "metadata": {
    "pycharm": {
     "is_executing": false,
     "name": "#%%\n"
    }
   },
   "outputs": [],
   "source": [
    "#update the scoreboard\n",
    "scoreboard = scoreboard.append(df, ignore_index=True)"
   ]
  },
  {
   "cell_type": "markdown",
   "metadata": {},
   "source": [
    "### Overall Scoreboard by moves played ascending"
   ]
  },
  {
   "cell_type": "code",
   "execution_count": 20,
   "metadata": {
    "pycharm": {
     "is_executing": false,
     "name": "#%%\n"
    }
   },
   "outputs": [
    {
     "data": {
      "text/html": [
       "<div>\n",
       "<style scoped>\n",
       "    .dataframe tbody tr th:only-of-type {\n",
       "        vertical-align: middle;\n",
       "    }\n",
       "\n",
       "    .dataframe tbody tr th {\n",
       "        vertical-align: top;\n",
       "    }\n",
       "\n",
       "    .dataframe thead th {\n",
       "        text-align: right;\n",
       "    }\n",
       "</style>\n",
       "<table border=\"1\" class=\"dataframe\">\n",
       "  <thead>\n",
       "    <tr style=\"text-align: right;\">\n",
       "      <th></th>\n",
       "      <th>round_num</th>\n",
       "      <th>iterations</th>\n",
       "      <th>depth</th>\n",
       "      <th>white agent</th>\n",
       "      <th>black agent</th>\n",
       "      <th>white_victory</th>\n",
       "      <th>winner</th>\n",
       "      <th>moves_played</th>\n",
       "      <th>remain_w_pieces</th>\n",
       "      <th>remaining_b_pieces</th>\n",
       "    </tr>\n",
       "  </thead>\n",
       "  <tbody>\n",
       "    <tr>\n",
       "      <th>3</th>\n",
       "      <td>1</td>\n",
       "      <td>1</td>\n",
       "      <td>None</td>\n",
       "      <td>improved_agent</td>\n",
       "      <td>chess.engine.SimpleEngine.popen_uci(\"./stockfi...</td>\n",
       "      <td>False</td>\n",
       "      <td>checkmate: Black wins!</td>\n",
       "      <td>6</td>\n",
       "      <td>15</td>\n",
       "      <td>15</td>\n",
       "    </tr>\n",
       "    <tr>\n",
       "      <th>2</th>\n",
       "      <td>1</td>\n",
       "      <td>1</td>\n",
       "      <td>None</td>\n",
       "      <td>naive_agent</td>\n",
       "      <td>chess.engine.SimpleEngine.popen_uci(\"./stockfi...</td>\n",
       "      <td>False</td>\n",
       "      <td>checkmate: Black wins!</td>\n",
       "      <td>20</td>\n",
       "      <td>11</td>\n",
       "      <td>15</td>\n",
       "    </tr>\n",
       "    <tr>\n",
       "      <th>1</th>\n",
       "      <td>1</td>\n",
       "      <td>1</td>\n",
       "      <td>None</td>\n",
       "      <td>improved_random_agent</td>\n",
       "      <td>chess.engine.SimpleEngine.popen_uci(\"./stockfi...</td>\n",
       "      <td>False</td>\n",
       "      <td>checkmate: Black wins!</td>\n",
       "      <td>24</td>\n",
       "      <td>14</td>\n",
       "      <td>13</td>\n",
       "    </tr>\n",
       "    <tr>\n",
       "      <th>0</th>\n",
       "      <td>1</td>\n",
       "      <td>1</td>\n",
       "      <td>None</td>\n",
       "      <td>random_agent</td>\n",
       "      <td>chess.engine.SimpleEngine.popen_uci(\"./stockfi...</td>\n",
       "      <td>False</td>\n",
       "      <td>checkmate: Black wins!</td>\n",
       "      <td>26</td>\n",
       "      <td>11</td>\n",
       "      <td>16</td>\n",
       "    </tr>\n",
       "  </tbody>\n",
       "</table>\n",
       "</div>"
      ],
      "text/plain": [
       "  round_num iterations depth            white agent  \\\n",
       "3         1          1  None         improved_agent   \n",
       "2         1          1  None            naive_agent   \n",
       "1         1          1  None  improved_random_agent   \n",
       "0         1          1  None           random_agent   \n",
       "\n",
       "                                         black agent white_victory  \\\n",
       "3  chess.engine.SimpleEngine.popen_uci(\"./stockfi...         False   \n",
       "2  chess.engine.SimpleEngine.popen_uci(\"./stockfi...         False   \n",
       "1  chess.engine.SimpleEngine.popen_uci(\"./stockfi...         False   \n",
       "0  chess.engine.SimpleEngine.popen_uci(\"./stockfi...         False   \n",
       "\n",
       "                   winner moves_played remain_w_pieces remaining_b_pieces  \n",
       "3  checkmate: Black wins!            6              15                 15  \n",
       "2  checkmate: Black wins!           20              11                 15  \n",
       "1  checkmate: Black wins!           24              14                 13  \n",
       "0  checkmate: Black wins!           26              11                 16  "
      ]
     },
     "execution_count": 20,
     "metadata": {},
     "output_type": "execute_result"
    }
   ],
   "source": [
    "scoreboard.sort_values(by=['moves_played'], inplace=False, ascending=True)\n"
   ]
  },
  {
   "cell_type": "markdown",
   "metadata": {},
   "source": [
    "## Advanced Naive Agent vs Stockfish"
   ]
  },
  {
   "cell_type": "code",
   "execution_count": 21,
   "metadata": {
    "pycharm": {
     "is_executing": false,
     "name": "#%%\n"
    }
   },
   "outputs": [],
   "source": [
    "game = ai.Game()\n",
    "white = ai.BaseAgent(heuristic=\"advanced\")\n",
    "black = STOCKFISH_PATH\n",
    "\n",
    "results = game.run_engine(white, black, NUM_ITERATIONS, visual=None)"
   ]
  },
  {
   "cell_type": "code",
   "execution_count": 22,
   "metadata": {
    "pycharm": {
     "is_executing": false,
     "name": "#%%\n"
    }
   },
   "outputs": [],
   "source": [
    "df = pd.DataFrame(data=results,columns=COLUMNS)"
   ]
  },
  {
   "cell_type": "code",
   "execution_count": 23,
   "metadata": {
    "pycharm": {
     "is_executing": false,
     "name": "#%%\n"
    }
   },
   "outputs": [],
   "source": [
    "#update the scoreboard\n",
    "scoreboard = scoreboard.append(df, ignore_index=True)"
   ]
  },
  {
   "cell_type": "markdown",
   "metadata": {},
   "source": [
    "### Overall Scoreboard by moves played ascending"
   ]
  },
  {
   "cell_type": "code",
   "execution_count": 24,
   "metadata": {
    "pycharm": {
     "is_executing": false,
     "name": "#%%\n"
    }
   },
   "outputs": [
    {
     "data": {
      "text/html": [
       "<div>\n",
       "<style scoped>\n",
       "    .dataframe tbody tr th:only-of-type {\n",
       "        vertical-align: middle;\n",
       "    }\n",
       "\n",
       "    .dataframe tbody tr th {\n",
       "        vertical-align: top;\n",
       "    }\n",
       "\n",
       "    .dataframe thead th {\n",
       "        text-align: right;\n",
       "    }\n",
       "</style>\n",
       "<table border=\"1\" class=\"dataframe\">\n",
       "  <thead>\n",
       "    <tr style=\"text-align: right;\">\n",
       "      <th></th>\n",
       "      <th>round_num</th>\n",
       "      <th>iterations</th>\n",
       "      <th>depth</th>\n",
       "      <th>white agent</th>\n",
       "      <th>black agent</th>\n",
       "      <th>white_victory</th>\n",
       "      <th>winner</th>\n",
       "      <th>moves_played</th>\n",
       "      <th>remain_w_pieces</th>\n",
       "      <th>remaining_b_pieces</th>\n",
       "    </tr>\n",
       "  </thead>\n",
       "  <tbody>\n",
       "    <tr>\n",
       "      <th>3</th>\n",
       "      <td>1</td>\n",
       "      <td>1</td>\n",
       "      <td>None</td>\n",
       "      <td>improved_agent</td>\n",
       "      <td>chess.engine.SimpleEngine.popen_uci(\"./stockfi...</td>\n",
       "      <td>False</td>\n",
       "      <td>checkmate: Black wins!</td>\n",
       "      <td>6</td>\n",
       "      <td>15</td>\n",
       "      <td>15</td>\n",
       "    </tr>\n",
       "    <tr>\n",
       "      <th>4</th>\n",
       "      <td>1</td>\n",
       "      <td>1</td>\n",
       "      <td>None</td>\n",
       "      <td>advanced_agent</td>\n",
       "      <td>chess.engine.SimpleEngine.popen_uci(\"./stockfi...</td>\n",
       "      <td>False</td>\n",
       "      <td>checkmate: Black wins!</td>\n",
       "      <td>18</td>\n",
       "      <td>10</td>\n",
       "      <td>14</td>\n",
       "    </tr>\n",
       "    <tr>\n",
       "      <th>2</th>\n",
       "      <td>1</td>\n",
       "      <td>1</td>\n",
       "      <td>None</td>\n",
       "      <td>naive_agent</td>\n",
       "      <td>chess.engine.SimpleEngine.popen_uci(\"./stockfi...</td>\n",
       "      <td>False</td>\n",
       "      <td>checkmate: Black wins!</td>\n",
       "      <td>20</td>\n",
       "      <td>11</td>\n",
       "      <td>15</td>\n",
       "    </tr>\n",
       "    <tr>\n",
       "      <th>1</th>\n",
       "      <td>1</td>\n",
       "      <td>1</td>\n",
       "      <td>None</td>\n",
       "      <td>improved_random_agent</td>\n",
       "      <td>chess.engine.SimpleEngine.popen_uci(\"./stockfi...</td>\n",
       "      <td>False</td>\n",
       "      <td>checkmate: Black wins!</td>\n",
       "      <td>24</td>\n",
       "      <td>14</td>\n",
       "      <td>13</td>\n",
       "    </tr>\n",
       "    <tr>\n",
       "      <th>0</th>\n",
       "      <td>1</td>\n",
       "      <td>1</td>\n",
       "      <td>None</td>\n",
       "      <td>random_agent</td>\n",
       "      <td>chess.engine.SimpleEngine.popen_uci(\"./stockfi...</td>\n",
       "      <td>False</td>\n",
       "      <td>checkmate: Black wins!</td>\n",
       "      <td>26</td>\n",
       "      <td>11</td>\n",
       "      <td>16</td>\n",
       "    </tr>\n",
       "  </tbody>\n",
       "</table>\n",
       "</div>"
      ],
      "text/plain": [
       "  round_num iterations depth            white agent  \\\n",
       "3         1          1  None         improved_agent   \n",
       "4         1          1  None         advanced_agent   \n",
       "2         1          1  None            naive_agent   \n",
       "1         1          1  None  improved_random_agent   \n",
       "0         1          1  None           random_agent   \n",
       "\n",
       "                                         black agent white_victory  \\\n",
       "3  chess.engine.SimpleEngine.popen_uci(\"./stockfi...         False   \n",
       "4  chess.engine.SimpleEngine.popen_uci(\"./stockfi...         False   \n",
       "2  chess.engine.SimpleEngine.popen_uci(\"./stockfi...         False   \n",
       "1  chess.engine.SimpleEngine.popen_uci(\"./stockfi...         False   \n",
       "0  chess.engine.SimpleEngine.popen_uci(\"./stockfi...         False   \n",
       "\n",
       "                   winner moves_played remain_w_pieces remaining_b_pieces  \n",
       "3  checkmate: Black wins!            6              15                 15  \n",
       "4  checkmate: Black wins!           18              10                 14  \n",
       "2  checkmate: Black wins!           20              11                 15  \n",
       "1  checkmate: Black wins!           24              14                 13  \n",
       "0  checkmate: Black wins!           26              11                 16  "
      ]
     },
     "execution_count": 24,
     "metadata": {},
     "output_type": "execute_result"
    }
   ],
   "source": [
    "scoreboard.sort_values(by=['moves_played'], inplace=False, ascending=True)"
   ]
  },
  {
   "cell_type": "markdown",
   "metadata": {},
   "source": [
    "## Naive Mini-Max Agent (Depth 1) vs Stockfish"
   ]
  },
  {
   "cell_type": "code",
   "execution_count": 25,
   "metadata": {
    "pycharm": {
     "is_executing": false,
     "name": "#%%\n"
    }
   },
   "outputs": [],
   "source": [
    "game = ai.Game()\n",
    "white = ai.MiniMaxAgent(max_depth=1, heuristic=\"naive\", type=\"minimax\")\n",
    "black = STOCKFISH_PATH\n",
    "\n",
    "results = game.run_engine(white, black, NUM_ITERATIONS, visual=None)"
   ]
  },
  {
   "cell_type": "code",
   "execution_count": 26,
   "metadata": {
    "pycharm": {
     "is_executing": false,
     "name": "#%%\n"
    }
   },
   "outputs": [],
   "source": [
    "df = pd.DataFrame(data=results,columns=COLUMNS)"
   ]
  },
  {
   "cell_type": "code",
   "execution_count": 27,
   "metadata": {
    "pycharm": {
     "is_executing": false,
     "name": "#%%\n"
    }
   },
   "outputs": [],
   "source": [
    "#update the scoreboard\n",
    "scoreboard = scoreboard.append(df, ignore_index=True)"
   ]
  },
  {
   "cell_type": "markdown",
   "metadata": {},
   "source": [
    "### Overall Scoreboard by moves played ascending"
   ]
  },
  {
   "cell_type": "code",
   "execution_count": 28,
   "metadata": {
    "pycharm": {
     "is_executing": false,
     "name": "#%%\n"
    }
   },
   "outputs": [
    {
     "data": {
      "text/html": [
       "<div>\n",
       "<style scoped>\n",
       "    .dataframe tbody tr th:only-of-type {\n",
       "        vertical-align: middle;\n",
       "    }\n",
       "\n",
       "    .dataframe tbody tr th {\n",
       "        vertical-align: top;\n",
       "    }\n",
       "\n",
       "    .dataframe thead th {\n",
       "        text-align: right;\n",
       "    }\n",
       "</style>\n",
       "<table border=\"1\" class=\"dataframe\">\n",
       "  <thead>\n",
       "    <tr style=\"text-align: right;\">\n",
       "      <th></th>\n",
       "      <th>round_num</th>\n",
       "      <th>iterations</th>\n",
       "      <th>depth</th>\n",
       "      <th>white agent</th>\n",
       "      <th>black agent</th>\n",
       "      <th>white_victory</th>\n",
       "      <th>winner</th>\n",
       "      <th>moves_played</th>\n",
       "      <th>remain_w_pieces</th>\n",
       "      <th>remaining_b_pieces</th>\n",
       "    </tr>\n",
       "  </thead>\n",
       "  <tbody>\n",
       "    <tr>\n",
       "      <th>3</th>\n",
       "      <td>1</td>\n",
       "      <td>1</td>\n",
       "      <td>None</td>\n",
       "      <td>improved_agent</td>\n",
       "      <td>chess.engine.SimpleEngine.popen_uci(\"./stockfi...</td>\n",
       "      <td>False</td>\n",
       "      <td>checkmate: Black wins!</td>\n",
       "      <td>6</td>\n",
       "      <td>15</td>\n",
       "      <td>15</td>\n",
       "    </tr>\n",
       "    <tr>\n",
       "      <th>4</th>\n",
       "      <td>1</td>\n",
       "      <td>1</td>\n",
       "      <td>None</td>\n",
       "      <td>advanced_agent</td>\n",
       "      <td>chess.engine.SimpleEngine.popen_uci(\"./stockfi...</td>\n",
       "      <td>False</td>\n",
       "      <td>checkmate: Black wins!</td>\n",
       "      <td>18</td>\n",
       "      <td>10</td>\n",
       "      <td>14</td>\n",
       "    </tr>\n",
       "    <tr>\n",
       "      <th>2</th>\n",
       "      <td>1</td>\n",
       "      <td>1</td>\n",
       "      <td>None</td>\n",
       "      <td>naive_agent</td>\n",
       "      <td>chess.engine.SimpleEngine.popen_uci(\"./stockfi...</td>\n",
       "      <td>False</td>\n",
       "      <td>checkmate: Black wins!</td>\n",
       "      <td>20</td>\n",
       "      <td>11</td>\n",
       "      <td>15</td>\n",
       "    </tr>\n",
       "    <tr>\n",
       "      <th>1</th>\n",
       "      <td>1</td>\n",
       "      <td>1</td>\n",
       "      <td>None</td>\n",
       "      <td>improved_random_agent</td>\n",
       "      <td>chess.engine.SimpleEngine.popen_uci(\"./stockfi...</td>\n",
       "      <td>False</td>\n",
       "      <td>checkmate: Black wins!</td>\n",
       "      <td>24</td>\n",
       "      <td>14</td>\n",
       "      <td>13</td>\n",
       "    </tr>\n",
       "    <tr>\n",
       "      <th>0</th>\n",
       "      <td>1</td>\n",
       "      <td>1</td>\n",
       "      <td>None</td>\n",
       "      <td>random_agent</td>\n",
       "      <td>chess.engine.SimpleEngine.popen_uci(\"./stockfi...</td>\n",
       "      <td>False</td>\n",
       "      <td>checkmate: Black wins!</td>\n",
       "      <td>26</td>\n",
       "      <td>11</td>\n",
       "      <td>16</td>\n",
       "    </tr>\n",
       "    <tr>\n",
       "      <th>5</th>\n",
       "      <td>1</td>\n",
       "      <td>1</td>\n",
       "      <td>1</td>\n",
       "      <td>naive_minimax_agent</td>\n",
       "      <td>chess.engine.SimpleEngine.popen_uci(\"./stockfi...</td>\n",
       "      <td>False</td>\n",
       "      <td>checkmate: Black wins!</td>\n",
       "      <td>30</td>\n",
       "      <td>15</td>\n",
       "      <td>15</td>\n",
       "    </tr>\n",
       "  </tbody>\n",
       "</table>\n",
       "</div>"
      ],
      "text/plain": [
       "  round_num iterations depth            white agent  \\\n",
       "3         1          1  None         improved_agent   \n",
       "4         1          1  None         advanced_agent   \n",
       "2         1          1  None            naive_agent   \n",
       "1         1          1  None  improved_random_agent   \n",
       "0         1          1  None           random_agent   \n",
       "5         1          1     1    naive_minimax_agent   \n",
       "\n",
       "                                         black agent white_victory  \\\n",
       "3  chess.engine.SimpleEngine.popen_uci(\"./stockfi...         False   \n",
       "4  chess.engine.SimpleEngine.popen_uci(\"./stockfi...         False   \n",
       "2  chess.engine.SimpleEngine.popen_uci(\"./stockfi...         False   \n",
       "1  chess.engine.SimpleEngine.popen_uci(\"./stockfi...         False   \n",
       "0  chess.engine.SimpleEngine.popen_uci(\"./stockfi...         False   \n",
       "5  chess.engine.SimpleEngine.popen_uci(\"./stockfi...         False   \n",
       "\n",
       "                   winner moves_played remain_w_pieces remaining_b_pieces  \n",
       "3  checkmate: Black wins!            6              15                 15  \n",
       "4  checkmate: Black wins!           18              10                 14  \n",
       "2  checkmate: Black wins!           20              11                 15  \n",
       "1  checkmate: Black wins!           24              14                 13  \n",
       "0  checkmate: Black wins!           26              11                 16  \n",
       "5  checkmate: Black wins!           30              15                 15  "
      ]
     },
     "execution_count": 28,
     "metadata": {},
     "output_type": "execute_result"
    }
   ],
   "source": [
    "scoreboard.sort_values(by=['moves_played'], inplace=False, ascending=True)"
   ]
  },
  {
   "cell_type": "markdown",
   "metadata": {},
   "source": [
    "## Naive Mini-Max Agent (Depth 2) vs Stockfish"
   ]
  },
  {
   "cell_type": "code",
   "execution_count": 29,
   "metadata": {
    "pycharm": {
     "is_executing": false,
     "name": "#%%\n"
    }
   },
   "outputs": [],
   "source": [
    "game = ai.Game()\n",
    "white = ai.MiniMaxAgent(max_depth=2, heuristic=\"naive\", type=\"minimax\")\n",
    "black = STOCKFISH_PATH\n",
    "\n",
    "results = game.run_engine(white, black, NUM_ITERATIONS, visual=None)"
   ]
  },
  {
   "cell_type": "code",
   "execution_count": 30,
   "metadata": {
    "pycharm": {
     "is_executing": false,
     "name": "#%%\n"
    }
   },
   "outputs": [],
   "source": [
    "df = pd.DataFrame(data=results,columns=COLUMNS)"
   ]
  },
  {
   "cell_type": "code",
   "execution_count": 31,
   "metadata": {
    "pycharm": {
     "is_executing": false,
     "name": "#%%\n"
    }
   },
   "outputs": [],
   "source": [
    "#update the scoreboard\n",
    "scoreboard = scoreboard.append(df, ignore_index=True)"
   ]
  },
  {
   "cell_type": "markdown",
   "metadata": {},
   "source": [
    "### Overall Scoreboard by moves played ascending"
   ]
  },
  {
   "cell_type": "code",
   "execution_count": 32,
   "metadata": {
    "pycharm": {
     "is_executing": false,
     "name": "#%%\n"
    }
   },
   "outputs": [
    {
     "data": {
      "text/html": [
       "<div>\n",
       "<style scoped>\n",
       "    .dataframe tbody tr th:only-of-type {\n",
       "        vertical-align: middle;\n",
       "    }\n",
       "\n",
       "    .dataframe tbody tr th {\n",
       "        vertical-align: top;\n",
       "    }\n",
       "\n",
       "    .dataframe thead th {\n",
       "        text-align: right;\n",
       "    }\n",
       "</style>\n",
       "<table border=\"1\" class=\"dataframe\">\n",
       "  <thead>\n",
       "    <tr style=\"text-align: right;\">\n",
       "      <th></th>\n",
       "      <th>round_num</th>\n",
       "      <th>iterations</th>\n",
       "      <th>depth</th>\n",
       "      <th>white agent</th>\n",
       "      <th>black agent</th>\n",
       "      <th>white_victory</th>\n",
       "      <th>winner</th>\n",
       "      <th>moves_played</th>\n",
       "      <th>remain_w_pieces</th>\n",
       "      <th>remaining_b_pieces</th>\n",
       "    </tr>\n",
       "  </thead>\n",
       "  <tbody>\n",
       "    <tr>\n",
       "      <th>3</th>\n",
       "      <td>1</td>\n",
       "      <td>1</td>\n",
       "      <td>None</td>\n",
       "      <td>improved_agent</td>\n",
       "      <td>chess.engine.SimpleEngine.popen_uci(\"./stockfi...</td>\n",
       "      <td>False</td>\n",
       "      <td>checkmate: Black wins!</td>\n",
       "      <td>6</td>\n",
       "      <td>15</td>\n",
       "      <td>15</td>\n",
       "    </tr>\n",
       "    <tr>\n",
       "      <th>4</th>\n",
       "      <td>1</td>\n",
       "      <td>1</td>\n",
       "      <td>None</td>\n",
       "      <td>advanced_agent</td>\n",
       "      <td>chess.engine.SimpleEngine.popen_uci(\"./stockfi...</td>\n",
       "      <td>False</td>\n",
       "      <td>checkmate: Black wins!</td>\n",
       "      <td>18</td>\n",
       "      <td>10</td>\n",
       "      <td>14</td>\n",
       "    </tr>\n",
       "    <tr>\n",
       "      <th>2</th>\n",
       "      <td>1</td>\n",
       "      <td>1</td>\n",
       "      <td>None</td>\n",
       "      <td>naive_agent</td>\n",
       "      <td>chess.engine.SimpleEngine.popen_uci(\"./stockfi...</td>\n",
       "      <td>False</td>\n",
       "      <td>checkmate: Black wins!</td>\n",
       "      <td>20</td>\n",
       "      <td>11</td>\n",
       "      <td>15</td>\n",
       "    </tr>\n",
       "    <tr>\n",
       "      <th>1</th>\n",
       "      <td>1</td>\n",
       "      <td>1</td>\n",
       "      <td>None</td>\n",
       "      <td>improved_random_agent</td>\n",
       "      <td>chess.engine.SimpleEngine.popen_uci(\"./stockfi...</td>\n",
       "      <td>False</td>\n",
       "      <td>checkmate: Black wins!</td>\n",
       "      <td>24</td>\n",
       "      <td>14</td>\n",
       "      <td>13</td>\n",
       "    </tr>\n",
       "    <tr>\n",
       "      <th>0</th>\n",
       "      <td>1</td>\n",
       "      <td>1</td>\n",
       "      <td>None</td>\n",
       "      <td>random_agent</td>\n",
       "      <td>chess.engine.SimpleEngine.popen_uci(\"./stockfi...</td>\n",
       "      <td>False</td>\n",
       "      <td>checkmate: Black wins!</td>\n",
       "      <td>26</td>\n",
       "      <td>11</td>\n",
       "      <td>16</td>\n",
       "    </tr>\n",
       "    <tr>\n",
       "      <th>5</th>\n",
       "      <td>1</td>\n",
       "      <td>1</td>\n",
       "      <td>1</td>\n",
       "      <td>naive_minimax_agent</td>\n",
       "      <td>chess.engine.SimpleEngine.popen_uci(\"./stockfi...</td>\n",
       "      <td>False</td>\n",
       "      <td>checkmate: Black wins!</td>\n",
       "      <td>30</td>\n",
       "      <td>15</td>\n",
       "      <td>15</td>\n",
       "    </tr>\n",
       "    <tr>\n",
       "      <th>6</th>\n",
       "      <td>1</td>\n",
       "      <td>1</td>\n",
       "      <td>2</td>\n",
       "      <td>naive_minimax_agent</td>\n",
       "      <td>chess.engine.SimpleEngine.popen_uci(\"./stockfi...</td>\n",
       "      <td>False</td>\n",
       "      <td>checkmate: Black wins!</td>\n",
       "      <td>34</td>\n",
       "      <td>12</td>\n",
       "      <td>14</td>\n",
       "    </tr>\n",
       "  </tbody>\n",
       "</table>\n",
       "</div>"
      ],
      "text/plain": [
       "  round_num iterations depth            white agent  \\\n",
       "3         1          1  None         improved_agent   \n",
       "4         1          1  None         advanced_agent   \n",
       "2         1          1  None            naive_agent   \n",
       "1         1          1  None  improved_random_agent   \n",
       "0         1          1  None           random_agent   \n",
       "5         1          1     1    naive_minimax_agent   \n",
       "6         1          1     2    naive_minimax_agent   \n",
       "\n",
       "                                         black agent white_victory  \\\n",
       "3  chess.engine.SimpleEngine.popen_uci(\"./stockfi...         False   \n",
       "4  chess.engine.SimpleEngine.popen_uci(\"./stockfi...         False   \n",
       "2  chess.engine.SimpleEngine.popen_uci(\"./stockfi...         False   \n",
       "1  chess.engine.SimpleEngine.popen_uci(\"./stockfi...         False   \n",
       "0  chess.engine.SimpleEngine.popen_uci(\"./stockfi...         False   \n",
       "5  chess.engine.SimpleEngine.popen_uci(\"./stockfi...         False   \n",
       "6  chess.engine.SimpleEngine.popen_uci(\"./stockfi...         False   \n",
       "\n",
       "                   winner moves_played remain_w_pieces remaining_b_pieces  \n",
       "3  checkmate: Black wins!            6              15                 15  \n",
       "4  checkmate: Black wins!           18              10                 14  \n",
       "2  checkmate: Black wins!           20              11                 15  \n",
       "1  checkmate: Black wins!           24              14                 13  \n",
       "0  checkmate: Black wins!           26              11                 16  \n",
       "5  checkmate: Black wins!           30              15                 15  \n",
       "6  checkmate: Black wins!           34              12                 14  "
      ]
     },
     "execution_count": 32,
     "metadata": {},
     "output_type": "execute_result"
    }
   ],
   "source": [
    "scoreboard.sort_values(by=['moves_played'], inplace=False, ascending=True)"
   ]
  },
  {
   "cell_type": "markdown",
   "metadata": {},
   "source": [
    "## Naive Mini-Max Agent (Depth 3) vs Stockfish"
   ]
  },
  {
   "cell_type": "code",
   "execution_count": 33,
   "metadata": {
    "pycharm": {
     "is_executing": false,
     "name": "#%%\n"
    }
   },
   "outputs": [],
   "source": [
    "# game = ai.Game()\n",
    "# white = ai.MiniMaxAgent(max_depth=3,heuristic=\"naive\", type=\"minimax\")\n",
    "# black = STOCKFISH_PATH\n",
    "# \n",
    "# results = game.run_engine(white, black, NUM_ITERATIONS, visual=None)"
   ]
  },
  {
   "cell_type": "code",
   "execution_count": 34,
   "metadata": {
    "pycharm": {
     "is_executing": false,
     "name": "#%%\n"
    }
   },
   "outputs": [],
   "source": [
    "# df = pd.DataFrame(data=results,columns=COLUMNS)"
   ]
  },
  {
   "cell_type": "code",
   "execution_count": 35,
   "metadata": {
    "pycharm": {
     "is_executing": false,
     "name": "#%%\n"
    }
   },
   "outputs": [],
   "source": [
    "#update the scoreboard\n",
    "# scoreboard = scoreboard.append(df, ignore_index=True)"
   ]
  },
  {
   "cell_type": "markdown",
   "metadata": {},
   "source": [
    "### Overall Scoreboard by moves played ascending"
   ]
  },
  {
   "cell_type": "code",
   "execution_count": 36,
   "metadata": {
    "pycharm": {
     "is_executing": false,
     "name": "#%%\n"
    }
   },
   "outputs": [],
   "source": [
    "# scoreboard.sort_values(by=['moves_played'], inplace=False, ascending=True)"
   ]
  },
  {
   "cell_type": "markdown",
   "metadata": {},
   "source": [
    "## Improved Mini-Max Agent (Depth 1) vs Stockfish"
   ]
  },
  {
   "cell_type": "code",
   "execution_count": 37,
   "metadata": {
    "pycharm": {
     "is_executing": false,
     "name": "#%%\n"
    }
   },
   "outputs": [],
   "source": [
    "game = ai.Game()\n",
    "white = ai.MiniMaxAgent(max_depth=1, heuristic=\"improved\", type=\"minimax\")\n",
    "black = STOCKFISH_PATH\n",
    "\n",
    "results = game.run_engine(white, black, NUM_ITERATIONS, visual=None)"
   ]
  },
  {
   "cell_type": "code",
   "execution_count": 38,
   "metadata": {
    "pycharm": {
     "is_executing": false,
     "name": "#%%\n"
    }
   },
   "outputs": [],
   "source": [
    "df = pd.DataFrame(data=results,columns=COLUMNS)"
   ]
  },
  {
   "cell_type": "code",
   "execution_count": 39,
   "metadata": {
    "pycharm": {
     "is_executing": false,
     "name": "#%%\n"
    }
   },
   "outputs": [],
   "source": [
    "#update the scoreboard\n",
    "scoreboard = scoreboard.append(df, ignore_index=True)"
   ]
  },
  {
   "cell_type": "markdown",
   "metadata": {},
   "source": [
    "### Overall Scoreboard by moves played ascending"
   ]
  },
  {
   "cell_type": "code",
   "execution_count": 40,
   "metadata": {
    "pycharm": {
     "is_executing": false,
     "name": "#%%\n"
    }
   },
   "outputs": [
    {
     "data": {
      "text/html": [
       "<div>\n",
       "<style scoped>\n",
       "    .dataframe tbody tr th:only-of-type {\n",
       "        vertical-align: middle;\n",
       "    }\n",
       "\n",
       "    .dataframe tbody tr th {\n",
       "        vertical-align: top;\n",
       "    }\n",
       "\n",
       "    .dataframe thead th {\n",
       "        text-align: right;\n",
       "    }\n",
       "</style>\n",
       "<table border=\"1\" class=\"dataframe\">\n",
       "  <thead>\n",
       "    <tr style=\"text-align: right;\">\n",
       "      <th></th>\n",
       "      <th>round_num</th>\n",
       "      <th>iterations</th>\n",
       "      <th>depth</th>\n",
       "      <th>white agent</th>\n",
       "      <th>black agent</th>\n",
       "      <th>white_victory</th>\n",
       "      <th>winner</th>\n",
       "      <th>moves_played</th>\n",
       "      <th>remain_w_pieces</th>\n",
       "      <th>remaining_b_pieces</th>\n",
       "    </tr>\n",
       "  </thead>\n",
       "  <tbody>\n",
       "    <tr>\n",
       "      <th>3</th>\n",
       "      <td>1</td>\n",
       "      <td>1</td>\n",
       "      <td>None</td>\n",
       "      <td>improved_agent</td>\n",
       "      <td>chess.engine.SimpleEngine.popen_uci(\"./stockfi...</td>\n",
       "      <td>False</td>\n",
       "      <td>checkmate: Black wins!</td>\n",
       "      <td>6</td>\n",
       "      <td>15</td>\n",
       "      <td>15</td>\n",
       "    </tr>\n",
       "    <tr>\n",
       "      <th>4</th>\n",
       "      <td>1</td>\n",
       "      <td>1</td>\n",
       "      <td>None</td>\n",
       "      <td>advanced_agent</td>\n",
       "      <td>chess.engine.SimpleEngine.popen_uci(\"./stockfi...</td>\n",
       "      <td>False</td>\n",
       "      <td>checkmate: Black wins!</td>\n",
       "      <td>18</td>\n",
       "      <td>10</td>\n",
       "      <td>14</td>\n",
       "    </tr>\n",
       "    <tr>\n",
       "      <th>2</th>\n",
       "      <td>1</td>\n",
       "      <td>1</td>\n",
       "      <td>None</td>\n",
       "      <td>naive_agent</td>\n",
       "      <td>chess.engine.SimpleEngine.popen_uci(\"./stockfi...</td>\n",
       "      <td>False</td>\n",
       "      <td>checkmate: Black wins!</td>\n",
       "      <td>20</td>\n",
       "      <td>11</td>\n",
       "      <td>15</td>\n",
       "    </tr>\n",
       "    <tr>\n",
       "      <th>1</th>\n",
       "      <td>1</td>\n",
       "      <td>1</td>\n",
       "      <td>None</td>\n",
       "      <td>improved_random_agent</td>\n",
       "      <td>chess.engine.SimpleEngine.popen_uci(\"./stockfi...</td>\n",
       "      <td>False</td>\n",
       "      <td>checkmate: Black wins!</td>\n",
       "      <td>24</td>\n",
       "      <td>14</td>\n",
       "      <td>13</td>\n",
       "    </tr>\n",
       "    <tr>\n",
       "      <th>0</th>\n",
       "      <td>1</td>\n",
       "      <td>1</td>\n",
       "      <td>None</td>\n",
       "      <td>random_agent</td>\n",
       "      <td>chess.engine.SimpleEngine.popen_uci(\"./stockfi...</td>\n",
       "      <td>False</td>\n",
       "      <td>checkmate: Black wins!</td>\n",
       "      <td>26</td>\n",
       "      <td>11</td>\n",
       "      <td>16</td>\n",
       "    </tr>\n",
       "    <tr>\n",
       "      <th>5</th>\n",
       "      <td>1</td>\n",
       "      <td>1</td>\n",
       "      <td>1</td>\n",
       "      <td>naive_minimax_agent</td>\n",
       "      <td>chess.engine.SimpleEngine.popen_uci(\"./stockfi...</td>\n",
       "      <td>False</td>\n",
       "      <td>checkmate: Black wins!</td>\n",
       "      <td>30</td>\n",
       "      <td>15</td>\n",
       "      <td>15</td>\n",
       "    </tr>\n",
       "    <tr>\n",
       "      <th>6</th>\n",
       "      <td>1</td>\n",
       "      <td>1</td>\n",
       "      <td>2</td>\n",
       "      <td>naive_minimax_agent</td>\n",
       "      <td>chess.engine.SimpleEngine.popen_uci(\"./stockfi...</td>\n",
       "      <td>False</td>\n",
       "      <td>checkmate: Black wins!</td>\n",
       "      <td>34</td>\n",
       "      <td>12</td>\n",
       "      <td>14</td>\n",
       "    </tr>\n",
       "    <tr>\n",
       "      <th>7</th>\n",
       "      <td>1</td>\n",
       "      <td>1</td>\n",
       "      <td>1</td>\n",
       "      <td>improved_minimax_agent</td>\n",
       "      <td>chess.engine.SimpleEngine.popen_uci(\"./stockfi...</td>\n",
       "      <td>False</td>\n",
       "      <td>checkmate: Black wins!</td>\n",
       "      <td>58</td>\n",
       "      <td>6</td>\n",
       "      <td>11</td>\n",
       "    </tr>\n",
       "  </tbody>\n",
       "</table>\n",
       "</div>"
      ],
      "text/plain": [
       "  round_num iterations depth             white agent  \\\n",
       "3         1          1  None          improved_agent   \n",
       "4         1          1  None          advanced_agent   \n",
       "2         1          1  None             naive_agent   \n",
       "1         1          1  None   improved_random_agent   \n",
       "0         1          1  None            random_agent   \n",
       "5         1          1     1     naive_minimax_agent   \n",
       "6         1          1     2     naive_minimax_agent   \n",
       "7         1          1     1  improved_minimax_agent   \n",
       "\n",
       "                                         black agent white_victory  \\\n",
       "3  chess.engine.SimpleEngine.popen_uci(\"./stockfi...         False   \n",
       "4  chess.engine.SimpleEngine.popen_uci(\"./stockfi...         False   \n",
       "2  chess.engine.SimpleEngine.popen_uci(\"./stockfi...         False   \n",
       "1  chess.engine.SimpleEngine.popen_uci(\"./stockfi...         False   \n",
       "0  chess.engine.SimpleEngine.popen_uci(\"./stockfi...         False   \n",
       "5  chess.engine.SimpleEngine.popen_uci(\"./stockfi...         False   \n",
       "6  chess.engine.SimpleEngine.popen_uci(\"./stockfi...         False   \n",
       "7  chess.engine.SimpleEngine.popen_uci(\"./stockfi...         False   \n",
       "\n",
       "                   winner moves_played remain_w_pieces remaining_b_pieces  \n",
       "3  checkmate: Black wins!            6              15                 15  \n",
       "4  checkmate: Black wins!           18              10                 14  \n",
       "2  checkmate: Black wins!           20              11                 15  \n",
       "1  checkmate: Black wins!           24              14                 13  \n",
       "0  checkmate: Black wins!           26              11                 16  \n",
       "5  checkmate: Black wins!           30              15                 15  \n",
       "6  checkmate: Black wins!           34              12                 14  \n",
       "7  checkmate: Black wins!           58               6                 11  "
      ]
     },
     "execution_count": 40,
     "metadata": {},
     "output_type": "execute_result"
    }
   ],
   "source": [
    "scoreboard.sort_values(by=['moves_played'], inplace=False, ascending=True)"
   ]
  },
  {
   "cell_type": "markdown",
   "metadata": {},
   "source": [
    "## Improved Mini-Max Agent (Depth 2) vs Stockfish"
   ]
  },
  {
   "cell_type": "code",
   "execution_count": 41,
   "metadata": {
    "pycharm": {
     "is_executing": false,
     "name": "#%%\n"
    }
   },
   "outputs": [],
   "source": [
    "game = ai.Game()\n",
    "white = ai.MiniMaxAgent(max_depth=2, heuristic=\"improved\", type=\"minimax\")\n",
    "black = STOCKFISH_PATH\n",
    "\n",
    "results = game.run_engine(white, black, NUM_ITERATIONS, visual=None)"
   ]
  },
  {
   "cell_type": "code",
   "execution_count": 42,
   "metadata": {
    "pycharm": {
     "is_executing": false,
     "name": "#%%\n"
    }
   },
   "outputs": [],
   "source": [
    "df = pd.DataFrame(data=results,columns=COLUMNS)"
   ]
  },
  {
   "cell_type": "code",
   "execution_count": 43,
   "metadata": {
    "pycharm": {
     "is_executing": false,
     "name": "#%%\n"
    }
   },
   "outputs": [],
   "source": [
    "#update the scoreboard\n",
    "scoreboard = scoreboard.append(df, ignore_index=True)"
   ]
  },
  {
   "cell_type": "markdown",
   "metadata": {},
   "source": [
    "### Overall Scoreboard by moves played ascending"
   ]
  },
  {
   "cell_type": "code",
   "execution_count": 44,
   "metadata": {
    "pycharm": {
     "is_executing": false,
     "name": "#%%\n"
    }
   },
   "outputs": [
    {
     "data": {
      "text/html": [
       "<div>\n",
       "<style scoped>\n",
       "    .dataframe tbody tr th:only-of-type {\n",
       "        vertical-align: middle;\n",
       "    }\n",
       "\n",
       "    .dataframe tbody tr th {\n",
       "        vertical-align: top;\n",
       "    }\n",
       "\n",
       "    .dataframe thead th {\n",
       "        text-align: right;\n",
       "    }\n",
       "</style>\n",
       "<table border=\"1\" class=\"dataframe\">\n",
       "  <thead>\n",
       "    <tr style=\"text-align: right;\">\n",
       "      <th></th>\n",
       "      <th>round_num</th>\n",
       "      <th>iterations</th>\n",
       "      <th>depth</th>\n",
       "      <th>white agent</th>\n",
       "      <th>black agent</th>\n",
       "      <th>white_victory</th>\n",
       "      <th>winner</th>\n",
       "      <th>moves_played</th>\n",
       "      <th>remain_w_pieces</th>\n",
       "      <th>remaining_b_pieces</th>\n",
       "    </tr>\n",
       "  </thead>\n",
       "  <tbody>\n",
       "    <tr>\n",
       "      <th>3</th>\n",
       "      <td>1</td>\n",
       "      <td>1</td>\n",
       "      <td>None</td>\n",
       "      <td>improved_agent</td>\n",
       "      <td>chess.engine.SimpleEngine.popen_uci(\"./stockfi...</td>\n",
       "      <td>False</td>\n",
       "      <td>checkmate: Black wins!</td>\n",
       "      <td>6</td>\n",
       "      <td>15</td>\n",
       "      <td>15</td>\n",
       "    </tr>\n",
       "    <tr>\n",
       "      <th>4</th>\n",
       "      <td>1</td>\n",
       "      <td>1</td>\n",
       "      <td>None</td>\n",
       "      <td>advanced_agent</td>\n",
       "      <td>chess.engine.SimpleEngine.popen_uci(\"./stockfi...</td>\n",
       "      <td>False</td>\n",
       "      <td>checkmate: Black wins!</td>\n",
       "      <td>18</td>\n",
       "      <td>10</td>\n",
       "      <td>14</td>\n",
       "    </tr>\n",
       "    <tr>\n",
       "      <th>2</th>\n",
       "      <td>1</td>\n",
       "      <td>1</td>\n",
       "      <td>None</td>\n",
       "      <td>naive_agent</td>\n",
       "      <td>chess.engine.SimpleEngine.popen_uci(\"./stockfi...</td>\n",
       "      <td>False</td>\n",
       "      <td>checkmate: Black wins!</td>\n",
       "      <td>20</td>\n",
       "      <td>11</td>\n",
       "      <td>15</td>\n",
       "    </tr>\n",
       "    <tr>\n",
       "      <th>1</th>\n",
       "      <td>1</td>\n",
       "      <td>1</td>\n",
       "      <td>None</td>\n",
       "      <td>improved_random_agent</td>\n",
       "      <td>chess.engine.SimpleEngine.popen_uci(\"./stockfi...</td>\n",
       "      <td>False</td>\n",
       "      <td>checkmate: Black wins!</td>\n",
       "      <td>24</td>\n",
       "      <td>14</td>\n",
       "      <td>13</td>\n",
       "    </tr>\n",
       "    <tr>\n",
       "      <th>0</th>\n",
       "      <td>1</td>\n",
       "      <td>1</td>\n",
       "      <td>None</td>\n",
       "      <td>random_agent</td>\n",
       "      <td>chess.engine.SimpleEngine.popen_uci(\"./stockfi...</td>\n",
       "      <td>False</td>\n",
       "      <td>checkmate: Black wins!</td>\n",
       "      <td>26</td>\n",
       "      <td>11</td>\n",
       "      <td>16</td>\n",
       "    </tr>\n",
       "    <tr>\n",
       "      <th>5</th>\n",
       "      <td>1</td>\n",
       "      <td>1</td>\n",
       "      <td>1</td>\n",
       "      <td>naive_minimax_agent</td>\n",
       "      <td>chess.engine.SimpleEngine.popen_uci(\"./stockfi...</td>\n",
       "      <td>False</td>\n",
       "      <td>checkmate: Black wins!</td>\n",
       "      <td>30</td>\n",
       "      <td>15</td>\n",
       "      <td>15</td>\n",
       "    </tr>\n",
       "    <tr>\n",
       "      <th>6</th>\n",
       "      <td>1</td>\n",
       "      <td>1</td>\n",
       "      <td>2</td>\n",
       "      <td>naive_minimax_agent</td>\n",
       "      <td>chess.engine.SimpleEngine.popen_uci(\"./stockfi...</td>\n",
       "      <td>False</td>\n",
       "      <td>checkmate: Black wins!</td>\n",
       "      <td>34</td>\n",
       "      <td>12</td>\n",
       "      <td>14</td>\n",
       "    </tr>\n",
       "    <tr>\n",
       "      <th>8</th>\n",
       "      <td>1</td>\n",
       "      <td>1</td>\n",
       "      <td>2</td>\n",
       "      <td>improved_minimax_agent</td>\n",
       "      <td>chess.engine.SimpleEngine.popen_uci(\"./stockfi...</td>\n",
       "      <td>False</td>\n",
       "      <td>checkmate: Black wins!</td>\n",
       "      <td>40</td>\n",
       "      <td>12</td>\n",
       "      <td>14</td>\n",
       "    </tr>\n",
       "    <tr>\n",
       "      <th>7</th>\n",
       "      <td>1</td>\n",
       "      <td>1</td>\n",
       "      <td>1</td>\n",
       "      <td>improved_minimax_agent</td>\n",
       "      <td>chess.engine.SimpleEngine.popen_uci(\"./stockfi...</td>\n",
       "      <td>False</td>\n",
       "      <td>checkmate: Black wins!</td>\n",
       "      <td>58</td>\n",
       "      <td>6</td>\n",
       "      <td>11</td>\n",
       "    </tr>\n",
       "  </tbody>\n",
       "</table>\n",
       "</div>"
      ],
      "text/plain": [
       "  round_num iterations depth             white agent  \\\n",
       "3         1          1  None          improved_agent   \n",
       "4         1          1  None          advanced_agent   \n",
       "2         1          1  None             naive_agent   \n",
       "1         1          1  None   improved_random_agent   \n",
       "0         1          1  None            random_agent   \n",
       "5         1          1     1     naive_minimax_agent   \n",
       "6         1          1     2     naive_minimax_agent   \n",
       "8         1          1     2  improved_minimax_agent   \n",
       "7         1          1     1  improved_minimax_agent   \n",
       "\n",
       "                                         black agent white_victory  \\\n",
       "3  chess.engine.SimpleEngine.popen_uci(\"./stockfi...         False   \n",
       "4  chess.engine.SimpleEngine.popen_uci(\"./stockfi...         False   \n",
       "2  chess.engine.SimpleEngine.popen_uci(\"./stockfi...         False   \n",
       "1  chess.engine.SimpleEngine.popen_uci(\"./stockfi...         False   \n",
       "0  chess.engine.SimpleEngine.popen_uci(\"./stockfi...         False   \n",
       "5  chess.engine.SimpleEngine.popen_uci(\"./stockfi...         False   \n",
       "6  chess.engine.SimpleEngine.popen_uci(\"./stockfi...         False   \n",
       "8  chess.engine.SimpleEngine.popen_uci(\"./stockfi...         False   \n",
       "7  chess.engine.SimpleEngine.popen_uci(\"./stockfi...         False   \n",
       "\n",
       "                   winner moves_played remain_w_pieces remaining_b_pieces  \n",
       "3  checkmate: Black wins!            6              15                 15  \n",
       "4  checkmate: Black wins!           18              10                 14  \n",
       "2  checkmate: Black wins!           20              11                 15  \n",
       "1  checkmate: Black wins!           24              14                 13  \n",
       "0  checkmate: Black wins!           26              11                 16  \n",
       "5  checkmate: Black wins!           30              15                 15  \n",
       "6  checkmate: Black wins!           34              12                 14  \n",
       "8  checkmate: Black wins!           40              12                 14  \n",
       "7  checkmate: Black wins!           58               6                 11  "
      ]
     },
     "execution_count": 44,
     "metadata": {},
     "output_type": "execute_result"
    }
   ],
   "source": [
    "scoreboard.sort_values(by=['moves_played'], inplace=False, ascending=True)"
   ]
  },
  {
   "cell_type": "markdown",
   "metadata": {},
   "source": [
    "## Improved Mini-Max Agent (Depth 3) vs Stockfish"
   ]
  },
  {
   "cell_type": "code",
   "execution_count": 45,
   "metadata": {
    "pycharm": {
     "is_executing": false,
     "name": "#%%\n"
    }
   },
   "outputs": [],
   "source": [
    "# game = ai.Game()\n",
    "# white = ai.MiniMaxAgent(max_depth=3, heuristic=\"improved\", type =\"minimax\")\n",
    "# black = STOCKFISH_PATH\n",
    "\n",
    "# results = game.run_engine(white, black, NUM_ITERATIONS, visual=None)"
   ]
  },
  {
   "cell_type": "code",
   "execution_count": 46,
   "metadata": {
    "pycharm": {
     "is_executing": false,
     "name": "#%%\n"
    }
   },
   "outputs": [],
   "source": [
    "# df = pd.DataFrame(data=results,columns=COLUMNS)"
   ]
  },
  {
   "cell_type": "code",
   "execution_count": 47,
   "metadata": {
    "pycharm": {
     "is_executing": false,
     "name": "#%%\n"
    }
   },
   "outputs": [],
   "source": [
    "#update the scoreboard\n",
    "# scoreboard = scoreboard.append(df, ignore_index=True)"
   ]
  },
  {
   "cell_type": "markdown",
   "metadata": {},
   "source": [
    "### Overall Scoreboard by moves played ascending"
   ]
  },
  {
   "cell_type": "code",
   "execution_count": 48,
   "metadata": {
    "pycharm": {
     "is_executing": false,
     "name": "#%%\n"
    }
   },
   "outputs": [],
   "source": [
    "# scoreboard.sort_values(by=['moves_played'], inplace=False, ascending=True)"
   ]
  },
  {
   "cell_type": "markdown",
   "metadata": {},
   "source": [
    "## Advanced Mini-Max (Depth 1) Agent vs Stockfish"
   ]
  },
  {
   "cell_type": "code",
   "execution_count": 49,
   "metadata": {
    "pycharm": {
     "is_executing": false,
     "name": "#%%\n"
    }
   },
   "outputs": [],
   "source": [
    "game = ai.Game()\n",
    "white = ai.MiniMaxAgent(max_depth=1, heuristic=\"advanced\", type=\"minimax\")\n",
    "black = STOCKFISH_PATH\n",
    "\n",
    "results = game.run_engine(white, black, NUM_ITERATIONS, visual=None)"
   ]
  },
  {
   "cell_type": "code",
   "execution_count": 50,
   "metadata": {
    "pycharm": {
     "is_executing": false,
     "name": "#%%\n"
    }
   },
   "outputs": [],
   "source": [
    "df = pd.DataFrame(data=results,columns=COLUMNS)"
   ]
  },
  {
   "cell_type": "code",
   "execution_count": 51,
   "metadata": {
    "pycharm": {
     "is_executing": false,
     "name": "#%%\n"
    }
   },
   "outputs": [],
   "source": [
    "#update the scoreboard\n",
    "scoreboard = scoreboard.append(df, ignore_index=True)"
   ]
  },
  {
   "cell_type": "markdown",
   "metadata": {},
   "source": [
    "### Overall Scoreboard by moves played ascending"
   ]
  },
  {
   "cell_type": "code",
   "execution_count": 52,
   "metadata": {
    "pycharm": {
     "is_executing": false,
     "name": "#%%\n"
    }
   },
   "outputs": [
    {
     "data": {
      "text/html": [
       "<div>\n",
       "<style scoped>\n",
       "    .dataframe tbody tr th:only-of-type {\n",
       "        vertical-align: middle;\n",
       "    }\n",
       "\n",
       "    .dataframe tbody tr th {\n",
       "        vertical-align: top;\n",
       "    }\n",
       "\n",
       "    .dataframe thead th {\n",
       "        text-align: right;\n",
       "    }\n",
       "</style>\n",
       "<table border=\"1\" class=\"dataframe\">\n",
       "  <thead>\n",
       "    <tr style=\"text-align: right;\">\n",
       "      <th></th>\n",
       "      <th>round_num</th>\n",
       "      <th>iterations</th>\n",
       "      <th>depth</th>\n",
       "      <th>white agent</th>\n",
       "      <th>black agent</th>\n",
       "      <th>white_victory</th>\n",
       "      <th>winner</th>\n",
       "      <th>moves_played</th>\n",
       "      <th>remain_w_pieces</th>\n",
       "      <th>remaining_b_pieces</th>\n",
       "    </tr>\n",
       "  </thead>\n",
       "  <tbody>\n",
       "    <tr>\n",
       "      <th>3</th>\n",
       "      <td>1</td>\n",
       "      <td>1</td>\n",
       "      <td>None</td>\n",
       "      <td>improved_agent</td>\n",
       "      <td>chess.engine.SimpleEngine.popen_uci(\"./stockfi...</td>\n",
       "      <td>False</td>\n",
       "      <td>checkmate: Black wins!</td>\n",
       "      <td>6</td>\n",
       "      <td>15</td>\n",
       "      <td>15</td>\n",
       "    </tr>\n",
       "    <tr>\n",
       "      <th>4</th>\n",
       "      <td>1</td>\n",
       "      <td>1</td>\n",
       "      <td>None</td>\n",
       "      <td>advanced_agent</td>\n",
       "      <td>chess.engine.SimpleEngine.popen_uci(\"./stockfi...</td>\n",
       "      <td>False</td>\n",
       "      <td>checkmate: Black wins!</td>\n",
       "      <td>18</td>\n",
       "      <td>10</td>\n",
       "      <td>14</td>\n",
       "    </tr>\n",
       "    <tr>\n",
       "      <th>2</th>\n",
       "      <td>1</td>\n",
       "      <td>1</td>\n",
       "      <td>None</td>\n",
       "      <td>naive_agent</td>\n",
       "      <td>chess.engine.SimpleEngine.popen_uci(\"./stockfi...</td>\n",
       "      <td>False</td>\n",
       "      <td>checkmate: Black wins!</td>\n",
       "      <td>20</td>\n",
       "      <td>11</td>\n",
       "      <td>15</td>\n",
       "    </tr>\n",
       "    <tr>\n",
       "      <th>1</th>\n",
       "      <td>1</td>\n",
       "      <td>1</td>\n",
       "      <td>None</td>\n",
       "      <td>improved_random_agent</td>\n",
       "      <td>chess.engine.SimpleEngine.popen_uci(\"./stockfi...</td>\n",
       "      <td>False</td>\n",
       "      <td>checkmate: Black wins!</td>\n",
       "      <td>24</td>\n",
       "      <td>14</td>\n",
       "      <td>13</td>\n",
       "    </tr>\n",
       "    <tr>\n",
       "      <th>0</th>\n",
       "      <td>1</td>\n",
       "      <td>1</td>\n",
       "      <td>None</td>\n",
       "      <td>random_agent</td>\n",
       "      <td>chess.engine.SimpleEngine.popen_uci(\"./stockfi...</td>\n",
       "      <td>False</td>\n",
       "      <td>checkmate: Black wins!</td>\n",
       "      <td>26</td>\n",
       "      <td>11</td>\n",
       "      <td>16</td>\n",
       "    </tr>\n",
       "    <tr>\n",
       "      <th>5</th>\n",
       "      <td>1</td>\n",
       "      <td>1</td>\n",
       "      <td>1</td>\n",
       "      <td>naive_minimax_agent</td>\n",
       "      <td>chess.engine.SimpleEngine.popen_uci(\"./stockfi...</td>\n",
       "      <td>False</td>\n",
       "      <td>checkmate: Black wins!</td>\n",
       "      <td>30</td>\n",
       "      <td>15</td>\n",
       "      <td>15</td>\n",
       "    </tr>\n",
       "    <tr>\n",
       "      <th>6</th>\n",
       "      <td>1</td>\n",
       "      <td>1</td>\n",
       "      <td>2</td>\n",
       "      <td>naive_minimax_agent</td>\n",
       "      <td>chess.engine.SimpleEngine.popen_uci(\"./stockfi...</td>\n",
       "      <td>False</td>\n",
       "      <td>checkmate: Black wins!</td>\n",
       "      <td>34</td>\n",
       "      <td>12</td>\n",
       "      <td>14</td>\n",
       "    </tr>\n",
       "    <tr>\n",
       "      <th>8</th>\n",
       "      <td>1</td>\n",
       "      <td>1</td>\n",
       "      <td>2</td>\n",
       "      <td>improved_minimax_agent</td>\n",
       "      <td>chess.engine.SimpleEngine.popen_uci(\"./stockfi...</td>\n",
       "      <td>False</td>\n",
       "      <td>checkmate: Black wins!</td>\n",
       "      <td>40</td>\n",
       "      <td>12</td>\n",
       "      <td>14</td>\n",
       "    </tr>\n",
       "    <tr>\n",
       "      <th>9</th>\n",
       "      <td>1</td>\n",
       "      <td>1</td>\n",
       "      <td>1</td>\n",
       "      <td>advanced_minimax_agent</td>\n",
       "      <td>chess.engine.SimpleEngine.popen_uci(\"./stockfi...</td>\n",
       "      <td>False</td>\n",
       "      <td>checkmate: Black wins!</td>\n",
       "      <td>42</td>\n",
       "      <td>6</td>\n",
       "      <td>12</td>\n",
       "    </tr>\n",
       "    <tr>\n",
       "      <th>7</th>\n",
       "      <td>1</td>\n",
       "      <td>1</td>\n",
       "      <td>1</td>\n",
       "      <td>improved_minimax_agent</td>\n",
       "      <td>chess.engine.SimpleEngine.popen_uci(\"./stockfi...</td>\n",
       "      <td>False</td>\n",
       "      <td>checkmate: Black wins!</td>\n",
       "      <td>58</td>\n",
       "      <td>6</td>\n",
       "      <td>11</td>\n",
       "    </tr>\n",
       "  </tbody>\n",
       "</table>\n",
       "</div>"
      ],
      "text/plain": [
       "  round_num iterations depth             white agent  \\\n",
       "3         1          1  None          improved_agent   \n",
       "4         1          1  None          advanced_agent   \n",
       "2         1          1  None             naive_agent   \n",
       "1         1          1  None   improved_random_agent   \n",
       "0         1          1  None            random_agent   \n",
       "5         1          1     1     naive_minimax_agent   \n",
       "6         1          1     2     naive_minimax_agent   \n",
       "8         1          1     2  improved_minimax_agent   \n",
       "9         1          1     1  advanced_minimax_agent   \n",
       "7         1          1     1  improved_minimax_agent   \n",
       "\n",
       "                                         black agent white_victory  \\\n",
       "3  chess.engine.SimpleEngine.popen_uci(\"./stockfi...         False   \n",
       "4  chess.engine.SimpleEngine.popen_uci(\"./stockfi...         False   \n",
       "2  chess.engine.SimpleEngine.popen_uci(\"./stockfi...         False   \n",
       "1  chess.engine.SimpleEngine.popen_uci(\"./stockfi...         False   \n",
       "0  chess.engine.SimpleEngine.popen_uci(\"./stockfi...         False   \n",
       "5  chess.engine.SimpleEngine.popen_uci(\"./stockfi...         False   \n",
       "6  chess.engine.SimpleEngine.popen_uci(\"./stockfi...         False   \n",
       "8  chess.engine.SimpleEngine.popen_uci(\"./stockfi...         False   \n",
       "9  chess.engine.SimpleEngine.popen_uci(\"./stockfi...         False   \n",
       "7  chess.engine.SimpleEngine.popen_uci(\"./stockfi...         False   \n",
       "\n",
       "                   winner moves_played remain_w_pieces remaining_b_pieces  \n",
       "3  checkmate: Black wins!            6              15                 15  \n",
       "4  checkmate: Black wins!           18              10                 14  \n",
       "2  checkmate: Black wins!           20              11                 15  \n",
       "1  checkmate: Black wins!           24              14                 13  \n",
       "0  checkmate: Black wins!           26              11                 16  \n",
       "5  checkmate: Black wins!           30              15                 15  \n",
       "6  checkmate: Black wins!           34              12                 14  \n",
       "8  checkmate: Black wins!           40              12                 14  \n",
       "9  checkmate: Black wins!           42               6                 12  \n",
       "7  checkmate: Black wins!           58               6                 11  "
      ]
     },
     "execution_count": 52,
     "metadata": {},
     "output_type": "execute_result"
    }
   ],
   "source": [
    "scoreboard.sort_values(by=['moves_played'], inplace=False, ascending=True)"
   ]
  },
  {
   "cell_type": "markdown",
   "metadata": {},
   "source": [
    "## Advanced Mini-Max Agent (Depth 2) vs Stockfish"
   ]
  },
  {
   "cell_type": "code",
   "execution_count": 53,
   "metadata": {
    "pycharm": {
     "is_executing": true,
     "name": "#%%\n"
    }
   },
   "outputs": [],
   "source": [
    "game = ai.Game()\n",
    "white = ai.MiniMaxAgent(max_depth=2, heuristic=\"advanced\", type=\"minimax\")\n",
    "black = STOCKFISH_PATH\n",
    "\n",
    "results = game.run_engine(white, black, NUM_ITERATIONS, visual=None)"
   ]
  },
  {
   "cell_type": "code",
   "execution_count": 54,
   "metadata": {
    "pycharm": {
     "is_executing": true,
     "name": "#%%\n"
    }
   },
   "outputs": [],
   "source": [
    "df = pd.DataFrame(data=results,columns=COLUMNS)\\"
   ]
  },
  {
   "cell_type": "code",
   "execution_count": 55,
   "metadata": {
    "pycharm": {
     "is_executing": true,
     "name": "#%%\n"
    }
   },
   "outputs": [],
   "source": [
    "#update the scoreboard\n",
    "scoreboard = scoreboard.append(df, ignore_index=True)"
   ]
  },
  {
   "cell_type": "markdown",
   "metadata": {},
   "source": [
    "### Overall Scoreboard by moves played ascending"
   ]
  },
  {
   "cell_type": "code",
   "execution_count": 56,
   "metadata": {
    "pycharm": {
     "is_executing": true,
     "name": "#%%\n"
    }
   },
   "outputs": [
    {
     "data": {
      "text/html": [
       "<div>\n",
       "<style scoped>\n",
       "    .dataframe tbody tr th:only-of-type {\n",
       "        vertical-align: middle;\n",
       "    }\n",
       "\n",
       "    .dataframe tbody tr th {\n",
       "        vertical-align: top;\n",
       "    }\n",
       "\n",
       "    .dataframe thead th {\n",
       "        text-align: right;\n",
       "    }\n",
       "</style>\n",
       "<table border=\"1\" class=\"dataframe\">\n",
       "  <thead>\n",
       "    <tr style=\"text-align: right;\">\n",
       "      <th></th>\n",
       "      <th>round_num</th>\n",
       "      <th>iterations</th>\n",
       "      <th>depth</th>\n",
       "      <th>white agent</th>\n",
       "      <th>black agent</th>\n",
       "      <th>white_victory</th>\n",
       "      <th>winner</th>\n",
       "      <th>moves_played</th>\n",
       "      <th>remain_w_pieces</th>\n",
       "      <th>remaining_b_pieces</th>\n",
       "    </tr>\n",
       "  </thead>\n",
       "  <tbody>\n",
       "    <tr>\n",
       "      <th>3</th>\n",
       "      <td>1</td>\n",
       "      <td>1</td>\n",
       "      <td>None</td>\n",
       "      <td>improved_agent</td>\n",
       "      <td>chess.engine.SimpleEngine.popen_uci(\"./stockfi...</td>\n",
       "      <td>False</td>\n",
       "      <td>checkmate: Black wins!</td>\n",
       "      <td>6</td>\n",
       "      <td>15</td>\n",
       "      <td>15</td>\n",
       "    </tr>\n",
       "    <tr>\n",
       "      <th>4</th>\n",
       "      <td>1</td>\n",
       "      <td>1</td>\n",
       "      <td>None</td>\n",
       "      <td>advanced_agent</td>\n",
       "      <td>chess.engine.SimpleEngine.popen_uci(\"./stockfi...</td>\n",
       "      <td>False</td>\n",
       "      <td>checkmate: Black wins!</td>\n",
       "      <td>18</td>\n",
       "      <td>10</td>\n",
       "      <td>14</td>\n",
       "    </tr>\n",
       "    <tr>\n",
       "      <th>2</th>\n",
       "      <td>1</td>\n",
       "      <td>1</td>\n",
       "      <td>None</td>\n",
       "      <td>naive_agent</td>\n",
       "      <td>chess.engine.SimpleEngine.popen_uci(\"./stockfi...</td>\n",
       "      <td>False</td>\n",
       "      <td>checkmate: Black wins!</td>\n",
       "      <td>20</td>\n",
       "      <td>11</td>\n",
       "      <td>15</td>\n",
       "    </tr>\n",
       "    <tr>\n",
       "      <th>1</th>\n",
       "      <td>1</td>\n",
       "      <td>1</td>\n",
       "      <td>None</td>\n",
       "      <td>improved_random_agent</td>\n",
       "      <td>chess.engine.SimpleEngine.popen_uci(\"./stockfi...</td>\n",
       "      <td>False</td>\n",
       "      <td>checkmate: Black wins!</td>\n",
       "      <td>24</td>\n",
       "      <td>14</td>\n",
       "      <td>13</td>\n",
       "    </tr>\n",
       "    <tr>\n",
       "      <th>0</th>\n",
       "      <td>1</td>\n",
       "      <td>1</td>\n",
       "      <td>None</td>\n",
       "      <td>random_agent</td>\n",
       "      <td>chess.engine.SimpleEngine.popen_uci(\"./stockfi...</td>\n",
       "      <td>False</td>\n",
       "      <td>checkmate: Black wins!</td>\n",
       "      <td>26</td>\n",
       "      <td>11</td>\n",
       "      <td>16</td>\n",
       "    </tr>\n",
       "    <tr>\n",
       "      <th>5</th>\n",
       "      <td>1</td>\n",
       "      <td>1</td>\n",
       "      <td>1</td>\n",
       "      <td>naive_minimax_agent</td>\n",
       "      <td>chess.engine.SimpleEngine.popen_uci(\"./stockfi...</td>\n",
       "      <td>False</td>\n",
       "      <td>checkmate: Black wins!</td>\n",
       "      <td>30</td>\n",
       "      <td>15</td>\n",
       "      <td>15</td>\n",
       "    </tr>\n",
       "    <tr>\n",
       "      <th>6</th>\n",
       "      <td>1</td>\n",
       "      <td>1</td>\n",
       "      <td>2</td>\n",
       "      <td>naive_minimax_agent</td>\n",
       "      <td>chess.engine.SimpleEngine.popen_uci(\"./stockfi...</td>\n",
       "      <td>False</td>\n",
       "      <td>checkmate: Black wins!</td>\n",
       "      <td>34</td>\n",
       "      <td>12</td>\n",
       "      <td>14</td>\n",
       "    </tr>\n",
       "    <tr>\n",
       "      <th>8</th>\n",
       "      <td>1</td>\n",
       "      <td>1</td>\n",
       "      <td>2</td>\n",
       "      <td>improved_minimax_agent</td>\n",
       "      <td>chess.engine.SimpleEngine.popen_uci(\"./stockfi...</td>\n",
       "      <td>False</td>\n",
       "      <td>checkmate: Black wins!</td>\n",
       "      <td>40</td>\n",
       "      <td>12</td>\n",
       "      <td>14</td>\n",
       "    </tr>\n",
       "    <tr>\n",
       "      <th>9</th>\n",
       "      <td>1</td>\n",
       "      <td>1</td>\n",
       "      <td>1</td>\n",
       "      <td>advanced_minimax_agent</td>\n",
       "      <td>chess.engine.SimpleEngine.popen_uci(\"./stockfi...</td>\n",
       "      <td>False</td>\n",
       "      <td>checkmate: Black wins!</td>\n",
       "      <td>42</td>\n",
       "      <td>6</td>\n",
       "      <td>12</td>\n",
       "    </tr>\n",
       "    <tr>\n",
       "      <th>10</th>\n",
       "      <td>1</td>\n",
       "      <td>1</td>\n",
       "      <td>2</td>\n",
       "      <td>advanced_minimax_agent</td>\n",
       "      <td>chess.engine.SimpleEngine.popen_uci(\"./stockfi...</td>\n",
       "      <td>False</td>\n",
       "      <td>checkmate: Black wins!</td>\n",
       "      <td>54</td>\n",
       "      <td>7</td>\n",
       "      <td>10</td>\n",
       "    </tr>\n",
       "    <tr>\n",
       "      <th>7</th>\n",
       "      <td>1</td>\n",
       "      <td>1</td>\n",
       "      <td>1</td>\n",
       "      <td>improved_minimax_agent</td>\n",
       "      <td>chess.engine.SimpleEngine.popen_uci(\"./stockfi...</td>\n",
       "      <td>False</td>\n",
       "      <td>checkmate: Black wins!</td>\n",
       "      <td>58</td>\n",
       "      <td>6</td>\n",
       "      <td>11</td>\n",
       "    </tr>\n",
       "  </tbody>\n",
       "</table>\n",
       "</div>"
      ],
      "text/plain": [
       "   round_num iterations depth             white agent  \\\n",
       "3          1          1  None          improved_agent   \n",
       "4          1          1  None          advanced_agent   \n",
       "2          1          1  None             naive_agent   \n",
       "1          1          1  None   improved_random_agent   \n",
       "0          1          1  None            random_agent   \n",
       "5          1          1     1     naive_minimax_agent   \n",
       "6          1          1     2     naive_minimax_agent   \n",
       "8          1          1     2  improved_minimax_agent   \n",
       "9          1          1     1  advanced_minimax_agent   \n",
       "10         1          1     2  advanced_minimax_agent   \n",
       "7          1          1     1  improved_minimax_agent   \n",
       "\n",
       "                                          black agent white_victory  \\\n",
       "3   chess.engine.SimpleEngine.popen_uci(\"./stockfi...         False   \n",
       "4   chess.engine.SimpleEngine.popen_uci(\"./stockfi...         False   \n",
       "2   chess.engine.SimpleEngine.popen_uci(\"./stockfi...         False   \n",
       "1   chess.engine.SimpleEngine.popen_uci(\"./stockfi...         False   \n",
       "0   chess.engine.SimpleEngine.popen_uci(\"./stockfi...         False   \n",
       "5   chess.engine.SimpleEngine.popen_uci(\"./stockfi...         False   \n",
       "6   chess.engine.SimpleEngine.popen_uci(\"./stockfi...         False   \n",
       "8   chess.engine.SimpleEngine.popen_uci(\"./stockfi...         False   \n",
       "9   chess.engine.SimpleEngine.popen_uci(\"./stockfi...         False   \n",
       "10  chess.engine.SimpleEngine.popen_uci(\"./stockfi...         False   \n",
       "7   chess.engine.SimpleEngine.popen_uci(\"./stockfi...         False   \n",
       "\n",
       "                    winner moves_played remain_w_pieces remaining_b_pieces  \n",
       "3   checkmate: Black wins!            6              15                 15  \n",
       "4   checkmate: Black wins!           18              10                 14  \n",
       "2   checkmate: Black wins!           20              11                 15  \n",
       "1   checkmate: Black wins!           24              14                 13  \n",
       "0   checkmate: Black wins!           26              11                 16  \n",
       "5   checkmate: Black wins!           30              15                 15  \n",
       "6   checkmate: Black wins!           34              12                 14  \n",
       "8   checkmate: Black wins!           40              12                 14  \n",
       "9   checkmate: Black wins!           42               6                 12  \n",
       "10  checkmate: Black wins!           54               7                 10  \n",
       "7   checkmate: Black wins!           58               6                 11  "
      ]
     },
     "execution_count": 56,
     "metadata": {},
     "output_type": "execute_result"
    }
   ],
   "source": [
    "scoreboard.sort_values(by=['moves_played'], inplace=False, ascending=True)"
   ]
  },
  {
   "cell_type": "markdown",
   "metadata": {},
   "source": [
    "## Advanced Mini-Max Agent (Depth 3) vs Stockfish"
   ]
  },
  {
   "cell_type": "code",
   "execution_count": 57,
   "metadata": {
    "pycharm": {
     "is_executing": true,
     "name": "#%%\n"
    }
   },
   "outputs": [],
   "source": [
    "# game = ai.Game()\n",
    "# white = ai.MiniMaxAgent(max_depth=3, heuristic=\"advanced\", type=\"minimax\")\n",
    "# black = STOCKFISH_PATH\n",
    "# \n",
    "# results = game.run_engine(white, black, NUM_ITERATIONS, visual=None)"
   ]
  },
  {
   "cell_type": "code",
   "execution_count": 58,
   "metadata": {
    "pycharm": {
     "is_executing": true,
     "name": "#%%\n"
    }
   },
   "outputs": [],
   "source": [
    "# df = pd.DataFrame(data=results,columns=COLUMNS)"
   ]
  },
  {
   "cell_type": "code",
   "execution_count": 59,
   "metadata": {
    "pycharm": {
     "is_executing": true,
     "name": "#%%\n"
    }
   },
   "outputs": [],
   "source": [
    "#update the scoreboard\n",
    "# scoreboard = scoreboard.append(df, ignore_index=True)"
   ]
  },
  {
   "cell_type": "markdown",
   "metadata": {},
   "source": [
    "### Overall Scoreboard by moves played ascending"
   ]
  },
  {
   "cell_type": "code",
   "execution_count": 60,
   "metadata": {
    "pycharm": {
     "is_executing": true,
     "name": "#%%\n"
    }
   },
   "outputs": [],
   "source": [
    "# scoreboard.sort_values(by=['moves_played'], inplace=False, ascending=True)"
   ]
  },
  {
   "cell_type": "markdown",
   "metadata": {},
   "source": [
    "## Naive Mini-Max with Alpha-Beta-Pruning Agent (Depth 1) vs Stockfish"
   ]
  },
  {
   "cell_type": "code",
   "execution_count": 61,
   "metadata": {
    "pycharm": {
     "is_executing": true,
     "name": "#%%\n"
    }
   },
   "outputs": [],
   "source": [
    "game = ai.Game()\n",
    "white = ai.MiniMaxAgent(max_depth=1, heuristic=\"naive\", type=\"alpha-beta\")\n",
    "black = STOCKFISH_PATH\n",
    "\n",
    "results = game.run_engine(white, black, NUM_ITERATIONS, visual=None)"
   ]
  },
  {
   "cell_type": "code",
   "execution_count": 62,
   "metadata": {
    "pycharm": {
     "is_executing": true,
     "name": "#%%\n"
    }
   },
   "outputs": [],
   "source": [
    "df = pd.DataFrame(data=results,columns=COLUMNS)"
   ]
  },
  {
   "cell_type": "code",
   "execution_count": 63,
   "metadata": {
    "pycharm": {
     "is_executing": true,
     "name": "#%%\n"
    }
   },
   "outputs": [],
   "source": [
    "#update the scoreboard\n",
    "scoreboard = scoreboard.append(df, ignore_index=True)"
   ]
  },
  {
   "cell_type": "markdown",
   "metadata": {},
   "source": [
    "### Overall Scoreboard by moves played ascending"
   ]
  },
  {
   "cell_type": "code",
   "execution_count": 64,
   "metadata": {
    "pycharm": {
     "is_executing": true,
     "name": "#%%\n"
    }
   },
   "outputs": [
    {
     "data": {
      "text/html": [
       "<div>\n",
       "<style scoped>\n",
       "    .dataframe tbody tr th:only-of-type {\n",
       "        vertical-align: middle;\n",
       "    }\n",
       "\n",
       "    .dataframe tbody tr th {\n",
       "        vertical-align: top;\n",
       "    }\n",
       "\n",
       "    .dataframe thead th {\n",
       "        text-align: right;\n",
       "    }\n",
       "</style>\n",
       "<table border=\"1\" class=\"dataframe\">\n",
       "  <thead>\n",
       "    <tr style=\"text-align: right;\">\n",
       "      <th></th>\n",
       "      <th>round_num</th>\n",
       "      <th>iterations</th>\n",
       "      <th>depth</th>\n",
       "      <th>white agent</th>\n",
       "      <th>black agent</th>\n",
       "      <th>white_victory</th>\n",
       "      <th>winner</th>\n",
       "      <th>moves_played</th>\n",
       "      <th>remain_w_pieces</th>\n",
       "      <th>remaining_b_pieces</th>\n",
       "    </tr>\n",
       "  </thead>\n",
       "  <tbody>\n",
       "    <tr>\n",
       "      <th>3</th>\n",
       "      <td>1</td>\n",
       "      <td>1</td>\n",
       "      <td>None</td>\n",
       "      <td>improved_agent</td>\n",
       "      <td>chess.engine.SimpleEngine.popen_uci(\"./stockfi...</td>\n",
       "      <td>False</td>\n",
       "      <td>checkmate: Black wins!</td>\n",
       "      <td>6</td>\n",
       "      <td>15</td>\n",
       "      <td>15</td>\n",
       "    </tr>\n",
       "    <tr>\n",
       "      <th>4</th>\n",
       "      <td>1</td>\n",
       "      <td>1</td>\n",
       "      <td>None</td>\n",
       "      <td>advanced_agent</td>\n",
       "      <td>chess.engine.SimpleEngine.popen_uci(\"./stockfi...</td>\n",
       "      <td>False</td>\n",
       "      <td>checkmate: Black wins!</td>\n",
       "      <td>18</td>\n",
       "      <td>10</td>\n",
       "      <td>14</td>\n",
       "    </tr>\n",
       "    <tr>\n",
       "      <th>2</th>\n",
       "      <td>1</td>\n",
       "      <td>1</td>\n",
       "      <td>None</td>\n",
       "      <td>naive_agent</td>\n",
       "      <td>chess.engine.SimpleEngine.popen_uci(\"./stockfi...</td>\n",
       "      <td>False</td>\n",
       "      <td>checkmate: Black wins!</td>\n",
       "      <td>20</td>\n",
       "      <td>11</td>\n",
       "      <td>15</td>\n",
       "    </tr>\n",
       "    <tr>\n",
       "      <th>1</th>\n",
       "      <td>1</td>\n",
       "      <td>1</td>\n",
       "      <td>None</td>\n",
       "      <td>improved_random_agent</td>\n",
       "      <td>chess.engine.SimpleEngine.popen_uci(\"./stockfi...</td>\n",
       "      <td>False</td>\n",
       "      <td>checkmate: Black wins!</td>\n",
       "      <td>24</td>\n",
       "      <td>14</td>\n",
       "      <td>13</td>\n",
       "    </tr>\n",
       "    <tr>\n",
       "      <th>0</th>\n",
       "      <td>1</td>\n",
       "      <td>1</td>\n",
       "      <td>None</td>\n",
       "      <td>random_agent</td>\n",
       "      <td>chess.engine.SimpleEngine.popen_uci(\"./stockfi...</td>\n",
       "      <td>False</td>\n",
       "      <td>checkmate: Black wins!</td>\n",
       "      <td>26</td>\n",
       "      <td>11</td>\n",
       "      <td>16</td>\n",
       "    </tr>\n",
       "    <tr>\n",
       "      <th>5</th>\n",
       "      <td>1</td>\n",
       "      <td>1</td>\n",
       "      <td>1</td>\n",
       "      <td>naive_minimax_agent</td>\n",
       "      <td>chess.engine.SimpleEngine.popen_uci(\"./stockfi...</td>\n",
       "      <td>False</td>\n",
       "      <td>checkmate: Black wins!</td>\n",
       "      <td>30</td>\n",
       "      <td>15</td>\n",
       "      <td>15</td>\n",
       "    </tr>\n",
       "    <tr>\n",
       "      <th>6</th>\n",
       "      <td>1</td>\n",
       "      <td>1</td>\n",
       "      <td>2</td>\n",
       "      <td>naive_minimax_agent</td>\n",
       "      <td>chess.engine.SimpleEngine.popen_uci(\"./stockfi...</td>\n",
       "      <td>False</td>\n",
       "      <td>checkmate: Black wins!</td>\n",
       "      <td>34</td>\n",
       "      <td>12</td>\n",
       "      <td>14</td>\n",
       "    </tr>\n",
       "    <tr>\n",
       "      <th>11</th>\n",
       "      <td>1</td>\n",
       "      <td>1</td>\n",
       "      <td>1</td>\n",
       "      <td>naive_alpha-beta_minimax_agent</td>\n",
       "      <td>chess.engine.SimpleEngine.popen_uci(\"./stockfi...</td>\n",
       "      <td>False</td>\n",
       "      <td>checkmate: Black wins!</td>\n",
       "      <td>34</td>\n",
       "      <td>15</td>\n",
       "      <td>15</td>\n",
       "    </tr>\n",
       "    <tr>\n",
       "      <th>8</th>\n",
       "      <td>1</td>\n",
       "      <td>1</td>\n",
       "      <td>2</td>\n",
       "      <td>improved_minimax_agent</td>\n",
       "      <td>chess.engine.SimpleEngine.popen_uci(\"./stockfi...</td>\n",
       "      <td>False</td>\n",
       "      <td>checkmate: Black wins!</td>\n",
       "      <td>40</td>\n",
       "      <td>12</td>\n",
       "      <td>14</td>\n",
       "    </tr>\n",
       "    <tr>\n",
       "      <th>9</th>\n",
       "      <td>1</td>\n",
       "      <td>1</td>\n",
       "      <td>1</td>\n",
       "      <td>advanced_minimax_agent</td>\n",
       "      <td>chess.engine.SimpleEngine.popen_uci(\"./stockfi...</td>\n",
       "      <td>False</td>\n",
       "      <td>checkmate: Black wins!</td>\n",
       "      <td>42</td>\n",
       "      <td>6</td>\n",
       "      <td>12</td>\n",
       "    </tr>\n",
       "    <tr>\n",
       "      <th>10</th>\n",
       "      <td>1</td>\n",
       "      <td>1</td>\n",
       "      <td>2</td>\n",
       "      <td>advanced_minimax_agent</td>\n",
       "      <td>chess.engine.SimpleEngine.popen_uci(\"./stockfi...</td>\n",
       "      <td>False</td>\n",
       "      <td>checkmate: Black wins!</td>\n",
       "      <td>54</td>\n",
       "      <td>7</td>\n",
       "      <td>10</td>\n",
       "    </tr>\n",
       "    <tr>\n",
       "      <th>7</th>\n",
       "      <td>1</td>\n",
       "      <td>1</td>\n",
       "      <td>1</td>\n",
       "      <td>improved_minimax_agent</td>\n",
       "      <td>chess.engine.SimpleEngine.popen_uci(\"./stockfi...</td>\n",
       "      <td>False</td>\n",
       "      <td>checkmate: Black wins!</td>\n",
       "      <td>58</td>\n",
       "      <td>6</td>\n",
       "      <td>11</td>\n",
       "    </tr>\n",
       "  </tbody>\n",
       "</table>\n",
       "</div>"
      ],
      "text/plain": [
       "   round_num iterations depth                     white agent  \\\n",
       "3          1          1  None                  improved_agent   \n",
       "4          1          1  None                  advanced_agent   \n",
       "2          1          1  None                     naive_agent   \n",
       "1          1          1  None           improved_random_agent   \n",
       "0          1          1  None                    random_agent   \n",
       "5          1          1     1             naive_minimax_agent   \n",
       "6          1          1     2             naive_minimax_agent   \n",
       "11         1          1     1  naive_alpha-beta_minimax_agent   \n",
       "8          1          1     2          improved_minimax_agent   \n",
       "9          1          1     1          advanced_minimax_agent   \n",
       "10         1          1     2          advanced_minimax_agent   \n",
       "7          1          1     1          improved_minimax_agent   \n",
       "\n",
       "                                          black agent white_victory  \\\n",
       "3   chess.engine.SimpleEngine.popen_uci(\"./stockfi...         False   \n",
       "4   chess.engine.SimpleEngine.popen_uci(\"./stockfi...         False   \n",
       "2   chess.engine.SimpleEngine.popen_uci(\"./stockfi...         False   \n",
       "1   chess.engine.SimpleEngine.popen_uci(\"./stockfi...         False   \n",
       "0   chess.engine.SimpleEngine.popen_uci(\"./stockfi...         False   \n",
       "5   chess.engine.SimpleEngine.popen_uci(\"./stockfi...         False   \n",
       "6   chess.engine.SimpleEngine.popen_uci(\"./stockfi...         False   \n",
       "11  chess.engine.SimpleEngine.popen_uci(\"./stockfi...         False   \n",
       "8   chess.engine.SimpleEngine.popen_uci(\"./stockfi...         False   \n",
       "9   chess.engine.SimpleEngine.popen_uci(\"./stockfi...         False   \n",
       "10  chess.engine.SimpleEngine.popen_uci(\"./stockfi...         False   \n",
       "7   chess.engine.SimpleEngine.popen_uci(\"./stockfi...         False   \n",
       "\n",
       "                    winner moves_played remain_w_pieces remaining_b_pieces  \n",
       "3   checkmate: Black wins!            6              15                 15  \n",
       "4   checkmate: Black wins!           18              10                 14  \n",
       "2   checkmate: Black wins!           20              11                 15  \n",
       "1   checkmate: Black wins!           24              14                 13  \n",
       "0   checkmate: Black wins!           26              11                 16  \n",
       "5   checkmate: Black wins!           30              15                 15  \n",
       "6   checkmate: Black wins!           34              12                 14  \n",
       "11  checkmate: Black wins!           34              15                 15  \n",
       "8   checkmate: Black wins!           40              12                 14  \n",
       "9   checkmate: Black wins!           42               6                 12  \n",
       "10  checkmate: Black wins!           54               7                 10  \n",
       "7   checkmate: Black wins!           58               6                 11  "
      ]
     },
     "execution_count": 64,
     "metadata": {},
     "output_type": "execute_result"
    }
   ],
   "source": [
    "scoreboard.sort_values(by=['moves_played'], inplace=False, ascending=True)"
   ]
  },
  {
   "cell_type": "markdown",
   "metadata": {},
   "source": [
    "## Naive Mini-Max with Alpha-Beta-Pruning Agent (Depth 2) vs Stockfish"
   ]
  },
  {
   "cell_type": "code",
   "execution_count": 65,
   "metadata": {
    "pycharm": {
     "is_executing": true,
     "name": "#%%\n"
    }
   },
   "outputs": [],
   "source": [
    "game = ai.Game()\n",
    "white = ai.MiniMaxAgent(max_depth=2, heuristic=\"naive\", type=\"alpha-beta\")\n",
    "black = STOCKFISH_PATH\n",
    "\n",
    "results = game.run_engine(white, black, NUM_ITERATIONS, visual=None)"
   ]
  },
  {
   "cell_type": "code",
   "execution_count": 66,
   "metadata": {
    "pycharm": {
     "is_executing": true,
     "name": "#%%\n"
    }
   },
   "outputs": [],
   "source": [
    "df = pd.DataFrame(data=results,columns=COLUMNS)"
   ]
  },
  {
   "cell_type": "code",
   "execution_count": 67,
   "metadata": {
    "pycharm": {
     "is_executing": true,
     "name": "#%%\n"
    }
   },
   "outputs": [],
   "source": [
    "#update the scoreboard\n",
    "scoreboard = scoreboard.append(df, ignore_index=True)"
   ]
  },
  {
   "cell_type": "markdown",
   "metadata": {},
   "source": [
    "### Overall Scoreboard by moves played ascending"
   ]
  },
  {
   "cell_type": "code",
   "execution_count": 68,
   "metadata": {
    "pycharm": {
     "is_executing": true,
     "name": "#%%\n"
    }
   },
   "outputs": [
    {
     "data": {
      "text/html": [
       "<div>\n",
       "<style scoped>\n",
       "    .dataframe tbody tr th:only-of-type {\n",
       "        vertical-align: middle;\n",
       "    }\n",
       "\n",
       "    .dataframe tbody tr th {\n",
       "        vertical-align: top;\n",
       "    }\n",
       "\n",
       "    .dataframe thead th {\n",
       "        text-align: right;\n",
       "    }\n",
       "</style>\n",
       "<table border=\"1\" class=\"dataframe\">\n",
       "  <thead>\n",
       "    <tr style=\"text-align: right;\">\n",
       "      <th></th>\n",
       "      <th>round_num</th>\n",
       "      <th>iterations</th>\n",
       "      <th>depth</th>\n",
       "      <th>white agent</th>\n",
       "      <th>black agent</th>\n",
       "      <th>white_victory</th>\n",
       "      <th>winner</th>\n",
       "      <th>moves_played</th>\n",
       "      <th>remain_w_pieces</th>\n",
       "      <th>remaining_b_pieces</th>\n",
       "    </tr>\n",
       "  </thead>\n",
       "  <tbody>\n",
       "    <tr>\n",
       "      <th>3</th>\n",
       "      <td>1</td>\n",
       "      <td>1</td>\n",
       "      <td>None</td>\n",
       "      <td>improved_agent</td>\n",
       "      <td>chess.engine.SimpleEngine.popen_uci(\"./stockfi...</td>\n",
       "      <td>False</td>\n",
       "      <td>checkmate: Black wins!</td>\n",
       "      <td>6</td>\n",
       "      <td>15</td>\n",
       "      <td>15</td>\n",
       "    </tr>\n",
       "    <tr>\n",
       "      <th>4</th>\n",
       "      <td>1</td>\n",
       "      <td>1</td>\n",
       "      <td>None</td>\n",
       "      <td>advanced_agent</td>\n",
       "      <td>chess.engine.SimpleEngine.popen_uci(\"./stockfi...</td>\n",
       "      <td>False</td>\n",
       "      <td>checkmate: Black wins!</td>\n",
       "      <td>18</td>\n",
       "      <td>10</td>\n",
       "      <td>14</td>\n",
       "    </tr>\n",
       "    <tr>\n",
       "      <th>2</th>\n",
       "      <td>1</td>\n",
       "      <td>1</td>\n",
       "      <td>None</td>\n",
       "      <td>naive_agent</td>\n",
       "      <td>chess.engine.SimpleEngine.popen_uci(\"./stockfi...</td>\n",
       "      <td>False</td>\n",
       "      <td>checkmate: Black wins!</td>\n",
       "      <td>20</td>\n",
       "      <td>11</td>\n",
       "      <td>15</td>\n",
       "    </tr>\n",
       "    <tr>\n",
       "      <th>1</th>\n",
       "      <td>1</td>\n",
       "      <td>1</td>\n",
       "      <td>None</td>\n",
       "      <td>improved_random_agent</td>\n",
       "      <td>chess.engine.SimpleEngine.popen_uci(\"./stockfi...</td>\n",
       "      <td>False</td>\n",
       "      <td>checkmate: Black wins!</td>\n",
       "      <td>24</td>\n",
       "      <td>14</td>\n",
       "      <td>13</td>\n",
       "    </tr>\n",
       "    <tr>\n",
       "      <th>0</th>\n",
       "      <td>1</td>\n",
       "      <td>1</td>\n",
       "      <td>None</td>\n",
       "      <td>random_agent</td>\n",
       "      <td>chess.engine.SimpleEngine.popen_uci(\"./stockfi...</td>\n",
       "      <td>False</td>\n",
       "      <td>checkmate: Black wins!</td>\n",
       "      <td>26</td>\n",
       "      <td>11</td>\n",
       "      <td>16</td>\n",
       "    </tr>\n",
       "    <tr>\n",
       "      <th>5</th>\n",
       "      <td>1</td>\n",
       "      <td>1</td>\n",
       "      <td>1</td>\n",
       "      <td>naive_minimax_agent</td>\n",
       "      <td>chess.engine.SimpleEngine.popen_uci(\"./stockfi...</td>\n",
       "      <td>False</td>\n",
       "      <td>checkmate: Black wins!</td>\n",
       "      <td>30</td>\n",
       "      <td>15</td>\n",
       "      <td>15</td>\n",
       "    </tr>\n",
       "    <tr>\n",
       "      <th>6</th>\n",
       "      <td>1</td>\n",
       "      <td>1</td>\n",
       "      <td>2</td>\n",
       "      <td>naive_minimax_agent</td>\n",
       "      <td>chess.engine.SimpleEngine.popen_uci(\"./stockfi...</td>\n",
       "      <td>False</td>\n",
       "      <td>checkmate: Black wins!</td>\n",
       "      <td>34</td>\n",
       "      <td>12</td>\n",
       "      <td>14</td>\n",
       "    </tr>\n",
       "    <tr>\n",
       "      <th>11</th>\n",
       "      <td>1</td>\n",
       "      <td>1</td>\n",
       "      <td>1</td>\n",
       "      <td>naive_alpha-beta_minimax_agent</td>\n",
       "      <td>chess.engine.SimpleEngine.popen_uci(\"./stockfi...</td>\n",
       "      <td>False</td>\n",
       "      <td>checkmate: Black wins!</td>\n",
       "      <td>34</td>\n",
       "      <td>15</td>\n",
       "      <td>15</td>\n",
       "    </tr>\n",
       "    <tr>\n",
       "      <th>8</th>\n",
       "      <td>1</td>\n",
       "      <td>1</td>\n",
       "      <td>2</td>\n",
       "      <td>improved_minimax_agent</td>\n",
       "      <td>chess.engine.SimpleEngine.popen_uci(\"./stockfi...</td>\n",
       "      <td>False</td>\n",
       "      <td>checkmate: Black wins!</td>\n",
       "      <td>40</td>\n",
       "      <td>12</td>\n",
       "      <td>14</td>\n",
       "    </tr>\n",
       "    <tr>\n",
       "      <th>9</th>\n",
       "      <td>1</td>\n",
       "      <td>1</td>\n",
       "      <td>1</td>\n",
       "      <td>advanced_minimax_agent</td>\n",
       "      <td>chess.engine.SimpleEngine.popen_uci(\"./stockfi...</td>\n",
       "      <td>False</td>\n",
       "      <td>checkmate: Black wins!</td>\n",
       "      <td>42</td>\n",
       "      <td>6</td>\n",
       "      <td>12</td>\n",
       "    </tr>\n",
       "    <tr>\n",
       "      <th>12</th>\n",
       "      <td>1</td>\n",
       "      <td>1</td>\n",
       "      <td>2</td>\n",
       "      <td>naive_alpha-beta_minimax_agent</td>\n",
       "      <td>chess.engine.SimpleEngine.popen_uci(\"./stockfi...</td>\n",
       "      <td>False</td>\n",
       "      <td>checkmate: Black wins!</td>\n",
       "      <td>46</td>\n",
       "      <td>6</td>\n",
       "      <td>11</td>\n",
       "    </tr>\n",
       "    <tr>\n",
       "      <th>10</th>\n",
       "      <td>1</td>\n",
       "      <td>1</td>\n",
       "      <td>2</td>\n",
       "      <td>advanced_minimax_agent</td>\n",
       "      <td>chess.engine.SimpleEngine.popen_uci(\"./stockfi...</td>\n",
       "      <td>False</td>\n",
       "      <td>checkmate: Black wins!</td>\n",
       "      <td>54</td>\n",
       "      <td>7</td>\n",
       "      <td>10</td>\n",
       "    </tr>\n",
       "    <tr>\n",
       "      <th>7</th>\n",
       "      <td>1</td>\n",
       "      <td>1</td>\n",
       "      <td>1</td>\n",
       "      <td>improved_minimax_agent</td>\n",
       "      <td>chess.engine.SimpleEngine.popen_uci(\"./stockfi...</td>\n",
       "      <td>False</td>\n",
       "      <td>checkmate: Black wins!</td>\n",
       "      <td>58</td>\n",
       "      <td>6</td>\n",
       "      <td>11</td>\n",
       "    </tr>\n",
       "  </tbody>\n",
       "</table>\n",
       "</div>"
      ],
      "text/plain": [
       "   round_num iterations depth                     white agent  \\\n",
       "3          1          1  None                  improved_agent   \n",
       "4          1          1  None                  advanced_agent   \n",
       "2          1          1  None                     naive_agent   \n",
       "1          1          1  None           improved_random_agent   \n",
       "0          1          1  None                    random_agent   \n",
       "5          1          1     1             naive_minimax_agent   \n",
       "6          1          1     2             naive_minimax_agent   \n",
       "11         1          1     1  naive_alpha-beta_minimax_agent   \n",
       "8          1          1     2          improved_minimax_agent   \n",
       "9          1          1     1          advanced_minimax_agent   \n",
       "12         1          1     2  naive_alpha-beta_minimax_agent   \n",
       "10         1          1     2          advanced_minimax_agent   \n",
       "7          1          1     1          improved_minimax_agent   \n",
       "\n",
       "                                          black agent white_victory  \\\n",
       "3   chess.engine.SimpleEngine.popen_uci(\"./stockfi...         False   \n",
       "4   chess.engine.SimpleEngine.popen_uci(\"./stockfi...         False   \n",
       "2   chess.engine.SimpleEngine.popen_uci(\"./stockfi...         False   \n",
       "1   chess.engine.SimpleEngine.popen_uci(\"./stockfi...         False   \n",
       "0   chess.engine.SimpleEngine.popen_uci(\"./stockfi...         False   \n",
       "5   chess.engine.SimpleEngine.popen_uci(\"./stockfi...         False   \n",
       "6   chess.engine.SimpleEngine.popen_uci(\"./stockfi...         False   \n",
       "11  chess.engine.SimpleEngine.popen_uci(\"./stockfi...         False   \n",
       "8   chess.engine.SimpleEngine.popen_uci(\"./stockfi...         False   \n",
       "9   chess.engine.SimpleEngine.popen_uci(\"./stockfi...         False   \n",
       "12  chess.engine.SimpleEngine.popen_uci(\"./stockfi...         False   \n",
       "10  chess.engine.SimpleEngine.popen_uci(\"./stockfi...         False   \n",
       "7   chess.engine.SimpleEngine.popen_uci(\"./stockfi...         False   \n",
       "\n",
       "                    winner moves_played remain_w_pieces remaining_b_pieces  \n",
       "3   checkmate: Black wins!            6              15                 15  \n",
       "4   checkmate: Black wins!           18              10                 14  \n",
       "2   checkmate: Black wins!           20              11                 15  \n",
       "1   checkmate: Black wins!           24              14                 13  \n",
       "0   checkmate: Black wins!           26              11                 16  \n",
       "5   checkmate: Black wins!           30              15                 15  \n",
       "6   checkmate: Black wins!           34              12                 14  \n",
       "11  checkmate: Black wins!           34              15                 15  \n",
       "8   checkmate: Black wins!           40              12                 14  \n",
       "9   checkmate: Black wins!           42               6                 12  \n",
       "12  checkmate: Black wins!           46               6                 11  \n",
       "10  checkmate: Black wins!           54               7                 10  \n",
       "7   checkmate: Black wins!           58               6                 11  "
      ]
     },
     "execution_count": 68,
     "metadata": {},
     "output_type": "execute_result"
    }
   ],
   "source": [
    "scoreboard.sort_values(by=['moves_played'], inplace=False, ascending=True)"
   ]
  },
  {
   "cell_type": "markdown",
   "metadata": {},
   "source": [
    "## Naive Mini-Max with Alpha-Beta-Pruning Agent (Depth 3) vs Stockfish"
   ]
  },
  {
   "cell_type": "code",
   "execution_count": 69,
   "metadata": {
    "pycharm": {
     "is_executing": true,
     "name": "#%%\n"
    }
   },
   "outputs": [],
   "source": [
    "# game = ai.Game()\n",
    "# white = ai.MiniMaxAgent(max_depth=3, heuristic=\"naive\", type=\"alpha-beta\")\n",
    "# black = STOCKFISH_PATH\n",
    "# \n",
    "# results = game.run_engine(white, black, NUM_ITERATIONS, visual=None)"
   ]
  },
  {
   "cell_type": "code",
   "execution_count": 70,
   "metadata": {
    "pycharm": {
     "is_executing": true,
     "name": "#%%\n"
    }
   },
   "outputs": [],
   "source": [
    "# df = pd.DataFrame(data=results,columns=COLUMNS)"
   ]
  },
  {
   "cell_type": "code",
   "execution_count": 71,
   "metadata": {
    "pycharm": {
     "is_executing": true,
     "name": "#%%\n"
    }
   },
   "outputs": [],
   "source": [
    "#update the scoreboard\n",
    "# scoreboard = scoreboard.append(df, ignore_index=True)"
   ]
  },
  {
   "cell_type": "markdown",
   "metadata": {},
   "source": [
    "### Overall Scoreboard by moves played ascending"
   ]
  },
  {
   "cell_type": "code",
   "execution_count": 72,
   "metadata": {
    "pycharm": {
     "is_executing": true,
     "name": "#%%\n"
    }
   },
   "outputs": [],
   "source": [
    "# scoreboard.sort_values(by=['moves_played'], inplace=False, ascending=True)\n"
   ]
  },
  {
   "cell_type": "markdown",
   "metadata": {},
   "source": [
    "## Improved Mini-Max with Alpha-Beta-Pruning Agent (Depth 1) vs Stockfish"
   ]
  },
  {
   "cell_type": "code",
   "execution_count": 73,
   "metadata": {
    "pycharm": {
     "is_executing": true,
     "name": "#%%\n"
    }
   },
   "outputs": [],
   "source": [
    "game = ai.Game()\n",
    "white = ai.MiniMaxAgent(max_depth=1, heuristic=\"improved\", type=\"alpha-beta\")\n",
    "black = STOCKFISH_PATH\n",
    "\n",
    "results = game.run_engine(white, black, NUM_ITERATIONS, visual=None)"
   ]
  },
  {
   "cell_type": "code",
   "execution_count": 74,
   "metadata": {
    "pycharm": {
     "is_executing": true,
     "name": "#%%\n"
    }
   },
   "outputs": [],
   "source": [
    "df = pd.DataFrame(data=results,columns=COLUMNS)"
   ]
  },
  {
   "cell_type": "code",
   "execution_count": 75,
   "metadata": {
    "pycharm": {
     "is_executing": true,
     "name": "#%%\n"
    }
   },
   "outputs": [],
   "source": [
    "#update the scoreboard\n",
    "scoreboard = scoreboard.append(df, ignore_index=True)"
   ]
  },
  {
   "cell_type": "markdown",
   "metadata": {},
   "source": [
    "### Overall Scoreboard by moves played ascending"
   ]
  },
  {
   "cell_type": "code",
   "execution_count": 76,
   "metadata": {
    "pycharm": {
     "is_executing": true,
     "name": "#%%\n"
    }
   },
   "outputs": [
    {
     "data": {
      "text/html": [
       "<div>\n",
       "<style scoped>\n",
       "    .dataframe tbody tr th:only-of-type {\n",
       "        vertical-align: middle;\n",
       "    }\n",
       "\n",
       "    .dataframe tbody tr th {\n",
       "        vertical-align: top;\n",
       "    }\n",
       "\n",
       "    .dataframe thead th {\n",
       "        text-align: right;\n",
       "    }\n",
       "</style>\n",
       "<table border=\"1\" class=\"dataframe\">\n",
       "  <thead>\n",
       "    <tr style=\"text-align: right;\">\n",
       "      <th></th>\n",
       "      <th>round_num</th>\n",
       "      <th>iterations</th>\n",
       "      <th>depth</th>\n",
       "      <th>white agent</th>\n",
       "      <th>black agent</th>\n",
       "      <th>white_victory</th>\n",
       "      <th>winner</th>\n",
       "      <th>moves_played</th>\n",
       "      <th>remain_w_pieces</th>\n",
       "      <th>remaining_b_pieces</th>\n",
       "    </tr>\n",
       "  </thead>\n",
       "  <tbody>\n",
       "    <tr>\n",
       "      <th>3</th>\n",
       "      <td>1</td>\n",
       "      <td>1</td>\n",
       "      <td>None</td>\n",
       "      <td>improved_agent</td>\n",
       "      <td>chess.engine.SimpleEngine.popen_uci(\"./stockfi...</td>\n",
       "      <td>False</td>\n",
       "      <td>checkmate: Black wins!</td>\n",
       "      <td>6</td>\n",
       "      <td>15</td>\n",
       "      <td>15</td>\n",
       "    </tr>\n",
       "    <tr>\n",
       "      <th>4</th>\n",
       "      <td>1</td>\n",
       "      <td>1</td>\n",
       "      <td>None</td>\n",
       "      <td>advanced_agent</td>\n",
       "      <td>chess.engine.SimpleEngine.popen_uci(\"./stockfi...</td>\n",
       "      <td>False</td>\n",
       "      <td>checkmate: Black wins!</td>\n",
       "      <td>18</td>\n",
       "      <td>10</td>\n",
       "      <td>14</td>\n",
       "    </tr>\n",
       "    <tr>\n",
       "      <th>2</th>\n",
       "      <td>1</td>\n",
       "      <td>1</td>\n",
       "      <td>None</td>\n",
       "      <td>naive_agent</td>\n",
       "      <td>chess.engine.SimpleEngine.popen_uci(\"./stockfi...</td>\n",
       "      <td>False</td>\n",
       "      <td>checkmate: Black wins!</td>\n",
       "      <td>20</td>\n",
       "      <td>11</td>\n",
       "      <td>15</td>\n",
       "    </tr>\n",
       "    <tr>\n",
       "      <th>1</th>\n",
       "      <td>1</td>\n",
       "      <td>1</td>\n",
       "      <td>None</td>\n",
       "      <td>improved_random_agent</td>\n",
       "      <td>chess.engine.SimpleEngine.popen_uci(\"./stockfi...</td>\n",
       "      <td>False</td>\n",
       "      <td>checkmate: Black wins!</td>\n",
       "      <td>24</td>\n",
       "      <td>14</td>\n",
       "      <td>13</td>\n",
       "    </tr>\n",
       "    <tr>\n",
       "      <th>0</th>\n",
       "      <td>1</td>\n",
       "      <td>1</td>\n",
       "      <td>None</td>\n",
       "      <td>random_agent</td>\n",
       "      <td>chess.engine.SimpleEngine.popen_uci(\"./stockfi...</td>\n",
       "      <td>False</td>\n",
       "      <td>checkmate: Black wins!</td>\n",
       "      <td>26</td>\n",
       "      <td>11</td>\n",
       "      <td>16</td>\n",
       "    </tr>\n",
       "    <tr>\n",
       "      <th>13</th>\n",
       "      <td>1</td>\n",
       "      <td>1</td>\n",
       "      <td>1</td>\n",
       "      <td>improved_alpha-beta_minimax_agent</td>\n",
       "      <td>chess.engine.SimpleEngine.popen_uci(\"./stockfi...</td>\n",
       "      <td>False</td>\n",
       "      <td>checkmate: Black wins!</td>\n",
       "      <td>28</td>\n",
       "      <td>12</td>\n",
       "      <td>14</td>\n",
       "    </tr>\n",
       "    <tr>\n",
       "      <th>5</th>\n",
       "      <td>1</td>\n",
       "      <td>1</td>\n",
       "      <td>1</td>\n",
       "      <td>naive_minimax_agent</td>\n",
       "      <td>chess.engine.SimpleEngine.popen_uci(\"./stockfi...</td>\n",
       "      <td>False</td>\n",
       "      <td>checkmate: Black wins!</td>\n",
       "      <td>30</td>\n",
       "      <td>15</td>\n",
       "      <td>15</td>\n",
       "    </tr>\n",
       "    <tr>\n",
       "      <th>6</th>\n",
       "      <td>1</td>\n",
       "      <td>1</td>\n",
       "      <td>2</td>\n",
       "      <td>naive_minimax_agent</td>\n",
       "      <td>chess.engine.SimpleEngine.popen_uci(\"./stockfi...</td>\n",
       "      <td>False</td>\n",
       "      <td>checkmate: Black wins!</td>\n",
       "      <td>34</td>\n",
       "      <td>12</td>\n",
       "      <td>14</td>\n",
       "    </tr>\n",
       "    <tr>\n",
       "      <th>11</th>\n",
       "      <td>1</td>\n",
       "      <td>1</td>\n",
       "      <td>1</td>\n",
       "      <td>naive_alpha-beta_minimax_agent</td>\n",
       "      <td>chess.engine.SimpleEngine.popen_uci(\"./stockfi...</td>\n",
       "      <td>False</td>\n",
       "      <td>checkmate: Black wins!</td>\n",
       "      <td>34</td>\n",
       "      <td>15</td>\n",
       "      <td>15</td>\n",
       "    </tr>\n",
       "    <tr>\n",
       "      <th>8</th>\n",
       "      <td>1</td>\n",
       "      <td>1</td>\n",
       "      <td>2</td>\n",
       "      <td>improved_minimax_agent</td>\n",
       "      <td>chess.engine.SimpleEngine.popen_uci(\"./stockfi...</td>\n",
       "      <td>False</td>\n",
       "      <td>checkmate: Black wins!</td>\n",
       "      <td>40</td>\n",
       "      <td>12</td>\n",
       "      <td>14</td>\n",
       "    </tr>\n",
       "    <tr>\n",
       "      <th>9</th>\n",
       "      <td>1</td>\n",
       "      <td>1</td>\n",
       "      <td>1</td>\n",
       "      <td>advanced_minimax_agent</td>\n",
       "      <td>chess.engine.SimpleEngine.popen_uci(\"./stockfi...</td>\n",
       "      <td>False</td>\n",
       "      <td>checkmate: Black wins!</td>\n",
       "      <td>42</td>\n",
       "      <td>6</td>\n",
       "      <td>12</td>\n",
       "    </tr>\n",
       "    <tr>\n",
       "      <th>12</th>\n",
       "      <td>1</td>\n",
       "      <td>1</td>\n",
       "      <td>2</td>\n",
       "      <td>naive_alpha-beta_minimax_agent</td>\n",
       "      <td>chess.engine.SimpleEngine.popen_uci(\"./stockfi...</td>\n",
       "      <td>False</td>\n",
       "      <td>checkmate: Black wins!</td>\n",
       "      <td>46</td>\n",
       "      <td>6</td>\n",
       "      <td>11</td>\n",
       "    </tr>\n",
       "    <tr>\n",
       "      <th>10</th>\n",
       "      <td>1</td>\n",
       "      <td>1</td>\n",
       "      <td>2</td>\n",
       "      <td>advanced_minimax_agent</td>\n",
       "      <td>chess.engine.SimpleEngine.popen_uci(\"./stockfi...</td>\n",
       "      <td>False</td>\n",
       "      <td>checkmate: Black wins!</td>\n",
       "      <td>54</td>\n",
       "      <td>7</td>\n",
       "      <td>10</td>\n",
       "    </tr>\n",
       "    <tr>\n",
       "      <th>7</th>\n",
       "      <td>1</td>\n",
       "      <td>1</td>\n",
       "      <td>1</td>\n",
       "      <td>improved_minimax_agent</td>\n",
       "      <td>chess.engine.SimpleEngine.popen_uci(\"./stockfi...</td>\n",
       "      <td>False</td>\n",
       "      <td>checkmate: Black wins!</td>\n",
       "      <td>58</td>\n",
       "      <td>6</td>\n",
       "      <td>11</td>\n",
       "    </tr>\n",
       "  </tbody>\n",
       "</table>\n",
       "</div>"
      ],
      "text/plain": [
       "   round_num iterations depth                        white agent  \\\n",
       "3          1          1  None                     improved_agent   \n",
       "4          1          1  None                     advanced_agent   \n",
       "2          1          1  None                        naive_agent   \n",
       "1          1          1  None              improved_random_agent   \n",
       "0          1          1  None                       random_agent   \n",
       "13         1          1     1  improved_alpha-beta_minimax_agent   \n",
       "5          1          1     1                naive_minimax_agent   \n",
       "6          1          1     2                naive_minimax_agent   \n",
       "11         1          1     1     naive_alpha-beta_minimax_agent   \n",
       "8          1          1     2             improved_minimax_agent   \n",
       "9          1          1     1             advanced_minimax_agent   \n",
       "12         1          1     2     naive_alpha-beta_minimax_agent   \n",
       "10         1          1     2             advanced_minimax_agent   \n",
       "7          1          1     1             improved_minimax_agent   \n",
       "\n",
       "                                          black agent white_victory  \\\n",
       "3   chess.engine.SimpleEngine.popen_uci(\"./stockfi...         False   \n",
       "4   chess.engine.SimpleEngine.popen_uci(\"./stockfi...         False   \n",
       "2   chess.engine.SimpleEngine.popen_uci(\"./stockfi...         False   \n",
       "1   chess.engine.SimpleEngine.popen_uci(\"./stockfi...         False   \n",
       "0   chess.engine.SimpleEngine.popen_uci(\"./stockfi...         False   \n",
       "13  chess.engine.SimpleEngine.popen_uci(\"./stockfi...         False   \n",
       "5   chess.engine.SimpleEngine.popen_uci(\"./stockfi...         False   \n",
       "6   chess.engine.SimpleEngine.popen_uci(\"./stockfi...         False   \n",
       "11  chess.engine.SimpleEngine.popen_uci(\"./stockfi...         False   \n",
       "8   chess.engine.SimpleEngine.popen_uci(\"./stockfi...         False   \n",
       "9   chess.engine.SimpleEngine.popen_uci(\"./stockfi...         False   \n",
       "12  chess.engine.SimpleEngine.popen_uci(\"./stockfi...         False   \n",
       "10  chess.engine.SimpleEngine.popen_uci(\"./stockfi...         False   \n",
       "7   chess.engine.SimpleEngine.popen_uci(\"./stockfi...         False   \n",
       "\n",
       "                    winner moves_played remain_w_pieces remaining_b_pieces  \n",
       "3   checkmate: Black wins!            6              15                 15  \n",
       "4   checkmate: Black wins!           18              10                 14  \n",
       "2   checkmate: Black wins!           20              11                 15  \n",
       "1   checkmate: Black wins!           24              14                 13  \n",
       "0   checkmate: Black wins!           26              11                 16  \n",
       "13  checkmate: Black wins!           28              12                 14  \n",
       "5   checkmate: Black wins!           30              15                 15  \n",
       "6   checkmate: Black wins!           34              12                 14  \n",
       "11  checkmate: Black wins!           34              15                 15  \n",
       "8   checkmate: Black wins!           40              12                 14  \n",
       "9   checkmate: Black wins!           42               6                 12  \n",
       "12  checkmate: Black wins!           46               6                 11  \n",
       "10  checkmate: Black wins!           54               7                 10  \n",
       "7   checkmate: Black wins!           58               6                 11  "
      ]
     },
     "execution_count": 76,
     "metadata": {},
     "output_type": "execute_result"
    }
   ],
   "source": [
    "scoreboard.sort_values(by=['moves_played'], inplace=False, ascending=True)\n"
   ]
  },
  {
   "cell_type": "markdown",
   "metadata": {},
   "source": [
    "## Improved Mini-Max with Alpha-Beta-Pruning Agent (Depth 2) vs Stockfish"
   ]
  },
  {
   "cell_type": "code",
   "execution_count": 77,
   "metadata": {
    "pycharm": {
     "is_executing": true,
     "name": "#%%\n"
    }
   },
   "outputs": [],
   "source": [
    "game = ai.Game()\n",
    "white = ai.MiniMaxAgent(max_depth=2, heuristic=\"improved\", type=\"alpha-beta\")\n",
    "black = STOCKFISH_PATH\n",
    "\n",
    "results = game.run_engine(white, black, NUM_ITERATIONS, visual=None)"
   ]
  },
  {
   "cell_type": "code",
   "execution_count": 78,
   "metadata": {
    "pycharm": {
     "is_executing": true,
     "name": "#%%\n"
    }
   },
   "outputs": [],
   "source": [
    "df = pd.DataFrame(data=results,columns=COLUMNS)"
   ]
  },
  {
   "cell_type": "code",
   "execution_count": 79,
   "metadata": {
    "pycharm": {
     "is_executing": true,
     "name": "#%%\n"
    }
   },
   "outputs": [],
   "source": [
    "#update the scoreboard\n",
    "scoreboard = scoreboard.append(df, ignore_index=True)"
   ]
  },
  {
   "cell_type": "markdown",
   "metadata": {},
   "source": [
    "### Overall Scoreboard by moves played ascending"
   ]
  },
  {
   "cell_type": "code",
   "execution_count": 80,
   "metadata": {
    "pycharm": {
     "is_executing": true,
     "name": "#%%\n"
    }
   },
   "outputs": [
    {
     "data": {
      "text/html": [
       "<div>\n",
       "<style scoped>\n",
       "    .dataframe tbody tr th:only-of-type {\n",
       "        vertical-align: middle;\n",
       "    }\n",
       "\n",
       "    .dataframe tbody tr th {\n",
       "        vertical-align: top;\n",
       "    }\n",
       "\n",
       "    .dataframe thead th {\n",
       "        text-align: right;\n",
       "    }\n",
       "</style>\n",
       "<table border=\"1\" class=\"dataframe\">\n",
       "  <thead>\n",
       "    <tr style=\"text-align: right;\">\n",
       "      <th></th>\n",
       "      <th>round_num</th>\n",
       "      <th>iterations</th>\n",
       "      <th>depth</th>\n",
       "      <th>white agent</th>\n",
       "      <th>black agent</th>\n",
       "      <th>white_victory</th>\n",
       "      <th>winner</th>\n",
       "      <th>moves_played</th>\n",
       "      <th>remain_w_pieces</th>\n",
       "      <th>remaining_b_pieces</th>\n",
       "    </tr>\n",
       "  </thead>\n",
       "  <tbody>\n",
       "    <tr>\n",
       "      <th>3</th>\n",
       "      <td>1</td>\n",
       "      <td>1</td>\n",
       "      <td>None</td>\n",
       "      <td>improved_agent</td>\n",
       "      <td>chess.engine.SimpleEngine.popen_uci(\"./stockfi...</td>\n",
       "      <td>False</td>\n",
       "      <td>checkmate: Black wins!</td>\n",
       "      <td>6</td>\n",
       "      <td>15</td>\n",
       "      <td>15</td>\n",
       "    </tr>\n",
       "    <tr>\n",
       "      <th>14</th>\n",
       "      <td>1</td>\n",
       "      <td>1</td>\n",
       "      <td>2</td>\n",
       "      <td>improved_alpha-beta_minimax_agent</td>\n",
       "      <td>chess.engine.SimpleEngine.popen_uci(\"./stockfi...</td>\n",
       "      <td>False</td>\n",
       "      <td>checkmate: Black wins!</td>\n",
       "      <td>14</td>\n",
       "      <td>11</td>\n",
       "      <td>16</td>\n",
       "    </tr>\n",
       "    <tr>\n",
       "      <th>4</th>\n",
       "      <td>1</td>\n",
       "      <td>1</td>\n",
       "      <td>None</td>\n",
       "      <td>advanced_agent</td>\n",
       "      <td>chess.engine.SimpleEngine.popen_uci(\"./stockfi...</td>\n",
       "      <td>False</td>\n",
       "      <td>checkmate: Black wins!</td>\n",
       "      <td>18</td>\n",
       "      <td>10</td>\n",
       "      <td>14</td>\n",
       "    </tr>\n",
       "    <tr>\n",
       "      <th>2</th>\n",
       "      <td>1</td>\n",
       "      <td>1</td>\n",
       "      <td>None</td>\n",
       "      <td>naive_agent</td>\n",
       "      <td>chess.engine.SimpleEngine.popen_uci(\"./stockfi...</td>\n",
       "      <td>False</td>\n",
       "      <td>checkmate: Black wins!</td>\n",
       "      <td>20</td>\n",
       "      <td>11</td>\n",
       "      <td>15</td>\n",
       "    </tr>\n",
       "    <tr>\n",
       "      <th>1</th>\n",
       "      <td>1</td>\n",
       "      <td>1</td>\n",
       "      <td>None</td>\n",
       "      <td>improved_random_agent</td>\n",
       "      <td>chess.engine.SimpleEngine.popen_uci(\"./stockfi...</td>\n",
       "      <td>False</td>\n",
       "      <td>checkmate: Black wins!</td>\n",
       "      <td>24</td>\n",
       "      <td>14</td>\n",
       "      <td>13</td>\n",
       "    </tr>\n",
       "    <tr>\n",
       "      <th>0</th>\n",
       "      <td>1</td>\n",
       "      <td>1</td>\n",
       "      <td>None</td>\n",
       "      <td>random_agent</td>\n",
       "      <td>chess.engine.SimpleEngine.popen_uci(\"./stockfi...</td>\n",
       "      <td>False</td>\n",
       "      <td>checkmate: Black wins!</td>\n",
       "      <td>26</td>\n",
       "      <td>11</td>\n",
       "      <td>16</td>\n",
       "    </tr>\n",
       "    <tr>\n",
       "      <th>13</th>\n",
       "      <td>1</td>\n",
       "      <td>1</td>\n",
       "      <td>1</td>\n",
       "      <td>improved_alpha-beta_minimax_agent</td>\n",
       "      <td>chess.engine.SimpleEngine.popen_uci(\"./stockfi...</td>\n",
       "      <td>False</td>\n",
       "      <td>checkmate: Black wins!</td>\n",
       "      <td>28</td>\n",
       "      <td>12</td>\n",
       "      <td>14</td>\n",
       "    </tr>\n",
       "    <tr>\n",
       "      <th>5</th>\n",
       "      <td>1</td>\n",
       "      <td>1</td>\n",
       "      <td>1</td>\n",
       "      <td>naive_minimax_agent</td>\n",
       "      <td>chess.engine.SimpleEngine.popen_uci(\"./stockfi...</td>\n",
       "      <td>False</td>\n",
       "      <td>checkmate: Black wins!</td>\n",
       "      <td>30</td>\n",
       "      <td>15</td>\n",
       "      <td>15</td>\n",
       "    </tr>\n",
       "    <tr>\n",
       "      <th>6</th>\n",
       "      <td>1</td>\n",
       "      <td>1</td>\n",
       "      <td>2</td>\n",
       "      <td>naive_minimax_agent</td>\n",
       "      <td>chess.engine.SimpleEngine.popen_uci(\"./stockfi...</td>\n",
       "      <td>False</td>\n",
       "      <td>checkmate: Black wins!</td>\n",
       "      <td>34</td>\n",
       "      <td>12</td>\n",
       "      <td>14</td>\n",
       "    </tr>\n",
       "    <tr>\n",
       "      <th>11</th>\n",
       "      <td>1</td>\n",
       "      <td>1</td>\n",
       "      <td>1</td>\n",
       "      <td>naive_alpha-beta_minimax_agent</td>\n",
       "      <td>chess.engine.SimpleEngine.popen_uci(\"./stockfi...</td>\n",
       "      <td>False</td>\n",
       "      <td>checkmate: Black wins!</td>\n",
       "      <td>34</td>\n",
       "      <td>15</td>\n",
       "      <td>15</td>\n",
       "    </tr>\n",
       "    <tr>\n",
       "      <th>8</th>\n",
       "      <td>1</td>\n",
       "      <td>1</td>\n",
       "      <td>2</td>\n",
       "      <td>improved_minimax_agent</td>\n",
       "      <td>chess.engine.SimpleEngine.popen_uci(\"./stockfi...</td>\n",
       "      <td>False</td>\n",
       "      <td>checkmate: Black wins!</td>\n",
       "      <td>40</td>\n",
       "      <td>12</td>\n",
       "      <td>14</td>\n",
       "    </tr>\n",
       "    <tr>\n",
       "      <th>9</th>\n",
       "      <td>1</td>\n",
       "      <td>1</td>\n",
       "      <td>1</td>\n",
       "      <td>advanced_minimax_agent</td>\n",
       "      <td>chess.engine.SimpleEngine.popen_uci(\"./stockfi...</td>\n",
       "      <td>False</td>\n",
       "      <td>checkmate: Black wins!</td>\n",
       "      <td>42</td>\n",
       "      <td>6</td>\n",
       "      <td>12</td>\n",
       "    </tr>\n",
       "    <tr>\n",
       "      <th>12</th>\n",
       "      <td>1</td>\n",
       "      <td>1</td>\n",
       "      <td>2</td>\n",
       "      <td>naive_alpha-beta_minimax_agent</td>\n",
       "      <td>chess.engine.SimpleEngine.popen_uci(\"./stockfi...</td>\n",
       "      <td>False</td>\n",
       "      <td>checkmate: Black wins!</td>\n",
       "      <td>46</td>\n",
       "      <td>6</td>\n",
       "      <td>11</td>\n",
       "    </tr>\n",
       "    <tr>\n",
       "      <th>10</th>\n",
       "      <td>1</td>\n",
       "      <td>1</td>\n",
       "      <td>2</td>\n",
       "      <td>advanced_minimax_agent</td>\n",
       "      <td>chess.engine.SimpleEngine.popen_uci(\"./stockfi...</td>\n",
       "      <td>False</td>\n",
       "      <td>checkmate: Black wins!</td>\n",
       "      <td>54</td>\n",
       "      <td>7</td>\n",
       "      <td>10</td>\n",
       "    </tr>\n",
       "    <tr>\n",
       "      <th>7</th>\n",
       "      <td>1</td>\n",
       "      <td>1</td>\n",
       "      <td>1</td>\n",
       "      <td>improved_minimax_agent</td>\n",
       "      <td>chess.engine.SimpleEngine.popen_uci(\"./stockfi...</td>\n",
       "      <td>False</td>\n",
       "      <td>checkmate: Black wins!</td>\n",
       "      <td>58</td>\n",
       "      <td>6</td>\n",
       "      <td>11</td>\n",
       "    </tr>\n",
       "  </tbody>\n",
       "</table>\n",
       "</div>"
      ],
      "text/plain": [
       "   round_num iterations depth                        white agent  \\\n",
       "3          1          1  None                     improved_agent   \n",
       "14         1          1     2  improved_alpha-beta_minimax_agent   \n",
       "4          1          1  None                     advanced_agent   \n",
       "2          1          1  None                        naive_agent   \n",
       "1          1          1  None              improved_random_agent   \n",
       "0          1          1  None                       random_agent   \n",
       "13         1          1     1  improved_alpha-beta_minimax_agent   \n",
       "5          1          1     1                naive_minimax_agent   \n",
       "6          1          1     2                naive_minimax_agent   \n",
       "11         1          1     1     naive_alpha-beta_minimax_agent   \n",
       "8          1          1     2             improved_minimax_agent   \n",
       "9          1          1     1             advanced_minimax_agent   \n",
       "12         1          1     2     naive_alpha-beta_minimax_agent   \n",
       "10         1          1     2             advanced_minimax_agent   \n",
       "7          1          1     1             improved_minimax_agent   \n",
       "\n",
       "                                          black agent white_victory  \\\n",
       "3   chess.engine.SimpleEngine.popen_uci(\"./stockfi...         False   \n",
       "14  chess.engine.SimpleEngine.popen_uci(\"./stockfi...         False   \n",
       "4   chess.engine.SimpleEngine.popen_uci(\"./stockfi...         False   \n",
       "2   chess.engine.SimpleEngine.popen_uci(\"./stockfi...         False   \n",
       "1   chess.engine.SimpleEngine.popen_uci(\"./stockfi...         False   \n",
       "0   chess.engine.SimpleEngine.popen_uci(\"./stockfi...         False   \n",
       "13  chess.engine.SimpleEngine.popen_uci(\"./stockfi...         False   \n",
       "5   chess.engine.SimpleEngine.popen_uci(\"./stockfi...         False   \n",
       "6   chess.engine.SimpleEngine.popen_uci(\"./stockfi...         False   \n",
       "11  chess.engine.SimpleEngine.popen_uci(\"./stockfi...         False   \n",
       "8   chess.engine.SimpleEngine.popen_uci(\"./stockfi...         False   \n",
       "9   chess.engine.SimpleEngine.popen_uci(\"./stockfi...         False   \n",
       "12  chess.engine.SimpleEngine.popen_uci(\"./stockfi...         False   \n",
       "10  chess.engine.SimpleEngine.popen_uci(\"./stockfi...         False   \n",
       "7   chess.engine.SimpleEngine.popen_uci(\"./stockfi...         False   \n",
       "\n",
       "                    winner moves_played remain_w_pieces remaining_b_pieces  \n",
       "3   checkmate: Black wins!            6              15                 15  \n",
       "14  checkmate: Black wins!           14              11                 16  \n",
       "4   checkmate: Black wins!           18              10                 14  \n",
       "2   checkmate: Black wins!           20              11                 15  \n",
       "1   checkmate: Black wins!           24              14                 13  \n",
       "0   checkmate: Black wins!           26              11                 16  \n",
       "13  checkmate: Black wins!           28              12                 14  \n",
       "5   checkmate: Black wins!           30              15                 15  \n",
       "6   checkmate: Black wins!           34              12                 14  \n",
       "11  checkmate: Black wins!           34              15                 15  \n",
       "8   checkmate: Black wins!           40              12                 14  \n",
       "9   checkmate: Black wins!           42               6                 12  \n",
       "12  checkmate: Black wins!           46               6                 11  \n",
       "10  checkmate: Black wins!           54               7                 10  \n",
       "7   checkmate: Black wins!           58               6                 11  "
      ]
     },
     "execution_count": 80,
     "metadata": {},
     "output_type": "execute_result"
    }
   ],
   "source": [
    "scoreboard.sort_values(by=['moves_played'], inplace=False, ascending=True)\n"
   ]
  },
  {
   "cell_type": "markdown",
   "metadata": {},
   "source": [
    "## Improved Mini-Max with Alpha-Beta-Pruning Agent (Depth 3) vs Stockfish"
   ]
  },
  {
   "cell_type": "code",
   "execution_count": 81,
   "metadata": {
    "pycharm": {
     "is_executing": true,
     "name": "#%%\n"
    }
   },
   "outputs": [],
   "source": [
    "# game = ai.Game()\n",
    "# white = ai.MiniMaxAgent(max_depth=3, heuristic=\"improved\", type=\"alpha-beta\")\n",
    "# black = STOCKFISH_PATH\n",
    "# \n",
    "# results = game.run_engine(white, black, NUM_ITERATIONS, visual=None)"
   ]
  },
  {
   "cell_type": "code",
   "execution_count": 82,
   "metadata": {
    "pycharm": {
     "is_executing": true,
     "name": "#%%\n"
    }
   },
   "outputs": [],
   "source": [
    "# df = pd.DataFrame(data=results,columns=COLUMNS)"
   ]
  },
  {
   "cell_type": "code",
   "execution_count": 83,
   "metadata": {
    "pycharm": {
     "is_executing": true,
     "name": "#%%\n"
    }
   },
   "outputs": [],
   "source": [
    "#update the scoreboard\n",
    "# scoreboard = scoreboard.append(df, ignore_index=True)"
   ]
  },
  {
   "cell_type": "markdown",
   "metadata": {},
   "source": [
    "### Overall Scoreboard by moves played ascending"
   ]
  },
  {
   "cell_type": "code",
   "execution_count": 84,
   "metadata": {
    "pycharm": {
     "is_executing": true,
     "name": "#%%\n"
    }
   },
   "outputs": [],
   "source": [
    "# scoreboard.sort_values(by=['moves_played'], inplace=False, ascending=True)\n"
   ]
  },
  {
   "cell_type": "markdown",
   "metadata": {},
   "source": [
    "## Advanced Mini-Max with Alpha-Beta-Pruning Agent (Depth 1) vs Stockfish\n"
   ]
  },
  {
   "cell_type": "code",
   "execution_count": 85,
   "metadata": {
    "pycharm": {
     "is_executing": true,
     "name": "#%%\n"
    }
   },
   "outputs": [],
   "source": [
    "game = ai.Game()\n",
    "white = ai.MiniMaxAgent(max_depth=1, heuristic=\"advanced\", type=\"alpha-beta\")\n",
    "black = STOCKFISH_PATH\n",
    "\n",
    "results = game.run_engine(white, black, NUM_ITERATIONS, visual=None)"
   ]
  },
  {
   "cell_type": "code",
   "execution_count": 86,
   "metadata": {
    "pycharm": {
     "is_executing": true,
     "name": "#%%\n"
    }
   },
   "outputs": [],
   "source": [
    "df = pd.DataFrame(data=results,columns=COLUMNS)"
   ]
  },
  {
   "cell_type": "code",
   "execution_count": 87,
   "metadata": {
    "pycharm": {
     "is_executing": true,
     "name": "#%%\n"
    }
   },
   "outputs": [],
   "source": [
    "#update the scoreboard\n",
    "scoreboard = scoreboard.append(df, ignore_index=True)"
   ]
  },
  {
   "cell_type": "markdown",
   "metadata": {},
   "source": [
    "### Overall Scoreboard by moves played ascending"
   ]
  },
  {
   "cell_type": "code",
   "execution_count": 88,
   "metadata": {
    "pycharm": {
     "is_executing": true,
     "name": "#%%\n"
    }
   },
   "outputs": [
    {
     "data": {
      "text/html": [
       "<div>\n",
       "<style scoped>\n",
       "    .dataframe tbody tr th:only-of-type {\n",
       "        vertical-align: middle;\n",
       "    }\n",
       "\n",
       "    .dataframe tbody tr th {\n",
       "        vertical-align: top;\n",
       "    }\n",
       "\n",
       "    .dataframe thead th {\n",
       "        text-align: right;\n",
       "    }\n",
       "</style>\n",
       "<table border=\"1\" class=\"dataframe\">\n",
       "  <thead>\n",
       "    <tr style=\"text-align: right;\">\n",
       "      <th></th>\n",
       "      <th>round_num</th>\n",
       "      <th>iterations</th>\n",
       "      <th>depth</th>\n",
       "      <th>white agent</th>\n",
       "      <th>black agent</th>\n",
       "      <th>white_victory</th>\n",
       "      <th>winner</th>\n",
       "      <th>moves_played</th>\n",
       "      <th>remain_w_pieces</th>\n",
       "      <th>remaining_b_pieces</th>\n",
       "    </tr>\n",
       "  </thead>\n",
       "  <tbody>\n",
       "    <tr>\n",
       "      <th>3</th>\n",
       "      <td>1</td>\n",
       "      <td>1</td>\n",
       "      <td>None</td>\n",
       "      <td>improved_agent</td>\n",
       "      <td>chess.engine.SimpleEngine.popen_uci(\"./stockfi...</td>\n",
       "      <td>False</td>\n",
       "      <td>checkmate: Black wins!</td>\n",
       "      <td>6</td>\n",
       "      <td>15</td>\n",
       "      <td>15</td>\n",
       "    </tr>\n",
       "    <tr>\n",
       "      <th>14</th>\n",
       "      <td>1</td>\n",
       "      <td>1</td>\n",
       "      <td>2</td>\n",
       "      <td>improved_alpha-beta_minimax_agent</td>\n",
       "      <td>chess.engine.SimpleEngine.popen_uci(\"./stockfi...</td>\n",
       "      <td>False</td>\n",
       "      <td>checkmate: Black wins!</td>\n",
       "      <td>14</td>\n",
       "      <td>11</td>\n",
       "      <td>16</td>\n",
       "    </tr>\n",
       "    <tr>\n",
       "      <th>4</th>\n",
       "      <td>1</td>\n",
       "      <td>1</td>\n",
       "      <td>None</td>\n",
       "      <td>advanced_agent</td>\n",
       "      <td>chess.engine.SimpleEngine.popen_uci(\"./stockfi...</td>\n",
       "      <td>False</td>\n",
       "      <td>checkmate: Black wins!</td>\n",
       "      <td>18</td>\n",
       "      <td>10</td>\n",
       "      <td>14</td>\n",
       "    </tr>\n",
       "    <tr>\n",
       "      <th>2</th>\n",
       "      <td>1</td>\n",
       "      <td>1</td>\n",
       "      <td>None</td>\n",
       "      <td>naive_agent</td>\n",
       "      <td>chess.engine.SimpleEngine.popen_uci(\"./stockfi...</td>\n",
       "      <td>False</td>\n",
       "      <td>checkmate: Black wins!</td>\n",
       "      <td>20</td>\n",
       "      <td>11</td>\n",
       "      <td>15</td>\n",
       "    </tr>\n",
       "    <tr>\n",
       "      <th>1</th>\n",
       "      <td>1</td>\n",
       "      <td>1</td>\n",
       "      <td>None</td>\n",
       "      <td>improved_random_agent</td>\n",
       "      <td>chess.engine.SimpleEngine.popen_uci(\"./stockfi...</td>\n",
       "      <td>False</td>\n",
       "      <td>checkmate: Black wins!</td>\n",
       "      <td>24</td>\n",
       "      <td>14</td>\n",
       "      <td>13</td>\n",
       "    </tr>\n",
       "    <tr>\n",
       "      <th>0</th>\n",
       "      <td>1</td>\n",
       "      <td>1</td>\n",
       "      <td>None</td>\n",
       "      <td>random_agent</td>\n",
       "      <td>chess.engine.SimpleEngine.popen_uci(\"./stockfi...</td>\n",
       "      <td>False</td>\n",
       "      <td>checkmate: Black wins!</td>\n",
       "      <td>26</td>\n",
       "      <td>11</td>\n",
       "      <td>16</td>\n",
       "    </tr>\n",
       "    <tr>\n",
       "      <th>13</th>\n",
       "      <td>1</td>\n",
       "      <td>1</td>\n",
       "      <td>1</td>\n",
       "      <td>improved_alpha-beta_minimax_agent</td>\n",
       "      <td>chess.engine.SimpleEngine.popen_uci(\"./stockfi...</td>\n",
       "      <td>False</td>\n",
       "      <td>checkmate: Black wins!</td>\n",
       "      <td>28</td>\n",
       "      <td>12</td>\n",
       "      <td>14</td>\n",
       "    </tr>\n",
       "    <tr>\n",
       "      <th>5</th>\n",
       "      <td>1</td>\n",
       "      <td>1</td>\n",
       "      <td>1</td>\n",
       "      <td>naive_minimax_agent</td>\n",
       "      <td>chess.engine.SimpleEngine.popen_uci(\"./stockfi...</td>\n",
       "      <td>False</td>\n",
       "      <td>checkmate: Black wins!</td>\n",
       "      <td>30</td>\n",
       "      <td>15</td>\n",
       "      <td>15</td>\n",
       "    </tr>\n",
       "    <tr>\n",
       "      <th>15</th>\n",
       "      <td>1</td>\n",
       "      <td>1</td>\n",
       "      <td>1</td>\n",
       "      <td>advanced_alpha-beta_minimax_agent</td>\n",
       "      <td>chess.engine.SimpleEngine.popen_uci(\"./stockfi...</td>\n",
       "      <td>False</td>\n",
       "      <td>checkmate: Black wins!</td>\n",
       "      <td>30</td>\n",
       "      <td>10</td>\n",
       "      <td>12</td>\n",
       "    </tr>\n",
       "    <tr>\n",
       "      <th>6</th>\n",
       "      <td>1</td>\n",
       "      <td>1</td>\n",
       "      <td>2</td>\n",
       "      <td>naive_minimax_agent</td>\n",
       "      <td>chess.engine.SimpleEngine.popen_uci(\"./stockfi...</td>\n",
       "      <td>False</td>\n",
       "      <td>checkmate: Black wins!</td>\n",
       "      <td>34</td>\n",
       "      <td>12</td>\n",
       "      <td>14</td>\n",
       "    </tr>\n",
       "    <tr>\n",
       "      <th>11</th>\n",
       "      <td>1</td>\n",
       "      <td>1</td>\n",
       "      <td>1</td>\n",
       "      <td>naive_alpha-beta_minimax_agent</td>\n",
       "      <td>chess.engine.SimpleEngine.popen_uci(\"./stockfi...</td>\n",
       "      <td>False</td>\n",
       "      <td>checkmate: Black wins!</td>\n",
       "      <td>34</td>\n",
       "      <td>15</td>\n",
       "      <td>15</td>\n",
       "    </tr>\n",
       "    <tr>\n",
       "      <th>8</th>\n",
       "      <td>1</td>\n",
       "      <td>1</td>\n",
       "      <td>2</td>\n",
       "      <td>improved_minimax_agent</td>\n",
       "      <td>chess.engine.SimpleEngine.popen_uci(\"./stockfi...</td>\n",
       "      <td>False</td>\n",
       "      <td>checkmate: Black wins!</td>\n",
       "      <td>40</td>\n",
       "      <td>12</td>\n",
       "      <td>14</td>\n",
       "    </tr>\n",
       "    <tr>\n",
       "      <th>9</th>\n",
       "      <td>1</td>\n",
       "      <td>1</td>\n",
       "      <td>1</td>\n",
       "      <td>advanced_minimax_agent</td>\n",
       "      <td>chess.engine.SimpleEngine.popen_uci(\"./stockfi...</td>\n",
       "      <td>False</td>\n",
       "      <td>checkmate: Black wins!</td>\n",
       "      <td>42</td>\n",
       "      <td>6</td>\n",
       "      <td>12</td>\n",
       "    </tr>\n",
       "    <tr>\n",
       "      <th>12</th>\n",
       "      <td>1</td>\n",
       "      <td>1</td>\n",
       "      <td>2</td>\n",
       "      <td>naive_alpha-beta_minimax_agent</td>\n",
       "      <td>chess.engine.SimpleEngine.popen_uci(\"./stockfi...</td>\n",
       "      <td>False</td>\n",
       "      <td>checkmate: Black wins!</td>\n",
       "      <td>46</td>\n",
       "      <td>6</td>\n",
       "      <td>11</td>\n",
       "    </tr>\n",
       "    <tr>\n",
       "      <th>10</th>\n",
       "      <td>1</td>\n",
       "      <td>1</td>\n",
       "      <td>2</td>\n",
       "      <td>advanced_minimax_agent</td>\n",
       "      <td>chess.engine.SimpleEngine.popen_uci(\"./stockfi...</td>\n",
       "      <td>False</td>\n",
       "      <td>checkmate: Black wins!</td>\n",
       "      <td>54</td>\n",
       "      <td>7</td>\n",
       "      <td>10</td>\n",
       "    </tr>\n",
       "    <tr>\n",
       "      <th>7</th>\n",
       "      <td>1</td>\n",
       "      <td>1</td>\n",
       "      <td>1</td>\n",
       "      <td>improved_minimax_agent</td>\n",
       "      <td>chess.engine.SimpleEngine.popen_uci(\"./stockfi...</td>\n",
       "      <td>False</td>\n",
       "      <td>checkmate: Black wins!</td>\n",
       "      <td>58</td>\n",
       "      <td>6</td>\n",
       "      <td>11</td>\n",
       "    </tr>\n",
       "  </tbody>\n",
       "</table>\n",
       "</div>"
      ],
      "text/plain": [
       "   round_num iterations depth                        white agent  \\\n",
       "3          1          1  None                     improved_agent   \n",
       "14         1          1     2  improved_alpha-beta_minimax_agent   \n",
       "4          1          1  None                     advanced_agent   \n",
       "2          1          1  None                        naive_agent   \n",
       "1          1          1  None              improved_random_agent   \n",
       "0          1          1  None                       random_agent   \n",
       "13         1          1     1  improved_alpha-beta_minimax_agent   \n",
       "5          1          1     1                naive_minimax_agent   \n",
       "15         1          1     1  advanced_alpha-beta_minimax_agent   \n",
       "6          1          1     2                naive_minimax_agent   \n",
       "11         1          1     1     naive_alpha-beta_minimax_agent   \n",
       "8          1          1     2             improved_minimax_agent   \n",
       "9          1          1     1             advanced_minimax_agent   \n",
       "12         1          1     2     naive_alpha-beta_minimax_agent   \n",
       "10         1          1     2             advanced_minimax_agent   \n",
       "7          1          1     1             improved_minimax_agent   \n",
       "\n",
       "                                          black agent white_victory  \\\n",
       "3   chess.engine.SimpleEngine.popen_uci(\"./stockfi...         False   \n",
       "14  chess.engine.SimpleEngine.popen_uci(\"./stockfi...         False   \n",
       "4   chess.engine.SimpleEngine.popen_uci(\"./stockfi...         False   \n",
       "2   chess.engine.SimpleEngine.popen_uci(\"./stockfi...         False   \n",
       "1   chess.engine.SimpleEngine.popen_uci(\"./stockfi...         False   \n",
       "0   chess.engine.SimpleEngine.popen_uci(\"./stockfi...         False   \n",
       "13  chess.engine.SimpleEngine.popen_uci(\"./stockfi...         False   \n",
       "5   chess.engine.SimpleEngine.popen_uci(\"./stockfi...         False   \n",
       "15  chess.engine.SimpleEngine.popen_uci(\"./stockfi...         False   \n",
       "6   chess.engine.SimpleEngine.popen_uci(\"./stockfi...         False   \n",
       "11  chess.engine.SimpleEngine.popen_uci(\"./stockfi...         False   \n",
       "8   chess.engine.SimpleEngine.popen_uci(\"./stockfi...         False   \n",
       "9   chess.engine.SimpleEngine.popen_uci(\"./stockfi...         False   \n",
       "12  chess.engine.SimpleEngine.popen_uci(\"./stockfi...         False   \n",
       "10  chess.engine.SimpleEngine.popen_uci(\"./stockfi...         False   \n",
       "7   chess.engine.SimpleEngine.popen_uci(\"./stockfi...         False   \n",
       "\n",
       "                    winner moves_played remain_w_pieces remaining_b_pieces  \n",
       "3   checkmate: Black wins!            6              15                 15  \n",
       "14  checkmate: Black wins!           14              11                 16  \n",
       "4   checkmate: Black wins!           18              10                 14  \n",
       "2   checkmate: Black wins!           20              11                 15  \n",
       "1   checkmate: Black wins!           24              14                 13  \n",
       "0   checkmate: Black wins!           26              11                 16  \n",
       "13  checkmate: Black wins!           28              12                 14  \n",
       "5   checkmate: Black wins!           30              15                 15  \n",
       "15  checkmate: Black wins!           30              10                 12  \n",
       "6   checkmate: Black wins!           34              12                 14  \n",
       "11  checkmate: Black wins!           34              15                 15  \n",
       "8   checkmate: Black wins!           40              12                 14  \n",
       "9   checkmate: Black wins!           42               6                 12  \n",
       "12  checkmate: Black wins!           46               6                 11  \n",
       "10  checkmate: Black wins!           54               7                 10  \n",
       "7   checkmate: Black wins!           58               6                 11  "
      ]
     },
     "execution_count": 88,
     "metadata": {},
     "output_type": "execute_result"
    }
   ],
   "source": [
    "scoreboard.sort_values(by=['moves_played'], inplace=False, ascending=True)"
   ]
  },
  {
   "cell_type": "markdown",
   "metadata": {},
   "source": [
    "## Advanced Mini-Max with Alpha-Beta-Pruning Agent (Depth 2) vs Stockfish"
   ]
  },
  {
   "cell_type": "code",
   "execution_count": 89,
   "metadata": {
    "pycharm": {
     "is_executing": true,
     "name": "#%%\n"
    }
   },
   "outputs": [],
   "source": [
    "game = ai.Game()\n",
    "white = ai.MiniMaxAgent(max_depth=2, heuristic=\"advanced\", type=\"alpha-beta\")\n",
    "black = STOCKFISH_PATH\n",
    "\n",
    "results = game.run_engine(white, black, NUM_ITERATIONS, visual=None)"
   ]
  },
  {
   "cell_type": "code",
   "execution_count": 90,
   "metadata": {
    "pycharm": {
     "is_executing": true,
     "name": "#%%\n"
    }
   },
   "outputs": [],
   "source": [
    "df = pd.DataFrame(data=results,columns=COLUMNS)"
   ]
  },
  {
   "cell_type": "code",
   "execution_count": 91,
   "metadata": {
    "pycharm": {
     "is_executing": true,
     "name": "#%%\n"
    }
   },
   "outputs": [],
   "source": [
    "#update the scoreboard\n",
    "scoreboard = scoreboard.append(df, ignore_index=True)"
   ]
  },
  {
   "cell_type": "markdown",
   "metadata": {},
   "source": [
    "### Overall Scoreboard by moves played ascending"
   ]
  },
  {
   "cell_type": "code",
   "execution_count": 92,
   "metadata": {
    "pycharm": {
     "is_executing": true,
     "name": "#%%\n"
    }
   },
   "outputs": [
    {
     "data": {
      "text/html": [
       "<div>\n",
       "<style scoped>\n",
       "    .dataframe tbody tr th:only-of-type {\n",
       "        vertical-align: middle;\n",
       "    }\n",
       "\n",
       "    .dataframe tbody tr th {\n",
       "        vertical-align: top;\n",
       "    }\n",
       "\n",
       "    .dataframe thead th {\n",
       "        text-align: right;\n",
       "    }\n",
       "</style>\n",
       "<table border=\"1\" class=\"dataframe\">\n",
       "  <thead>\n",
       "    <tr style=\"text-align: right;\">\n",
       "      <th></th>\n",
       "      <th>round_num</th>\n",
       "      <th>iterations</th>\n",
       "      <th>depth</th>\n",
       "      <th>white agent</th>\n",
       "      <th>black agent</th>\n",
       "      <th>white_victory</th>\n",
       "      <th>winner</th>\n",
       "      <th>moves_played</th>\n",
       "      <th>remain_w_pieces</th>\n",
       "      <th>remaining_b_pieces</th>\n",
       "    </tr>\n",
       "  </thead>\n",
       "  <tbody>\n",
       "    <tr>\n",
       "      <th>3</th>\n",
       "      <td>1</td>\n",
       "      <td>1</td>\n",
       "      <td>None</td>\n",
       "      <td>improved_agent</td>\n",
       "      <td>chess.engine.SimpleEngine.popen_uci(\"./stockfi...</td>\n",
       "      <td>False</td>\n",
       "      <td>checkmate: Black wins!</td>\n",
       "      <td>6</td>\n",
       "      <td>15</td>\n",
       "      <td>15</td>\n",
       "    </tr>\n",
       "    <tr>\n",
       "      <th>14</th>\n",
       "      <td>1</td>\n",
       "      <td>1</td>\n",
       "      <td>2</td>\n",
       "      <td>improved_alpha-beta_minimax_agent</td>\n",
       "      <td>chess.engine.SimpleEngine.popen_uci(\"./stockfi...</td>\n",
       "      <td>False</td>\n",
       "      <td>checkmate: Black wins!</td>\n",
       "      <td>14</td>\n",
       "      <td>11</td>\n",
       "      <td>16</td>\n",
       "    </tr>\n",
       "    <tr>\n",
       "      <th>4</th>\n",
       "      <td>1</td>\n",
       "      <td>1</td>\n",
       "      <td>None</td>\n",
       "      <td>advanced_agent</td>\n",
       "      <td>chess.engine.SimpleEngine.popen_uci(\"./stockfi...</td>\n",
       "      <td>False</td>\n",
       "      <td>checkmate: Black wins!</td>\n",
       "      <td>18</td>\n",
       "      <td>10</td>\n",
       "      <td>14</td>\n",
       "    </tr>\n",
       "    <tr>\n",
       "      <th>2</th>\n",
       "      <td>1</td>\n",
       "      <td>1</td>\n",
       "      <td>None</td>\n",
       "      <td>naive_agent</td>\n",
       "      <td>chess.engine.SimpleEngine.popen_uci(\"./stockfi...</td>\n",
       "      <td>False</td>\n",
       "      <td>checkmate: Black wins!</td>\n",
       "      <td>20</td>\n",
       "      <td>11</td>\n",
       "      <td>15</td>\n",
       "    </tr>\n",
       "    <tr>\n",
       "      <th>1</th>\n",
       "      <td>1</td>\n",
       "      <td>1</td>\n",
       "      <td>None</td>\n",
       "      <td>improved_random_agent</td>\n",
       "      <td>chess.engine.SimpleEngine.popen_uci(\"./stockfi...</td>\n",
       "      <td>False</td>\n",
       "      <td>checkmate: Black wins!</td>\n",
       "      <td>24</td>\n",
       "      <td>14</td>\n",
       "      <td>13</td>\n",
       "    </tr>\n",
       "    <tr>\n",
       "      <th>0</th>\n",
       "      <td>1</td>\n",
       "      <td>1</td>\n",
       "      <td>None</td>\n",
       "      <td>random_agent</td>\n",
       "      <td>chess.engine.SimpleEngine.popen_uci(\"./stockfi...</td>\n",
       "      <td>False</td>\n",
       "      <td>checkmate: Black wins!</td>\n",
       "      <td>26</td>\n",
       "      <td>11</td>\n",
       "      <td>16</td>\n",
       "    </tr>\n",
       "    <tr>\n",
       "      <th>13</th>\n",
       "      <td>1</td>\n",
       "      <td>1</td>\n",
       "      <td>1</td>\n",
       "      <td>improved_alpha-beta_minimax_agent</td>\n",
       "      <td>chess.engine.SimpleEngine.popen_uci(\"./stockfi...</td>\n",
       "      <td>False</td>\n",
       "      <td>checkmate: Black wins!</td>\n",
       "      <td>28</td>\n",
       "      <td>12</td>\n",
       "      <td>14</td>\n",
       "    </tr>\n",
       "    <tr>\n",
       "      <th>5</th>\n",
       "      <td>1</td>\n",
       "      <td>1</td>\n",
       "      <td>1</td>\n",
       "      <td>naive_minimax_agent</td>\n",
       "      <td>chess.engine.SimpleEngine.popen_uci(\"./stockfi...</td>\n",
       "      <td>False</td>\n",
       "      <td>checkmate: Black wins!</td>\n",
       "      <td>30</td>\n",
       "      <td>15</td>\n",
       "      <td>15</td>\n",
       "    </tr>\n",
       "    <tr>\n",
       "      <th>15</th>\n",
       "      <td>1</td>\n",
       "      <td>1</td>\n",
       "      <td>1</td>\n",
       "      <td>advanced_alpha-beta_minimax_agent</td>\n",
       "      <td>chess.engine.SimpleEngine.popen_uci(\"./stockfi...</td>\n",
       "      <td>False</td>\n",
       "      <td>checkmate: Black wins!</td>\n",
       "      <td>30</td>\n",
       "      <td>10</td>\n",
       "      <td>12</td>\n",
       "    </tr>\n",
       "    <tr>\n",
       "      <th>11</th>\n",
       "      <td>1</td>\n",
       "      <td>1</td>\n",
       "      <td>1</td>\n",
       "      <td>naive_alpha-beta_minimax_agent</td>\n",
       "      <td>chess.engine.SimpleEngine.popen_uci(\"./stockfi...</td>\n",
       "      <td>False</td>\n",
       "      <td>checkmate: Black wins!</td>\n",
       "      <td>34</td>\n",
       "      <td>15</td>\n",
       "      <td>15</td>\n",
       "    </tr>\n",
       "    <tr>\n",
       "      <th>16</th>\n",
       "      <td>1</td>\n",
       "      <td>1</td>\n",
       "      <td>2</td>\n",
       "      <td>advanced_alpha-beta_minimax_agent</td>\n",
       "      <td>chess.engine.SimpleEngine.popen_uci(\"./stockfi...</td>\n",
       "      <td>False</td>\n",
       "      <td>checkmate: Black wins!</td>\n",
       "      <td>34</td>\n",
       "      <td>10</td>\n",
       "      <td>13</td>\n",
       "    </tr>\n",
       "    <tr>\n",
       "      <th>6</th>\n",
       "      <td>1</td>\n",
       "      <td>1</td>\n",
       "      <td>2</td>\n",
       "      <td>naive_minimax_agent</td>\n",
       "      <td>chess.engine.SimpleEngine.popen_uci(\"./stockfi...</td>\n",
       "      <td>False</td>\n",
       "      <td>checkmate: Black wins!</td>\n",
       "      <td>34</td>\n",
       "      <td>12</td>\n",
       "      <td>14</td>\n",
       "    </tr>\n",
       "    <tr>\n",
       "      <th>8</th>\n",
       "      <td>1</td>\n",
       "      <td>1</td>\n",
       "      <td>2</td>\n",
       "      <td>improved_minimax_agent</td>\n",
       "      <td>chess.engine.SimpleEngine.popen_uci(\"./stockfi...</td>\n",
       "      <td>False</td>\n",
       "      <td>checkmate: Black wins!</td>\n",
       "      <td>40</td>\n",
       "      <td>12</td>\n",
       "      <td>14</td>\n",
       "    </tr>\n",
       "    <tr>\n",
       "      <th>9</th>\n",
       "      <td>1</td>\n",
       "      <td>1</td>\n",
       "      <td>1</td>\n",
       "      <td>advanced_minimax_agent</td>\n",
       "      <td>chess.engine.SimpleEngine.popen_uci(\"./stockfi...</td>\n",
       "      <td>False</td>\n",
       "      <td>checkmate: Black wins!</td>\n",
       "      <td>42</td>\n",
       "      <td>6</td>\n",
       "      <td>12</td>\n",
       "    </tr>\n",
       "    <tr>\n",
       "      <th>12</th>\n",
       "      <td>1</td>\n",
       "      <td>1</td>\n",
       "      <td>2</td>\n",
       "      <td>naive_alpha-beta_minimax_agent</td>\n",
       "      <td>chess.engine.SimpleEngine.popen_uci(\"./stockfi...</td>\n",
       "      <td>False</td>\n",
       "      <td>checkmate: Black wins!</td>\n",
       "      <td>46</td>\n",
       "      <td>6</td>\n",
       "      <td>11</td>\n",
       "    </tr>\n",
       "    <tr>\n",
       "      <th>10</th>\n",
       "      <td>1</td>\n",
       "      <td>1</td>\n",
       "      <td>2</td>\n",
       "      <td>advanced_minimax_agent</td>\n",
       "      <td>chess.engine.SimpleEngine.popen_uci(\"./stockfi...</td>\n",
       "      <td>False</td>\n",
       "      <td>checkmate: Black wins!</td>\n",
       "      <td>54</td>\n",
       "      <td>7</td>\n",
       "      <td>10</td>\n",
       "    </tr>\n",
       "    <tr>\n",
       "      <th>7</th>\n",
       "      <td>1</td>\n",
       "      <td>1</td>\n",
       "      <td>1</td>\n",
       "      <td>improved_minimax_agent</td>\n",
       "      <td>chess.engine.SimpleEngine.popen_uci(\"./stockfi...</td>\n",
       "      <td>False</td>\n",
       "      <td>checkmate: Black wins!</td>\n",
       "      <td>58</td>\n",
       "      <td>6</td>\n",
       "      <td>11</td>\n",
       "    </tr>\n",
       "  </tbody>\n",
       "</table>\n",
       "</div>"
      ],
      "text/plain": [
       "   round_num iterations depth                        white agent  \\\n",
       "3          1          1  None                     improved_agent   \n",
       "14         1          1     2  improved_alpha-beta_minimax_agent   \n",
       "4          1          1  None                     advanced_agent   \n",
       "2          1          1  None                        naive_agent   \n",
       "1          1          1  None              improved_random_agent   \n",
       "0          1          1  None                       random_agent   \n",
       "13         1          1     1  improved_alpha-beta_minimax_agent   \n",
       "5          1          1     1                naive_minimax_agent   \n",
       "15         1          1     1  advanced_alpha-beta_minimax_agent   \n",
       "11         1          1     1     naive_alpha-beta_minimax_agent   \n",
       "16         1          1     2  advanced_alpha-beta_minimax_agent   \n",
       "6          1          1     2                naive_minimax_agent   \n",
       "8          1          1     2             improved_minimax_agent   \n",
       "9          1          1     1             advanced_minimax_agent   \n",
       "12         1          1     2     naive_alpha-beta_minimax_agent   \n",
       "10         1          1     2             advanced_minimax_agent   \n",
       "7          1          1     1             improved_minimax_agent   \n",
       "\n",
       "                                          black agent white_victory  \\\n",
       "3   chess.engine.SimpleEngine.popen_uci(\"./stockfi...         False   \n",
       "14  chess.engine.SimpleEngine.popen_uci(\"./stockfi...         False   \n",
       "4   chess.engine.SimpleEngine.popen_uci(\"./stockfi...         False   \n",
       "2   chess.engine.SimpleEngine.popen_uci(\"./stockfi...         False   \n",
       "1   chess.engine.SimpleEngine.popen_uci(\"./stockfi...         False   \n",
       "0   chess.engine.SimpleEngine.popen_uci(\"./stockfi...         False   \n",
       "13  chess.engine.SimpleEngine.popen_uci(\"./stockfi...         False   \n",
       "5   chess.engine.SimpleEngine.popen_uci(\"./stockfi...         False   \n",
       "15  chess.engine.SimpleEngine.popen_uci(\"./stockfi...         False   \n",
       "11  chess.engine.SimpleEngine.popen_uci(\"./stockfi...         False   \n",
       "16  chess.engine.SimpleEngine.popen_uci(\"./stockfi...         False   \n",
       "6   chess.engine.SimpleEngine.popen_uci(\"./stockfi...         False   \n",
       "8   chess.engine.SimpleEngine.popen_uci(\"./stockfi...         False   \n",
       "9   chess.engine.SimpleEngine.popen_uci(\"./stockfi...         False   \n",
       "12  chess.engine.SimpleEngine.popen_uci(\"./stockfi...         False   \n",
       "10  chess.engine.SimpleEngine.popen_uci(\"./stockfi...         False   \n",
       "7   chess.engine.SimpleEngine.popen_uci(\"./stockfi...         False   \n",
       "\n",
       "                    winner moves_played remain_w_pieces remaining_b_pieces  \n",
       "3   checkmate: Black wins!            6              15                 15  \n",
       "14  checkmate: Black wins!           14              11                 16  \n",
       "4   checkmate: Black wins!           18              10                 14  \n",
       "2   checkmate: Black wins!           20              11                 15  \n",
       "1   checkmate: Black wins!           24              14                 13  \n",
       "0   checkmate: Black wins!           26              11                 16  \n",
       "13  checkmate: Black wins!           28              12                 14  \n",
       "5   checkmate: Black wins!           30              15                 15  \n",
       "15  checkmate: Black wins!           30              10                 12  \n",
       "11  checkmate: Black wins!           34              15                 15  \n",
       "16  checkmate: Black wins!           34              10                 13  \n",
       "6   checkmate: Black wins!           34              12                 14  \n",
       "8   checkmate: Black wins!           40              12                 14  \n",
       "9   checkmate: Black wins!           42               6                 12  \n",
       "12  checkmate: Black wins!           46               6                 11  \n",
       "10  checkmate: Black wins!           54               7                 10  \n",
       "7   checkmate: Black wins!           58               6                 11  "
      ]
     },
     "execution_count": 92,
     "metadata": {},
     "output_type": "execute_result"
    }
   ],
   "source": [
    "scoreboard.sort_values(by=['moves_played'], inplace=False, ascending=True)"
   ]
  },
  {
   "cell_type": "markdown",
   "metadata": {},
   "source": [
    "## Advanced Mini-Max with Alpha-Beta-Pruning Agent (Depth 3) vs Stockfish"
   ]
  },
  {
   "cell_type": "code",
   "execution_count": 93,
   "metadata": {
    "pycharm": {
     "is_executing": true,
     "name": "#%%\n"
    }
   },
   "outputs": [],
   "source": [
    "# game = ai.Game()\n",
    "# white = ai.MiniMaxAgent(max_depth=3, heuristic=\"advanced\", type=\"alpha-beta\")\n",
    "# black = STOCKFISH_PATH\n",
    "# \n",
    "# results = game.run_engine(white, black, NUM_ITERATIONS, visual=None)"
   ]
  },
  {
   "cell_type": "code",
   "execution_count": 94,
   "metadata": {
    "pycharm": {
     "is_executing": true,
     "name": "#%%\n"
    }
   },
   "outputs": [],
   "source": [
    "# df = pd.DataFrame(data=results,columns=COLUMNS)"
   ]
  },
  {
   "cell_type": "code",
   "execution_count": 95,
   "metadata": {
    "pycharm": {
     "is_executing": true,
     "name": "#%%\n"
    }
   },
   "outputs": [],
   "source": [
    "#update the scoreboard\n",
    "# scoreboard = scoreboard.append(df, ignore_index=True)"
   ]
  },
  {
   "cell_type": "markdown",
   "metadata": {},
   "source": [
    "### Overall Scoreboard by moves played ascending"
   ]
  },
  {
   "cell_type": "code",
   "execution_count": 96,
   "metadata": {
    "pycharm": {
     "is_executing": true,
     "name": "#%%\n"
    }
   },
   "outputs": [],
   "source": [
    "# scoreboard.sort_values(by=['moves_played'], inplace=False, ascending=True)"
   ]
  }
 ],
 "metadata": {
  "kernelspec": {
   "display_name": "Python 3",
   "language": "python",
   "name": "python3"
  },
  "language_info": {
   "codemirror_mode": {
    "name": "ipython",
    "version": 3
   },
   "file_extension": ".py",
   "mimetype": "text/x-python",
   "name": "python",
   "nbconvert_exporter": "python",
   "pygments_lexer": "ipython3",
   "version": "3.7.5"
  },
  "pycharm": {
   "stem_cell": {
    "cell_type": "raw",
    "metadata": {
     "collapsed": false
    },
    "source": []
   }
  }
 },
 "nbformat": 4,
 "nbformat_minor": 1
}
