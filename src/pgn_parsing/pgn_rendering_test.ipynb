{
 "cells": [
  {
   "cell_type": "code",
   "execution_count": 1,
   "metadata": {
    "pycharm": {
     "is_executing": false
    }
   },
   "outputs": [],
   "source": [
    "import chess\n",
    "import chess.engine\n",
    "import chess.pgn\n",
    "import time\n",
    "import random\n",
    "\n",
    "from IPython.display import display, HTML, clear_output"
   ]
  },
  {
   "cell_type": "code",
   "execution_count": 2,
   "metadata": {
    "pycharm": {
     "is_executing": false,
     "name": "#%%\n"
    }
   },
   "outputs": [],
   "source": [
    "def display_board(board, use_svg):\n",
    "    \"\"\"\n",
    "    Displays the chess board.\n",
    "    :param board: a python-chess board.\n",
    "    :param use_svg: boolean if visual html animation of board active.\n",
    "    :return: str representation of html formatted board for display.\n",
    "    \"\"\"\n",
    "\n",
    "    if use_svg:\n",
    "        return board._repr_svg_()\n",
    "    else:\n",
    "        return \"<pre>\" + str(board) + \"</pre>\""
   ]
  },
  {
   "cell_type": "code",
   "execution_count": 3,
   "metadata": {
    "pycharm": {
     "is_executing": false,
     "name": "#%%\n"
    }
   },
   "outputs": [],
   "source": [
    "def who(agent):\n",
    "    \"\"\"\n",
    "    Checks if player agent is white or black.\n",
    "    :param agent: a python-chess player.\n",
    "    :return: str representation of agent's color.\n",
    "    \"\"\"\n",
    "\n",
    "    return \"White\" if agent == chess.WHITE else \"Black\""
   ]
  },
  {
   "cell_type": "code",
   "execution_count": 4,
   "metadata": {
    "pycharm": {
     "is_executing": false,
     "name": "#%%\n"
    }
   },
   "outputs": [],
   "source": [
    "def get_move(prompt):\n",
    "    \"\"\"\n",
    "    Obtains available moves.\n",
    "    :param prompt: keyboard interrupt prompt to halt active game.\n",
    "    :return: str representation of Universal Chess Interface (UCI) move.\n",
    "    \"\"\"\n",
    "\n",
    "    uci = input(prompt)\n",
    "    if uci and uci[0] == \"q\":\n",
    "        raise KeyboardInterrupt()\n",
    "    try:\n",
    "        chess.Move.from_uci(uci)\n",
    "    except:\n",
    "        uci = None\n",
    "    return uci"
   ]
  },
  {
   "cell_type": "code",
   "execution_count": 5,
   "metadata": {
    "pycharm": {
     "is_executing": false,
     "name": "#%%\n"
    }
   },
   "outputs": [],
   "source": [
    "def count_pieces(board):\n",
    "    \"\"\"\n",
    "    Tallies the white and black players pieces.\n",
    "    :param board: a python-chess board.\n",
    "    :return: arr[int, int] representation of number of pieces on board where\n",
    "            arr[0] is white and arr[1] is black.\n",
    "    \"\"\"\n",
    "    num_pieces = [0, 0]\n",
    "\n",
    "    num_pieces[0] += len(board.pieces(chess.PAWN, chess.WHITE))\n",
    "    num_pieces[0] += len(board.pieces(chess.BISHOP, chess.WHITE))\n",
    "    num_pieces[0] += len(board.pieces(chess.KING, chess.WHITE))\n",
    "    num_pieces[0] += len(board.pieces(chess.QUEEN, chess.WHITE))\n",
    "    num_pieces[0] += len(board.pieces(chess.KNIGHT, chess.WHITE))\n",
    "    num_pieces[0] += len(board.pieces(chess.ROOK, chess.WHITE))\n",
    "\n",
    "    num_pieces[1] += len(board.pieces(chess.PAWN, chess.BLACK))\n",
    "    num_pieces[1] += len(board.pieces(chess.BISHOP, chess.BLACK))\n",
    "    num_pieces[1] += len(board.pieces(chess.KING, chess.BLACK))\n",
    "    num_pieces[1] += len(board.pieces(chess.QUEEN, chess.BLACK))\n",
    "    num_pieces[1] += len(board.pieces(chess.KNIGHT, chess.BLACK))\n",
    "    num_pieces[1] += len(board.pieces(chess.ROOK, chess.BLACK))\n",
    "\n",
    "    return num_pieces\n",
    " "
   ]
  },
  {
   "cell_type": "code",
   "execution_count": 6,
   "metadata": {
    "pycharm": {
     "name": "#%%\n"
    }
   },
   "outputs": [],
   "source": [
    "def random_agent(board, node):\n",
    "    move = random.choice(list(board.legal_moves))\n",
    "    node.add_variation(board.push_uci(move))\n",
    "    # node.comment = \"Comment\"\n",
    "   \n",
    "    return move.uci()"
   ]
  },
  {
   "cell_type": "code",
   "execution_count": 7,
   "metadata": {
    "pycharm": {
     "is_executing": false,
     "name": "#%%\n"
    }
   },
   "outputs": [],
   "source": [
    "# Modified play_game function takes in a stockfish engine and lets stockfish play against itself, 100 milliseconds \n",
    "# per move with svg visualization\n",
    "\n",
    "def play_game(\n",
    "              agent1,\n",
    "              agent2,\n",
    "              uci_start_state=None,\n",
    "              visual=\"svg\",\n",
    "              pause=0.001):\n",
    "# def play_game(\n",
    "#               engine,\n",
    "#               uci_start_state=None,\n",
    "#               visual=\"svg\",\n",
    "#               pause=0.001):\n",
    "\n",
    "    game = chess.pgn.Game()\n",
    "    # game.headers[\"Event\"] = \"Example\"\n",
    "   \n",
    "    use_svg = (visual == \"svg\")\n",
    "\n",
    "    if uci_start_state is None:\n",
    "        board = chess.Board()\n",
    "    else:\n",
    "        board = chess.Board(uci_start_state)\n",
    "    \n",
    "    node = game.add_main_variation()\n",
    "    try:\n",
    "        while not board.is_game_over(claim_draw=True):\n",
    "            if board.turn == chess.WHITE:\n",
    "                uci = agent1(board, node)\n",
    "            else:\n",
    "                uci = agent2(board, node)\n",
    "        # while not board.is_game_over():\n",
    "             \n",
    "        #     result = engine.play(board, chess.engine.Limit(time=0.1))\n",
    "        #     name = who(board.turn)\n",
    "        #     board.push(result.move)\n",
    "        #     board_stop = display_board(board, use_svg)\n",
    "        #     \n",
    "        #     html = \"<b>Move %s, Play '%s':</b><br/>%s\" % (len(board.move_stack), name, board_stop)\n",
    "        #     if visual is not None:\n",
    "        #         if visual == \"svg\":\n",
    "        #             clear_output(wait=True)\n",
    "        #         display(HTML(html))\n",
    "        #         if visual == \"svg\":\n",
    "        #             time.sleep(pause)\n",
    "        # engine.quit()\n",
    "        \n",
    "            name = who(board.turn)\n",
    "            \n",
    "\n",
    "            board_stop = display_board(board, use_svg)\n",
    "            html = \"<b>Move %s %s, Play '%s':</b><br/>%s\" % (\n",
    "                len(board.move_stack), name, uci, board_stop)\n",
    "            if visual is not None:\n",
    "                if visual == \"svg\":\n",
    "                    clear_output(wait=True)\n",
    "                display(HTML(html))\n",
    "                if visual == \"svg\":\n",
    "                    time.sleep(pause)\n",
    "    except KeyboardInterrupt:\n",
    "        msg = \"Game interrupted!\"\n",
    "        return (False, msg, board)\n",
    "    game_has_winner = False\n",
    "    if board.is_checkmate():\n",
    "        msg = \"checkmate: \" + who(not board.turn) + \" wins!\"\n",
    "        game_has_winner = not board.turn\n",
    "    elif board.is_stalemate():\n",
    "        msg = \"draw: stalemate\"\n",
    "    elif board.is_fivefold_repetition():\n",
    "        msg = \"draw: 5-fold repetition\"\n",
    "    elif board.is_insufficient_material():\n",
    "        msg = \"draw: insufficient material\"\n",
    "    elif board.can_claim_draw():\n",
    "        msg = \"draw: claim\"\n",
    "    if visual is not None:\n",
    "        print(msg)\n",
    "\n",
    "    return (game_has_winner, msg, board)"
   ]
  },
  {
   "cell_type": "code",
   "execution_count": 8,
   "metadata": {
    "pycharm": {
     "is_executing": false,
     "name": "#%%\n"
    }
   },
   "outputs": [],
   "source": [
    "\n",
    "# pgn = open(\"data/pgn/kasparov-deep-blue-1997.pgn\", encoding=\"utf-8-sig\")\n",
    "\n",
    "# first_game = chess.pgn.read_game(pgn)\n",
    "# second_game = chess.pgn.read_game(pgn)\n",
    "\n",
    "# first_game.headers[\"Event\"]\n",
    "\n",
    "# # Iterate through all moves and play them on a board.\n",
    "# board = first_game.board()\n",
    "# for move in first_game.mainline_moves():\n",
    "#      board.push(move)\n",
    "     \n",
    "# # Board('4r3/6P1/2p2P1k/1p6/pP2p1R1/P1B5/2P2K2/3r4 b - - 0 45')"
   ]
  },
  {
   "cell_type": "code",
   "execution_count": 9,
   "metadata": {
    "pycharm": {
     "is_executing": false,
     "name": "#%%\n"
    }
   },
   "outputs": [],
   "source": [
    "# pgn = io.StringIO(\"1. e4 e5 2. Nf3 *\")\n",
    "# game = chess.pgn.read_game(pgn)\n",
    "\n"
   ]
  },
  {
   "cell_type": "code",
   "execution_count": 10,
   "metadata": {},
   "outputs": [
    {
     "ename": "TypeError",
     "evalue": "add_main_variation() missing 1 required positional argument: 'move'",
     "output_type": "error",
     "traceback": [
      "\u001b[0;31m---------------------------------------------------------------------------\u001b[0m",
      "\u001b[0;31mTypeError\u001b[0m                                 Traceback (most recent call last)",
      "\u001b[0;32m<ipython-input-10-345ed0458946>\u001b[0m in \u001b[0;36m<module>\u001b[0;34m\u001b[0m\n\u001b[1;32m      4\u001b[0m               \u001b[0muci_start_state\u001b[0m\u001b[0;34m=\u001b[0m\u001b[0;32mNone\u001b[0m\u001b[0;34m,\u001b[0m\u001b[0;34m\u001b[0m\u001b[0;34m\u001b[0m\u001b[0m\n\u001b[1;32m      5\u001b[0m               \u001b[0mvisual\u001b[0m\u001b[0;34m=\u001b[0m\u001b[0;34m\"svg\"\u001b[0m\u001b[0;34m,\u001b[0m\u001b[0;34m\u001b[0m\u001b[0;34m\u001b[0m\u001b[0m\n\u001b[0;32m----> 6\u001b[0;31m               pause=0.001)\n\u001b[0m",
      "\u001b[0;32m<ipython-input-7-fefed6c0e853>\u001b[0m in \u001b[0;36mplay_game\u001b[0;34m(agent1, agent2, uci_start_state, visual, pause)\u001b[0m\n\u001b[1;32m     24\u001b[0m         \u001b[0mboard\u001b[0m \u001b[0;34m=\u001b[0m \u001b[0mchess\u001b[0m\u001b[0;34m.\u001b[0m\u001b[0mBoard\u001b[0m\u001b[0;34m(\u001b[0m\u001b[0muci_start_state\u001b[0m\u001b[0;34m)\u001b[0m\u001b[0;34m\u001b[0m\u001b[0;34m\u001b[0m\u001b[0m\n\u001b[1;32m     25\u001b[0m \u001b[0;34m\u001b[0m\u001b[0m\n\u001b[0;32m---> 26\u001b[0;31m     \u001b[0mnode\u001b[0m \u001b[0;34m=\u001b[0m \u001b[0mgame\u001b[0m\u001b[0;34m.\u001b[0m\u001b[0madd_main_variation\u001b[0m\u001b[0;34m(\u001b[0m\u001b[0;34m)\u001b[0m\u001b[0;34m\u001b[0m\u001b[0;34m\u001b[0m\u001b[0m\n\u001b[0m\u001b[1;32m     27\u001b[0m     \u001b[0;32mtry\u001b[0m\u001b[0;34m:\u001b[0m\u001b[0;34m\u001b[0m\u001b[0;34m\u001b[0m\u001b[0m\n\u001b[1;32m     28\u001b[0m         \u001b[0;32mwhile\u001b[0m \u001b[0;32mnot\u001b[0m \u001b[0mboard\u001b[0m\u001b[0;34m.\u001b[0m\u001b[0mis_game_over\u001b[0m\u001b[0;34m(\u001b[0m\u001b[0mclaim_draw\u001b[0m\u001b[0;34m=\u001b[0m\u001b[0;32mTrue\u001b[0m\u001b[0;34m)\u001b[0m\u001b[0;34m:\u001b[0m\u001b[0;34m\u001b[0m\u001b[0;34m\u001b[0m\u001b[0m\n",
      "\u001b[0;31mTypeError\u001b[0m: add_main_variation() missing 1 required positional argument: 'move'"
     ]
    }
   ],
   "source": [
    "play_game(\n",
    "              random_agent,\n",
    "              random_agent,\n",
    "              uci_start_state=None,\n",
    "              visual=\"svg\",\n",
    "              pause=0.001)"
   ]
  },
  {
   "cell_type": "code",
   "execution_count": null,
   "metadata": {
    "pycharm": {
     "is_executing": false,
     "name": "#%%\n"
    }
   },
   "outputs": [],
   "source": [
    "# Test UCI/XBoard engine communication using the stockfish executable compiled on Ubuntu 18.04.3 LTS with gcc/g++\n",
    "\n",
    "# engine = chess.engine.SimpleEngine.popen_uci(\"./stockfish\")\n",
    "# res1 = play_game(engine, uci_start_state=None, visual=\"svg\", pause=0.001)"
   ]
  },
  {
   "cell_type": "code",
   "execution_count": null,
   "metadata": {
    "pycharm": {
     "is_executing": false,
     "name": "#%%\n"
    }
   },
   "outputs": [],
   "source": [
    "# Test UCI/XBoard engine communication using the stockfish executable compiled on Ubuntu 18.04.3 LTS with gcc/g++,\n",
    "# giving the engine a FEN start state \n",
    "\n",
    "# engine2 = chess.engine.SimpleEngine.popen_uci(\"./stockfish\")\n",
    "# res2 = play_game(engine2, uci_start_state=\"QN4n1/6r1/3k4/8/b2K4/8/8/8 b - - 0 1\", visual=\"svg\", pause=0.001)"
   ]
  },
  {
   "cell_type": "code",
   "execution_count": null,
   "metadata": {
    "pycharm": {
     "is_executing": false,
     "name": "#%%\n"
    }
   },
   "outputs": [],
   "source": [
    "# Modified play_game function takes in a stockfish engine and lets stockfish play against itself, 100 milliseconds \n",
    "# per move with svg visualization\n",
    "\n",
    "# async def play_game(\n",
    "#               transport,\n",
    "#               engine,\n",
    "#               uci_start_state=None,\n",
    "#               visual=\"svg\",\n",
    "#               pause=0.001):\n",
    "# \n",
    "#     use_svg = (visual == \"svg\")\n",
    "# \n",
    "#     if uci_start_state is None:\n",
    "#         board = chess.Board()\n",
    "#     else:\n",
    "#         board = chess.Board(uci_start_state)\n",
    "#     try:\n",
    "#         while not board.is_game_over():\n",
    "#             \n",
    "#             result = await engine.play(board, chess.engine.Limit(time=0.1))\n",
    "#             name = who(board.turn)\n",
    "#             board.push(result.move)\n",
    "#             board_stop = display_board(board, use_svg)\n",
    "#             \n",
    "#             html = \"<b>Move %s, Play '%s':</b><br/>%s\" % (len(board.move_stack), name, board_stop)\n",
    "#             if visual is not None:\n",
    "#                 if visual == \"svg\":\n",
    "#                     clear_output(wait=True)\n",
    "#                 display(HTML(html))\n",
    "#                 if visual == \"svg\":\n",
    "#                     time.sleep(pause)\n",
    "#         await engine.quit()\n",
    "#     except KeyboardInterrupt:\n",
    "#         msg = \"Game interrupted!\"\n",
    "#         return (False, msg, board)\n",
    "#     game_has_winner = False\n",
    "#     if board.is_checkmate():\n",
    "#         msg = \"checkmate: \" + who(not board.turn) + \" wins!\"\n",
    "#         game_has_winner = not board.turn\n",
    "#     elif board.is_stalemate():\n",
    "#         msg = \"draw: stalemate\"\n",
    "#     elif board.is_fivefold_repetition():\n",
    "#         msg = \"draw: 5-fold repetition\"\n",
    "#     elif board.is_insufficient_material():\n",
    "#         msg = \"draw: insufficient material\"\n",
    "#     elif board.can_claim_draw():\n",
    "#         msg = \"draw: claim\"\n",
    "#     if visual is not None:\n",
    "#         print(msg)\n",
    "# \n",
    "#     return (game_has_winner, msg, board)\n"
   ]
  },
  {
   "cell_type": "code",
   "execution_count": null,
   "metadata": {
    "pycharm": {
     "is_executing": false,
     "name": "#%%\n"
    }
   },
   "outputs": [],
   "source": [
    "# Test UCI/XBoard engine communication using the stockfish executable compiled on Ubuntu 18.04.3 LTS with gcc/g++\n",
    "\n",
    "# transport, engine3 = await chess.engine.popen_uci(\"./stockfish\")\n",
    "# asyncio.set_event_loop_policy(chess.engine.EventLoopPolicy())\n",
    "# # asyncio.run(play_game(transport, engine3, uci_start_state=None, visual=\"svg\", pause=0.001))\n",
    "# res1 = play_game(engine3, uci_start_state=None, visual=\"svg\", pause=0.001)\n"
   ]
  },
  {
   "cell_type": "code",
   "execution_count": 11,
   "metadata": {
    "pycharm": {
     "is_executing": false,
     "name": "#%%\n"
    }
   },
   "outputs": [
    {
     "ename": "SyntaxError",
     "evalue": "invalid syntax (<ipython-input-11-6908c724668d>, line 3)",
     "output_type": "error",
     "traceback": [
      "\u001b[0;36m  File \u001b[0;32m\"<ipython-input-11-6908c724668d>\"\u001b[0;36m, line \u001b[0;32m3\u001b[0m\n\u001b[0;31m    import chess.uciboard = chess.Board()\u001b[0m\n\u001b[0m                          ^\u001b[0m\n\u001b[0;31mSyntaxError\u001b[0m\u001b[0;31m:\u001b[0m invalid syntax\n"
     ]
    }
   ],
   "source": [
    "import chess\n",
    "import chess.pgn\n",
    "import chess.uciboard = chess.Board()\n",
    "pgn = open(\"data/game1.pgn\")\n",
    "game = chess.pgn.read_game(pgn)engine = chess.uci.popen_engine(\"stockfish\")\n",
    "engine.uci()\n",
    "info_handler = chess.uci.InfoHandler()\n",
    "engine.info_handlers.append(info_handler)for move in game.main_line():engine.position(board)\n",
    " engine.go(movetime=2000)\n",
    " evaluation = info_handler.info[\"score\"][1].cpif not board.turn:\n",
    "  evaluation *= -1\n",
    " \n",
    " print move\n",
    " print evaluation\n",
    " board.push_uci(move.uci())\n",
    " print board"
   ]
  },
  {
   "cell_type": "code",
   "execution_count": null,
   "metadata": {},
   "outputs": [],
   "source": []
  }
 ],
 "metadata": {
  "kernelspec": {
   "display_name": "Python 3",
   "language": "python",
   "name": "python3"
  },
  "language_info": {
   "codemirror_mode": {
    "name": "ipython",
    "version": 3
   },
   "file_extension": ".py",
   "mimetype": "text/x-python",
   "name": "python",
   "nbconvert_exporter": "python",
   "pygments_lexer": "ipython3",
   "version": "3.7.5"
  },
  "pycharm": {
   "stem_cell": {
    "cell_type": "raw",
    "metadata": {
     "collapsed": false
    },
    "source": []
   }
  }
 },
 "nbformat": 4,
 "nbformat_minor": 1
}
