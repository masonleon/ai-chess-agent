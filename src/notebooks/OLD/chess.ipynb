{
 "cells": [
  {
   "cell_type": "code",
   "execution_count": 1,
   "metadata": {},
   "outputs": [
    {
     "data": {
      "text/html": [
       "<!DOCTYPE html>\n",
       "<html lang=\"en\">\n",
       "<head>\n",
       "    <meta charset=\"UTF-8\">\n",
       "    <link rel=\"stylesheet\" href=\"lib/chessboardjs/css/chessboard-0.3.0.css\">\n",
       "    <link rel=\"stylesheet\" href=\"style.css\">\n",
       "</head>\n",
       "<body>\n",
       "<div id=\"board\" class=\"board\"></div>\n",
       "<div class=\"info\">\n",
       "    Search depth:\n",
       "    <select id=\"search-depth\">\n",
       "        <option value=\"1\">1</option>\n",
       "        <option value=\"2\">2</option>\n",
       "        <option value=\"3\" selected>3</option>\n",
       "        <option value=\"4\">4</option>\n",
       "        <option value=\"5\">5</option>\n",
       "    </select>\n",
       "\n",
       "    <br>\n",
       "    <span>Positions evaluated: <span id=\"position-count\"></span></span>\n",
       "    <br>\n",
       "    <span>Time: <span id=\"time\"></span></span>\n",
       "    <br>\n",
       "    <span>Positions/s: <span id=\"positions-per-s\"></span> </span>\n",
       "    <br>\n",
       "    <br>\n",
       "    <div id=\"move-history\" class=\"move-history\">\n",
       "    </div>\n",
       "</div>\n",
       "<script src=\"lib/jquery/jquery-3.2.1.min.js\"></script>\n",
       "<script src=\"lib/chessboardjs/js/chess.js\"></script>\n",
       "<script src=\"lib/chessboardjs/js/chessboard-0.3.0.js\"></script>\n",
       "<script src=\"script.js\"></script>\n",
       "<script>\n",
       "\n",
       "</script>\n",
       "</body>\n",
       "</html>\n"
      ],
      "text/plain": [
       "<IPython.core.display.HTML object>"
      ]
     },
     "metadata": {},
     "output_type": "execute_result"
    }
   ],
   "source": [
    "%%HTML\n",
    "<!DOCTYPE html>\n",
    "<html lang=\"en\">\n",
    "<head>\n",
    "    <meta charset=\"UTF-8\">\n",
    "    <link rel=\"stylesheet\" href=\"lib/chessboardjs/css/chessboard-0.3.0.css\">\n",
    "    <link rel=\"stylesheet\" href=\"style.css\">\n",
    "</head>\n",
    "<body>\n",
    "<div id=\"board\" class=\"board\"></div>\n",
    "<div class=\"info\">\n",
    "    Search depth:\n",
    "    <select id=\"search-depth\">\n",
    "        <option value=\"1\">1</option>\n",
    "        <option value=\"2\">2</option>\n",
    "        <option value=\"3\" selected>3</option>\n",
    "        <option value=\"4\">4</option>\n",
    "        <option value=\"5\">5</option>\n",
    "    </select>\n",
    "\n",
    "    <br>\n",
    "    <span>Positions evaluated: <span id=\"position-count\"></span></span>\n",
    "    <br>\n",
    "    <span>Time: <span id=\"time\"></span></span>\n",
    "    <br>\n",
    "    <span>Positions/s: <span id=\"positions-per-s\"></span> </span>\n",
    "    <br>\n",
    "    <br>\n",
    "    <div id=\"move-history\" class=\"move-history\">\n",
    "    </div>\n",
    "</div>\n",
    "<script src=\"lib/jquery/jquery-3.2.1.min.js\"></script>\n",
    "<script src=\"lib/chessboardjs/js/chess.js\"></script>\n",
    "<script src=\"lib/chessboardjs/js/chessboard-0.3.0.js\"></script>\n",
    "<script src=\"script.js\"></script>\n",
    "<script>\n",
    "\n",
    "</script>\n",
    "</body>\n",
    "</html>"
   ]
  },
  {
   "cell_type": "code",
   "execution_count": null,
   "metadata": {},
   "outputs": [],
   "source": [
    "from IPython.core.display import HTML\n",
    "HTML(index.html)"
   ]
  },
  {
   "cell_type": "code",
   "execution_count": null,
   "metadata": {},
   "outputs": [],
   "source": [
    "%load \"./index.html\""
   ]
  },
  {
   "cell_type": "code",
   "execution_count": null,
   "metadata": {},
   "outputs": [],
   "source": [
    "import os\n"
   ]
  },
  {
   "cell_type": "code",
   "execution_count": null,
   "metadata": {},
   "outputs": [],
   "source": [
    "cd = os.getcwd()"
   ]
  },
  {
   "cell_type": "code",
   "execution_count": null,
   "metadata": {},
   "outputs": [],
   "source": [
    "print(cd)"
   ]
  },
  {
   "cell_type": "code",
   "execution_count": 2,
   "metadata": {},
   "outputs": [
    {
     "data": {
      "text/plain": [
       "<IPython.core.display.Javascript object>"
      ]
     },
     "metadata": {},
     "output_type": "display_data"
    }
   ],
   "source": [
    "%%javascript\n",
    "var board,\n",
    "    game = new Chess();\n",
    "\n",
    "/*The \"AI\" part starts here */\n",
    "\n",
    "var minimaxRoot =function(depth, game, isMaximisingPlayer) {\n",
    "\n",
    "    var newGameMoves = game.ugly_moves();\n",
    "    var bestMove = -9999;\n",
    "    var bestMoveFound;\n",
    "\n",
    "    for(var i = 0; i < newGameMoves.length; i++) {\n",
    "        var newGameMove = newGameMoves[i]\n",
    "        game.ugly_move(newGameMove);\n",
    "        var value = minimax(depth - 1, game, -10000, 10000, !isMaximisingPlayer);\n",
    "        game.undo();\n",
    "        if(value >= bestMove) {\n",
    "            bestMove = value;\n",
    "            bestMoveFound = newGameMove;\n",
    "        }\n",
    "    }\n",
    "    return bestMoveFound;\n",
    "};\n"
   ]
  },
  {
   "cell_type": "code",
   "execution_count": null,
   "metadata": {},
   "outputs": [],
   "source": []
  }
 ],
 "metadata": {
  "kernelspec": {
   "display_name": "Python 3",
   "language": "python",
   "name": "python3"
  },
  "language_info": {
   "codemirror_mode": {
    "name": "ipython",
    "version": 3
   },
   "file_extension": ".py",
   "mimetype": "text/x-python",
   "name": "python",
   "nbconvert_exporter": "python",
   "pygments_lexer": "ipython3",
   "version": "3.7.4"
  }
 },
 "nbformat": 4,
 "nbformat_minor": 4
}
