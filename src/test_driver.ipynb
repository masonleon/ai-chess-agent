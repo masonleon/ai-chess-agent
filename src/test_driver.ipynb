{
 "cells": [
  {
   "cell_type": "code",
   "execution_count": null,
   "metadata": {
    "pycharm": {
     "is_executing": false
    }
   },
   "outputs": [],
   "source": [
    "import time\n",
    "import chess\n",
    "from IPython.display import display, HTML, clear_output\n",
    "import numpy as np\n",
    "import pandas as pd\n",
    "import timeit\n",
    "import random"
   ]
  },
  {
   "cell_type": "markdown",
   "metadata": {},
   "source": [
    "# AI Chess Agent Project"
   ]
  },
  {
   "cell_type": "code",
   "execution_count": null,
   "metadata": {
    "collapsed": false,
    "jupyter": {
     "outputs_hidden": false
    },
    "pycharm": {
     "is_executing": false,
     "name": "#%%\n"
    }
   },
   "outputs": [],
   "source": [
    "import ai_chess as ai"
   ]
  },
  {
   "cell_type": "code",
   "execution_count": null,
   "metadata": {},
   "outputs": [],
   "source": [
    "NUM_ITERATIONS = 1\n",
    "COLUMNS = ['round_num','iterations','white agent','black agent','white_victory','winner','moves_played','remain_w_pieces','remaining_b_pieces']"
   ]
  },
  {
   "cell_type": "markdown",
   "metadata": {},
   "source": [
    "### Results Scoreboard"
   ]
  },
  {
   "cell_type": "code",
   "execution_count": null,
   "metadata": {},
   "outputs": [],
   "source": [
    "scoreboard = pd.DataFrame(columns=COLUMNS)"
   ]
  },
  {
   "cell_type": "markdown",
   "metadata": {},
   "source": [
    "## Random vs Random"
   ]
  },
  {
   "cell_type": "code",
   "execution_count": null,
   "metadata": {},
   "outputs": [],
   "source": [
    "game = ai.Game()\n",
    "white = ai.RandomAgent()\n",
    "black = ai.RandomAgent()\n",
    "\n",
    "results = game.run(white, black, NUM_ITERATIONS)\n",
    "\n",
    "df = pd.DataFrame(data=results,columns=COLUMNS)\n",
    "\n",
    "# this series by moves played ascending\n",
    "df.sort_values(by=['moves_played'], inplace=False, ascending=True)"
   ]
  },
  {
   "cell_type": "code",
   "execution_count": null,
   "metadata": {},
   "outputs": [],
   "source": [
    "#update the scoreboard\n",
    "scoreboard.append(df, ignore_index=True)"
   ]
  },
  {
   "cell_type": "markdown",
   "metadata": {},
   "source": [
    "## Improved Random vs Random"
   ]
  },
  {
   "cell_type": "code",
   "execution_count": null,
   "metadata": {},
   "outputs": [],
   "source": [
    "game = ai.Game()\n",
    "white = ai.RandomAgent(\"improved\")\n",
    "black = ai.RandomAgent()\n",
    "\n",
    "results = game.run(white, black, NUM_ITERATIONS)\n",
    "\n",
    "df = pd.DataFrame(data=results,columns=COLUMNS)\n",
    "\n",
    "# this series by moves played ascending\n",
    "df.sort_values(by=['moves_played'], inplace=False, ascending=True)"
   ]
  },
  {
   "cell_type": "code",
   "execution_count": null,
   "metadata": {},
   "outputs": [],
   "source": [
    "#update the scoreboard\n",
    "scoreboard.append(df, ignore_index=True)"
   ]
  },
  {
   "cell_type": "markdown",
   "metadata": {},
   "source": [
    "### Overall Scoreboard by moves played ascending"
   ]
  },
  {
   "cell_type": "code",
   "execution_count": null,
   "metadata": {},
   "outputs": [],
   "source": [
    "scoreboard.sort_values(by=['moves_played'], inplace=False, ascending=True)"
   ]
  },
  {
   "cell_type": "markdown",
   "metadata": {},
   "source": [
    "## Naive vs Random"
   ]
  },
  {
   "cell_type": "code",
   "execution_count": null,
   "metadata": {},
   "outputs": [],
   "source": [
    "game = ai.Game()\n",
    "white = ai.NaiveAgent()\n",
    "black = ai.RandomAgent()\n",
    "\n",
    "results = game.run(white, black, NUM_ITERATIONS)\n",
    "\n",
    "df = pd.DataFrame(data=results,columns=COLUMNS)\n",
    "\n",
    "# this series by moves played ascending\n",
    "df.sort_values(by=['moves_played'], inplace=False, ascending=True)"
   ]
  },
  {
   "cell_type": "code",
   "execution_count": null,
   "metadata": {},
   "outputs": [],
   "source": [
    "#update the scoreboard\n",
    "scoreboard.append(df, ignore_index=True)"
   ]
  },
  {
   "cell_type": "markdown",
   "metadata": {},
   "source": [
    "### Overall Scoreboard by moves played ascending"
   ]
  },
  {
   "cell_type": "code",
   "execution_count": null,
   "metadata": {},
   "outputs": [],
   "source": [
    "scoreboard.sort_values(by=['moves_played'], inplace=False, ascending=True)"
   ]
  },
  {
   "cell_type": "markdown",
   "metadata": {},
   "source": [
    "## Improved Naive vs Random"
   ]
  },
  {
   "cell_type": "code",
   "execution_count": null,
   "metadata": {},
   "outputs": [],
   "source": [
    "game = ai.Game()\n",
    "white = ai.NaiveAgent(\"improved\")\n",
    "black = ai.RandomAgent()\n",
    "\n",
    "results = game.run(white, black, NUM_ITERATIONS)\n",
    "\n",
    "df = pd.DataFrame(data=results,columns=COLUMNS)\n",
    "\n",
    "# this series by moves played ascending\n",
    "df.sort_values(by=['moves_played'], inplace=False, ascending=True)"
   ]
  },
  {
   "cell_type": "code",
   "execution_count": null,
   "metadata": {},
   "outputs": [],
   "source": [
    "#update the scoreboard\n",
    "scoreboard.append(df, ignore_index=True)"
   ]
  },
  {
   "cell_type": "markdown",
   "metadata": {},
   "source": [
    "### Overall Scoreboard by moves played ascending"
   ]
  },
  {
   "cell_type": "code",
   "execution_count": null,
   "metadata": {},
   "outputs": [],
   "source": [
    "scoreboard.sort_values(by=['moves_played'], inplace=False, ascending=True)"
   ]
  },
  {
   "cell_type": "markdown",
   "metadata": {},
   "source": [
    "## Naive Mini-Max (Depth 1) vs Random"
   ]
  },
  {
   "cell_type": "code",
   "execution_count": null,
   "metadata": {},
   "outputs": [],
   "source": [
    "game = ai.Game()\n",
    "white = ai.MiniMaxAgent(max_depth=1)\n",
    "black = ai.RandomAgent()\n",
    "\n",
    "results = game.run(white, black, NUM_ITERATIONS)\n",
    "\n",
    "df = pd.DataFrame(data=results,columns=COLUMNS)\n",
    "\n",
    "# this series by moves played ascending\n",
    "df.sort_values(by=['moves_played'], inplace=False, ascending=True)"
   ]
  },
  {
   "cell_type": "code",
   "execution_count": null,
   "metadata": {},
   "outputs": [],
   "source": [
    "#update the scoreboard\n",
    "scoreboard.append(df, ignore_index=True)"
   ]
  },
  {
   "cell_type": "markdown",
   "metadata": {},
   "source": [
    "### Overall Scoreboard by moves played ascending"
   ]
  },
  {
   "cell_type": "code",
   "execution_count": null,
   "metadata": {},
   "outputs": [],
   "source": [
    "scoreboard.sort_values(by=['moves_played'], inplace=False, ascending=True)"
   ]
  },
  {
   "cell_type": "markdown",
   "metadata": {},
   "source": [
    "## Naive Mini-Max (Depth 2) vs Random"
   ]
  },
  {
   "cell_type": "code",
   "execution_count": null,
   "metadata": {},
   "outputs": [],
   "source": [
    "game = ai.Game()\n",
    "white = ai.MiniMaxAgent(max_depth=1)\n",
    "black = ai.RandomAgent()\n",
    "\n",
    "results = game.run(white, black, NUM_ITERATIONS)\n",
    "\n",
    "df = pd.DataFrame(data=results,columns=COLUMNS)\n",
    "\n",
    "# this series by moves played ascending\n",
    "df.sort_values(by=['moves_played'], inplace=False, ascending=True)"
   ]
  },
  {
   "cell_type": "code",
   "execution_count": null,
   "metadata": {},
   "outputs": [],
   "source": [
    "#update the scoreboard\n",
    "scoreboard.append(df, ignore_index=True)"
   ]
  },
  {
   "cell_type": "markdown",
   "metadata": {},
   "source": [
    "### Overall Scoreboard by moves played ascending"
   ]
  },
  {
   "cell_type": "code",
   "execution_count": null,
   "metadata": {},
   "outputs": [],
   "source": [
    "scoreboard.sort_values(by=['moves_played'], inplace=False, ascending=True)"
   ]
  },
  {
   "cell_type": "markdown",
   "metadata": {},
   "source": [
    "## Naive Mini-Max (Depth 3) vs Random"
   ]
  },
  {
   "cell_type": "code",
   "execution_count": null,
   "metadata": {},
   "outputs": [],
   "source": [
    "game = ai.Game()\n",
    "white = ai.MiniMaxAgent(max_depth=3)\n",
    "black = ai.RandomAgent()\n",
    "\n",
    "results = game.run(white, black, NUM_ITERATIONS)\n",
    "\n",
    "df = pd.DataFrame(data=results,columns=COLUMNS)\n",
    "\n",
    "# this series by moves played ascending\n",
    "df.sort_values(by=['moves_played'], inplace=False, ascending=True)"
   ]
  },
  {
   "cell_type": "code",
   "execution_count": null,
   "metadata": {},
   "outputs": [],
   "source": [
    "#update the scoreboard\n",
    "scoreboard.append(df, ignore_index=True)"
   ]
  },
  {
   "cell_type": "markdown",
   "metadata": {},
   "source": [
    "### Overall Scoreboard by moves played ascending"
   ]
  },
  {
   "cell_type": "code",
   "execution_count": null,
   "metadata": {},
   "outputs": [],
   "source": [
    "scoreboard.sort_values(by=['moves_played'], inplace=False, ascending=True)"
   ]
  },
  {
   "cell_type": "markdown",
   "metadata": {},
   "source": [
    "## Improved Mini-Max (Depth 1) vs Random"
   ]
  },
  {
   "cell_type": "code",
   "execution_count": null,
   "metadata": {},
   "outputs": [],
   "source": [
    "game = ai.Game()\n",
    "white = ai.MiniMaxAgent(max_depth=1, heuristic=\"improved\")\n",
    "black = ai.RandomAgent()\n",
    "\n",
    "results = game.run(white, black, NUM_ITERATIONS)\n",
    "\n",
    "df = pd.DataFrame(data=results,columns=COLUMNS)\n",
    "\n",
    "# this series by moves played ascending\n",
    "df.sort_values(by=['moves_played'], inplace=False, ascending=True)"
   ]
  },
  {
   "cell_type": "code",
   "execution_count": null,
   "metadata": {},
   "outputs": [],
   "source": [
    "#update the scoreboard\n",
    "scoreboard.append(df, ignore_index=True)"
   ]
  },
  {
   "cell_type": "markdown",
   "metadata": {},
   "source": [
    "### Overall Scoreboard by moves played ascending"
   ]
  },
  {
   "cell_type": "code",
   "execution_count": null,
   "metadata": {},
   "outputs": [],
   "source": [
    "scoreboard.sort_values(by=['moves_played'], inplace=False, ascending=True)"
   ]
  },
  {
   "cell_type": "markdown",
   "metadata": {},
   "source": [
    "## Improved Mini-Max (Depth 2) vs Random"
   ]
  },
  {
   "cell_type": "code",
   "execution_count": null,
   "metadata": {},
   "outputs": [],
   "source": [
    "game = ai.Game()\n",
    "white = ai.MiniMaxAgent(max_depth=2, heuristic=\"improved\")\n",
    "black = ai.RandomAgent()\n",
    "\n",
    "results = game.run(white, black, NUM_ITERATIONS)\n",
    "\n",
    "df = pd.DataFrame(data=results,columns=COLUMNS)\n",
    "\n",
    "# this series by moves played ascending\n",
    "df.sort_values(by=['moves_played'], inplace=False, ascending=True)"
   ]
  },
  {
   "cell_type": "code",
   "execution_count": null,
   "metadata": {},
   "outputs": [],
   "source": [
    "#update the scoreboard\n",
    "scoreboard.append(df, ignore_index=True)"
   ]
  },
  {
   "cell_type": "markdown",
   "metadata": {},
   "source": [
    "### Overall Scoreboard by moves played ascending"
   ]
  },
  {
   "cell_type": "code",
   "execution_count": null,
   "metadata": {},
   "outputs": [],
   "source": [
    "scoreboard.sort_values(by=['moves_played'], inplace=False, ascending=True)"
   ]
  },
  {
   "cell_type": "markdown",
   "metadata": {},
   "source": [
    "## Improved Mini-Max (Depth 3) vs Random"
   ]
  },
  {
   "cell_type": "code",
   "execution_count": null,
   "metadata": {},
   "outputs": [],
   "source": [
    "game = ai.Game()\n",
    "white = ai.MiniMaxAgent(max_depth=3, heuristic=\"improved\")\n",
    "black = ai.RandomAgent()\n",
    "\n",
    "results = game.run(white, black, NUM_ITERATIONS)\n",
    "\n",
    "df = pd.DataFrame(data=results,columns=COLUMNS)\n",
    "\n",
    "# this series by moves played ascending\n",
    "df.sort_values(by=['moves_played'], inplace=False, ascending=True)"
   ]
  },
  {
   "cell_type": "code",
   "execution_count": null,
   "metadata": {},
   "outputs": [],
   "source": [
    "#update the scoreboard\n",
    "scoreboard.append(df, ignore_index=True)"
   ]
  },
  {
   "cell_type": "markdown",
   "metadata": {},
   "source": [
    "### Overall Scoreboard by moves played ascending"
   ]
  },
  {
   "cell_type": "code",
   "execution_count": null,
   "metadata": {},
   "outputs": [],
   "source": [
    "scoreboard.sort_values(by=['moves_played'], inplace=False, ascending=True)"
   ]
  },
  {
   "cell_type": "markdown",
   "metadata": {},
   "source": [
    "## Naive Mini-Max with Piece-Square Tables (Depth 1) vs Random"
   ]
  },
  {
   "cell_type": "markdown",
   "metadata": {},
   "source": [
    "## Naive Mini-Max with Piece-Square Tables (Depth 2) vs Random"
   ]
  },
  {
   "cell_type": "markdown",
   "metadata": {},
   "source": [
    "## Naive Mini-Max with Piece-Square Tables (Depth 3) vs Random"
   ]
  },
  {
   "cell_type": "markdown",
   "metadata": {},
   "source": [
    "## Improved Mini-Max with Piece-Square Tables (Depth 1) vs Random"
   ]
  },
  {
   "cell_type": "markdown",
   "metadata": {},
   "source": [
    "## Improved Mini-Max with Piece-Square Tables (Depth 2) vs Random"
   ]
  },
  {
   "cell_type": "markdown",
   "metadata": {},
   "source": [
    "## Improved Mini-Max with Piece-Square Tables (Depth 3) vs Random"
   ]
  },
  {
   "cell_type": "markdown",
   "metadata": {},
   "source": [
    "## Naive Mini-Max with Alpha-Beta-Pruning (Depth 1) vs Random"
   ]
  },
  {
   "cell_type": "markdown",
   "metadata": {},
   "source": [
    "## Naive Mini-Max with Alpha-Beta-Pruning (Depth 2) vs Random"
   ]
  },
  {
   "cell_type": "markdown",
   "metadata": {},
   "source": [
    "## Naive Mini-Max with Alpha-Beta-Pruning (Depth 3) vs Random"
   ]
  },
  {
   "cell_type": "markdown",
   "metadata": {},
   "source": [
    "## Improved Mini-Max with Alpha-Beta-Pruning (Depth 1) vs Random"
   ]
  },
  {
   "cell_type": "markdown",
   "metadata": {},
   "source": [
    "## Improved Mini-Max with Alpha-Beta-Pruning (Depth 2) vs Random"
   ]
  },
  {
   "cell_type": "markdown",
   "metadata": {},
   "source": [
    "## Improved Mini-Max with Alpha-Beta-Pruning (Depth 3) vs Random"
   ]
  },
  {
   "cell_type": "markdown",
   "metadata": {},
   "source": [
    "## Naive Mini-Max with Alpha-Beta-Pruning and Piece-Square Tables (Depth 1) vs Random"
   ]
  },
  {
   "cell_type": "markdown",
   "metadata": {},
   "source": [
    "## Naive Mini-Max with Alpha-Beta-Pruning and Piece-Square Tables (Depth 2) vs Random"
   ]
  },
  {
   "cell_type": "markdown",
   "metadata": {},
   "source": [
    "## Naive Mini-Max with Alpha-Beta-Pruning and Piece-Square Tables (Depth 3) vs Random"
   ]
  },
  {
   "cell_type": "markdown",
   "metadata": {},
   "source": [
    "## Improved Mini-Max with Alpha-Beta-Pruning and Piece-Square Tables (Depth 1) vs Random"
   ]
  },
  {
   "cell_type": "markdown",
   "metadata": {},
   "source": [
    "## Improved Mini-Max with Alpha-Beta-Pruning and Piece-Square Tables (Depth 2) vs Random"
   ]
  },
  {
   "cell_type": "markdown",
   "metadata": {},
   "source": [
    "## Improved Mini-Max with Alpha-Beta-Pruning and Piece-Square Tables (Depth 3) vs Random"
   ]
  }
 ],
 "metadata": {
  "kernelspec": {
   "display_name": "Python 3",
   "language": "python",
   "name": "python3"
  },
  "language_info": {
   "codemirror_mode": {
    "name": "ipython",
    "version": 3
   },
   "file_extension": ".py",
   "mimetype": "text/x-python",
   "name": "python",
   "nbconvert_exporter": "python",
   "pygments_lexer": "ipython3",
   "version": "3.7.4"
  },
  "pycharm": {
   "stem_cell": {
    "cell_type": "raw",
    "metadata": {
     "collapsed": false
    },
    "source": []
   }
  }
 },
 "nbformat": 4,
 "nbformat_minor": 4
}
