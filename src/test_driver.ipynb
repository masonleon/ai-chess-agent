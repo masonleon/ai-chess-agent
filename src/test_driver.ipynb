{
 "cells": [
  {
   "cell_type": "code",
   "execution_count": 1,
   "metadata": {
    "pycharm": {
     "is_executing": false
    }
   },
   "outputs": [],
   "source": [
    "import time\n",
    "import chess\n",
    "from IPython.display import display, HTML, clear_output\n",
    "import numpy as np\n",
    "import pandas as pd\n",
    "import timeit\n",
    "import random"
   ]
  },
  {
   "cell_type": "markdown",
   "metadata": {},
   "source": [
    "# AI Chess Agent Project"
   ]
  },
  {
   "cell_type": "code",
   "execution_count": 2,
   "metadata": {
    "jupyter": {
     "outputs_hidden": false
    },
    "pycharm": {
     "is_executing": false,
     "name": "#%%\n"
    }
   },
   "outputs": [],
   "source": [
    "import ai_chess as ai"
   ]
  },
  {
   "cell_type": "code",
   "execution_count": 3,
   "metadata": {
    "pycharm": {
     "is_executing": false
    }
   },
   "outputs": [],
   "source": [
    "NUM_ITERATIONS = 1\n",
    "COLUMNS = ['round_num','iterations','white agent','black agent','white_victory','winner','moves_played','remain_w_pieces','remaining_b_pieces']\n",
    "GRAPHICS = None"
   ]
  },
  {
   "cell_type": "markdown",
   "metadata": {},
   "source": [
    "### Results Scoreboard"
   ]
  },
  {
   "cell_type": "code",
   "execution_count": 4,
   "metadata": {
    "pycharm": {
     "is_executing": false
    }
   },
   "outputs": [],
   "source": [
    "scoreboard = pd.DataFrame(columns=COLUMNS)"
   ]
  },
  {
   "cell_type": "markdown",
   "metadata": {},
   "source": [
    "## Random vs Random"
   ]
  },
  {
   "cell_type": "code",
   "execution_count": 5,
   "metadata": {
    "pycharm": {
     "is_executing": false
    }
   },
   "outputs": [],
   "source": [
    "game = ai.Game()\n",
    "white = ai.RandomAgent()\n",
    "black = ai.RandomAgent()\n",
    "\n",
    "results = game.run(white, black, NUM_ITERATIONS, visual=None)"
   ]
  },
  {
   "cell_type": "code",
   "execution_count": 6,
   "metadata": {},
   "outputs": [],
   "source": [
    "df = pd.DataFrame(data=results,columns=COLUMNS)\n",
    "# this series by moves played ascending\n",
    "# df.sort_values(by=['moves_played'], inplace=False, ascending=True)"
   ]
  },
  {
   "cell_type": "code",
   "execution_count": 7,
   "metadata": {
    "pycharm": {
     "is_executing": false
    }
   },
   "outputs": [],
   "source": [
    "#update the scoreboard\n",
    "scoreboard = scoreboard.append(df, ignore_index=True)"
   ]
  },
  {
   "cell_type": "markdown",
   "metadata": {},
   "source": [
    "## Improved Random vs Random"
   ]
  },
  {
   "cell_type": "code",
   "execution_count": 8,
   "metadata": {
    "pycharm": {
     "is_executing": false
    }
   },
   "outputs": [],
   "source": [
    "game = ai.Game()\n",
    "white = ai.RandomAgent(\"improved\")\n",
    "black = ai.RandomAgent()\n",
    "\n",
    "results = game.run(white, black, NUM_ITERATIONS, visual=None)"
   ]
  },
  {
   "cell_type": "code",
   "execution_count": 9,
   "metadata": {},
   "outputs": [],
   "source": [
    "df = pd.DataFrame(data=results,columns=COLUMNS)\n",
    "# this series by moves played ascending\n",
    "# df.sort_values(by=['moves_played'], inplace=False, ascending=True)"
   ]
  },
  {
   "cell_type": "code",
   "execution_count": 10,
   "metadata": {
    "pycharm": {
     "is_executing": false
    }
   },
   "outputs": [],
   "source": [
    "#update the scoreboard\n",
    "scoreboard = scoreboard.append(df, ignore_index=True)"
   ]
  },
  {
   "cell_type": "markdown",
   "metadata": {},
   "source": [
    "### Overall Scoreboard by moves played ascending"
   ]
  },
  {
   "cell_type": "code",
   "execution_count": 11,
   "metadata": {
    "pycharm": {
     "is_executing": false
    }
   },
   "outputs": [
    {
     "data": {
      "text/html": [
       "<div>\n",
       "<style scoped>\n",
       "    .dataframe tbody tr th:only-of-type {\n",
       "        vertical-align: middle;\n",
       "    }\n",
       "\n",
       "    .dataframe tbody tr th {\n",
       "        vertical-align: top;\n",
       "    }\n",
       "\n",
       "    .dataframe thead th {\n",
       "        text-align: right;\n",
       "    }\n",
       "</style>\n",
       "<table border=\"1\" class=\"dataframe\">\n",
       "  <thead>\n",
       "    <tr style=\"text-align: right;\">\n",
       "      <th></th>\n",
       "      <th>round_num</th>\n",
       "      <th>iterations</th>\n",
       "      <th>white agent</th>\n",
       "      <th>black agent</th>\n",
       "      <th>white_victory</th>\n",
       "      <th>winner</th>\n",
       "      <th>moves_played</th>\n",
       "      <th>remain_w_pieces</th>\n",
       "      <th>remaining_b_pieces</th>\n",
       "    </tr>\n",
       "  </thead>\n",
       "  <tbody>\n",
       "    <tr>\n",
       "      <th>1</th>\n",
       "      <td>1</td>\n",
       "      <td>1</td>\n",
       "      <td>improved_random_agent</td>\n",
       "      <td>random_agent</td>\n",
       "      <td>False</td>\n",
       "      <td>draw: stalemate</td>\n",
       "      <td>77</td>\n",
       "      <td>14</td>\n",
       "      <td>1</td>\n",
       "    </tr>\n",
       "    <tr>\n",
       "      <th>0</th>\n",
       "      <td>1</td>\n",
       "      <td>1</td>\n",
       "      <td>random_agent</td>\n",
       "      <td>random_agent</td>\n",
       "      <td>False</td>\n",
       "      <td>draw: claim</td>\n",
       "      <td>355</td>\n",
       "      <td>3</td>\n",
       "      <td>4</td>\n",
       "    </tr>\n",
       "  </tbody>\n",
       "</table>\n",
       "</div>"
      ],
      "text/plain": [
       "  round_num iterations            white agent   black agent white_victory  \\\n",
       "1         1          1  improved_random_agent  random_agent         False   \n",
       "0         1          1           random_agent  random_agent         False   \n",
       "\n",
       "            winner moves_played remain_w_pieces remaining_b_pieces  \n",
       "1  draw: stalemate           77              14                  1  \n",
       "0      draw: claim          355               3                  4  "
      ]
     },
     "execution_count": 11,
     "metadata": {},
     "output_type": "execute_result"
    }
   ],
   "source": [
    "scoreboard.sort_values(by=['moves_played'], inplace=False, ascending=True)"
   ]
  },
  {
   "cell_type": "markdown",
   "metadata": {},
   "source": [
    "## Naive vs Random"
   ]
  },
  {
   "cell_type": "code",
   "execution_count": 12,
   "metadata": {
    "pycharm": {
     "is_executing": false
    }
   },
   "outputs": [],
   "source": [
    "game = ai.Game()\n",
    "white = ai.BaseAgent(heuristic=\"naive\")\n",
    "black = ai.RandomAgent()\n",
    "\n",
    "results = game.run(white, black, NUM_ITERATIONS, visual=None)"
   ]
  },
  {
   "cell_type": "code",
   "execution_count": 13,
   "metadata": {},
   "outputs": [],
   "source": [
    "df = pd.DataFrame(data=results,columns=COLUMNS)\n",
    "# this series by moves played ascending\n",
    "# df.sort_values(by=['moves_played'], inplace=False, ascending=True)"
   ]
  },
  {
   "cell_type": "code",
   "execution_count": 14,
   "metadata": {
    "pycharm": {
     "is_executing": false
    }
   },
   "outputs": [],
   "source": [
    "#update the scoreboard\n",
    "scoreboard = scoreboard.append(df, ignore_index=True)"
   ]
  },
  {
   "cell_type": "markdown",
   "metadata": {},
   "source": [
    "### Overall Scoreboard by moves played ascending"
   ]
  },
  {
   "cell_type": "code",
   "execution_count": 15,
   "metadata": {
    "pycharm": {
     "is_executing": false
    }
   },
   "outputs": [
    {
     "data": {
      "text/html": [
       "<div>\n",
       "<style scoped>\n",
       "    .dataframe tbody tr th:only-of-type {\n",
       "        vertical-align: middle;\n",
       "    }\n",
       "\n",
       "    .dataframe tbody tr th {\n",
       "        vertical-align: top;\n",
       "    }\n",
       "\n",
       "    .dataframe thead th {\n",
       "        text-align: right;\n",
       "    }\n",
       "</style>\n",
       "<table border=\"1\" class=\"dataframe\">\n",
       "  <thead>\n",
       "    <tr style=\"text-align: right;\">\n",
       "      <th></th>\n",
       "      <th>round_num</th>\n",
       "      <th>iterations</th>\n",
       "      <th>white agent</th>\n",
       "      <th>black agent</th>\n",
       "      <th>white_victory</th>\n",
       "      <th>winner</th>\n",
       "      <th>moves_played</th>\n",
       "      <th>remain_w_pieces</th>\n",
       "      <th>remaining_b_pieces</th>\n",
       "    </tr>\n",
       "  </thead>\n",
       "  <tbody>\n",
       "    <tr>\n",
       "      <th>1</th>\n",
       "      <td>1</td>\n",
       "      <td>1</td>\n",
       "      <td>improved_random_agent</td>\n",
       "      <td>random_agent</td>\n",
       "      <td>False</td>\n",
       "      <td>draw: stalemate</td>\n",
       "      <td>77</td>\n",
       "      <td>14</td>\n",
       "      <td>1</td>\n",
       "    </tr>\n",
       "    <tr>\n",
       "      <th>2</th>\n",
       "      <td>1</td>\n",
       "      <td>1</td>\n",
       "      <td>naive_agent</td>\n",
       "      <td>random_agent</td>\n",
       "      <td>False</td>\n",
       "      <td>draw: claim</td>\n",
       "      <td>81</td>\n",
       "      <td>15</td>\n",
       "      <td>1</td>\n",
       "    </tr>\n",
       "    <tr>\n",
       "      <th>0</th>\n",
       "      <td>1</td>\n",
       "      <td>1</td>\n",
       "      <td>random_agent</td>\n",
       "      <td>random_agent</td>\n",
       "      <td>False</td>\n",
       "      <td>draw: claim</td>\n",
       "      <td>355</td>\n",
       "      <td>3</td>\n",
       "      <td>4</td>\n",
       "    </tr>\n",
       "  </tbody>\n",
       "</table>\n",
       "</div>"
      ],
      "text/plain": [
       "  round_num iterations            white agent   black agent white_victory  \\\n",
       "1         1          1  improved_random_agent  random_agent         False   \n",
       "2         1          1            naive_agent  random_agent         False   \n",
       "0         1          1           random_agent  random_agent         False   \n",
       "\n",
       "            winner moves_played remain_w_pieces remaining_b_pieces  \n",
       "1  draw: stalemate           77              14                  1  \n",
       "2      draw: claim           81              15                  1  \n",
       "0      draw: claim          355               3                  4  "
      ]
     },
     "execution_count": 15,
     "metadata": {},
     "output_type": "execute_result"
    }
   ],
   "source": [
    "scoreboard.sort_values(by=['moves_played'], inplace=False, ascending=True)"
   ]
  },
  {
   "cell_type": "markdown",
   "metadata": {},
   "source": [
    "## Improved Naive vs Random"
   ]
  },
  {
   "cell_type": "code",
   "execution_count": 16,
   "metadata": {
    "pycharm": {
     "is_executing": false
    }
   },
   "outputs": [],
   "source": [
    "game = ai.Game()\n",
    "white = ai.BaseAgent(heuristic=\"improved\")\n",
    "black = ai.RandomAgent()\n",
    "\n",
    "results = game.run(white, black, NUM_ITERATIONS, visual=None)"
   ]
  },
  {
   "cell_type": "code",
   "execution_count": 17,
   "metadata": {},
   "outputs": [],
   "source": [
    "df = pd.DataFrame(data=results,columns=COLUMNS)\n",
    "# this series by moves played ascending\n",
    "# df.sort_values(by=['moves_played'], inplace=False, ascending=True)"
   ]
  },
  {
   "cell_type": "code",
   "execution_count": 18,
   "metadata": {
    "pycharm": {
     "is_executing": false
    }
   },
   "outputs": [],
   "source": [
    "#update the scoreboard\n",
    "scoreboard = scoreboard.append(df, ignore_index=True)"
   ]
  },
  {
   "cell_type": "markdown",
   "metadata": {},
   "source": [
    "### Overall Scoreboard by moves played ascending"
   ]
  },
  {
   "cell_type": "code",
   "execution_count": 19,
   "metadata": {
    "pycharm": {
     "is_executing": false
    }
   },
   "outputs": [
    {
     "data": {
      "text/html": [
       "<div>\n",
       "<style scoped>\n",
       "    .dataframe tbody tr th:only-of-type {\n",
       "        vertical-align: middle;\n",
       "    }\n",
       "\n",
       "    .dataframe tbody tr th {\n",
       "        vertical-align: top;\n",
       "    }\n",
       "\n",
       "    .dataframe thead th {\n",
       "        text-align: right;\n",
       "    }\n",
       "</style>\n",
       "<table border=\"1\" class=\"dataframe\">\n",
       "  <thead>\n",
       "    <tr style=\"text-align: right;\">\n",
       "      <th></th>\n",
       "      <th>round_num</th>\n",
       "      <th>iterations</th>\n",
       "      <th>white agent</th>\n",
       "      <th>black agent</th>\n",
       "      <th>white_victory</th>\n",
       "      <th>winner</th>\n",
       "      <th>moves_played</th>\n",
       "      <th>remain_w_pieces</th>\n",
       "      <th>remaining_b_pieces</th>\n",
       "    </tr>\n",
       "  </thead>\n",
       "  <tbody>\n",
       "    <tr>\n",
       "      <th>1</th>\n",
       "      <td>1</td>\n",
       "      <td>1</td>\n",
       "      <td>improved_random_agent</td>\n",
       "      <td>random_agent</td>\n",
       "      <td>False</td>\n",
       "      <td>draw: stalemate</td>\n",
       "      <td>77</td>\n",
       "      <td>14</td>\n",
       "      <td>1</td>\n",
       "    </tr>\n",
       "    <tr>\n",
       "      <th>2</th>\n",
       "      <td>1</td>\n",
       "      <td>1</td>\n",
       "      <td>naive_agent</td>\n",
       "      <td>random_agent</td>\n",
       "      <td>False</td>\n",
       "      <td>draw: claim</td>\n",
       "      <td>81</td>\n",
       "      <td>15</td>\n",
       "      <td>1</td>\n",
       "    </tr>\n",
       "    <tr>\n",
       "      <th>3</th>\n",
       "      <td>1</td>\n",
       "      <td>1</td>\n",
       "      <td>improved_agent</td>\n",
       "      <td>random_agent</td>\n",
       "      <td>True</td>\n",
       "      <td>checkmate: White wins!</td>\n",
       "      <td>117</td>\n",
       "      <td>13</td>\n",
       "      <td>1</td>\n",
       "    </tr>\n",
       "    <tr>\n",
       "      <th>0</th>\n",
       "      <td>1</td>\n",
       "      <td>1</td>\n",
       "      <td>random_agent</td>\n",
       "      <td>random_agent</td>\n",
       "      <td>False</td>\n",
       "      <td>draw: claim</td>\n",
       "      <td>355</td>\n",
       "      <td>3</td>\n",
       "      <td>4</td>\n",
       "    </tr>\n",
       "  </tbody>\n",
       "</table>\n",
       "</div>"
      ],
      "text/plain": [
       "  round_num iterations            white agent   black agent white_victory  \\\n",
       "1         1          1  improved_random_agent  random_agent         False   \n",
       "2         1          1            naive_agent  random_agent         False   \n",
       "3         1          1         improved_agent  random_agent          True   \n",
       "0         1          1           random_agent  random_agent         False   \n",
       "\n",
       "                   winner moves_played remain_w_pieces remaining_b_pieces  \n",
       "1         draw: stalemate           77              14                  1  \n",
       "2             draw: claim           81              15                  1  \n",
       "3  checkmate: White wins!          117              13                  1  \n",
       "0             draw: claim          355               3                  4  "
      ]
     },
     "execution_count": 19,
     "metadata": {},
     "output_type": "execute_result"
    }
   ],
   "source": [
    "scoreboard.sort_values(by=['moves_played'], inplace=False, ascending=True)"
   ]
  },
  {
   "cell_type": "markdown",
   "metadata": {},
   "source": [
    "## Naive Mini-Max (Depth 1) vs Random"
   ]
  },
  {
   "cell_type": "code",
   "execution_count": 20,
   "metadata": {
    "pycharm": {
     "is_executing": false
    }
   },
   "outputs": [],
   "source": [
    "game = ai.Game()\n",
    "white = ai.MiniMaxAgent(max_depth=1, heuristic=\"naive\", type=\"minimax\")\n",
    "black = ai.RandomAgent()\n",
    "\n",
    "results = game.run(white, black, NUM_ITERATIONS, visual=None)"
   ]
  },
  {
   "cell_type": "code",
   "execution_count": 21,
   "metadata": {},
   "outputs": [],
   "source": [
    "df = pd.DataFrame(data=results,columns=COLUMNS)\n",
    "# this series by moves played ascending\n",
    "# df.sort_values(by=['moves_played'], inplace=False, ascending=True)"
   ]
  },
  {
   "cell_type": "code",
   "execution_count": 22,
   "metadata": {
    "pycharm": {
     "is_executing": false
    }
   },
   "outputs": [],
   "source": [
    "#update the scoreboard\n",
    "scoreboard = scoreboard.append(df, ignore_index=True)"
   ]
  },
  {
   "cell_type": "markdown",
   "metadata": {},
   "source": [
    "### Overall Scoreboard by moves played ascending"
   ]
  },
  {
   "cell_type": "code",
   "execution_count": 23,
   "metadata": {
    "pycharm": {
     "is_executing": false
    }
   },
   "outputs": [
    {
     "data": {
      "text/html": [
       "<div>\n",
       "<style scoped>\n",
       "    .dataframe tbody tr th:only-of-type {\n",
       "        vertical-align: middle;\n",
       "    }\n",
       "\n",
       "    .dataframe tbody tr th {\n",
       "        vertical-align: top;\n",
       "    }\n",
       "\n",
       "    .dataframe thead th {\n",
       "        text-align: right;\n",
       "    }\n",
       "</style>\n",
       "<table border=\"1\" class=\"dataframe\">\n",
       "  <thead>\n",
       "    <tr style=\"text-align: right;\">\n",
       "      <th></th>\n",
       "      <th>round_num</th>\n",
       "      <th>iterations</th>\n",
       "      <th>white agent</th>\n",
       "      <th>black agent</th>\n",
       "      <th>white_victory</th>\n",
       "      <th>winner</th>\n",
       "      <th>moves_played</th>\n",
       "      <th>remain_w_pieces</th>\n",
       "      <th>remaining_b_pieces</th>\n",
       "    </tr>\n",
       "  </thead>\n",
       "  <tbody>\n",
       "    <tr>\n",
       "      <th>1</th>\n",
       "      <td>1</td>\n",
       "      <td>1</td>\n",
       "      <td>improved_random_agent</td>\n",
       "      <td>random_agent</td>\n",
       "      <td>False</td>\n",
       "      <td>draw: stalemate</td>\n",
       "      <td>77</td>\n",
       "      <td>14</td>\n",
       "      <td>1</td>\n",
       "    </tr>\n",
       "    <tr>\n",
       "      <th>2</th>\n",
       "      <td>1</td>\n",
       "      <td>1</td>\n",
       "      <td>naive_agent</td>\n",
       "      <td>random_agent</td>\n",
       "      <td>False</td>\n",
       "      <td>draw: claim</td>\n",
       "      <td>81</td>\n",
       "      <td>15</td>\n",
       "      <td>1</td>\n",
       "    </tr>\n",
       "    <tr>\n",
       "      <th>4</th>\n",
       "      <td>1</td>\n",
       "      <td>1</td>\n",
       "      <td>naive_minimax_agent</td>\n",
       "      <td>random_agent</td>\n",
       "      <td>False</td>\n",
       "      <td>draw: claim</td>\n",
       "      <td>97</td>\n",
       "      <td>16</td>\n",
       "      <td>1</td>\n",
       "    </tr>\n",
       "    <tr>\n",
       "      <th>3</th>\n",
       "      <td>1</td>\n",
       "      <td>1</td>\n",
       "      <td>improved_agent</td>\n",
       "      <td>random_agent</td>\n",
       "      <td>True</td>\n",
       "      <td>checkmate: White wins!</td>\n",
       "      <td>117</td>\n",
       "      <td>13</td>\n",
       "      <td>1</td>\n",
       "    </tr>\n",
       "    <tr>\n",
       "      <th>0</th>\n",
       "      <td>1</td>\n",
       "      <td>1</td>\n",
       "      <td>random_agent</td>\n",
       "      <td>random_agent</td>\n",
       "      <td>False</td>\n",
       "      <td>draw: claim</td>\n",
       "      <td>355</td>\n",
       "      <td>3</td>\n",
       "      <td>4</td>\n",
       "    </tr>\n",
       "  </tbody>\n",
       "</table>\n",
       "</div>"
      ],
      "text/plain": [
       "  round_num iterations            white agent   black agent white_victory  \\\n",
       "1         1          1  improved_random_agent  random_agent         False   \n",
       "2         1          1            naive_agent  random_agent         False   \n",
       "4         1          1    naive_minimax_agent  random_agent         False   \n",
       "3         1          1         improved_agent  random_agent          True   \n",
       "0         1          1           random_agent  random_agent         False   \n",
       "\n",
       "                   winner moves_played remain_w_pieces remaining_b_pieces  \n",
       "1         draw: stalemate           77              14                  1  \n",
       "2             draw: claim           81              15                  1  \n",
       "4             draw: claim           97              16                  1  \n",
       "3  checkmate: White wins!          117              13                  1  \n",
       "0             draw: claim          355               3                  4  "
      ]
     },
     "execution_count": 23,
     "metadata": {},
     "output_type": "execute_result"
    }
   ],
   "source": [
    "scoreboard.sort_values(by=['moves_played'], inplace=False, ascending=True)"
   ]
  },
  {
   "cell_type": "markdown",
   "metadata": {},
   "source": [
    "## Naive Mini-Max (Depth 2) vs Random"
   ]
  },
  {
   "cell_type": "code",
   "execution_count": 24,
   "metadata": {
    "pycharm": {
     "is_executing": false
    }
   },
   "outputs": [],
   "source": [
    "game = ai.Game()\n",
    "white = ai.MiniMaxAgent(max_depth=2, heuristic=\"naive\", type=\"minimax\")\n",
    "black = ai.RandomAgent()\n",
    "\n",
    "results = game.run(white, black, NUM_ITERATIONS, visual=None)"
   ]
  },
  {
   "cell_type": "code",
   "execution_count": 25,
   "metadata": {},
   "outputs": [],
   "source": [
    "df = pd.DataFrame(data=results,columns=COLUMNS)\n",
    "# this series by moves played ascending\n",
    "# df.sort_values(by=['moves_played'], inplace=False, ascending=True)"
   ]
  },
  {
   "cell_type": "code",
   "execution_count": 26,
   "metadata": {
    "pycharm": {
     "is_executing": false
    }
   },
   "outputs": [],
   "source": [
    "#update the scoreboard\n",
    "scoreboard = scoreboard.append(df, ignore_index=True)"
   ]
  },
  {
   "cell_type": "markdown",
   "metadata": {},
   "source": [
    "### Overall Scoreboard by moves played ascending"
   ]
  },
  {
   "cell_type": "code",
   "execution_count": 27,
   "metadata": {
    "pycharm": {
     "is_executing": false
    }
   },
   "outputs": [
    {
     "data": {
      "text/html": [
       "<div>\n",
       "<style scoped>\n",
       "    .dataframe tbody tr th:only-of-type {\n",
       "        vertical-align: middle;\n",
       "    }\n",
       "\n",
       "    .dataframe tbody tr th {\n",
       "        vertical-align: top;\n",
       "    }\n",
       "\n",
       "    .dataframe thead th {\n",
       "        text-align: right;\n",
       "    }\n",
       "</style>\n",
       "<table border=\"1\" class=\"dataframe\">\n",
       "  <thead>\n",
       "    <tr style=\"text-align: right;\">\n",
       "      <th></th>\n",
       "      <th>round_num</th>\n",
       "      <th>iterations</th>\n",
       "      <th>white agent</th>\n",
       "      <th>black agent</th>\n",
       "      <th>white_victory</th>\n",
       "      <th>winner</th>\n",
       "      <th>moves_played</th>\n",
       "      <th>remain_w_pieces</th>\n",
       "      <th>remaining_b_pieces</th>\n",
       "    </tr>\n",
       "  </thead>\n",
       "  <tbody>\n",
       "    <tr>\n",
       "      <th>1</th>\n",
       "      <td>1</td>\n",
       "      <td>1</td>\n",
       "      <td>improved_random_agent</td>\n",
       "      <td>random_agent</td>\n",
       "      <td>False</td>\n",
       "      <td>draw: stalemate</td>\n",
       "      <td>77</td>\n",
       "      <td>14</td>\n",
       "      <td>1</td>\n",
       "    </tr>\n",
       "    <tr>\n",
       "      <th>2</th>\n",
       "      <td>1</td>\n",
       "      <td>1</td>\n",
       "      <td>naive_agent</td>\n",
       "      <td>random_agent</td>\n",
       "      <td>False</td>\n",
       "      <td>draw: claim</td>\n",
       "      <td>81</td>\n",
       "      <td>15</td>\n",
       "      <td>1</td>\n",
       "    </tr>\n",
       "    <tr>\n",
       "      <th>4</th>\n",
       "      <td>1</td>\n",
       "      <td>1</td>\n",
       "      <td>naive_minimax_agent</td>\n",
       "      <td>random_agent</td>\n",
       "      <td>False</td>\n",
       "      <td>draw: claim</td>\n",
       "      <td>97</td>\n",
       "      <td>16</td>\n",
       "      <td>1</td>\n",
       "    </tr>\n",
       "    <tr>\n",
       "      <th>3</th>\n",
       "      <td>1</td>\n",
       "      <td>1</td>\n",
       "      <td>improved_agent</td>\n",
       "      <td>random_agent</td>\n",
       "      <td>True</td>\n",
       "      <td>checkmate: White wins!</td>\n",
       "      <td>117</td>\n",
       "      <td>13</td>\n",
       "      <td>1</td>\n",
       "    </tr>\n",
       "    <tr>\n",
       "      <th>5</th>\n",
       "      <td>1</td>\n",
       "      <td>1</td>\n",
       "      <td>naive_minimax_agent</td>\n",
       "      <td>random_agent</td>\n",
       "      <td>False</td>\n",
       "      <td>draw: claim</td>\n",
       "      <td>155</td>\n",
       "      <td>14</td>\n",
       "      <td>1</td>\n",
       "    </tr>\n",
       "    <tr>\n",
       "      <th>0</th>\n",
       "      <td>1</td>\n",
       "      <td>1</td>\n",
       "      <td>random_agent</td>\n",
       "      <td>random_agent</td>\n",
       "      <td>False</td>\n",
       "      <td>draw: claim</td>\n",
       "      <td>355</td>\n",
       "      <td>3</td>\n",
       "      <td>4</td>\n",
       "    </tr>\n",
       "  </tbody>\n",
       "</table>\n",
       "</div>"
      ],
      "text/plain": [
       "  round_num iterations            white agent   black agent white_victory  \\\n",
       "1         1          1  improved_random_agent  random_agent         False   \n",
       "2         1          1            naive_agent  random_agent         False   \n",
       "4         1          1    naive_minimax_agent  random_agent         False   \n",
       "3         1          1         improved_agent  random_agent          True   \n",
       "5         1          1    naive_minimax_agent  random_agent         False   \n",
       "0         1          1           random_agent  random_agent         False   \n",
       "\n",
       "                   winner moves_played remain_w_pieces remaining_b_pieces  \n",
       "1         draw: stalemate           77              14                  1  \n",
       "2             draw: claim           81              15                  1  \n",
       "4             draw: claim           97              16                  1  \n",
       "3  checkmate: White wins!          117              13                  1  \n",
       "5             draw: claim          155              14                  1  \n",
       "0             draw: claim          355               3                  4  "
      ]
     },
     "execution_count": 27,
     "metadata": {},
     "output_type": "execute_result"
    }
   ],
   "source": [
    "scoreboard.sort_values(by=['moves_played'], inplace=False, ascending=True)"
   ]
  },
  {
   "cell_type": "markdown",
   "metadata": {},
   "source": [
    "## Naive Mini-Max (Depth 3) vs Random"
   ]
  },
  {
   "cell_type": "code",
   "execution_count": 28,
   "metadata": {
    "pycharm": {
     "is_executing": true
    }
   },
   "outputs": [],
   "source": [
    "# game = ai.Game()\n",
    "# white = ai.MiniMaxAgent(max_depth=3,heuristic=\"naive\", type=\"minimax\")\n",
    "# black = ai.RandomAgent()\n",
    "# \n",
    "# results = game.run(white, black, NUM_ITERATIONS, visual=None)"
   ]
  },
  {
   "cell_type": "code",
   "execution_count": 29,
   "metadata": {},
   "outputs": [],
   "source": [
    "# df = pd.DataFrame(data=results,columns=COLUMNS)\n",
    "\n",
    "# this series by moves played ascending\n",
    "# df.sort_values(by=['moves_played'], inplace=False, ascending=True)"
   ]
  },
  {
   "cell_type": "code",
   "execution_count": 30,
   "metadata": {
    "pycharm": {
     "is_executing": true
    }
   },
   "outputs": [],
   "source": [
    "#update the scoreboard\n",
    "# scoreboard = scoreboard.append(df, ignore_index=True)"
   ]
  },
  {
   "cell_type": "markdown",
   "metadata": {},
   "source": [
    "### Overall Scoreboard by moves played ascending"
   ]
  },
  {
   "cell_type": "code",
   "execution_count": 31,
   "metadata": {
    "pycharm": {
     "is_executing": true
    }
   },
   "outputs": [],
   "source": [
    "# scoreboard.sort_values(by=['moves_played'], inplace=False, ascending=True)"
   ]
  },
  {
   "cell_type": "markdown",
   "metadata": {},
   "source": [
    "## Improved Mini-Max (Depth 1) vs Random"
   ]
  },
  {
   "cell_type": "code",
   "execution_count": 32,
   "metadata": {
    "pycharm": {
     "is_executing": true
    }
   },
   "outputs": [],
   "source": [
    "game = ai.Game()\n",
    "white = ai.MiniMaxAgent(max_depth=1, heuristic=\"improved\", type=\"minimax\")\n",
    "black = ai.RandomAgent()\n",
    "\n",
    "results = game.run(white, black, NUM_ITERATIONS, visual=None)"
   ]
  },
  {
   "cell_type": "code",
   "execution_count": 33,
   "metadata": {},
   "outputs": [],
   "source": [
    "df = pd.DataFrame(data=results,columns=COLUMNS)\n",
    "# this series by moves played ascending\n",
    "# df.sort_values(by=['moves_played'], inplace=False, ascending=True)"
   ]
  },
  {
   "cell_type": "code",
   "execution_count": 34,
   "metadata": {
    "pycharm": {
     "is_executing": true
    }
   },
   "outputs": [],
   "source": [
    "#update the scoreboard\n",
    "scoreboard = scoreboard.append(df, ignore_index=True)"
   ]
  },
  {
   "cell_type": "markdown",
   "metadata": {},
   "source": [
    "### Overall Scoreboard by moves played ascending"
   ]
  },
  {
   "cell_type": "code",
   "execution_count": 35,
   "metadata": {
    "pycharm": {
     "is_executing": true
    }
   },
   "outputs": [
    {
     "data": {
      "text/html": [
       "<div>\n",
       "<style scoped>\n",
       "    .dataframe tbody tr th:only-of-type {\n",
       "        vertical-align: middle;\n",
       "    }\n",
       "\n",
       "    .dataframe tbody tr th {\n",
       "        vertical-align: top;\n",
       "    }\n",
       "\n",
       "    .dataframe thead th {\n",
       "        text-align: right;\n",
       "    }\n",
       "</style>\n",
       "<table border=\"1\" class=\"dataframe\">\n",
       "  <thead>\n",
       "    <tr style=\"text-align: right;\">\n",
       "      <th></th>\n",
       "      <th>round_num</th>\n",
       "      <th>iterations</th>\n",
       "      <th>white agent</th>\n",
       "      <th>black agent</th>\n",
       "      <th>white_victory</th>\n",
       "      <th>winner</th>\n",
       "      <th>moves_played</th>\n",
       "      <th>remain_w_pieces</th>\n",
       "      <th>remaining_b_pieces</th>\n",
       "    </tr>\n",
       "  </thead>\n",
       "  <tbody>\n",
       "    <tr>\n",
       "      <th>6</th>\n",
       "      <td>1</td>\n",
       "      <td>1</td>\n",
       "      <td>improved_minimax_agent</td>\n",
       "      <td>random_agent</td>\n",
       "      <td>True</td>\n",
       "      <td>checkmate: White wins!</td>\n",
       "      <td>43</td>\n",
       "      <td>14</td>\n",
       "      <td>6</td>\n",
       "    </tr>\n",
       "    <tr>\n",
       "      <th>1</th>\n",
       "      <td>1</td>\n",
       "      <td>1</td>\n",
       "      <td>improved_random_agent</td>\n",
       "      <td>random_agent</td>\n",
       "      <td>False</td>\n",
       "      <td>draw: stalemate</td>\n",
       "      <td>77</td>\n",
       "      <td>14</td>\n",
       "      <td>1</td>\n",
       "    </tr>\n",
       "    <tr>\n",
       "      <th>2</th>\n",
       "      <td>1</td>\n",
       "      <td>1</td>\n",
       "      <td>naive_agent</td>\n",
       "      <td>random_agent</td>\n",
       "      <td>False</td>\n",
       "      <td>draw: claim</td>\n",
       "      <td>81</td>\n",
       "      <td>15</td>\n",
       "      <td>1</td>\n",
       "    </tr>\n",
       "    <tr>\n",
       "      <th>4</th>\n",
       "      <td>1</td>\n",
       "      <td>1</td>\n",
       "      <td>naive_minimax_agent</td>\n",
       "      <td>random_agent</td>\n",
       "      <td>False</td>\n",
       "      <td>draw: claim</td>\n",
       "      <td>97</td>\n",
       "      <td>16</td>\n",
       "      <td>1</td>\n",
       "    </tr>\n",
       "    <tr>\n",
       "      <th>3</th>\n",
       "      <td>1</td>\n",
       "      <td>1</td>\n",
       "      <td>improved_agent</td>\n",
       "      <td>random_agent</td>\n",
       "      <td>True</td>\n",
       "      <td>checkmate: White wins!</td>\n",
       "      <td>117</td>\n",
       "      <td>13</td>\n",
       "      <td>1</td>\n",
       "    </tr>\n",
       "    <tr>\n",
       "      <th>5</th>\n",
       "      <td>1</td>\n",
       "      <td>1</td>\n",
       "      <td>naive_minimax_agent</td>\n",
       "      <td>random_agent</td>\n",
       "      <td>False</td>\n",
       "      <td>draw: claim</td>\n",
       "      <td>155</td>\n",
       "      <td>14</td>\n",
       "      <td>1</td>\n",
       "    </tr>\n",
       "    <tr>\n",
       "      <th>0</th>\n",
       "      <td>1</td>\n",
       "      <td>1</td>\n",
       "      <td>random_agent</td>\n",
       "      <td>random_agent</td>\n",
       "      <td>False</td>\n",
       "      <td>draw: claim</td>\n",
       "      <td>355</td>\n",
       "      <td>3</td>\n",
       "      <td>4</td>\n",
       "    </tr>\n",
       "  </tbody>\n",
       "</table>\n",
       "</div>"
      ],
      "text/plain": [
       "  round_num iterations             white agent   black agent white_victory  \\\n",
       "6         1          1  improved_minimax_agent  random_agent          True   \n",
       "1         1          1   improved_random_agent  random_agent         False   \n",
       "2         1          1             naive_agent  random_agent         False   \n",
       "4         1          1     naive_minimax_agent  random_agent         False   \n",
       "3         1          1          improved_agent  random_agent          True   \n",
       "5         1          1     naive_minimax_agent  random_agent         False   \n",
       "0         1          1            random_agent  random_agent         False   \n",
       "\n",
       "                   winner moves_played remain_w_pieces remaining_b_pieces  \n",
       "6  checkmate: White wins!           43              14                  6  \n",
       "1         draw: stalemate           77              14                  1  \n",
       "2             draw: claim           81              15                  1  \n",
       "4             draw: claim           97              16                  1  \n",
       "3  checkmate: White wins!          117              13                  1  \n",
       "5             draw: claim          155              14                  1  \n",
       "0             draw: claim          355               3                  4  "
      ]
     },
     "execution_count": 35,
     "metadata": {},
     "output_type": "execute_result"
    }
   ],
   "source": [
    "scoreboard.sort_values(by=['moves_played'], inplace=False, ascending=True)"
   ]
  },
  {
   "cell_type": "markdown",
   "metadata": {},
   "source": [
    "## Improved Mini-Max (Depth 2) vs Random"
   ]
  },
  {
   "cell_type": "code",
   "execution_count": 36,
   "metadata": {
    "pycharm": {
     "is_executing": true
    }
   },
   "outputs": [],
   "source": [
    "game = ai.Game()\n",
    "white = ai.MiniMaxAgent(max_depth=2, heuristic=\"improved\", type=\"minimax\")\n",
    "black = ai.RandomAgent()\n",
    "\n",
    "results = game.run(white, black, NUM_ITERATIONS, visual=None)"
   ]
  },
  {
   "cell_type": "code",
   "execution_count": 37,
   "metadata": {},
   "outputs": [],
   "source": [
    "df = pd.DataFrame(data=results,columns=COLUMNS)\n",
    "# this series by moves played ascending\n",
    "# df.sort_values(by=['moves_played'], inplace=False, ascending=True)"
   ]
  },
  {
   "cell_type": "code",
   "execution_count": 38,
   "metadata": {
    "pycharm": {
     "is_executing": true
    }
   },
   "outputs": [],
   "source": [
    "#update the scoreboard\n",
    "scoreboard = scoreboard.append(df, ignore_index=True)"
   ]
  },
  {
   "cell_type": "markdown",
   "metadata": {},
   "source": [
    "### Overall Scoreboard by moves played ascending"
   ]
  },
  {
   "cell_type": "code",
   "execution_count": 39,
   "metadata": {
    "pycharm": {
     "is_executing": true
    }
   },
   "outputs": [
    {
     "data": {
      "text/html": [
       "<div>\n",
       "<style scoped>\n",
       "    .dataframe tbody tr th:only-of-type {\n",
       "        vertical-align: middle;\n",
       "    }\n",
       "\n",
       "    .dataframe tbody tr th {\n",
       "        vertical-align: top;\n",
       "    }\n",
       "\n",
       "    .dataframe thead th {\n",
       "        text-align: right;\n",
       "    }\n",
       "</style>\n",
       "<table border=\"1\" class=\"dataframe\">\n",
       "  <thead>\n",
       "    <tr style=\"text-align: right;\">\n",
       "      <th></th>\n",
       "      <th>round_num</th>\n",
       "      <th>iterations</th>\n",
       "      <th>white agent</th>\n",
       "      <th>black agent</th>\n",
       "      <th>white_victory</th>\n",
       "      <th>winner</th>\n",
       "      <th>moves_played</th>\n",
       "      <th>remain_w_pieces</th>\n",
       "      <th>remaining_b_pieces</th>\n",
       "    </tr>\n",
       "  </thead>\n",
       "  <tbody>\n",
       "    <tr>\n",
       "      <th>6</th>\n",
       "      <td>1</td>\n",
       "      <td>1</td>\n",
       "      <td>improved_minimax_agent</td>\n",
       "      <td>random_agent</td>\n",
       "      <td>True</td>\n",
       "      <td>checkmate: White wins!</td>\n",
       "      <td>43</td>\n",
       "      <td>14</td>\n",
       "      <td>6</td>\n",
       "    </tr>\n",
       "    <tr>\n",
       "      <th>1</th>\n",
       "      <td>1</td>\n",
       "      <td>1</td>\n",
       "      <td>improved_random_agent</td>\n",
       "      <td>random_agent</td>\n",
       "      <td>False</td>\n",
       "      <td>draw: stalemate</td>\n",
       "      <td>77</td>\n",
       "      <td>14</td>\n",
       "      <td>1</td>\n",
       "    </tr>\n",
       "    <tr>\n",
       "      <th>7</th>\n",
       "      <td>1</td>\n",
       "      <td>1</td>\n",
       "      <td>improved_minimax_agent</td>\n",
       "      <td>random_agent</td>\n",
       "      <td>True</td>\n",
       "      <td>checkmate: White wins!</td>\n",
       "      <td>77</td>\n",
       "      <td>12</td>\n",
       "      <td>4</td>\n",
       "    </tr>\n",
       "    <tr>\n",
       "      <th>2</th>\n",
       "      <td>1</td>\n",
       "      <td>1</td>\n",
       "      <td>naive_agent</td>\n",
       "      <td>random_agent</td>\n",
       "      <td>False</td>\n",
       "      <td>draw: claim</td>\n",
       "      <td>81</td>\n",
       "      <td>15</td>\n",
       "      <td>1</td>\n",
       "    </tr>\n",
       "    <tr>\n",
       "      <th>4</th>\n",
       "      <td>1</td>\n",
       "      <td>1</td>\n",
       "      <td>naive_minimax_agent</td>\n",
       "      <td>random_agent</td>\n",
       "      <td>False</td>\n",
       "      <td>draw: claim</td>\n",
       "      <td>97</td>\n",
       "      <td>16</td>\n",
       "      <td>1</td>\n",
       "    </tr>\n",
       "    <tr>\n",
       "      <th>3</th>\n",
       "      <td>1</td>\n",
       "      <td>1</td>\n",
       "      <td>improved_agent</td>\n",
       "      <td>random_agent</td>\n",
       "      <td>True</td>\n",
       "      <td>checkmate: White wins!</td>\n",
       "      <td>117</td>\n",
       "      <td>13</td>\n",
       "      <td>1</td>\n",
       "    </tr>\n",
       "    <tr>\n",
       "      <th>5</th>\n",
       "      <td>1</td>\n",
       "      <td>1</td>\n",
       "      <td>naive_minimax_agent</td>\n",
       "      <td>random_agent</td>\n",
       "      <td>False</td>\n",
       "      <td>draw: claim</td>\n",
       "      <td>155</td>\n",
       "      <td>14</td>\n",
       "      <td>1</td>\n",
       "    </tr>\n",
       "    <tr>\n",
       "      <th>0</th>\n",
       "      <td>1</td>\n",
       "      <td>1</td>\n",
       "      <td>random_agent</td>\n",
       "      <td>random_agent</td>\n",
       "      <td>False</td>\n",
       "      <td>draw: claim</td>\n",
       "      <td>355</td>\n",
       "      <td>3</td>\n",
       "      <td>4</td>\n",
       "    </tr>\n",
       "  </tbody>\n",
       "</table>\n",
       "</div>"
      ],
      "text/plain": [
       "  round_num iterations             white agent   black agent white_victory  \\\n",
       "6         1          1  improved_minimax_agent  random_agent          True   \n",
       "1         1          1   improved_random_agent  random_agent         False   \n",
       "7         1          1  improved_minimax_agent  random_agent          True   \n",
       "2         1          1             naive_agent  random_agent         False   \n",
       "4         1          1     naive_minimax_agent  random_agent         False   \n",
       "3         1          1          improved_agent  random_agent          True   \n",
       "5         1          1     naive_minimax_agent  random_agent         False   \n",
       "0         1          1            random_agent  random_agent         False   \n",
       "\n",
       "                   winner moves_played remain_w_pieces remaining_b_pieces  \n",
       "6  checkmate: White wins!           43              14                  6  \n",
       "1         draw: stalemate           77              14                  1  \n",
       "7  checkmate: White wins!           77              12                  4  \n",
       "2             draw: claim           81              15                  1  \n",
       "4             draw: claim           97              16                  1  \n",
       "3  checkmate: White wins!          117              13                  1  \n",
       "5             draw: claim          155              14                  1  \n",
       "0             draw: claim          355               3                  4  "
      ]
     },
     "execution_count": 39,
     "metadata": {},
     "output_type": "execute_result"
    }
   ],
   "source": [
    "scoreboard.sort_values(by=['moves_played'], inplace=False, ascending=True)"
   ]
  },
  {
   "cell_type": "markdown",
   "metadata": {},
   "source": [
    "## Improved Mini-Max (Depth 3) vs Random"
   ]
  },
  {
   "cell_type": "code",
   "execution_count": 40,
   "metadata": {
    "pycharm": {
     "is_executing": true
    }
   },
   "outputs": [],
   "source": [
    "# game = ai.Game()\n",
    "# white = ai.MiniMaxAgent(max_depth=3, heuristic=\"improved\", type =\"minimax\")\n",
    "# black = ai.RandomAgent()\n",
    "# \n",
    "# results = game.run(white, black, NUM_ITERATIONS, visual=None)"
   ]
  },
  {
   "cell_type": "code",
   "execution_count": 41,
   "metadata": {},
   "outputs": [],
   "source": [
    "# df = pd.DataFrame(data=results,columns=COLUMNS)\n",
    "\n",
    "# this series by moves played ascending\n",
    "# df.sort_values(by=['moves_played'], inplace=False, ascending=True)"
   ]
  },
  {
   "cell_type": "code",
   "execution_count": 42,
   "metadata": {
    "pycharm": {
     "is_executing": true
    }
   },
   "outputs": [],
   "source": [
    "#update the scoreboard\n",
    "# scoreboard = scoreboard.append(df, ignore_index=True)"
   ]
  },
  {
   "cell_type": "markdown",
   "metadata": {},
   "source": [
    "### Overall Scoreboard by moves played ascending"
   ]
  },
  {
   "cell_type": "code",
   "execution_count": 43,
   "metadata": {
    "pycharm": {
     "is_executing": true
    }
   },
   "outputs": [],
   "source": [
    "# scoreboard.sort_values(by=['moves_played'], inplace=False, ascending=True)"
   ]
  },
  {
   "cell_type": "markdown",
   "metadata": {},
   "source": [
    "## Advanced Mini-Max (Depth 1) vs Random"
   ]
  },
  {
   "cell_type": "code",
   "execution_count": 44,
   "metadata": {},
   "outputs": [],
   "source": [
    "game = ai.Game()\n",
    "white = ai.MiniMaxAgent(max_depth=1, heuristic=\"advanced\", type=\"minimax\")\n",
    "black = ai.RandomAgent()\n",
    "\n",
    "results = game.run(white, black, NUM_ITERATIONS, visual=None)"
   ]
  },
  {
   "cell_type": "code",
   "execution_count": 45,
   "metadata": {},
   "outputs": [],
   "source": [
    "df = pd.DataFrame(data=results,columns=COLUMNS)\n",
    "# this series by moves played ascending\n",
    "# df.sort_values(by=['moves_played'], inplace=False, ascending=True)"
   ]
  },
  {
   "cell_type": "code",
   "execution_count": 46,
   "metadata": {},
   "outputs": [],
   "source": [
    "#update the scoreboard\n",
    "scoreboard = scoreboard.append(df, ignore_index=True)"
   ]
  },
  {
   "cell_type": "markdown",
   "metadata": {},
   "source": [
    "### Overall Scoreboard by moves played ascending"
   ]
  },
  {
   "cell_type": "code",
   "execution_count": 47,
   "metadata": {
    "pycharm": {
     "name": "#%%\n"
    }
   },
   "outputs": [
    {
     "data": {
      "text/html": [
       "<div>\n",
       "<style scoped>\n",
       "    .dataframe tbody tr th:only-of-type {\n",
       "        vertical-align: middle;\n",
       "    }\n",
       "\n",
       "    .dataframe tbody tr th {\n",
       "        vertical-align: top;\n",
       "    }\n",
       "\n",
       "    .dataframe thead th {\n",
       "        text-align: right;\n",
       "    }\n",
       "</style>\n",
       "<table border=\"1\" class=\"dataframe\">\n",
       "  <thead>\n",
       "    <tr style=\"text-align: right;\">\n",
       "      <th></th>\n",
       "      <th>round_num</th>\n",
       "      <th>iterations</th>\n",
       "      <th>white agent</th>\n",
       "      <th>black agent</th>\n",
       "      <th>white_victory</th>\n",
       "      <th>winner</th>\n",
       "      <th>moves_played</th>\n",
       "      <th>remain_w_pieces</th>\n",
       "      <th>remaining_b_pieces</th>\n",
       "    </tr>\n",
       "  </thead>\n",
       "  <tbody>\n",
       "    <tr>\n",
       "      <th>8</th>\n",
       "      <td>1</td>\n",
       "      <td>1</td>\n",
       "      <td>advanced_minimax_agent</td>\n",
       "      <td>random_agent</td>\n",
       "      <td>True</td>\n",
       "      <td>checkmate: White wins!</td>\n",
       "      <td>35</td>\n",
       "      <td>15</td>\n",
       "      <td>8</td>\n",
       "    </tr>\n",
       "    <tr>\n",
       "      <th>6</th>\n",
       "      <td>1</td>\n",
       "      <td>1</td>\n",
       "      <td>improved_minimax_agent</td>\n",
       "      <td>random_agent</td>\n",
       "      <td>True</td>\n",
       "      <td>checkmate: White wins!</td>\n",
       "      <td>43</td>\n",
       "      <td>14</td>\n",
       "      <td>6</td>\n",
       "    </tr>\n",
       "    <tr>\n",
       "      <th>1</th>\n",
       "      <td>1</td>\n",
       "      <td>1</td>\n",
       "      <td>improved_random_agent</td>\n",
       "      <td>random_agent</td>\n",
       "      <td>False</td>\n",
       "      <td>draw: stalemate</td>\n",
       "      <td>77</td>\n",
       "      <td>14</td>\n",
       "      <td>1</td>\n",
       "    </tr>\n",
       "    <tr>\n",
       "      <th>7</th>\n",
       "      <td>1</td>\n",
       "      <td>1</td>\n",
       "      <td>improved_minimax_agent</td>\n",
       "      <td>random_agent</td>\n",
       "      <td>True</td>\n",
       "      <td>checkmate: White wins!</td>\n",
       "      <td>77</td>\n",
       "      <td>12</td>\n",
       "      <td>4</td>\n",
       "    </tr>\n",
       "    <tr>\n",
       "      <th>2</th>\n",
       "      <td>1</td>\n",
       "      <td>1</td>\n",
       "      <td>naive_agent</td>\n",
       "      <td>random_agent</td>\n",
       "      <td>False</td>\n",
       "      <td>draw: claim</td>\n",
       "      <td>81</td>\n",
       "      <td>15</td>\n",
       "      <td>1</td>\n",
       "    </tr>\n",
       "    <tr>\n",
       "      <th>4</th>\n",
       "      <td>1</td>\n",
       "      <td>1</td>\n",
       "      <td>naive_minimax_agent</td>\n",
       "      <td>random_agent</td>\n",
       "      <td>False</td>\n",
       "      <td>draw: claim</td>\n",
       "      <td>97</td>\n",
       "      <td>16</td>\n",
       "      <td>1</td>\n",
       "    </tr>\n",
       "    <tr>\n",
       "      <th>3</th>\n",
       "      <td>1</td>\n",
       "      <td>1</td>\n",
       "      <td>improved_agent</td>\n",
       "      <td>random_agent</td>\n",
       "      <td>True</td>\n",
       "      <td>checkmate: White wins!</td>\n",
       "      <td>117</td>\n",
       "      <td>13</td>\n",
       "      <td>1</td>\n",
       "    </tr>\n",
       "    <tr>\n",
       "      <th>5</th>\n",
       "      <td>1</td>\n",
       "      <td>1</td>\n",
       "      <td>naive_minimax_agent</td>\n",
       "      <td>random_agent</td>\n",
       "      <td>False</td>\n",
       "      <td>draw: claim</td>\n",
       "      <td>155</td>\n",
       "      <td>14</td>\n",
       "      <td>1</td>\n",
       "    </tr>\n",
       "    <tr>\n",
       "      <th>0</th>\n",
       "      <td>1</td>\n",
       "      <td>1</td>\n",
       "      <td>random_agent</td>\n",
       "      <td>random_agent</td>\n",
       "      <td>False</td>\n",
       "      <td>draw: claim</td>\n",
       "      <td>355</td>\n",
       "      <td>3</td>\n",
       "      <td>4</td>\n",
       "    </tr>\n",
       "  </tbody>\n",
       "</table>\n",
       "</div>"
      ],
      "text/plain": [
       "  round_num iterations             white agent   black agent white_victory  \\\n",
       "8         1          1  advanced_minimax_agent  random_agent          True   \n",
       "6         1          1  improved_minimax_agent  random_agent          True   \n",
       "1         1          1   improved_random_agent  random_agent         False   \n",
       "7         1          1  improved_minimax_agent  random_agent          True   \n",
       "2         1          1             naive_agent  random_agent         False   \n",
       "4         1          1     naive_minimax_agent  random_agent         False   \n",
       "3         1          1          improved_agent  random_agent          True   \n",
       "5         1          1     naive_minimax_agent  random_agent         False   \n",
       "0         1          1            random_agent  random_agent         False   \n",
       "\n",
       "                   winner moves_played remain_w_pieces remaining_b_pieces  \n",
       "8  checkmate: White wins!           35              15                  8  \n",
       "6  checkmate: White wins!           43              14                  6  \n",
       "1         draw: stalemate           77              14                  1  \n",
       "7  checkmate: White wins!           77              12                  4  \n",
       "2             draw: claim           81              15                  1  \n",
       "4             draw: claim           97              16                  1  \n",
       "3  checkmate: White wins!          117              13                  1  \n",
       "5             draw: claim          155              14                  1  \n",
       "0             draw: claim          355               3                  4  "
      ]
     },
     "execution_count": 47,
     "metadata": {},
     "output_type": "execute_result"
    }
   ],
   "source": [
    "scoreboard.sort_values(by=['moves_played'], inplace=False, ascending=True)"
   ]
  },
  {
   "cell_type": "markdown",
   "metadata": {},
   "source": [
    "## Advanced Mini-Max (Depth 2) vs Random"
   ]
  },
  {
   "cell_type": "code",
   "execution_count": 48,
   "metadata": {},
   "outputs": [],
   "source": [
    "game = ai.Game()\n",
    "white = ai.MiniMaxAgent(max_depth=2, heuristic=\"advanced\", type=\"minimax\")\n",
    "black = ai.RandomAgent()\n",
    "\n",
    "results = game.run(white, black, NUM_ITERATIONS, visual=None)"
   ]
  },
  {
   "cell_type": "code",
   "execution_count": 49,
   "metadata": {},
   "outputs": [],
   "source": [
    "df = pd.DataFrame(data=results,columns=COLUMNS)\\\n",
    "# this series by moves played ascending\n",
    "# df.sort_values(by=['moves_played'], inplace=False, ascending=True)"
   ]
  },
  {
   "cell_type": "code",
   "execution_count": 50,
   "metadata": {},
   "outputs": [],
   "source": [
    "#update the scoreboard\n",
    "scoreboard = scoreboard.append(df, ignore_index=True)"
   ]
  },
  {
   "cell_type": "markdown",
   "metadata": {},
   "source": [
    "### Overall Scoreboard by moves played ascending"
   ]
  },
  {
   "cell_type": "code",
   "execution_count": 51,
   "metadata": {
    "pycharm": {
     "name": "#%%\n"
    }
   },
   "outputs": [
    {
     "data": {
      "text/html": [
       "<div>\n",
       "<style scoped>\n",
       "    .dataframe tbody tr th:only-of-type {\n",
       "        vertical-align: middle;\n",
       "    }\n",
       "\n",
       "    .dataframe tbody tr th {\n",
       "        vertical-align: top;\n",
       "    }\n",
       "\n",
       "    .dataframe thead th {\n",
       "        text-align: right;\n",
       "    }\n",
       "</style>\n",
       "<table border=\"1\" class=\"dataframe\">\n",
       "  <thead>\n",
       "    <tr style=\"text-align: right;\">\n",
       "      <th></th>\n",
       "      <th>round_num</th>\n",
       "      <th>iterations</th>\n",
       "      <th>white agent</th>\n",
       "      <th>black agent</th>\n",
       "      <th>white_victory</th>\n",
       "      <th>winner</th>\n",
       "      <th>moves_played</th>\n",
       "      <th>remain_w_pieces</th>\n",
       "      <th>remaining_b_pieces</th>\n",
       "    </tr>\n",
       "  </thead>\n",
       "  <tbody>\n",
       "    <tr>\n",
       "      <th>9</th>\n",
       "      <td>1</td>\n",
       "      <td>1</td>\n",
       "      <td>advanced_minimax_agent</td>\n",
       "      <td>random_agent</td>\n",
       "      <td>True</td>\n",
       "      <td>checkmate: White wins!</td>\n",
       "      <td>19</td>\n",
       "      <td>16</td>\n",
       "      <td>15</td>\n",
       "    </tr>\n",
       "    <tr>\n",
       "      <th>8</th>\n",
       "      <td>1</td>\n",
       "      <td>1</td>\n",
       "      <td>advanced_minimax_agent</td>\n",
       "      <td>random_agent</td>\n",
       "      <td>True</td>\n",
       "      <td>checkmate: White wins!</td>\n",
       "      <td>35</td>\n",
       "      <td>15</td>\n",
       "      <td>8</td>\n",
       "    </tr>\n",
       "    <tr>\n",
       "      <th>6</th>\n",
       "      <td>1</td>\n",
       "      <td>1</td>\n",
       "      <td>improved_minimax_agent</td>\n",
       "      <td>random_agent</td>\n",
       "      <td>True</td>\n",
       "      <td>checkmate: White wins!</td>\n",
       "      <td>43</td>\n",
       "      <td>14</td>\n",
       "      <td>6</td>\n",
       "    </tr>\n",
       "    <tr>\n",
       "      <th>1</th>\n",
       "      <td>1</td>\n",
       "      <td>1</td>\n",
       "      <td>improved_random_agent</td>\n",
       "      <td>random_agent</td>\n",
       "      <td>False</td>\n",
       "      <td>draw: stalemate</td>\n",
       "      <td>77</td>\n",
       "      <td>14</td>\n",
       "      <td>1</td>\n",
       "    </tr>\n",
       "    <tr>\n",
       "      <th>7</th>\n",
       "      <td>1</td>\n",
       "      <td>1</td>\n",
       "      <td>improved_minimax_agent</td>\n",
       "      <td>random_agent</td>\n",
       "      <td>True</td>\n",
       "      <td>checkmate: White wins!</td>\n",
       "      <td>77</td>\n",
       "      <td>12</td>\n",
       "      <td>4</td>\n",
       "    </tr>\n",
       "    <tr>\n",
       "      <th>2</th>\n",
       "      <td>1</td>\n",
       "      <td>1</td>\n",
       "      <td>naive_agent</td>\n",
       "      <td>random_agent</td>\n",
       "      <td>False</td>\n",
       "      <td>draw: claim</td>\n",
       "      <td>81</td>\n",
       "      <td>15</td>\n",
       "      <td>1</td>\n",
       "    </tr>\n",
       "    <tr>\n",
       "      <th>4</th>\n",
       "      <td>1</td>\n",
       "      <td>1</td>\n",
       "      <td>naive_minimax_agent</td>\n",
       "      <td>random_agent</td>\n",
       "      <td>False</td>\n",
       "      <td>draw: claim</td>\n",
       "      <td>97</td>\n",
       "      <td>16</td>\n",
       "      <td>1</td>\n",
       "    </tr>\n",
       "    <tr>\n",
       "      <th>3</th>\n",
       "      <td>1</td>\n",
       "      <td>1</td>\n",
       "      <td>improved_agent</td>\n",
       "      <td>random_agent</td>\n",
       "      <td>True</td>\n",
       "      <td>checkmate: White wins!</td>\n",
       "      <td>117</td>\n",
       "      <td>13</td>\n",
       "      <td>1</td>\n",
       "    </tr>\n",
       "    <tr>\n",
       "      <th>5</th>\n",
       "      <td>1</td>\n",
       "      <td>1</td>\n",
       "      <td>naive_minimax_agent</td>\n",
       "      <td>random_agent</td>\n",
       "      <td>False</td>\n",
       "      <td>draw: claim</td>\n",
       "      <td>155</td>\n",
       "      <td>14</td>\n",
       "      <td>1</td>\n",
       "    </tr>\n",
       "    <tr>\n",
       "      <th>0</th>\n",
       "      <td>1</td>\n",
       "      <td>1</td>\n",
       "      <td>random_agent</td>\n",
       "      <td>random_agent</td>\n",
       "      <td>False</td>\n",
       "      <td>draw: claim</td>\n",
       "      <td>355</td>\n",
       "      <td>3</td>\n",
       "      <td>4</td>\n",
       "    </tr>\n",
       "  </tbody>\n",
       "</table>\n",
       "</div>"
      ],
      "text/plain": [
       "  round_num iterations             white agent   black agent white_victory  \\\n",
       "9         1          1  advanced_minimax_agent  random_agent          True   \n",
       "8         1          1  advanced_minimax_agent  random_agent          True   \n",
       "6         1          1  improved_minimax_agent  random_agent          True   \n",
       "1         1          1   improved_random_agent  random_agent         False   \n",
       "7         1          1  improved_minimax_agent  random_agent          True   \n",
       "2         1          1             naive_agent  random_agent         False   \n",
       "4         1          1     naive_minimax_agent  random_agent         False   \n",
       "3         1          1          improved_agent  random_agent          True   \n",
       "5         1          1     naive_minimax_agent  random_agent         False   \n",
       "0         1          1            random_agent  random_agent         False   \n",
       "\n",
       "                   winner moves_played remain_w_pieces remaining_b_pieces  \n",
       "9  checkmate: White wins!           19              16                 15  \n",
       "8  checkmate: White wins!           35              15                  8  \n",
       "6  checkmate: White wins!           43              14                  6  \n",
       "1         draw: stalemate           77              14                  1  \n",
       "7  checkmate: White wins!           77              12                  4  \n",
       "2             draw: claim           81              15                  1  \n",
       "4             draw: claim           97              16                  1  \n",
       "3  checkmate: White wins!          117              13                  1  \n",
       "5             draw: claim          155              14                  1  \n",
       "0             draw: claim          355               3                  4  "
      ]
     },
     "execution_count": 51,
     "metadata": {},
     "output_type": "execute_result"
    }
   ],
   "source": [
    "scoreboard.sort_values(by=['moves_played'], inplace=False, ascending=True)"
   ]
  },
  {
   "cell_type": "markdown",
   "metadata": {},
   "source": [
    "## Advanced Mini-Max (Depth 3) vs Random"
   ]
  },
  {
   "cell_type": "code",
   "execution_count": 52,
   "metadata": {},
   "outputs": [],
   "source": [
    "# game = ai.Game()\n",
    "# white = ai.MiniMaxAgent(max_depth=3, heuristic=\"advanced\", type=\"minimax\")\n",
    "# black = ai.RandomAgent()\n",
    "# \n",
    "# results = game.run(white, black, NUM_ITERATIONS, visual=None)"
   ]
  },
  {
   "cell_type": "code",
   "execution_count": 53,
   "metadata": {},
   "outputs": [],
   "source": [
    "# df = pd.DataFrame(data=results,columns=COLUMNS)\n",
    "\n",
    "# this series by moves played ascending\n",
    "# df.sort_values(by=['moves_played'], inplace=False, ascending=True)"
   ]
  },
  {
   "cell_type": "code",
   "execution_count": 54,
   "metadata": {},
   "outputs": [],
   "source": [
    "#update the scoreboard\n",
    "# scoreboard = scoreboard.append(df, ignore_index=True)"
   ]
  },
  {
   "cell_type": "markdown",
   "metadata": {},
   "source": [
    "### Overall Scoreboard by moves played ascending"
   ]
  },
  {
   "cell_type": "code",
   "execution_count": 55,
   "metadata": {
    "pycharm": {
     "name": "#%%\n"
    }
   },
   "outputs": [],
   "source": [
    "# scoreboard.sort_values(by=['moves_played'], inplace=False, ascending=True)"
   ]
  },
  {
   "cell_type": "markdown",
   "metadata": {},
   "source": [
    "## Naive Mini-Max with Alpha-Beta-Pruning (Depth 1) vs Random"
   ]
  },
  {
   "cell_type": "code",
   "execution_count": 56,
   "metadata": {
    "pycharm": {
     "name": "#%%\n"
    }
   },
   "outputs": [],
   "source": [
    "game = ai.Game()\n",
    "white = ai.MiniMaxAgent(max_depth=1, heuristic=\"naive\", type=\"alpha-beta\")\n",
    "black = ai.RandomAgent()\n",
    "\n",
    "results = game.run(white, black, NUM_ITERATIONS, visual=None)"
   ]
  },
  {
   "cell_type": "code",
   "execution_count": 57,
   "metadata": {
    "pycharm": {
     "name": "#%%\n"
    }
   },
   "outputs": [],
   "source": [
    "df = pd.DataFrame(data=results,columns=COLUMNS)\n",
    "# this series by moves played ascending\n",
    "# df.sort_values(by=['moves_played'], inplace=False, ascending=True)"
   ]
  },
  {
   "cell_type": "code",
   "execution_count": 58,
   "metadata": {
    "pycharm": {
     "name": "#%%\n"
    }
   },
   "outputs": [],
   "source": [
    "#update the scoreboard\n",
    "scoreboard = scoreboard.append(df, ignore_index=True)"
   ]
  },
  {
   "cell_type": "markdown",
   "metadata": {},
   "source": [
    "### Overall Scoreboard by moves played ascending"
   ]
  },
  {
   "cell_type": "code",
   "execution_count": 59,
   "metadata": {
    "pycharm": {
     "name": "#%%\n"
    }
   },
   "outputs": [
    {
     "data": {
      "text/html": [
       "<div>\n",
       "<style scoped>\n",
       "    .dataframe tbody tr th:only-of-type {\n",
       "        vertical-align: middle;\n",
       "    }\n",
       "\n",
       "    .dataframe tbody tr th {\n",
       "        vertical-align: top;\n",
       "    }\n",
       "\n",
       "    .dataframe thead th {\n",
       "        text-align: right;\n",
       "    }\n",
       "</style>\n",
       "<table border=\"1\" class=\"dataframe\">\n",
       "  <thead>\n",
       "    <tr style=\"text-align: right;\">\n",
       "      <th></th>\n",
       "      <th>round_num</th>\n",
       "      <th>iterations</th>\n",
       "      <th>white agent</th>\n",
       "      <th>black agent</th>\n",
       "      <th>white_victory</th>\n",
       "      <th>winner</th>\n",
       "      <th>moves_played</th>\n",
       "      <th>remain_w_pieces</th>\n",
       "      <th>remaining_b_pieces</th>\n",
       "    </tr>\n",
       "  </thead>\n",
       "  <tbody>\n",
       "    <tr>\n",
       "      <th>9</th>\n",
       "      <td>1</td>\n",
       "      <td>1</td>\n",
       "      <td>advanced_minimax_agent</td>\n",
       "      <td>random_agent</td>\n",
       "      <td>True</td>\n",
       "      <td>checkmate: White wins!</td>\n",
       "      <td>19</td>\n",
       "      <td>16</td>\n",
       "      <td>15</td>\n",
       "    </tr>\n",
       "    <tr>\n",
       "      <th>8</th>\n",
       "      <td>1</td>\n",
       "      <td>1</td>\n",
       "      <td>advanced_minimax_agent</td>\n",
       "      <td>random_agent</td>\n",
       "      <td>True</td>\n",
       "      <td>checkmate: White wins!</td>\n",
       "      <td>35</td>\n",
       "      <td>15</td>\n",
       "      <td>8</td>\n",
       "    </tr>\n",
       "    <tr>\n",
       "      <th>6</th>\n",
       "      <td>1</td>\n",
       "      <td>1</td>\n",
       "      <td>improved_minimax_agent</td>\n",
       "      <td>random_agent</td>\n",
       "      <td>True</td>\n",
       "      <td>checkmate: White wins!</td>\n",
       "      <td>43</td>\n",
       "      <td>14</td>\n",
       "      <td>6</td>\n",
       "    </tr>\n",
       "    <tr>\n",
       "      <th>10</th>\n",
       "      <td>1</td>\n",
       "      <td>1</td>\n",
       "      <td>naive_alpha-beta_minimax_agent</td>\n",
       "      <td>random_agent</td>\n",
       "      <td>True</td>\n",
       "      <td>checkmate: White wins!</td>\n",
       "      <td>63</td>\n",
       "      <td>14</td>\n",
       "      <td>6</td>\n",
       "    </tr>\n",
       "    <tr>\n",
       "      <th>1</th>\n",
       "      <td>1</td>\n",
       "      <td>1</td>\n",
       "      <td>improved_random_agent</td>\n",
       "      <td>random_agent</td>\n",
       "      <td>False</td>\n",
       "      <td>draw: stalemate</td>\n",
       "      <td>77</td>\n",
       "      <td>14</td>\n",
       "      <td>1</td>\n",
       "    </tr>\n",
       "    <tr>\n",
       "      <th>7</th>\n",
       "      <td>1</td>\n",
       "      <td>1</td>\n",
       "      <td>improved_minimax_agent</td>\n",
       "      <td>random_agent</td>\n",
       "      <td>True</td>\n",
       "      <td>checkmate: White wins!</td>\n",
       "      <td>77</td>\n",
       "      <td>12</td>\n",
       "      <td>4</td>\n",
       "    </tr>\n",
       "    <tr>\n",
       "      <th>2</th>\n",
       "      <td>1</td>\n",
       "      <td>1</td>\n",
       "      <td>naive_agent</td>\n",
       "      <td>random_agent</td>\n",
       "      <td>False</td>\n",
       "      <td>draw: claim</td>\n",
       "      <td>81</td>\n",
       "      <td>15</td>\n",
       "      <td>1</td>\n",
       "    </tr>\n",
       "    <tr>\n",
       "      <th>4</th>\n",
       "      <td>1</td>\n",
       "      <td>1</td>\n",
       "      <td>naive_minimax_agent</td>\n",
       "      <td>random_agent</td>\n",
       "      <td>False</td>\n",
       "      <td>draw: claim</td>\n",
       "      <td>97</td>\n",
       "      <td>16</td>\n",
       "      <td>1</td>\n",
       "    </tr>\n",
       "    <tr>\n",
       "      <th>3</th>\n",
       "      <td>1</td>\n",
       "      <td>1</td>\n",
       "      <td>improved_agent</td>\n",
       "      <td>random_agent</td>\n",
       "      <td>True</td>\n",
       "      <td>checkmate: White wins!</td>\n",
       "      <td>117</td>\n",
       "      <td>13</td>\n",
       "      <td>1</td>\n",
       "    </tr>\n",
       "    <tr>\n",
       "      <th>5</th>\n",
       "      <td>1</td>\n",
       "      <td>1</td>\n",
       "      <td>naive_minimax_agent</td>\n",
       "      <td>random_agent</td>\n",
       "      <td>False</td>\n",
       "      <td>draw: claim</td>\n",
       "      <td>155</td>\n",
       "      <td>14</td>\n",
       "      <td>1</td>\n",
       "    </tr>\n",
       "    <tr>\n",
       "      <th>0</th>\n",
       "      <td>1</td>\n",
       "      <td>1</td>\n",
       "      <td>random_agent</td>\n",
       "      <td>random_agent</td>\n",
       "      <td>False</td>\n",
       "      <td>draw: claim</td>\n",
       "      <td>355</td>\n",
       "      <td>3</td>\n",
       "      <td>4</td>\n",
       "    </tr>\n",
       "  </tbody>\n",
       "</table>\n",
       "</div>"
      ],
      "text/plain": [
       "   round_num iterations                     white agent   black agent  \\\n",
       "9          1          1          advanced_minimax_agent  random_agent   \n",
       "8          1          1          advanced_minimax_agent  random_agent   \n",
       "6          1          1          improved_minimax_agent  random_agent   \n",
       "10         1          1  naive_alpha-beta_minimax_agent  random_agent   \n",
       "1          1          1           improved_random_agent  random_agent   \n",
       "7          1          1          improved_minimax_agent  random_agent   \n",
       "2          1          1                     naive_agent  random_agent   \n",
       "4          1          1             naive_minimax_agent  random_agent   \n",
       "3          1          1                  improved_agent  random_agent   \n",
       "5          1          1             naive_minimax_agent  random_agent   \n",
       "0          1          1                    random_agent  random_agent   \n",
       "\n",
       "   white_victory                  winner moves_played remain_w_pieces  \\\n",
       "9           True  checkmate: White wins!           19              16   \n",
       "8           True  checkmate: White wins!           35              15   \n",
       "6           True  checkmate: White wins!           43              14   \n",
       "10          True  checkmate: White wins!           63              14   \n",
       "1          False         draw: stalemate           77              14   \n",
       "7           True  checkmate: White wins!           77              12   \n",
       "2          False             draw: claim           81              15   \n",
       "4          False             draw: claim           97              16   \n",
       "3           True  checkmate: White wins!          117              13   \n",
       "5          False             draw: claim          155              14   \n",
       "0          False             draw: claim          355               3   \n",
       "\n",
       "   remaining_b_pieces  \n",
       "9                  15  \n",
       "8                   8  \n",
       "6                   6  \n",
       "10                  6  \n",
       "1                   1  \n",
       "7                   4  \n",
       "2                   1  \n",
       "4                   1  \n",
       "3                   1  \n",
       "5                   1  \n",
       "0                   4  "
      ]
     },
     "execution_count": 59,
     "metadata": {},
     "output_type": "execute_result"
    }
   ],
   "source": [
    "scoreboard.sort_values(by=['moves_played'], inplace=False, ascending=True)"
   ]
  },
  {
   "cell_type": "markdown",
   "metadata": {},
   "source": [
    "## Naive Mini-Max with Alpha-Beta-Pruning (Depth 2) vs Random"
   ]
  },
  {
   "cell_type": "code",
   "execution_count": 60,
   "metadata": {
    "pycharm": {
     "name": "#%%\n"
    }
   },
   "outputs": [],
   "source": [
    "game = ai.Game()\n",
    "white = ai.MiniMaxAgent(max_depth=2, heuristic=\"naive\", type=\"alpha-beta\")\n",
    "black = ai.RandomAgent()\n",
    "\n",
    "results = game.run(white, black, NUM_ITERATIONS, visual=None)"
   ]
  },
  {
   "cell_type": "code",
   "execution_count": 61,
   "metadata": {
    "pycharm": {
     "name": "#%%\n"
    }
   },
   "outputs": [],
   "source": [
    "df = pd.DataFrame(data=results,columns=COLUMNS)\n",
    "# this series by moves played ascending\n",
    "# df.sort_values(by=['moves_played'], inplace=False, ascending=True)"
   ]
  },
  {
   "cell_type": "code",
   "execution_count": 62,
   "metadata": {
    "pycharm": {
     "name": "#%%\n"
    }
   },
   "outputs": [],
   "source": [
    "#update the scoreboard\n",
    "scoreboard = scoreboard.append(df, ignore_index=True)"
   ]
  },
  {
   "cell_type": "markdown",
   "metadata": {},
   "source": [
    "### Overall Scoreboard by moves played ascending"
   ]
  },
  {
   "cell_type": "code",
   "execution_count": 63,
   "metadata": {
    "pycharm": {
     "name": "#%%\n"
    }
   },
   "outputs": [
    {
     "data": {
      "text/html": [
       "<div>\n",
       "<style scoped>\n",
       "    .dataframe tbody tr th:only-of-type {\n",
       "        vertical-align: middle;\n",
       "    }\n",
       "\n",
       "    .dataframe tbody tr th {\n",
       "        vertical-align: top;\n",
       "    }\n",
       "\n",
       "    .dataframe thead th {\n",
       "        text-align: right;\n",
       "    }\n",
       "</style>\n",
       "<table border=\"1\" class=\"dataframe\">\n",
       "  <thead>\n",
       "    <tr style=\"text-align: right;\">\n",
       "      <th></th>\n",
       "      <th>round_num</th>\n",
       "      <th>iterations</th>\n",
       "      <th>white agent</th>\n",
       "      <th>black agent</th>\n",
       "      <th>white_victory</th>\n",
       "      <th>winner</th>\n",
       "      <th>moves_played</th>\n",
       "      <th>remain_w_pieces</th>\n",
       "      <th>remaining_b_pieces</th>\n",
       "    </tr>\n",
       "  </thead>\n",
       "  <tbody>\n",
       "    <tr>\n",
       "      <th>9</th>\n",
       "      <td>1</td>\n",
       "      <td>1</td>\n",
       "      <td>advanced_minimax_agent</td>\n",
       "      <td>random_agent</td>\n",
       "      <td>True</td>\n",
       "      <td>checkmate: White wins!</td>\n",
       "      <td>19</td>\n",
       "      <td>16</td>\n",
       "      <td>15</td>\n",
       "    </tr>\n",
       "    <tr>\n",
       "      <th>8</th>\n",
       "      <td>1</td>\n",
       "      <td>1</td>\n",
       "      <td>advanced_minimax_agent</td>\n",
       "      <td>random_agent</td>\n",
       "      <td>True</td>\n",
       "      <td>checkmate: White wins!</td>\n",
       "      <td>35</td>\n",
       "      <td>15</td>\n",
       "      <td>8</td>\n",
       "    </tr>\n",
       "    <tr>\n",
       "      <th>6</th>\n",
       "      <td>1</td>\n",
       "      <td>1</td>\n",
       "      <td>improved_minimax_agent</td>\n",
       "      <td>random_agent</td>\n",
       "      <td>True</td>\n",
       "      <td>checkmate: White wins!</td>\n",
       "      <td>43</td>\n",
       "      <td>14</td>\n",
       "      <td>6</td>\n",
       "    </tr>\n",
       "    <tr>\n",
       "      <th>10</th>\n",
       "      <td>1</td>\n",
       "      <td>1</td>\n",
       "      <td>naive_alpha-beta_minimax_agent</td>\n",
       "      <td>random_agent</td>\n",
       "      <td>True</td>\n",
       "      <td>checkmate: White wins!</td>\n",
       "      <td>63</td>\n",
       "      <td>14</td>\n",
       "      <td>6</td>\n",
       "    </tr>\n",
       "    <tr>\n",
       "      <th>1</th>\n",
       "      <td>1</td>\n",
       "      <td>1</td>\n",
       "      <td>improved_random_agent</td>\n",
       "      <td>random_agent</td>\n",
       "      <td>False</td>\n",
       "      <td>draw: stalemate</td>\n",
       "      <td>77</td>\n",
       "      <td>14</td>\n",
       "      <td>1</td>\n",
       "    </tr>\n",
       "    <tr>\n",
       "      <th>7</th>\n",
       "      <td>1</td>\n",
       "      <td>1</td>\n",
       "      <td>improved_minimax_agent</td>\n",
       "      <td>random_agent</td>\n",
       "      <td>True</td>\n",
       "      <td>checkmate: White wins!</td>\n",
       "      <td>77</td>\n",
       "      <td>12</td>\n",
       "      <td>4</td>\n",
       "    </tr>\n",
       "    <tr>\n",
       "      <th>2</th>\n",
       "      <td>1</td>\n",
       "      <td>1</td>\n",
       "      <td>naive_agent</td>\n",
       "      <td>random_agent</td>\n",
       "      <td>False</td>\n",
       "      <td>draw: claim</td>\n",
       "      <td>81</td>\n",
       "      <td>15</td>\n",
       "      <td>1</td>\n",
       "    </tr>\n",
       "    <tr>\n",
       "      <th>11</th>\n",
       "      <td>1</td>\n",
       "      <td>1</td>\n",
       "      <td>naive_alpha-beta_minimax_agent</td>\n",
       "      <td>random_agent</td>\n",
       "      <td>False</td>\n",
       "      <td>draw: stalemate</td>\n",
       "      <td>87</td>\n",
       "      <td>11</td>\n",
       "      <td>2</td>\n",
       "    </tr>\n",
       "    <tr>\n",
       "      <th>4</th>\n",
       "      <td>1</td>\n",
       "      <td>1</td>\n",
       "      <td>naive_minimax_agent</td>\n",
       "      <td>random_agent</td>\n",
       "      <td>False</td>\n",
       "      <td>draw: claim</td>\n",
       "      <td>97</td>\n",
       "      <td>16</td>\n",
       "      <td>1</td>\n",
       "    </tr>\n",
       "    <tr>\n",
       "      <th>3</th>\n",
       "      <td>1</td>\n",
       "      <td>1</td>\n",
       "      <td>improved_agent</td>\n",
       "      <td>random_agent</td>\n",
       "      <td>True</td>\n",
       "      <td>checkmate: White wins!</td>\n",
       "      <td>117</td>\n",
       "      <td>13</td>\n",
       "      <td>1</td>\n",
       "    </tr>\n",
       "    <tr>\n",
       "      <th>5</th>\n",
       "      <td>1</td>\n",
       "      <td>1</td>\n",
       "      <td>naive_minimax_agent</td>\n",
       "      <td>random_agent</td>\n",
       "      <td>False</td>\n",
       "      <td>draw: claim</td>\n",
       "      <td>155</td>\n",
       "      <td>14</td>\n",
       "      <td>1</td>\n",
       "    </tr>\n",
       "    <tr>\n",
       "      <th>0</th>\n",
       "      <td>1</td>\n",
       "      <td>1</td>\n",
       "      <td>random_agent</td>\n",
       "      <td>random_agent</td>\n",
       "      <td>False</td>\n",
       "      <td>draw: claim</td>\n",
       "      <td>355</td>\n",
       "      <td>3</td>\n",
       "      <td>4</td>\n",
       "    </tr>\n",
       "  </tbody>\n",
       "</table>\n",
       "</div>"
      ],
      "text/plain": [
       "   round_num iterations                     white agent   black agent  \\\n",
       "9          1          1          advanced_minimax_agent  random_agent   \n",
       "8          1          1          advanced_minimax_agent  random_agent   \n",
       "6          1          1          improved_minimax_agent  random_agent   \n",
       "10         1          1  naive_alpha-beta_minimax_agent  random_agent   \n",
       "1          1          1           improved_random_agent  random_agent   \n",
       "7          1          1          improved_minimax_agent  random_agent   \n",
       "2          1          1                     naive_agent  random_agent   \n",
       "11         1          1  naive_alpha-beta_minimax_agent  random_agent   \n",
       "4          1          1             naive_minimax_agent  random_agent   \n",
       "3          1          1                  improved_agent  random_agent   \n",
       "5          1          1             naive_minimax_agent  random_agent   \n",
       "0          1          1                    random_agent  random_agent   \n",
       "\n",
       "   white_victory                  winner moves_played remain_w_pieces  \\\n",
       "9           True  checkmate: White wins!           19              16   \n",
       "8           True  checkmate: White wins!           35              15   \n",
       "6           True  checkmate: White wins!           43              14   \n",
       "10          True  checkmate: White wins!           63              14   \n",
       "1          False         draw: stalemate           77              14   \n",
       "7           True  checkmate: White wins!           77              12   \n",
       "2          False             draw: claim           81              15   \n",
       "11         False         draw: stalemate           87              11   \n",
       "4          False             draw: claim           97              16   \n",
       "3           True  checkmate: White wins!          117              13   \n",
       "5          False             draw: claim          155              14   \n",
       "0          False             draw: claim          355               3   \n",
       "\n",
       "   remaining_b_pieces  \n",
       "9                  15  \n",
       "8                   8  \n",
       "6                   6  \n",
       "10                  6  \n",
       "1                   1  \n",
       "7                   4  \n",
       "2                   1  \n",
       "11                  2  \n",
       "4                   1  \n",
       "3                   1  \n",
       "5                   1  \n",
       "0                   4  "
      ]
     },
     "execution_count": 63,
     "metadata": {},
     "output_type": "execute_result"
    }
   ],
   "source": [
    "scoreboard.sort_values(by=['moves_played'], inplace=False, ascending=True)"
   ]
  },
  {
   "cell_type": "markdown",
   "metadata": {},
   "source": [
    "## Naive Mini-Max with Alpha-Beta-Pruning (Depth 3) vs Random"
   ]
  },
  {
   "cell_type": "code",
   "execution_count": 64,
   "metadata": {
    "pycharm": {
     "name": "#%%\n"
    }
   },
   "outputs": [],
   "source": [
    "# game = ai.Game()\n",
    "# white = ai.MiniMaxAgent(max_depth=3, heuristic=\"naive\", type=\"alpha-beta\")\n",
    "# black = ai.RandomAgent()\n",
    "# \n",
    "# results = game.run(white, black, NUM_ITERATIONS, visual=None)"
   ]
  },
  {
   "cell_type": "code",
   "execution_count": 65,
   "metadata": {
    "pycharm": {
     "name": "#%%\n"
    }
   },
   "outputs": [],
   "source": [
    "# df = pd.DataFrame(data=results,columns=COLUMNS)\n",
    "\n",
    "# this series by moves played ascending\n",
    "# df.sort_values(by=['moves_played'], inplace=False, ascending=True)"
   ]
  },
  {
   "cell_type": "code",
   "execution_count": 66,
   "metadata": {
    "pycharm": {
     "name": "#%%\n"
    }
   },
   "outputs": [],
   "source": [
    "#update the scoreboard\n",
    "# scoreboard = scoreboard.append(df, ignore_index=True)"
   ]
  },
  {
   "cell_type": "markdown",
   "metadata": {},
   "source": [
    "### Overall Scoreboard by moves played ascending"
   ]
  },
  {
   "cell_type": "code",
   "execution_count": 67,
   "metadata": {
    "pycharm": {
     "name": "#%%\n"
    }
   },
   "outputs": [],
   "source": [
    "# scoreboard.sort_values(by=['moves_played'], inplace=False, ascending=True)\n"
   ]
  },
  {
   "cell_type": "markdown",
   "metadata": {},
   "source": [
    "## Improved Mini-Max with Alpha-Beta-Pruning (Depth 1) vs Random"
   ]
  },
  {
   "cell_type": "code",
   "execution_count": 68,
   "metadata": {
    "pycharm": {
     "name": "#%%\n"
    }
   },
   "outputs": [],
   "source": [
    "game = ai.Game()\n",
    "white = ai.MiniMaxAgent(max_depth=1, heuristic=\"improved\", type=\"alpha-beta\")\n",
    "black = ai.RandomAgent()\n",
    "\n",
    "results = game.run(white, black, NUM_ITERATIONS, visual=None)"
   ]
  },
  {
   "cell_type": "code",
   "execution_count": 69,
   "metadata": {
    "pycharm": {
     "name": "#%%\n"
    }
   },
   "outputs": [],
   "source": [
    "df = pd.DataFrame(data=results,columns=COLUMNS)\n",
    "# this series by moves played ascending\n",
    "# df.sort_values(by=['moves_played'], inplace=False, ascending=True)"
   ]
  },
  {
   "cell_type": "code",
   "execution_count": 70,
   "metadata": {
    "pycharm": {
     "name": "#%%\n"
    }
   },
   "outputs": [],
   "source": [
    "#update the scoreboard\n",
    "scoreboard = scoreboard.append(df, ignore_index=True)"
   ]
  },
  {
   "cell_type": "markdown",
   "metadata": {},
   "source": [
    "### Overall Scoreboard by moves played ascending"
   ]
  },
  {
   "cell_type": "code",
   "execution_count": 71,
   "metadata": {
    "pycharm": {
     "name": "#%%\n"
    }
   },
   "outputs": [
    {
     "data": {
      "text/html": [
       "<div>\n",
       "<style scoped>\n",
       "    .dataframe tbody tr th:only-of-type {\n",
       "        vertical-align: middle;\n",
       "    }\n",
       "\n",
       "    .dataframe tbody tr th {\n",
       "        vertical-align: top;\n",
       "    }\n",
       "\n",
       "    .dataframe thead th {\n",
       "        text-align: right;\n",
       "    }\n",
       "</style>\n",
       "<table border=\"1\" class=\"dataframe\">\n",
       "  <thead>\n",
       "    <tr style=\"text-align: right;\">\n",
       "      <th></th>\n",
       "      <th>round_num</th>\n",
       "      <th>iterations</th>\n",
       "      <th>white agent</th>\n",
       "      <th>black agent</th>\n",
       "      <th>white_victory</th>\n",
       "      <th>winner</th>\n",
       "      <th>moves_played</th>\n",
       "      <th>remain_w_pieces</th>\n",
       "      <th>remaining_b_pieces</th>\n",
       "    </tr>\n",
       "  </thead>\n",
       "  <tbody>\n",
       "    <tr>\n",
       "      <th>9</th>\n",
       "      <td>1</td>\n",
       "      <td>1</td>\n",
       "      <td>advanced_minimax_agent</td>\n",
       "      <td>random_agent</td>\n",
       "      <td>True</td>\n",
       "      <td>checkmate: White wins!</td>\n",
       "      <td>19</td>\n",
       "      <td>16</td>\n",
       "      <td>15</td>\n",
       "    </tr>\n",
       "    <tr>\n",
       "      <th>8</th>\n",
       "      <td>1</td>\n",
       "      <td>1</td>\n",
       "      <td>advanced_minimax_agent</td>\n",
       "      <td>random_agent</td>\n",
       "      <td>True</td>\n",
       "      <td>checkmate: White wins!</td>\n",
       "      <td>35</td>\n",
       "      <td>15</td>\n",
       "      <td>8</td>\n",
       "    </tr>\n",
       "    <tr>\n",
       "      <th>6</th>\n",
       "      <td>1</td>\n",
       "      <td>1</td>\n",
       "      <td>improved_minimax_agent</td>\n",
       "      <td>random_agent</td>\n",
       "      <td>True</td>\n",
       "      <td>checkmate: White wins!</td>\n",
       "      <td>43</td>\n",
       "      <td>14</td>\n",
       "      <td>6</td>\n",
       "    </tr>\n",
       "    <tr>\n",
       "      <th>10</th>\n",
       "      <td>1</td>\n",
       "      <td>1</td>\n",
       "      <td>naive_alpha-beta_minimax_agent</td>\n",
       "      <td>random_agent</td>\n",
       "      <td>True</td>\n",
       "      <td>checkmate: White wins!</td>\n",
       "      <td>63</td>\n",
       "      <td>14</td>\n",
       "      <td>6</td>\n",
       "    </tr>\n",
       "    <tr>\n",
       "      <th>12</th>\n",
       "      <td>1</td>\n",
       "      <td>1</td>\n",
       "      <td>improved_alpha-beta_minimax_agent</td>\n",
       "      <td>random_agent</td>\n",
       "      <td>True</td>\n",
       "      <td>checkmate: White wins!</td>\n",
       "      <td>69</td>\n",
       "      <td>16</td>\n",
       "      <td>8</td>\n",
       "    </tr>\n",
       "    <tr>\n",
       "      <th>1</th>\n",
       "      <td>1</td>\n",
       "      <td>1</td>\n",
       "      <td>improved_random_agent</td>\n",
       "      <td>random_agent</td>\n",
       "      <td>False</td>\n",
       "      <td>draw: stalemate</td>\n",
       "      <td>77</td>\n",
       "      <td>14</td>\n",
       "      <td>1</td>\n",
       "    </tr>\n",
       "    <tr>\n",
       "      <th>7</th>\n",
       "      <td>1</td>\n",
       "      <td>1</td>\n",
       "      <td>improved_minimax_agent</td>\n",
       "      <td>random_agent</td>\n",
       "      <td>True</td>\n",
       "      <td>checkmate: White wins!</td>\n",
       "      <td>77</td>\n",
       "      <td>12</td>\n",
       "      <td>4</td>\n",
       "    </tr>\n",
       "    <tr>\n",
       "      <th>2</th>\n",
       "      <td>1</td>\n",
       "      <td>1</td>\n",
       "      <td>naive_agent</td>\n",
       "      <td>random_agent</td>\n",
       "      <td>False</td>\n",
       "      <td>draw: claim</td>\n",
       "      <td>81</td>\n",
       "      <td>15</td>\n",
       "      <td>1</td>\n",
       "    </tr>\n",
       "    <tr>\n",
       "      <th>11</th>\n",
       "      <td>1</td>\n",
       "      <td>1</td>\n",
       "      <td>naive_alpha-beta_minimax_agent</td>\n",
       "      <td>random_agent</td>\n",
       "      <td>False</td>\n",
       "      <td>draw: stalemate</td>\n",
       "      <td>87</td>\n",
       "      <td>11</td>\n",
       "      <td>2</td>\n",
       "    </tr>\n",
       "    <tr>\n",
       "      <th>4</th>\n",
       "      <td>1</td>\n",
       "      <td>1</td>\n",
       "      <td>naive_minimax_agent</td>\n",
       "      <td>random_agent</td>\n",
       "      <td>False</td>\n",
       "      <td>draw: claim</td>\n",
       "      <td>97</td>\n",
       "      <td>16</td>\n",
       "      <td>1</td>\n",
       "    </tr>\n",
       "    <tr>\n",
       "      <th>3</th>\n",
       "      <td>1</td>\n",
       "      <td>1</td>\n",
       "      <td>improved_agent</td>\n",
       "      <td>random_agent</td>\n",
       "      <td>True</td>\n",
       "      <td>checkmate: White wins!</td>\n",
       "      <td>117</td>\n",
       "      <td>13</td>\n",
       "      <td>1</td>\n",
       "    </tr>\n",
       "    <tr>\n",
       "      <th>5</th>\n",
       "      <td>1</td>\n",
       "      <td>1</td>\n",
       "      <td>naive_minimax_agent</td>\n",
       "      <td>random_agent</td>\n",
       "      <td>False</td>\n",
       "      <td>draw: claim</td>\n",
       "      <td>155</td>\n",
       "      <td>14</td>\n",
       "      <td>1</td>\n",
       "    </tr>\n",
       "    <tr>\n",
       "      <th>0</th>\n",
       "      <td>1</td>\n",
       "      <td>1</td>\n",
       "      <td>random_agent</td>\n",
       "      <td>random_agent</td>\n",
       "      <td>False</td>\n",
       "      <td>draw: claim</td>\n",
       "      <td>355</td>\n",
       "      <td>3</td>\n",
       "      <td>4</td>\n",
       "    </tr>\n",
       "  </tbody>\n",
       "</table>\n",
       "</div>"
      ],
      "text/plain": [
       "   round_num iterations                        white agent   black agent  \\\n",
       "9          1          1             advanced_minimax_agent  random_agent   \n",
       "8          1          1             advanced_minimax_agent  random_agent   \n",
       "6          1          1             improved_minimax_agent  random_agent   \n",
       "10         1          1     naive_alpha-beta_minimax_agent  random_agent   \n",
       "12         1          1  improved_alpha-beta_minimax_agent  random_agent   \n",
       "1          1          1              improved_random_agent  random_agent   \n",
       "7          1          1             improved_minimax_agent  random_agent   \n",
       "2          1          1                        naive_agent  random_agent   \n",
       "11         1          1     naive_alpha-beta_minimax_agent  random_agent   \n",
       "4          1          1                naive_minimax_agent  random_agent   \n",
       "3          1          1                     improved_agent  random_agent   \n",
       "5          1          1                naive_minimax_agent  random_agent   \n",
       "0          1          1                       random_agent  random_agent   \n",
       "\n",
       "   white_victory                  winner moves_played remain_w_pieces  \\\n",
       "9           True  checkmate: White wins!           19              16   \n",
       "8           True  checkmate: White wins!           35              15   \n",
       "6           True  checkmate: White wins!           43              14   \n",
       "10          True  checkmate: White wins!           63              14   \n",
       "12          True  checkmate: White wins!           69              16   \n",
       "1          False         draw: stalemate           77              14   \n",
       "7           True  checkmate: White wins!           77              12   \n",
       "2          False             draw: claim           81              15   \n",
       "11         False         draw: stalemate           87              11   \n",
       "4          False             draw: claim           97              16   \n",
       "3           True  checkmate: White wins!          117              13   \n",
       "5          False             draw: claim          155              14   \n",
       "0          False             draw: claim          355               3   \n",
       "\n",
       "   remaining_b_pieces  \n",
       "9                  15  \n",
       "8                   8  \n",
       "6                   6  \n",
       "10                  6  \n",
       "12                  8  \n",
       "1                   1  \n",
       "7                   4  \n",
       "2                   1  \n",
       "11                  2  \n",
       "4                   1  \n",
       "3                   1  \n",
       "5                   1  \n",
       "0                   4  "
      ]
     },
     "execution_count": 71,
     "metadata": {},
     "output_type": "execute_result"
    }
   ],
   "source": [
    "scoreboard.sort_values(by=['moves_played'], inplace=False, ascending=True)\n"
   ]
  },
  {
   "cell_type": "markdown",
   "metadata": {},
   "source": [
    "## Improved Mini-Max with Alpha-Beta-Pruning (Depth 2) vs Random"
   ]
  },
  {
   "cell_type": "code",
   "execution_count": 72,
   "metadata": {
    "pycharm": {
     "name": "#%%\n"
    }
   },
   "outputs": [],
   "source": [
    "game = ai.Game()\n",
    "white = ai.MiniMaxAgent(max_depth=2, heuristic=\"improved\", type=\"alpha-beta\")\n",
    "black = ai.RandomAgent()\n",
    "\n",
    "results = game.run(white, black, NUM_ITERATIONS, visual=None)"
   ]
  },
  {
   "cell_type": "code",
   "execution_count": 73,
   "metadata": {
    "pycharm": {
     "name": "#%%\n"
    }
   },
   "outputs": [],
   "source": [
    "df = pd.DataFrame(data=results,columns=COLUMNS)\n",
    "# this series by moves played ascending\n",
    "# df.sort_values(by=['moves_played'], inplace=False, ascending=True)"
   ]
  },
  {
   "cell_type": "code",
   "execution_count": 74,
   "metadata": {
    "pycharm": {
     "name": "#%%\n"
    }
   },
   "outputs": [],
   "source": [
    "#update the scoreboard\n",
    "scoreboard = scoreboard.append(df, ignore_index=True)"
   ]
  },
  {
   "cell_type": "markdown",
   "metadata": {},
   "source": [
    "### Overall Scoreboard by moves played ascending"
   ]
  },
  {
   "cell_type": "code",
   "execution_count": 75,
   "metadata": {
    "pycharm": {
     "name": "#%%\n"
    }
   },
   "outputs": [
    {
     "data": {
      "text/html": [
       "<div>\n",
       "<style scoped>\n",
       "    .dataframe tbody tr th:only-of-type {\n",
       "        vertical-align: middle;\n",
       "    }\n",
       "\n",
       "    .dataframe tbody tr th {\n",
       "        vertical-align: top;\n",
       "    }\n",
       "\n",
       "    .dataframe thead th {\n",
       "        text-align: right;\n",
       "    }\n",
       "</style>\n",
       "<table border=\"1\" class=\"dataframe\">\n",
       "  <thead>\n",
       "    <tr style=\"text-align: right;\">\n",
       "      <th></th>\n",
       "      <th>round_num</th>\n",
       "      <th>iterations</th>\n",
       "      <th>white agent</th>\n",
       "      <th>black agent</th>\n",
       "      <th>white_victory</th>\n",
       "      <th>winner</th>\n",
       "      <th>moves_played</th>\n",
       "      <th>remain_w_pieces</th>\n",
       "      <th>remaining_b_pieces</th>\n",
       "    </tr>\n",
       "  </thead>\n",
       "  <tbody>\n",
       "    <tr>\n",
       "      <th>9</th>\n",
       "      <td>1</td>\n",
       "      <td>1</td>\n",
       "      <td>advanced_minimax_agent</td>\n",
       "      <td>random_agent</td>\n",
       "      <td>True</td>\n",
       "      <td>checkmate: White wins!</td>\n",
       "      <td>19</td>\n",
       "      <td>16</td>\n",
       "      <td>15</td>\n",
       "    </tr>\n",
       "    <tr>\n",
       "      <th>8</th>\n",
       "      <td>1</td>\n",
       "      <td>1</td>\n",
       "      <td>advanced_minimax_agent</td>\n",
       "      <td>random_agent</td>\n",
       "      <td>True</td>\n",
       "      <td>checkmate: White wins!</td>\n",
       "      <td>35</td>\n",
       "      <td>15</td>\n",
       "      <td>8</td>\n",
       "    </tr>\n",
       "    <tr>\n",
       "      <th>6</th>\n",
       "      <td>1</td>\n",
       "      <td>1</td>\n",
       "      <td>improved_minimax_agent</td>\n",
       "      <td>random_agent</td>\n",
       "      <td>True</td>\n",
       "      <td>checkmate: White wins!</td>\n",
       "      <td>43</td>\n",
       "      <td>14</td>\n",
       "      <td>6</td>\n",
       "    </tr>\n",
       "    <tr>\n",
       "      <th>10</th>\n",
       "      <td>1</td>\n",
       "      <td>1</td>\n",
       "      <td>naive_alpha-beta_minimax_agent</td>\n",
       "      <td>random_agent</td>\n",
       "      <td>True</td>\n",
       "      <td>checkmate: White wins!</td>\n",
       "      <td>63</td>\n",
       "      <td>14</td>\n",
       "      <td>6</td>\n",
       "    </tr>\n",
       "    <tr>\n",
       "      <th>12</th>\n",
       "      <td>1</td>\n",
       "      <td>1</td>\n",
       "      <td>improved_alpha-beta_minimax_agent</td>\n",
       "      <td>random_agent</td>\n",
       "      <td>True</td>\n",
       "      <td>checkmate: White wins!</td>\n",
       "      <td>69</td>\n",
       "      <td>16</td>\n",
       "      <td>8</td>\n",
       "    </tr>\n",
       "    <tr>\n",
       "      <th>13</th>\n",
       "      <td>1</td>\n",
       "      <td>1</td>\n",
       "      <td>improved_alpha-beta_minimax_agent</td>\n",
       "      <td>random_agent</td>\n",
       "      <td>False</td>\n",
       "      <td>draw: stalemate</td>\n",
       "      <td>75</td>\n",
       "      <td>13</td>\n",
       "      <td>1</td>\n",
       "    </tr>\n",
       "    <tr>\n",
       "      <th>1</th>\n",
       "      <td>1</td>\n",
       "      <td>1</td>\n",
       "      <td>improved_random_agent</td>\n",
       "      <td>random_agent</td>\n",
       "      <td>False</td>\n",
       "      <td>draw: stalemate</td>\n",
       "      <td>77</td>\n",
       "      <td>14</td>\n",
       "      <td>1</td>\n",
       "    </tr>\n",
       "    <tr>\n",
       "      <th>7</th>\n",
       "      <td>1</td>\n",
       "      <td>1</td>\n",
       "      <td>improved_minimax_agent</td>\n",
       "      <td>random_agent</td>\n",
       "      <td>True</td>\n",
       "      <td>checkmate: White wins!</td>\n",
       "      <td>77</td>\n",
       "      <td>12</td>\n",
       "      <td>4</td>\n",
       "    </tr>\n",
       "    <tr>\n",
       "      <th>2</th>\n",
       "      <td>1</td>\n",
       "      <td>1</td>\n",
       "      <td>naive_agent</td>\n",
       "      <td>random_agent</td>\n",
       "      <td>False</td>\n",
       "      <td>draw: claim</td>\n",
       "      <td>81</td>\n",
       "      <td>15</td>\n",
       "      <td>1</td>\n",
       "    </tr>\n",
       "    <tr>\n",
       "      <th>11</th>\n",
       "      <td>1</td>\n",
       "      <td>1</td>\n",
       "      <td>naive_alpha-beta_minimax_agent</td>\n",
       "      <td>random_agent</td>\n",
       "      <td>False</td>\n",
       "      <td>draw: stalemate</td>\n",
       "      <td>87</td>\n",
       "      <td>11</td>\n",
       "      <td>2</td>\n",
       "    </tr>\n",
       "    <tr>\n",
       "      <th>4</th>\n",
       "      <td>1</td>\n",
       "      <td>1</td>\n",
       "      <td>naive_minimax_agent</td>\n",
       "      <td>random_agent</td>\n",
       "      <td>False</td>\n",
       "      <td>draw: claim</td>\n",
       "      <td>97</td>\n",
       "      <td>16</td>\n",
       "      <td>1</td>\n",
       "    </tr>\n",
       "    <tr>\n",
       "      <th>3</th>\n",
       "      <td>1</td>\n",
       "      <td>1</td>\n",
       "      <td>improved_agent</td>\n",
       "      <td>random_agent</td>\n",
       "      <td>True</td>\n",
       "      <td>checkmate: White wins!</td>\n",
       "      <td>117</td>\n",
       "      <td>13</td>\n",
       "      <td>1</td>\n",
       "    </tr>\n",
       "    <tr>\n",
       "      <th>5</th>\n",
       "      <td>1</td>\n",
       "      <td>1</td>\n",
       "      <td>naive_minimax_agent</td>\n",
       "      <td>random_agent</td>\n",
       "      <td>False</td>\n",
       "      <td>draw: claim</td>\n",
       "      <td>155</td>\n",
       "      <td>14</td>\n",
       "      <td>1</td>\n",
       "    </tr>\n",
       "    <tr>\n",
       "      <th>0</th>\n",
       "      <td>1</td>\n",
       "      <td>1</td>\n",
       "      <td>random_agent</td>\n",
       "      <td>random_agent</td>\n",
       "      <td>False</td>\n",
       "      <td>draw: claim</td>\n",
       "      <td>355</td>\n",
       "      <td>3</td>\n",
       "      <td>4</td>\n",
       "    </tr>\n",
       "  </tbody>\n",
       "</table>\n",
       "</div>"
      ],
      "text/plain": [
       "   round_num iterations                        white agent   black agent  \\\n",
       "9          1          1             advanced_minimax_agent  random_agent   \n",
       "8          1          1             advanced_minimax_agent  random_agent   \n",
       "6          1          1             improved_minimax_agent  random_agent   \n",
       "10         1          1     naive_alpha-beta_minimax_agent  random_agent   \n",
       "12         1          1  improved_alpha-beta_minimax_agent  random_agent   \n",
       "13         1          1  improved_alpha-beta_minimax_agent  random_agent   \n",
       "1          1          1              improved_random_agent  random_agent   \n",
       "7          1          1             improved_minimax_agent  random_agent   \n",
       "2          1          1                        naive_agent  random_agent   \n",
       "11         1          1     naive_alpha-beta_minimax_agent  random_agent   \n",
       "4          1          1                naive_minimax_agent  random_agent   \n",
       "3          1          1                     improved_agent  random_agent   \n",
       "5          1          1                naive_minimax_agent  random_agent   \n",
       "0          1          1                       random_agent  random_agent   \n",
       "\n",
       "   white_victory                  winner moves_played remain_w_pieces  \\\n",
       "9           True  checkmate: White wins!           19              16   \n",
       "8           True  checkmate: White wins!           35              15   \n",
       "6           True  checkmate: White wins!           43              14   \n",
       "10          True  checkmate: White wins!           63              14   \n",
       "12          True  checkmate: White wins!           69              16   \n",
       "13         False         draw: stalemate           75              13   \n",
       "1          False         draw: stalemate           77              14   \n",
       "7           True  checkmate: White wins!           77              12   \n",
       "2          False             draw: claim           81              15   \n",
       "11         False         draw: stalemate           87              11   \n",
       "4          False             draw: claim           97              16   \n",
       "3           True  checkmate: White wins!          117              13   \n",
       "5          False             draw: claim          155              14   \n",
       "0          False             draw: claim          355               3   \n",
       "\n",
       "   remaining_b_pieces  \n",
       "9                  15  \n",
       "8                   8  \n",
       "6                   6  \n",
       "10                  6  \n",
       "12                  8  \n",
       "13                  1  \n",
       "1                   1  \n",
       "7                   4  \n",
       "2                   1  \n",
       "11                  2  \n",
       "4                   1  \n",
       "3                   1  \n",
       "5                   1  \n",
       "0                   4  "
      ]
     },
     "execution_count": 75,
     "metadata": {},
     "output_type": "execute_result"
    }
   ],
   "source": [
    "scoreboard.sort_values(by=['moves_played'], inplace=False, ascending=True)\n"
   ]
  },
  {
   "cell_type": "markdown",
   "metadata": {},
   "source": [
    "## Improved Mini-Max with Alpha-Beta-Pruning (Depth 3) vs Random"
   ]
  },
  {
   "cell_type": "code",
   "execution_count": 76,
   "metadata": {
    "pycharm": {
     "name": "#%%\n"
    }
   },
   "outputs": [],
   "source": [
    "# game = ai.Game()\n",
    "# white = ai.MiniMaxAgent(max_depth=3, heuristic=\"improved\", type=\"alpha-beta\")\n",
    "# black = ai.RandomAgent()\n",
    "# \n",
    "# results = game.run(white, black, NUM_ITERATIONS, visual=None)"
   ]
  },
  {
   "cell_type": "code",
   "execution_count": 77,
   "metadata": {
    "pycharm": {
     "name": "#%%\n"
    }
   },
   "outputs": [],
   "source": [
    "# df = pd.DataFrame(data=results,columns=COLUMNS)\n",
    "\n",
    "# this series by moves played ascending\n",
    "# df.sort_values(by=['moves_played'], inplace=False, ascending=True)"
   ]
  },
  {
   "cell_type": "code",
   "execution_count": 78,
   "metadata": {
    "pycharm": {
     "name": "#%%\n"
    }
   },
   "outputs": [],
   "source": [
    "#update the scoreboard\n",
    "# scoreboard = scoreboard.append(df, ignore_index=True)"
   ]
  },
  {
   "cell_type": "markdown",
   "metadata": {},
   "source": [
    "### Overall Scoreboard by moves played ascending"
   ]
  },
  {
   "cell_type": "code",
   "execution_count": 79,
   "metadata": {
    "pycharm": {
     "name": "#%%\n"
    }
   },
   "outputs": [],
   "source": [
    "# scoreboard.sort_values(by=['moves_played'], inplace=False, ascending=True)\n"
   ]
  },
  {
   "cell_type": "markdown",
   "metadata": {},
   "source": [
    "## Advanced Mini-Max with Alpha-Beta-Pruning (Depth 1) vs Random\n"
   ]
  },
  {
   "cell_type": "code",
   "execution_count": 80,
   "metadata": {
    "pycharm": {
     "name": "#%%\n"
    }
   },
   "outputs": [],
   "source": [
    "game = ai.Game()\n",
    "white = ai.MiniMaxAgent(max_depth=1, heuristic=\"advanced\", type=\"alpha-beta\")\n",
    "black = ai.RandomAgent()\n",
    "\n",
    "results = game.run(white, black, NUM_ITERATIONS, visual=None)"
   ]
  },
  {
   "cell_type": "code",
   "execution_count": 81,
   "metadata": {
    "pycharm": {
     "name": "#%%\n"
    }
   },
   "outputs": [],
   "source": [
    "df = pd.DataFrame(data=results,columns=COLUMNS)\n",
    "# this series by moves played ascending\n",
    "# df.sort_values(by=['moves_played'], inplace=False, ascending=True)"
   ]
  },
  {
   "cell_type": "code",
   "execution_count": 82,
   "metadata": {
    "pycharm": {
     "name": "#%%\n"
    }
   },
   "outputs": [],
   "source": [
    "#update the scoreboard\n",
    "scoreboard = scoreboard.append(df, ignore_index=True)"
   ]
  },
  {
   "cell_type": "markdown",
   "metadata": {},
   "source": [
    "### Overall Scoreboard by moves played ascending"
   ]
  },
  {
   "cell_type": "code",
   "execution_count": 83,
   "metadata": {
    "pycharm": {
     "name": "#%%\n"
    }
   },
   "outputs": [
    {
     "data": {
      "text/html": [
       "<div>\n",
       "<style scoped>\n",
       "    .dataframe tbody tr th:only-of-type {\n",
       "        vertical-align: middle;\n",
       "    }\n",
       "\n",
       "    .dataframe tbody tr th {\n",
       "        vertical-align: top;\n",
       "    }\n",
       "\n",
       "    .dataframe thead th {\n",
       "        text-align: right;\n",
       "    }\n",
       "</style>\n",
       "<table border=\"1\" class=\"dataframe\">\n",
       "  <thead>\n",
       "    <tr style=\"text-align: right;\">\n",
       "      <th></th>\n",
       "      <th>round_num</th>\n",
       "      <th>iterations</th>\n",
       "      <th>white agent</th>\n",
       "      <th>black agent</th>\n",
       "      <th>white_victory</th>\n",
       "      <th>winner</th>\n",
       "      <th>moves_played</th>\n",
       "      <th>remain_w_pieces</th>\n",
       "      <th>remaining_b_pieces</th>\n",
       "    </tr>\n",
       "  </thead>\n",
       "  <tbody>\n",
       "    <tr>\n",
       "      <th>9</th>\n",
       "      <td>1</td>\n",
       "      <td>1</td>\n",
       "      <td>advanced_minimax_agent</td>\n",
       "      <td>random_agent</td>\n",
       "      <td>True</td>\n",
       "      <td>checkmate: White wins!</td>\n",
       "      <td>19</td>\n",
       "      <td>16</td>\n",
       "      <td>15</td>\n",
       "    </tr>\n",
       "    <tr>\n",
       "      <th>8</th>\n",
       "      <td>1</td>\n",
       "      <td>1</td>\n",
       "      <td>advanced_minimax_agent</td>\n",
       "      <td>random_agent</td>\n",
       "      <td>True</td>\n",
       "      <td>checkmate: White wins!</td>\n",
       "      <td>35</td>\n",
       "      <td>15</td>\n",
       "      <td>8</td>\n",
       "    </tr>\n",
       "    <tr>\n",
       "      <th>6</th>\n",
       "      <td>1</td>\n",
       "      <td>1</td>\n",
       "      <td>improved_minimax_agent</td>\n",
       "      <td>random_agent</td>\n",
       "      <td>True</td>\n",
       "      <td>checkmate: White wins!</td>\n",
       "      <td>43</td>\n",
       "      <td>14</td>\n",
       "      <td>6</td>\n",
       "    </tr>\n",
       "    <tr>\n",
       "      <th>14</th>\n",
       "      <td>1</td>\n",
       "      <td>1</td>\n",
       "      <td>advanced_alpha-beta_minimax_agent</td>\n",
       "      <td>random_agent</td>\n",
       "      <td>True</td>\n",
       "      <td>checkmate: White wins!</td>\n",
       "      <td>51</td>\n",
       "      <td>15</td>\n",
       "      <td>4</td>\n",
       "    </tr>\n",
       "    <tr>\n",
       "      <th>10</th>\n",
       "      <td>1</td>\n",
       "      <td>1</td>\n",
       "      <td>naive_alpha-beta_minimax_agent</td>\n",
       "      <td>random_agent</td>\n",
       "      <td>True</td>\n",
       "      <td>checkmate: White wins!</td>\n",
       "      <td>63</td>\n",
       "      <td>14</td>\n",
       "      <td>6</td>\n",
       "    </tr>\n",
       "    <tr>\n",
       "      <th>12</th>\n",
       "      <td>1</td>\n",
       "      <td>1</td>\n",
       "      <td>improved_alpha-beta_minimax_agent</td>\n",
       "      <td>random_agent</td>\n",
       "      <td>True</td>\n",
       "      <td>checkmate: White wins!</td>\n",
       "      <td>69</td>\n",
       "      <td>16</td>\n",
       "      <td>8</td>\n",
       "    </tr>\n",
       "    <tr>\n",
       "      <th>13</th>\n",
       "      <td>1</td>\n",
       "      <td>1</td>\n",
       "      <td>improved_alpha-beta_minimax_agent</td>\n",
       "      <td>random_agent</td>\n",
       "      <td>False</td>\n",
       "      <td>draw: stalemate</td>\n",
       "      <td>75</td>\n",
       "      <td>13</td>\n",
       "      <td>1</td>\n",
       "    </tr>\n",
       "    <tr>\n",
       "      <th>1</th>\n",
       "      <td>1</td>\n",
       "      <td>1</td>\n",
       "      <td>improved_random_agent</td>\n",
       "      <td>random_agent</td>\n",
       "      <td>False</td>\n",
       "      <td>draw: stalemate</td>\n",
       "      <td>77</td>\n",
       "      <td>14</td>\n",
       "      <td>1</td>\n",
       "    </tr>\n",
       "    <tr>\n",
       "      <th>7</th>\n",
       "      <td>1</td>\n",
       "      <td>1</td>\n",
       "      <td>improved_minimax_agent</td>\n",
       "      <td>random_agent</td>\n",
       "      <td>True</td>\n",
       "      <td>checkmate: White wins!</td>\n",
       "      <td>77</td>\n",
       "      <td>12</td>\n",
       "      <td>4</td>\n",
       "    </tr>\n",
       "    <tr>\n",
       "      <th>2</th>\n",
       "      <td>1</td>\n",
       "      <td>1</td>\n",
       "      <td>naive_agent</td>\n",
       "      <td>random_agent</td>\n",
       "      <td>False</td>\n",
       "      <td>draw: claim</td>\n",
       "      <td>81</td>\n",
       "      <td>15</td>\n",
       "      <td>1</td>\n",
       "    </tr>\n",
       "    <tr>\n",
       "      <th>11</th>\n",
       "      <td>1</td>\n",
       "      <td>1</td>\n",
       "      <td>naive_alpha-beta_minimax_agent</td>\n",
       "      <td>random_agent</td>\n",
       "      <td>False</td>\n",
       "      <td>draw: stalemate</td>\n",
       "      <td>87</td>\n",
       "      <td>11</td>\n",
       "      <td>2</td>\n",
       "    </tr>\n",
       "    <tr>\n",
       "      <th>4</th>\n",
       "      <td>1</td>\n",
       "      <td>1</td>\n",
       "      <td>naive_minimax_agent</td>\n",
       "      <td>random_agent</td>\n",
       "      <td>False</td>\n",
       "      <td>draw: claim</td>\n",
       "      <td>97</td>\n",
       "      <td>16</td>\n",
       "      <td>1</td>\n",
       "    </tr>\n",
       "    <tr>\n",
       "      <th>3</th>\n",
       "      <td>1</td>\n",
       "      <td>1</td>\n",
       "      <td>improved_agent</td>\n",
       "      <td>random_agent</td>\n",
       "      <td>True</td>\n",
       "      <td>checkmate: White wins!</td>\n",
       "      <td>117</td>\n",
       "      <td>13</td>\n",
       "      <td>1</td>\n",
       "    </tr>\n",
       "    <tr>\n",
       "      <th>5</th>\n",
       "      <td>1</td>\n",
       "      <td>1</td>\n",
       "      <td>naive_minimax_agent</td>\n",
       "      <td>random_agent</td>\n",
       "      <td>False</td>\n",
       "      <td>draw: claim</td>\n",
       "      <td>155</td>\n",
       "      <td>14</td>\n",
       "      <td>1</td>\n",
       "    </tr>\n",
       "    <tr>\n",
       "      <th>0</th>\n",
       "      <td>1</td>\n",
       "      <td>1</td>\n",
       "      <td>random_agent</td>\n",
       "      <td>random_agent</td>\n",
       "      <td>False</td>\n",
       "      <td>draw: claim</td>\n",
       "      <td>355</td>\n",
       "      <td>3</td>\n",
       "      <td>4</td>\n",
       "    </tr>\n",
       "  </tbody>\n",
       "</table>\n",
       "</div>"
      ],
      "text/plain": [
       "   round_num iterations                        white agent   black agent  \\\n",
       "9          1          1             advanced_minimax_agent  random_agent   \n",
       "8          1          1             advanced_minimax_agent  random_agent   \n",
       "6          1          1             improved_minimax_agent  random_agent   \n",
       "14         1          1  advanced_alpha-beta_minimax_agent  random_agent   \n",
       "10         1          1     naive_alpha-beta_minimax_agent  random_agent   \n",
       "12         1          1  improved_alpha-beta_minimax_agent  random_agent   \n",
       "13         1          1  improved_alpha-beta_minimax_agent  random_agent   \n",
       "1          1          1              improved_random_agent  random_agent   \n",
       "7          1          1             improved_minimax_agent  random_agent   \n",
       "2          1          1                        naive_agent  random_agent   \n",
       "11         1          1     naive_alpha-beta_minimax_agent  random_agent   \n",
       "4          1          1                naive_minimax_agent  random_agent   \n",
       "3          1          1                     improved_agent  random_agent   \n",
       "5          1          1                naive_minimax_agent  random_agent   \n",
       "0          1          1                       random_agent  random_agent   \n",
       "\n",
       "   white_victory                  winner moves_played remain_w_pieces  \\\n",
       "9           True  checkmate: White wins!           19              16   \n",
       "8           True  checkmate: White wins!           35              15   \n",
       "6           True  checkmate: White wins!           43              14   \n",
       "14          True  checkmate: White wins!           51              15   \n",
       "10          True  checkmate: White wins!           63              14   \n",
       "12          True  checkmate: White wins!           69              16   \n",
       "13         False         draw: stalemate           75              13   \n",
       "1          False         draw: stalemate           77              14   \n",
       "7           True  checkmate: White wins!           77              12   \n",
       "2          False             draw: claim           81              15   \n",
       "11         False         draw: stalemate           87              11   \n",
       "4          False             draw: claim           97              16   \n",
       "3           True  checkmate: White wins!          117              13   \n",
       "5          False             draw: claim          155              14   \n",
       "0          False             draw: claim          355               3   \n",
       "\n",
       "   remaining_b_pieces  \n",
       "9                  15  \n",
       "8                   8  \n",
       "6                   6  \n",
       "14                  4  \n",
       "10                  6  \n",
       "12                  8  \n",
       "13                  1  \n",
       "1                   1  \n",
       "7                   4  \n",
       "2                   1  \n",
       "11                  2  \n",
       "4                   1  \n",
       "3                   1  \n",
       "5                   1  \n",
       "0                   4  "
      ]
     },
     "execution_count": 83,
     "metadata": {},
     "output_type": "execute_result"
    }
   ],
   "source": [
    "scoreboard.sort_values(by=['moves_played'], inplace=False, ascending=True)"
   ]
  },
  {
   "cell_type": "markdown",
   "metadata": {},
   "source": [
    "## Naive Mini-Max with Alpha-Beta-Pruning and Piece-Square Tables (Depth 2) vs Random"
   ]
  },
  {
   "cell_type": "code",
   "execution_count": 84,
   "metadata": {
    "pycharm": {
     "name": "#%%\n"
    }
   },
   "outputs": [],
   "source": [
    "game = ai.Game()\n",
    "white = ai.MiniMaxAgent(max_depth=2, heuristic=\"advanced\", type=\"alpha-beta\")\n",
    "black = ai.RandomAgent()\n",
    "\n",
    "results = game.run(white, black, NUM_ITERATIONS, visual=None)"
   ]
  },
  {
   "cell_type": "code",
   "execution_count": 85,
   "metadata": {
    "pycharm": {
     "name": "#%%\n"
    }
   },
   "outputs": [],
   "source": [
    "df = pd.DataFrame(data=results,columns=COLUMNS)\n",
    "# this series by moves played ascending\n",
    "# df.sort_values(by=['moves_played'], inplace=False, ascending=True)"
   ]
  },
  {
   "cell_type": "code",
   "execution_count": 86,
   "metadata": {
    "pycharm": {
     "name": "#%%\n"
    }
   },
   "outputs": [],
   "source": [
    "#update the scoreboard\n",
    "scoreboard = scoreboard.append(df, ignore_index=True)"
   ]
  },
  {
   "cell_type": "markdown",
   "metadata": {},
   "source": [
    "### Overall Scoreboard by moves played ascending"
   ]
  },
  {
   "cell_type": "code",
   "execution_count": 87,
   "metadata": {
    "pycharm": {
     "name": "#%%\n"
    }
   },
   "outputs": [
    {
     "data": {
      "text/html": [
       "<div>\n",
       "<style scoped>\n",
       "    .dataframe tbody tr th:only-of-type {\n",
       "        vertical-align: middle;\n",
       "    }\n",
       "\n",
       "    .dataframe tbody tr th {\n",
       "        vertical-align: top;\n",
       "    }\n",
       "\n",
       "    .dataframe thead th {\n",
       "        text-align: right;\n",
       "    }\n",
       "</style>\n",
       "<table border=\"1\" class=\"dataframe\">\n",
       "  <thead>\n",
       "    <tr style=\"text-align: right;\">\n",
       "      <th></th>\n",
       "      <th>round_num</th>\n",
       "      <th>iterations</th>\n",
       "      <th>white agent</th>\n",
       "      <th>black agent</th>\n",
       "      <th>white_victory</th>\n",
       "      <th>winner</th>\n",
       "      <th>moves_played</th>\n",
       "      <th>remain_w_pieces</th>\n",
       "      <th>remaining_b_pieces</th>\n",
       "    </tr>\n",
       "  </thead>\n",
       "  <tbody>\n",
       "    <tr>\n",
       "      <th>9</th>\n",
       "      <td>1</td>\n",
       "      <td>1</td>\n",
       "      <td>advanced_minimax_agent</td>\n",
       "      <td>random_agent</td>\n",
       "      <td>True</td>\n",
       "      <td>checkmate: White wins!</td>\n",
       "      <td>19</td>\n",
       "      <td>16</td>\n",
       "      <td>15</td>\n",
       "    </tr>\n",
       "    <tr>\n",
       "      <th>15</th>\n",
       "      <td>1</td>\n",
       "      <td>1</td>\n",
       "      <td>advanced_alpha-beta_minimax_agent</td>\n",
       "      <td>random_agent</td>\n",
       "      <td>True</td>\n",
       "      <td>checkmate: White wins!</td>\n",
       "      <td>33</td>\n",
       "      <td>16</td>\n",
       "      <td>8</td>\n",
       "    </tr>\n",
       "    <tr>\n",
       "      <th>8</th>\n",
       "      <td>1</td>\n",
       "      <td>1</td>\n",
       "      <td>advanced_minimax_agent</td>\n",
       "      <td>random_agent</td>\n",
       "      <td>True</td>\n",
       "      <td>checkmate: White wins!</td>\n",
       "      <td>35</td>\n",
       "      <td>15</td>\n",
       "      <td>8</td>\n",
       "    </tr>\n",
       "    <tr>\n",
       "      <th>6</th>\n",
       "      <td>1</td>\n",
       "      <td>1</td>\n",
       "      <td>improved_minimax_agent</td>\n",
       "      <td>random_agent</td>\n",
       "      <td>True</td>\n",
       "      <td>checkmate: White wins!</td>\n",
       "      <td>43</td>\n",
       "      <td>14</td>\n",
       "      <td>6</td>\n",
       "    </tr>\n",
       "    <tr>\n",
       "      <th>14</th>\n",
       "      <td>1</td>\n",
       "      <td>1</td>\n",
       "      <td>advanced_alpha-beta_minimax_agent</td>\n",
       "      <td>random_agent</td>\n",
       "      <td>True</td>\n",
       "      <td>checkmate: White wins!</td>\n",
       "      <td>51</td>\n",
       "      <td>15</td>\n",
       "      <td>4</td>\n",
       "    </tr>\n",
       "    <tr>\n",
       "      <th>10</th>\n",
       "      <td>1</td>\n",
       "      <td>1</td>\n",
       "      <td>naive_alpha-beta_minimax_agent</td>\n",
       "      <td>random_agent</td>\n",
       "      <td>True</td>\n",
       "      <td>checkmate: White wins!</td>\n",
       "      <td>63</td>\n",
       "      <td>14</td>\n",
       "      <td>6</td>\n",
       "    </tr>\n",
       "    <tr>\n",
       "      <th>12</th>\n",
       "      <td>1</td>\n",
       "      <td>1</td>\n",
       "      <td>improved_alpha-beta_minimax_agent</td>\n",
       "      <td>random_agent</td>\n",
       "      <td>True</td>\n",
       "      <td>checkmate: White wins!</td>\n",
       "      <td>69</td>\n",
       "      <td>16</td>\n",
       "      <td>8</td>\n",
       "    </tr>\n",
       "    <tr>\n",
       "      <th>13</th>\n",
       "      <td>1</td>\n",
       "      <td>1</td>\n",
       "      <td>improved_alpha-beta_minimax_agent</td>\n",
       "      <td>random_agent</td>\n",
       "      <td>False</td>\n",
       "      <td>draw: stalemate</td>\n",
       "      <td>75</td>\n",
       "      <td>13</td>\n",
       "      <td>1</td>\n",
       "    </tr>\n",
       "    <tr>\n",
       "      <th>1</th>\n",
       "      <td>1</td>\n",
       "      <td>1</td>\n",
       "      <td>improved_random_agent</td>\n",
       "      <td>random_agent</td>\n",
       "      <td>False</td>\n",
       "      <td>draw: stalemate</td>\n",
       "      <td>77</td>\n",
       "      <td>14</td>\n",
       "      <td>1</td>\n",
       "    </tr>\n",
       "    <tr>\n",
       "      <th>7</th>\n",
       "      <td>1</td>\n",
       "      <td>1</td>\n",
       "      <td>improved_minimax_agent</td>\n",
       "      <td>random_agent</td>\n",
       "      <td>True</td>\n",
       "      <td>checkmate: White wins!</td>\n",
       "      <td>77</td>\n",
       "      <td>12</td>\n",
       "      <td>4</td>\n",
       "    </tr>\n",
       "    <tr>\n",
       "      <th>2</th>\n",
       "      <td>1</td>\n",
       "      <td>1</td>\n",
       "      <td>naive_agent</td>\n",
       "      <td>random_agent</td>\n",
       "      <td>False</td>\n",
       "      <td>draw: claim</td>\n",
       "      <td>81</td>\n",
       "      <td>15</td>\n",
       "      <td>1</td>\n",
       "    </tr>\n",
       "    <tr>\n",
       "      <th>11</th>\n",
       "      <td>1</td>\n",
       "      <td>1</td>\n",
       "      <td>naive_alpha-beta_minimax_agent</td>\n",
       "      <td>random_agent</td>\n",
       "      <td>False</td>\n",
       "      <td>draw: stalemate</td>\n",
       "      <td>87</td>\n",
       "      <td>11</td>\n",
       "      <td>2</td>\n",
       "    </tr>\n",
       "    <tr>\n",
       "      <th>4</th>\n",
       "      <td>1</td>\n",
       "      <td>1</td>\n",
       "      <td>naive_minimax_agent</td>\n",
       "      <td>random_agent</td>\n",
       "      <td>False</td>\n",
       "      <td>draw: claim</td>\n",
       "      <td>97</td>\n",
       "      <td>16</td>\n",
       "      <td>1</td>\n",
       "    </tr>\n",
       "    <tr>\n",
       "      <th>3</th>\n",
       "      <td>1</td>\n",
       "      <td>1</td>\n",
       "      <td>improved_agent</td>\n",
       "      <td>random_agent</td>\n",
       "      <td>True</td>\n",
       "      <td>checkmate: White wins!</td>\n",
       "      <td>117</td>\n",
       "      <td>13</td>\n",
       "      <td>1</td>\n",
       "    </tr>\n",
       "    <tr>\n",
       "      <th>5</th>\n",
       "      <td>1</td>\n",
       "      <td>1</td>\n",
       "      <td>naive_minimax_agent</td>\n",
       "      <td>random_agent</td>\n",
       "      <td>False</td>\n",
       "      <td>draw: claim</td>\n",
       "      <td>155</td>\n",
       "      <td>14</td>\n",
       "      <td>1</td>\n",
       "    </tr>\n",
       "    <tr>\n",
       "      <th>0</th>\n",
       "      <td>1</td>\n",
       "      <td>1</td>\n",
       "      <td>random_agent</td>\n",
       "      <td>random_agent</td>\n",
       "      <td>False</td>\n",
       "      <td>draw: claim</td>\n",
       "      <td>355</td>\n",
       "      <td>3</td>\n",
       "      <td>4</td>\n",
       "    </tr>\n",
       "  </tbody>\n",
       "</table>\n",
       "</div>"
      ],
      "text/plain": [
       "   round_num iterations                        white agent   black agent  \\\n",
       "9          1          1             advanced_minimax_agent  random_agent   \n",
       "15         1          1  advanced_alpha-beta_minimax_agent  random_agent   \n",
       "8          1          1             advanced_minimax_agent  random_agent   \n",
       "6          1          1             improved_minimax_agent  random_agent   \n",
       "14         1          1  advanced_alpha-beta_minimax_agent  random_agent   \n",
       "10         1          1     naive_alpha-beta_minimax_agent  random_agent   \n",
       "12         1          1  improved_alpha-beta_minimax_agent  random_agent   \n",
       "13         1          1  improved_alpha-beta_minimax_agent  random_agent   \n",
       "1          1          1              improved_random_agent  random_agent   \n",
       "7          1          1             improved_minimax_agent  random_agent   \n",
       "2          1          1                        naive_agent  random_agent   \n",
       "11         1          1     naive_alpha-beta_minimax_agent  random_agent   \n",
       "4          1          1                naive_minimax_agent  random_agent   \n",
       "3          1          1                     improved_agent  random_agent   \n",
       "5          1          1                naive_minimax_agent  random_agent   \n",
       "0          1          1                       random_agent  random_agent   \n",
       "\n",
       "   white_victory                  winner moves_played remain_w_pieces  \\\n",
       "9           True  checkmate: White wins!           19              16   \n",
       "15          True  checkmate: White wins!           33              16   \n",
       "8           True  checkmate: White wins!           35              15   \n",
       "6           True  checkmate: White wins!           43              14   \n",
       "14          True  checkmate: White wins!           51              15   \n",
       "10          True  checkmate: White wins!           63              14   \n",
       "12          True  checkmate: White wins!           69              16   \n",
       "13         False         draw: stalemate           75              13   \n",
       "1          False         draw: stalemate           77              14   \n",
       "7           True  checkmate: White wins!           77              12   \n",
       "2          False             draw: claim           81              15   \n",
       "11         False         draw: stalemate           87              11   \n",
       "4          False             draw: claim           97              16   \n",
       "3           True  checkmate: White wins!          117              13   \n",
       "5          False             draw: claim          155              14   \n",
       "0          False             draw: claim          355               3   \n",
       "\n",
       "   remaining_b_pieces  \n",
       "9                  15  \n",
       "15                  8  \n",
       "8                   8  \n",
       "6                   6  \n",
       "14                  4  \n",
       "10                  6  \n",
       "12                  8  \n",
       "13                  1  \n",
       "1                   1  \n",
       "7                   4  \n",
       "2                   1  \n",
       "11                  2  \n",
       "4                   1  \n",
       "3                   1  \n",
       "5                   1  \n",
       "0                   4  "
      ]
     },
     "execution_count": 87,
     "metadata": {},
     "output_type": "execute_result"
    }
   ],
   "source": [
    "scoreboard.sort_values(by=['moves_played'], inplace=False, ascending=True)"
   ]
  },
  {
   "cell_type": "markdown",
   "metadata": {},
   "source": [
    "## Naive Mini-Max with Alpha-Beta-Pruning and Piece-Square Tables (Depth 3) vs Random"
   ]
  },
  {
   "cell_type": "code",
   "execution_count": 88,
   "metadata": {
    "pycharm": {
     "name": "#%%\n"
    }
   },
   "outputs": [],
   "source": [
    "# game = ai.Game()\n",
    "# white = ai.MiniMaxAgent(max_depth=3, heuristic=\"advanced\", type=\"alpha-beta\")\n",
    "# black = ai.RandomAgent()\n",
    "# \n",
    "# results = game.run(white, black, NUM_ITERATIONS, visual=None)"
   ]
  },
  {
   "cell_type": "code",
   "execution_count": 89,
   "metadata": {
    "pycharm": {
     "name": "#%%\n"
    }
   },
   "outputs": [],
   "source": [
    "# df = pd.DataFrame(data=results,columns=COLUMNS)\n",
    "\n",
    "# this series by moves played ascending\n",
    "# df.sort_values(by=['moves_played'], inplace=False, ascending=True)"
   ]
  },
  {
   "cell_type": "code",
   "execution_count": 90,
   "metadata": {
    "pycharm": {
     "name": "#%%\n"
    }
   },
   "outputs": [],
   "source": [
    "#update the scoreboard\n",
    "# scoreboard = scoreboard.append(df, ignore_index=True)"
   ]
  },
  {
   "cell_type": "markdown",
   "metadata": {},
   "source": [
    "### Overall Scoreboard by moves played ascending"
   ]
  },
  {
   "cell_type": "code",
   "execution_count": 91,
   "metadata": {
    "pycharm": {
     "name": "#%%\n"
    }
   },
   "outputs": [],
   "source": [
    "# scoreboard.sort_values(by=['moves_played'], inplace=False, ascending=True)"
   ]
  }
 ],
 "metadata": {
  "kernelspec": {
   "display_name": "Python 3",
   "language": "python",
   "name": "python3"
  },
  "language_info": {
   "codemirror_mode": {
    "name": "ipython",
    "version": 3
   },
   "file_extension": ".py",
   "mimetype": "text/x-python",
   "name": "python",
   "nbconvert_exporter": "python",
   "pygments_lexer": "ipython3",
   "version": "3.7.5"
  },
  "pycharm": {
   "stem_cell": {
    "cell_type": "raw",
    "metadata": {
     "collapsed": false
    },
    "source": []
   }
  }
 },
 "nbformat": 4,
 "nbformat_minor": 4
}
