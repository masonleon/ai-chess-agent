{
 "cells": [
  {
   "cell_type": "code",
   "execution_count": null,
   "metadata": {
    "pycharm": {
     "is_executing": false
    }
   },
   "outputs": [],
   "source": [
    "import time\n",
    "import chess\n",
    "from IPython.display import display, HTML, clear_output\n",
    "import numpy as np\n",
    "import pandas as pd\n",
    "import timeit\n",
    "import random"
   ]
  },
  {
   "cell_type": "markdown",
   "metadata": {},
   "source": [
    "# AI Chess Agent Project"
   ]
  },
  {
   "cell_type": "markdown",
   "metadata": {},
   "source": [
    "## helper functions"
   ]
  },
  {
   "cell_type": "markdown",
   "metadata": {},
   "source": [
    "### Displays the chess board"
   ]
  },
  {
   "cell_type": "code",
   "execution_count": null,
   "metadata": {
    "pycharm": {
     "is_executing": false
    }
   },
   "outputs": [],
   "source": [
    "def display_board(board, use_svg):\n",
    "    if use_svg:\n",
    "        return board._repr_svg_()\n",
    "    else:\n",
    "        return \"<pre>\" + str(board) + \"</pre>\""
   ]
  },
  {
   "cell_type": "markdown",
   "metadata": {},
   "source": [
    "### Checks if player agent is white or black"
   ]
  },
  {
   "cell_type": "code",
   "execution_count": null,
   "metadata": {
    "pycharm": {
     "is_executing": false
    }
   },
   "outputs": [],
   "source": [
    "def who(agent):\n",
    "    return \"White\" if agent == chess.WHITE else \"Black\""
   ]
  },
  {
   "cell_type": "markdown",
   "metadata": {},
   "source": [
    "### Obtains available moves"
   ]
  },
  {
   "cell_type": "code",
   "execution_count": null,
   "metadata": {
    "pycharm": {
     "is_executing": false
    }
   },
   "outputs": [],
   "source": [
    "def get_move(prompt):\n",
    "    uci = input(prompt)\n",
    "    if uci and uci[0] == \"q\":\n",
    "        raise KeyboardInterrupt()\n",
    "    try:\n",
    "        chess.Move.from_uci(uci)\n",
    "    except:\n",
    "        uci = None\n",
    "    return uci"
   ]
  },
  {
   "cell_type": "markdown",
   "metadata": {},
   "source": [
    "### Tallies the white and black players pieces"
   ]
  },
  {
   "cell_type": "code",
   "execution_count": null,
   "metadata": {
    "pycharm": {
     "is_executing": false
    }
   },
   "outputs": [],
   "source": [
    "def count_pieces(board):\n",
    "    num_pieces = [0,0]\n",
    "    \n",
    "    num_pieces[0] += len(board.pieces(chess.PAWN,   chess.WHITE))\n",
    "    num_pieces[0] += len(board.pieces(chess.BISHOP, chess.WHITE))\n",
    "    num_pieces[0] += len(board.pieces(chess.KING,   chess.WHITE))\n",
    "    num_pieces[0] += len(board.pieces(chess.QUEEN,  chess.WHITE))\n",
    "    num_pieces[0] += len(board.pieces(chess.KNIGHT, chess.WHITE))\n",
    "    num_pieces[0] += len(board.pieces(chess.ROOK,   chess.WHITE))\n",
    "\n",
    "    num_pieces[1] += len(board.pieces(chess.PAWN,   chess.BLACK))\n",
    "    num_pieces[1] += len(board.pieces(chess.BISHOP, chess.BLACK))\n",
    "    num_pieces[1] += len(board.pieces(chess.KING,   chess.BLACK))\n",
    "    num_pieces[1] += len(board.pieces(chess.QUEEN,  chess.BLACK))\n",
    "    num_pieces[1] += len(board.pieces(chess.KNIGHT, chess.BLACK))\n",
    "    num_pieces[1] += len(board.pieces(chess.ROOK,   chess.BLACK))\n",
    "                             \n",
    "    return num_pieces"
   ]
  },
  {
   "cell_type": "markdown",
   "metadata": {},
   "source": [
    "### Plays a single game with two agent players"
   ]
  },
  {
   "cell_type": "code",
   "execution_count": null,
   "metadata": {
    "pycharm": {
     "is_executing": false
    }
   },
   "outputs": [],
   "source": [
    "def play_game(agent1, agent2, visual=\"svg\", pause=0.1):\n",
    "    \"\"\"\n",
    "    agentN1, agent2: functions that takes board, return uci move\n",
    "    visual: \"simple\" | \"svg\" | None\n",
    "    \"\"\"\n",
    "    use_svg = (visual == \"svg\")\n",
    "    board = chess.Board()\n",
    "    try:\n",
    "        while not board.is_game_over(claim_draw=True):\n",
    "            if board.turn == chess.WHITE:\n",
    "                uci = agent1(board)\n",
    "            else:\n",
    "                uci = agent2(board)\n",
    "            name = who(board.turn)\n",
    "            board.push_uci(uci)\n",
    "            board_stop = display_board(board, use_svg)\n",
    "            html = \"<b>Move %s %s, Play '%s':</b><br/>%s\" % (\n",
    "                       len(board.move_stack), name, uci, board_stop)\n",
    "            if visual is not None:\n",
    "                if visual == \"svg\":\n",
    "                    clear_output(wait=True)\n",
    "                display(HTML(html))\n",
    "                if visual == \"svg\":\n",
    "                    time.sleep(pause)\n",
    "    except KeyboardInterrupt:\n",
    "        msg = \"Game interrupted!\"\n",
    "        return (False, msg, board)\n",
    "    game_has_winner = False\n",
    "    if board.is_checkmate():\n",
    "        msg = \"checkmate: \" + who(not board.turn) + \" wins!\"\n",
    "        game_has_winner = not board.turn\n",
    "    elif board.is_stalemate():\n",
    "        msg = \"draw: stalemate\"\n",
    "    elif board.is_fivefold_repetition():\n",
    "        msg = \"draw: 5-fold repetition\"\n",
    "    elif board.is_insufficient_material():\n",
    "        msg = \"draw: insufficient material\"\n",
    "    elif board.can_claim_draw():\n",
    "        msg = \"draw: claim\"\n",
    "    if visual is not None:\n",
    "        print(msg)\n",
    "    \n",
    "    return (game_has_winner, msg, board)"
   ]
  },
  {
   "cell_type": "markdown",
   "metadata": {},
   "source": [
    "### \"Driver\" allows for two agent players to play multiple games for a provided number of iterations. Returns a list of scores"
   ]
  },
  {
   "cell_type": "code",
   "execution_count": null,
   "metadata": {
    "pycharm": {
     "is_executing": false
    }
   },
   "outputs": [],
   "source": [
    "def run(agent1, agent2, iterations, agent1_name, agent2_name):\n",
    "#     df_scoreboard = pd.DataFrame(data={}, columns=['game_result','winner','moves_played', 'remaining_w_pieces','remaining_b_pieces'])    \n",
    "    scores_list = list()\n",
    "                                 \n",
    "    for round_num in range(iterations):\n",
    "        \n",
    "        terminal_state = play_game(agent1, agent2, visual=\"svg\", pause=0.001)\n",
    "#         time = timeit.timeit(play_game(agent1, agent2, visual=\"svg\", pause=0), number=100)/100\n",
    "        \n",
    "        game_hase_winner = terminal_state[0]\n",
    "        msg = terminal_state[1]\n",
    "        moves_played = len(terminal_state[2].move_stack)\n",
    "        remaining_w_pieces = count_pieces(terminal_state[2])[0]\n",
    "        remaining_b_pieces = count_pieces(terminal_state[2])[1]\n",
    "\n",
    "#         result_list = (game_hase_winner, msg, moves_played, count_pieces(result[2])[0], count_pieces(result[2])[1], result[3])\n",
    "        result_list = (round_num + 1, iterations, agent1_name, agent2_name, game_hase_winner, msg, moves_played, remaining_w_pieces, remaining_b_pieces)\n",
    "        scores_list.append(result_list)\n",
    "        \n",
    "    return scores_list"
   ]
  },
  {
   "cell_type": "markdown",
   "metadata": {},
   "source": [
    "### Results Scoreboard"
   ]
  },
  {
   "cell_type": "code",
   "execution_count": null,
   "metadata": {},
   "outputs": [],
   "source": [
    "df = pd.DataFrame(columns=['round_num', 'iterations', 'agent1_name', 'agent2_name','game_has_winner','winner','moves_played', 'remain_w_pieces','remaining_b_pieces'])"
   ]
  },
  {
   "cell_type": "markdown",
   "metadata": {},
   "source": [
    "## Random Agent Evaluation"
   ]
  },
  {
   "cell_type": "markdown",
   "metadata": {},
   "source": [
    "### plays two random agents against eachother 10 times"
   ]
  },
  {
   "cell_type": "markdown",
   "metadata": {},
   "source": [
    "### Random Agent player"
   ]
  },
  {
   "cell_type": "code",
   "execution_count": null,
   "metadata": {
    "pycharm": {
     "is_executing": false
    }
   },
   "outputs": [],
   "source": [
    "def random_agent(board):\n",
    "    move = random.choice(list(board.legal_moves))\n",
    "    return move.uci()"
   ]
  },
  {
   "cell_type": "code",
   "execution_count": null,
   "metadata": {
    "pycharm": {
     "is_executing": false
    }
   },
   "outputs": [],
   "source": [
    "rand_eval_scores = run(random_agent, random_agent, 10, \"random_agent\", \"random_agent\")"
   ]
  },
  {
   "cell_type": "code",
   "execution_count": null,
   "metadata": {
    "pycharm": {
     "is_executing": false
    }
   },
   "outputs": [],
   "source": [
    "df_rand_eval_scoreboard = pd.DataFrame(data=rand_eval_scores, columns=['round_num', 'iterations', 'agent1_name', 'agent2_name','game_has_winner','winner','moves_played', 'remain_w_pieces','remaining_b_pieces'])\n",
    "\n",
    "df_rand_eval_scoreboard.sort_values(by=['moves_played'], inplace=False, ascending=True)"
   ]
  },
  {
   "cell_type": "code",
   "execution_count": null,
   "metadata": {},
   "outputs": [],
   "source": [
    "#update results scoreboard\n",
    "df = df.append(df_rand_eval_scoreboard, ignore_index=True)"
   ]
  },
  {
   "cell_type": "markdown",
   "metadata": {},
   "source": [
    "### Scoreboard"
   ]
  },
  {
   "cell_type": "code",
   "execution_count": null,
   "metadata": {},
   "outputs": [],
   "source": [
    "#10 best games by moves_played ascending\n",
    "df.sort_values(by=['moves_played'], inplace=False, ascending=True).head(10)"
   ]
  },
  {
   "cell_type": "code",
   "execution_count": null,
   "metadata": {},
   "outputs": [],
   "source": [
    "# #update results scoreboard\n",
    "# df.append(df_rand_eval_scoreboard, ignore_index=True)"
   ]
  },
  {
   "cell_type": "markdown",
   "metadata": {
    "pycharm": {
     "is_executing": false
    }
   },
   "source": [
    "## Naive Agent Evaluation"
   ]
  },
  {
   "cell_type": "markdown",
   "metadata": {},
   "source": [
    "### Naive evaluation function\n",
    "Sets the score to 0 and assigns weights to every piece on the board. The weighted sum of all the available pieces on the board is then computed.\n",
    "\n",
    "The white pieces are assigned positive values while the black ones are assigned negative values of the same magnitude. "
   ]
  },
  {
   "cell_type": "code",
   "execution_count": null,
   "metadata": {
    "pycharm": {
     "is_executing": false
    }
   },
   "outputs": [],
   "source": [
    "def naive_eval(board, move, my_color):\n",
    "    score = 0\n",
    "    ## Check some things about this move:\n",
    "    # score += 10 if board.is_capture(move) else 0\n",
    "    # To actually make the move:\n",
    "    board.push(move)\n",
    "    # Now check some other things:\n",
    "    for (piece, value) in [(chess.PAWN, 1), \n",
    "                           (chess.BISHOP, 4), \n",
    "                           (chess.KING, 0), \n",
    "                           (chess.QUEEN, 10), \n",
    "                           (chess.KNIGHT, 5),\n",
    "                           (chess.ROOK, 3)]:\n",
    "        score += len(board.pieces(piece, my_color)) * value\n",
    "        score -= len(board.pieces(piece, not my_color)) * value\n",
    "        # can also check things about the pieces position here\n",
    "    return score"
   ]
  },
  {
   "cell_type": "markdown",
   "metadata": {},
   "source": [
    "### Naive Agent\n",
    "Chooses best score"
   ]
  },
  {
   "cell_type": "code",
   "execution_count": null,
   "metadata": {
    "pycharm": {
     "is_executing": false
    }
   },
   "outputs": [],
   "source": [
    "def naive_agent(board):\n",
    "    moves = list(board.legal_moves)\n",
    "    for move in moves:\n",
    "        newboard = board.copy()\n",
    "        # go through board and return a score\n",
    "        move.score = naive_eval(newboard, move, board.turn)\n",
    "    moves.sort(key=lambda move: move.score, reverse=True) # sort on score\n",
    "    return moves[0].uci()"
   ]
  },
  {
   "cell_type": "code",
   "execution_count": null,
   "metadata": {
    "pycharm": {
     "is_executing": false
    }
   },
   "outputs": [],
   "source": [
    "# result = play_game(random_agent, naive_agent, visual=\"svg\", pause=0)"
   ]
  },
  {
   "cell_type": "code",
   "execution_count": null,
   "metadata": {
    "pycharm": {
     "is_executing": false
    }
   },
   "outputs": [],
   "source": [
    "naive_eval_scores = run(naive_agent, random_agent, 10, \"naive_agent\", \"random_agent\")"
   ]
  },
  {
   "cell_type": "code",
   "execution_count": null,
   "metadata": {
    "pycharm": {
     "is_executing": false
    }
   },
   "outputs": [],
   "source": [
    "# df_naive_eval_scoreboard = pd.DataFrame(data=naive_eval_scores, columns=['round_num', 'iterations', 'agent1_name', 'agent2_name','game_has_winner','winner','moves_played', 'remain_w_pieces','remaining_b_pieces'])\n",
    "# df_naive_eval_scoreboard\n",
    "\n",
    "df_naive_eval_scoreboard = pd.DataFrame(data=naive_eval_scores, columns=['round_num', 'iterations', 'agent1_name', 'agent2_name','game_has_winner','winner','moves_played', 'remain_w_pieces','remaining_b_pieces'])\n",
    "\n",
    "df_naive_eval_scoreboard.sort_values(by=['moves_played'], inplace=False, ascending=True)\n"
   ]
  },
  {
   "cell_type": "code",
   "execution_count": null,
   "metadata": {},
   "outputs": [],
   "source": [
    "# #update results scoreboard\n",
    "# df.append(df_naive_eval_scoreboard, ignore_index=True)\n",
    "\n",
    "#update results scoreboard\n",
    "df = df.append(df_naive_eval_scoreboard, ignore_index=True)"
   ]
  },
  {
   "cell_type": "markdown",
   "metadata": {},
   "source": [
    "### Scoreboard: Top 10 Games With Fewest Moves"
   ]
  },
  {
   "cell_type": "code",
   "execution_count": null,
   "metadata": {},
   "outputs": [],
   "source": [
    "#10 best games by moves_played ascending\n",
    "df.sort_values(by=['moves_played'], inplace=False, ascending=True).head(10)"
   ]
  },
  {
   "cell_type": "markdown",
   "metadata": {},
   "source": [
    "### Naive Agent With Improved Evaluation"
   ]
  },
  {
   "cell_type": "markdown",
   "metadata": {},
   "source": [
    "## Naive Random Heuristic Evaluation\n",
    "Sets the score to a random value and assigns weights to every piece on the board. The weighted sum of all the available pieces on the board is then computed.\n",
    "\n",
    "The white pieces are assigned positive values while the black ones are assigned negative values of the same magnitude. "
   ]
  },
  {
   "cell_type": "code",
   "execution_count": null,
   "metadata": {
    "pycharm": {
     "is_executing": false
    }
   },
   "outputs": [],
   "source": [
    "def naive_random_heuristic_eval(board, move, my_color):\n",
    "    score = random.random()\n",
    "    ## Check some things about this move:\n",
    "    # score += 10 if board.is_capture(move) else 0\n",
    "    # To actually make the move:\n",
    "    board.push(move)\n",
    "    # Now check some other things:\n",
    "    for (piece, value) in [(chess.PAWN, 1), \n",
    "                           (chess.BISHOP, 4), \n",
    "                           (chess.KING, 0), \n",
    "                           (chess.QUEEN, 10), \n",
    "                           (chess.KNIGHT, 5),\n",
    "                           (chess.ROOK, 3)]:\n",
    "        score += len(board.pieces(piece, my_color)) * value\n",
    "        score -= len(board.pieces(piece, not my_color)) * value\n",
    "        # can also check things about the pieces position here\n",
    "    # Check global things about the board\n",
    "    score += 100 if board.is_checkmate() else 0\n",
    "    return score"
   ]
  },
  {
   "cell_type": "markdown",
   "metadata": {},
   "source": [
    "### Naive Agent with Random Heuristic Evaluator\n",
    "Chooses best score"
   ]
  },
  {
   "cell_type": "code",
   "execution_count": null,
   "metadata": {
    "pycharm": {
     "is_executing": false
    }
   },
   "outputs": [],
   "source": [
    "def naive_random_heuristic_agent(board):\n",
    "    moves = list(board.legal_moves)\n",
    "    for move in moves:\n",
    "        newboard = board.copy()\n",
    "        # go through board and return a score\n",
    "        move.score = naive_random_heuristic_eval(newboard, move, board.turn)\n",
    "    moves.sort(key=lambda move: move.score, reverse=True) # sort on score\n",
    "    return moves[0].uci()"
   ]
  },
  {
   "cell_type": "code",
   "execution_count": null,
   "metadata": {},
   "outputs": [],
   "source": [
    "naive_rand_heuristic_eval_scores = run(naive_random_heuristic_agent, random_agent, 10, \"naive_random_heuristic_agent\", \"random_agent\")"
   ]
  },
  {
   "cell_type": "code",
   "execution_count": null,
   "metadata": {},
   "outputs": [],
   "source": [
    "# df_naive_rand_heuristic_eval_scoreboard = pd.DataFrame(data=naive_rand_heuristic_eval_scores, columns=['round_num', 'iterations', 'agent1_name', 'agent2_name','game_has_winner','winner','moves_played', 'remain_w_pieces','remaining_b_pieces'])\n",
    "# df_naive_rand_heuristic_eval_scoreboard\n",
    "\n",
    "df_naive_rand_heuristic_eval_scoreboard = pd.DataFrame(data=naive_rand_heuristic_eval_scores, columns=['round_num', 'iterations', 'agent1_name', 'agent2_name','game_has_winner','winner','moves_played', 'remain_w_pieces','remaining_b_pieces'])\n",
    "df_naive_rand_heuristic_eval_scoreboard.sort_values(by=['moves_played'], inplace=False, ascending=True)"
   ]
  },
  {
   "cell_type": "code",
   "execution_count": null,
   "metadata": {},
   "outputs": [],
   "source": [
    "#update results scoreboard\n",
    "df = df.append(df_naive_rand_heuristic_eval_scoreboard , ignore_index=True)"
   ]
  },
  {
   "cell_type": "markdown",
   "metadata": {},
   "source": [
    "### Scoreboard: Top 10 Games With Fewest Moves"
   ]
  },
  {
   "cell_type": "code",
   "execution_count": null,
   "metadata": {},
   "outputs": [],
   "source": [
    "#10 best games by moves_played ascending\n",
    "df.sort_values(by=['moves_played'], inplace=False, ascending=True).head(10)"
   ]
  },
  {
   "cell_type": "markdown",
   "metadata": {},
   "source": [
    "## Minimax"
   ]
  },
  {
   "cell_type": "markdown",
   "metadata": {},
   "source": [
    "## minimax evaluation\n",
    "Sets the score to a random value and assigns weights to every piece on the board. The weighted sum of all the available pieces on the board is then computed.\n",
    "\n",
    "The white pieces are assigned positive values while the black ones are assigned negative values of the same magnitude. "
   ]
  },
  {
   "cell_type": "code",
   "execution_count": null,
   "metadata": {},
   "outputs": [],
   "source": [
    "def minimax_eval(board):\n",
    "    # moves = list(board.legal_moves)\n",
    "    # for move in moves:\n",
    "    #     newboard = board.copy()\n",
    "    #     # go through board and return a score\n",
    "    #     move.score = staticAnalysis(newboard, move, board.turn)\n",
    "    # moves.sort(key=lambda move: move.score, reverse=True) # sort on score\n",
    "    # return moves[0].uci()\n",
    "    score = random.random()\n",
    "    for (piece, value) in [(chess.PAWN, 1), \n",
    "                        (chess.BISHOP, 4), \n",
    "                        (chess.KING, 0), \n",
    "                        (chess.QUEEN, 10), \n",
    "                        (chess.KNIGHT, 5),\n",
    "                        (chess.ROOK, 3)]:\n",
    "        score += len(board.pieces(piece, True)) * value\n",
    "        score -= len(board.pieces(piece,False)) * value\n",
    "        # can also check things about the pieces position here\n",
    "    return score"
   ]
  },
  {
   "cell_type": "code",
   "execution_count": null,
   "metadata": {},
   "outputs": [],
   "source": [
    "def maxValue(board, currentAgent, depth):\n",
    "    bestMove = -9999\n",
    "\n",
    "    moves = list(board.legal_moves)\n",
    "    for move in moves:\n",
    "        newboard = board.copy()\n",
    "        newboard.push_uci(move.uci()) \n",
    "        result = miniMaxDecision(newboard, not currentAgent , depth -1)\n",
    "        if result > bestMove:\n",
    "            bestMove = result\n",
    "    return bestMove"
   ]
  },
  {
   "cell_type": "code",
   "execution_count": null,
   "metadata": {},
   "outputs": [],
   "source": [
    "def minValue(board, currentAgent, depth):\n",
    "    bestMove = 9999\n",
    "    \n",
    "    moves = list(board.legal_moves)\n",
    "    for move in moves:\n",
    "        newboard = board.copy()\n",
    "        newboard.push_uci(move.uci()) \n",
    "        result = miniMaxDecision(newboard, not currentAgent, depth -1)\n",
    "        if result < bestMove:\n",
    "            bestMove = result\n",
    "    return bestMove"
   ]
  },
  {
   "cell_type": "code",
   "execution_count": null,
   "metadata": {},
   "outputs": [],
   "source": [
    "def miniMaxDecision(board, currentAgent, depth):\n",
    "    if depth == 0 :\n",
    "        return minimax_eval(board)\n",
    "\n",
    "    if currentAgent:\n",
    "        return maxValue(board, not currentAgent, depth - 1)\n",
    "    else:\n",
    "        return minValue(board, not currentAgent, depth - 1)"
   ]
  },
  {
   "cell_type": "code",
   "execution_count": null,
   "metadata": {},
   "outputs": [],
   "source": [
    "def mini_max_agent(board):\n",
    "    moves = list(board.legal_moves)\n",
    "    for move in moves:\n",
    "        newboard = board.copy()\n",
    "        newboard.push_uci(move.uci())\n",
    "        move.score = miniMaxDecision(newboard, False , 2)\n",
    "    moves.sort(key=lambda move: move.score, reverse=True) # sort on score\n",
    "    return moves[0].uci() "
   ]
  },
  {
   "cell_type": "code",
   "execution_count": null,
   "metadata": {},
   "outputs": [],
   "source": [
    "minimax_eval_scores = run(mini_max_agent, random_agent, 10, \"mini_max_agent\", \"random_agent\")"
   ]
  },
  {
   "cell_type": "code",
   "execution_count": null,
   "metadata": {},
   "outputs": [],
   "source": [
    "df_minimax_eval_scoreboard = pd.DataFrame(data=minimax_eval_scores, columns=['round_num', 'iterations', 'agent1_name', 'agent2_name','game_has_winner','winner','moves_played', 'remain_w_pieces','remaining_b_pieces'])\n",
    "\n",
    "df_minimax_eval_scoreboard.sort_values(by=['moves_played'], inplace=False, ascending=True)"
   ]
  },
  {
   "cell_type": "code",
   "execution_count": null,
   "metadata": {},
   "outputs": [],
   "source": [
    "#update results scoreboard\n",
    "df = df.append(df_minimax_eval_scoreboard, ignore_index=True)"
   ]
  },
  {
   "cell_type": "markdown",
   "metadata": {},
   "source": [
    "### Scoreboard: Top 10 Games With Fewest Moves"
   ]
  },
  {
   "cell_type": "code",
   "execution_count": null,
   "metadata": {},
   "outputs": [],
   "source": [
    "#10 best games by moves_played ascending\n",
    "df.sort_values(by=['moves_played'], inplace=False, ascending=True).head(10)"
   ]
  },
  {
   "cell_type": "markdown",
   "metadata": {},
   "source": [
    "### Games Where Player 1 (white) Wins, Ordered by Moves Played Desc"
   ]
  },
  {
   "cell_type": "code",
   "execution_count": null,
   "metadata": {},
   "outputs": [],
   "source": [
    "d2 = df.loc[df['winner'] == 'checkmate: White wins!']\n",
    "\n",
    "# df.sort_values(by=['winner','moves_played'], inplace=False, ascending=True).head(10)"
   ]
  },
  {
   "cell_type": "code",
   "execution_count": null,
   "metadata": {},
   "outputs": [],
   "source": [
    "d2.sort_values(by=['moves_played'], inplace=False, ascending=True)"
   ]
  },
  {
   "cell_type": "code",
   "execution_count": null,
   "metadata": {},
   "outputs": [],
   "source": [
    "import os\n",
    "print(os.environ['PATH'])"
   ]
  },
  {
   "cell_type": "code",
   "execution_count": null,
   "metadata": {},
   "outputs": [],
   "source": [
    "!export PATH=/Library/TeX/texbin/xelatex:$PATH"
   ]
  },
  {
   "cell_type": "code",
   "execution_count": null,
   "metadata": {},
   "outputs": [],
   "source": []
  }
 ],
 "metadata": {
  "kernelspec": {
   "display_name": "Python 3",
   "language": "python",
   "name": "python3"
  },
  "language_info": {
   "codemirror_mode": {
    "name": "ipython",
    "version": 3
   },
   "file_extension": ".py",
   "mimetype": "text/x-python",
   "name": "python",
   "nbconvert_exporter": "python",
   "pygments_lexer": "ipython3",
   "version": "3.7.4"
  },
  "pycharm": {
   "stem_cell": {
    "cell_type": "raw",
    "metadata": {
     "collapsed": false
    },
    "source": []
   }
  }
 },
 "nbformat": 4,
 "nbformat_minor": 4
}
